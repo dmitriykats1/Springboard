{
 "cells": [
  {
   "cell_type": "markdown",
   "metadata": {},
   "source": [
    "# Regression in Python\n",
    "\n",
    "***\n",
    "This is a very quick run-through of some basic statistical concepts, adapted from [Lab 4 in Harvard's CS109](https://github.com/cs109/2015lab4) course. Please feel free to try the original lab if you're feeling ambitious :-) The CS109 git repository also has the solutions if you're stuck.\n",
    "\n",
    "* Linear Regression Models\n",
    "* Prediction using linear regression\n",
    "\n",
    "Linear regression is used to model and predict continuous outcomes with normal random errors. There are nearly an infinite number of different types of regression models and each regression model is typically defined by the distribution of the prediction errors (called \"residuals\") of the type of data. Logistic regression is used to model binary outcomes whereas Poisson regression is used to predict counts. In this exercise, we'll see some examples of linear regression as well as Train-test splits.\n",
    "\n",
    "The packages we'll cover are: `statsmodels`, `seaborn`, and `scikit-learn`. While we don't explicitly teach `statsmodels` and `seaborn` in the Springboard workshop, those are great libraries to know.\n",
    "***"
   ]
  },
  {
   "cell_type": "markdown",
   "metadata": {},
   "source": [
    "<img width=600 height=300 src=\"https://imgs.xkcd.com/comics/sustainable.png\"/>\n",
    "***"
   ]
  },
  {
   "cell_type": "code",
   "execution_count": 1,
   "metadata": {},
   "outputs": [],
   "source": [
    "# special IPython command to prepare the notebook for matplotlib and other libraries\n",
    "%matplotlib inline \n",
    "\n",
    "import numpy as np\n",
    "import pandas as pd\n",
    "import scipy.stats as stats\n",
    "import matplotlib.pyplot as plt\n",
    "import sklearn\n",
    "\n",
    "import seaborn as sns\n",
    "\n",
    "# special matplotlib argument for improved plots\n",
    "#from matplotlib import rcParams\n",
    "#sns.set_style(\"whitegrid\")\n",
    "#sns.set_context(\"poster\")\n"
   ]
  },
  {
   "cell_type": "markdown",
   "metadata": {},
   "source": [
    "***\n",
    "# Part 1: Introduction to Linear Regression\n",
    "### Purpose of linear regression\n",
    "***\n",
    "<div class=\"span5 alert alert-info\">\n",
    "\n",
    "<p> Given a dataset containing predictor variables $X$ and outcome/response variable $Y$, linear regression can be used to: </p>\n",
    "<ul>\n",
    "  <li> Build a <b>predictive model</b> to predict future values of $\\hat{Y}$, using new data $X^*$ where $Y$ is unknown.</li>\n",
    "  <li> Model the <b>strength of the relationship</b> between each independent variable $X_i$ and $Y$</li>\n",
    "    <ul>\n",
    "      <li> Many times, only a subset of independent variables $X_i$ will have a linear relationship with $Y$</li>\n",
    "      <li> Need to figure out which $X_i$ contributes most information to predict $Y$ </li>\n",
    "    </ul>\n",
    "   <li>It is in many cases, the first pass prediction algorithm for continuous outcomes. </li>\n",
    "</ul>\n",
    "</div>\n",
    "\n",
    "### A Brief Mathematical Recap\n",
    "***\n",
    "\n",
    "[Linear Regression](http://en.wikipedia.org/wiki/Linear_regression) is a method to model the relationship between a set of independent variables $X$ (also knowns as explanatory variables, features, predictors) and a dependent variable $Y$.  This method assumes the relationship between each predictor $X$ is **linearly** related to the dependent variable $Y$. The most basic linear regression model contains one independent variable $X$, we'll call this the simple model. \n",
    "\n",
    "$$ Y = \\beta_0 + \\beta_1 X + \\epsilon$$\n",
    "\n",
    "where $\\epsilon$ is considered as an unobservable random variable that adds noise to the linear relationship. In linear regression, $\\epsilon$ is assumed to be normally distributed with a mean of 0. In other words, what this means is that on average, if we know $Y$, a roughly equal number of predictions $\\hat{Y}$ will be above $Y$ and others will be below $Y$. That is, on average, the error is zero. The residuals, $\\epsilon$ are also assumed to be \"i.i.d.\": independently and identically distributed. Independence means that the residuals are not correlated -- the residual from one prediction has no effect on the residual from another prediction. Correlated errors are common in time series analysis and spatial analyses.\n",
    "\n",
    "* $\\beta_0$ is the intercept of the linear model and represents the average of $Y$ when all independent variables $X$ are set to 0.\n",
    "\n",
    "* $\\beta_1$ is the slope of the line associated with the regression model and represents the average effect of a one-unit increase in $X$ on $Y$.\n",
    "\n",
    "* Back to the simple model. The model in linear regression is the *conditional mean* of $Y$ given the values in $X$ is expressed a linear function.  \n",
    "\n",
    "$$ y = f(x) = E(Y | X = x)$$ \n",
    "\n",
    "![conditional mean](images/conditionalmean.png)\n",
    "http://www.learner.org/courses/againstallodds/about/glossary.html\n",
    "\n",
    "* The goal is to estimate the coefficients (e.g. $\\beta_0$ and $\\beta_1$). We represent the estimates of the coefficients with a \"hat\" on top of the letter.  \n",
    "\n",
    "$$ \\hat{\\beta}_0, \\hat{\\beta}_1 $$\n",
    "\n",
    "* Once we estimate the coefficients $\\hat{\\beta}_0$ and $\\hat{\\beta}_1$, we can use these to predict new values of $Y$ given new data $X$.\n",
    "\n",
    "$$\\hat{y} = \\hat{\\beta}_0 + \\hat{\\beta}_1 x_1$$\n",
    "\n",
    "* Multiple linear regression is when you have more than one independent variable and the estimation involves matrices\n",
    "    * $X_1$, $X_2$, $X_3$, $\\ldots$\n",
    "\n",
    "\n",
    "* How do you estimate the coefficients? \n",
    "    * There are many ways to fit a linear regression model\n",
    "    * The method called **least squares** is the most common methods\n",
    "    * We will discuss least squares\n",
    "\n",
    "$$ Y = \\beta_0 + \\beta_1 X_1 + \\ldots + \\beta_p X_p + \\epsilon$$ \n",
    "    \n",
    "### Estimating $\\hat\\beta$: Least squares\n",
    "***\n",
    "[Least squares](http://en.wikipedia.org/wiki/Least_squares) is a method that can estimate the coefficients of a linear model by minimizing the squared residuals: \n",
    "\n",
    "$$ \\mathscr{L} = \\sum_{i=1}^N \\epsilon_i^2 = \\sum_{i=1}^N \\left( y_i - \\hat{y}_i \\right)^2  = \\sum_{i=1}^N \\left(y_i - \\left(\\beta_0 + \\beta_1 x_i\\right)\\right)^2 $$\n",
    "\n",
    "where $N$ is the number of observations and $\\epsilon$ represents a residual or error, ACTUAL - PREDICTED.  \n",
    "\n",
    "#### Estimating the intercept $\\hat{\\beta_0}$ for the simple linear model\n",
    "\n",
    "We want to minimize the squared residuals and solve for $\\hat{\\beta_0}$ so we take the partial derivative of $\\mathscr{L}$ with respect to $\\hat{\\beta_0}$ "
   ]
  },
  {
   "cell_type": "markdown",
   "metadata": {},
   "source": [
    "$\n",
    "\\begin{align}\n",
    "\\frac{\\partial \\mathscr{L}}{\\partial \\hat{\\beta_0}} &= \\frac{\\partial}{\\partial \\hat{\\beta_0}} \\sum_{i=1}^N \\epsilon^2 \\\\\n",
    "&= \\frac{\\partial}{\\partial \\hat{\\beta_0}} \\sum_{i=1}^N \\left( y_i - \\hat{y}_i \\right)^2 \\\\\n",
    "&= \\frac{\\partial}{\\partial \\hat{\\beta_0}} \\sum_{i=1}^N \\left( y_i - \\left( \\hat{\\beta}_0 + \\hat{\\beta}_1 x_i \\right) \\right)^2 \\\\\n",
    "&= -2 \\sum_{i=1}^N \\left( y_i - \\left( \\hat{\\beta}_0 + \\hat{\\beta}_1 x_i \\right) \\right) \\hspace{25mm} \\mbox{(by chain rule)} \\\\\n",
    "&= -2 \\sum_{i=1}^N (y_i - \\hat{\\beta}_0 - \\hat{\\beta}_1 x_i) \\\\\n",
    "&= -2 \\left[ \\left( \\sum_{i=1}^N y_i \\right) - N \\hat{\\beta_0} - \\hat{\\beta}_1 \\left( \\sum_{i=1}^N x_i\n",
    "\\right) \\right] \\\\\n",
    "& 2 \\left[ N \\hat{\\beta}_0 + \\hat{\\beta}_1 \\sum_{i=1}^N x_i - \\sum_{i=1}^N y_i \\right] = 0 \\hspace{20mm} \\mbox{(Set equal to 0 and solve for $\\hat{\\beta}_0$)} \\\\\n",
    "& N \\hat{\\beta}_0 + \\hat{\\beta}_1 \\sum_{i=1}^N x_i - \\sum_{i=1}^N y_i = 0 \\\\\n",
    "& N \\hat{\\beta}_0 = \\sum_{i=1}^N y_i - \\hat{\\beta}_1 \\sum_{i=1}^N x_i \\\\\n",
    "& \\hat{\\beta}_0 = \\frac{\\sum_{i=1}^N y_i - \\hat{\\beta}_1 \\sum_{i=1}^N x_i}{N} \\\\\n",
    "& \\hat{\\beta}_0 = \\frac{\\sum_{i=1}^N y_i}{N} - \\hat{\\beta}_1 \\frac{\\sum_{i=1}^N x_i}{N} \\\\\n",
    "& \\boxed{\\hat{\\beta}_0 = \\bar{y} - \\hat{\\beta}_1 \\bar{x}}\n",
    "\\end{align}\n",
    "$"
   ]
  },
  {
   "cell_type": "markdown",
   "metadata": {},
   "source": [
    "Using this new information, we can compute the estimate for $\\hat{\\beta}_1$ by taking the partial derivative of $\\mathscr{L}$ with respect to $\\hat{\\beta}_1$."
   ]
  },
  {
   "cell_type": "markdown",
   "metadata": {},
   "source": [
    "$\n",
    "\\begin{align}\n",
    "\\frac{\\partial \\mathscr{L}}{\\partial \\hat{\\beta_1}} &= \\frac{\\partial}{\\partial \\hat{\\beta_1}} \\sum_{i=1}^N \\epsilon^2 \\\\\n",
    "&= \\frac{\\partial}{\\partial \\hat{\\beta_1}} \\sum_{i=1}^N \\left( y_i - \\hat{y}_i \\right)^2 \\\\\n",
    "&= \\frac{\\partial}{\\partial \\hat{\\beta_1}} \\sum_{i=1}^N \\left( y_i - \\left( \\hat{\\beta}_0 + \\hat{\\beta}_1 x_i \\right) \\right)^2 \\\\\n",
    "&= 2 \\sum_{i=1}^N \\left( y_i - \\left( \\hat{\\beta}_0 + \\hat{\\beta}_1 x_i \\right) \\right) \\left( -x_i \\right) \\hspace{25mm}\\mbox{(by chain rule)} \\\\\n",
    "&= -2 \\sum_{i=1}^N x_i \\left( y_i - \\hat{\\beta}_0 - \\hat{\\beta}_1 x_i \\right) \\\\\n",
    "&= -2 \\sum_{i=1}^N x_i (y_i - \\hat{\\beta}_0 x_i - \\hat{\\beta}_1 x_i^2) \\\\\n",
    "&= -2 \\sum_{i=1}^N x_i (y_i - \\left( \\bar{y} - \\hat{\\beta}_1 \\bar{x} \\right) x_i - \\hat{\\beta}_1 x_i^2) \\\\\n",
    "&= -2 \\sum_{i=1}^N (x_i y_i - \\bar{y}x_i + \\hat{\\beta}_1\\bar{x}x_i - \\hat{\\beta}_1 x_i^2) \\\\\n",
    "&= -2 \\left[ \\sum_{i=1}^N x_i y_i - \\bar{y} \\sum_{i=1}^N x_i + \\hat{\\beta}_1\\bar{x}\\sum_{i=1}^N x_i - \\hat{\\beta}_1 \\sum_{i=1}^N x_i^2 \\right] \\\\\n",
    "&= -2 \\left[ \\hat{\\beta}_1 \\left\\{ \\bar{x} \\sum_{i=1}^N x_i - \\sum_{i=1}^N x_i^2 \\right\\} + \\left\\{ \\sum_{i=1}^N x_i y_i - \\bar{y} \\sum_{i=1}^N x_i \\right\\}\\right] \\\\\n",
    "& 2 \\left[ \\hat{\\beta}_1 \\left\\{ \\sum_{i=1}^N x_i^2 - \\bar{x} \\sum_{i=1}^N x_i \\right\\} + \\left\\{ \\bar{y} \\sum_{i=1}^N x_i - \\sum_{i=1}^N x_i y_i \\right\\} \\right] = 0 \\\\\n",
    "& \\hat{\\beta}_1 = \\frac{-\\left( \\bar{y} \\sum_{i=1}^N x_i - \\sum_{i=1}^N x_i y_i \\right)}{\\sum_{i=1}^N x_i^2 - \\bar{x}\\sum_{i=1}^N x_i} \\\\\n",
    "&= \\frac{\\sum_{i=1}^N x_i y_i - \\bar{y} \\sum_{i=1}^N x_i}{\\sum_{i=1}^N x_i^2 - \\bar{x} \\sum_{i=1}^N x_i} \\\\\n",
    "& \\boxed{\\hat{\\beta}_1 = \\frac{\\sum_{i=1}^N x_i y_i - \\bar{x}\\bar{y}n}{\\sum_{i=1}^N x_i^2 - n \\bar{x}^2}}\n",
    "\\end{align}\n",
    "$"
   ]
  },
  {
   "cell_type": "markdown",
   "metadata": {},
   "source": [
    "The solution can be written in compact matrix notation as\n",
    "\n",
    "$$\\hat\\beta =  (X^T X)^{-1}X^T Y$$ \n",
    "\n",
    "We wanted to show you this in case you remember linear algebra, in order for this solution to exist we need $X^T X$ to be invertible. Of course this requires a few extra assumptions, $X$ must be full rank so that $X^T X$ is invertible, etc. Basically, $X^T X$ is full rank if all rows and columns are linearly independent. This has a loose relationship to variables and observations being independent respective. **This is important for us because this means that having redundant features in our regression models will lead to poorly fitting (and unstable) models.** We'll see an implementation of this in the extra linear regression example."
   ]
  },
  {
   "cell_type": "markdown",
   "metadata": {},
   "source": [
    "***\n",
    "# Part 2: Exploratory Data Analysis for Linear Relationships\n",
    "\n",
    "The [Boston Housing data set](https://archive.ics.uci.edu/ml/datasets/Housing) contains information about the housing values in suburbs of Boston.  This dataset was originally taken from the StatLib library which is maintained at Carnegie Mellon University and is now available on the UCI Machine Learning Repository. \n",
    "\n",
    "\n",
    "## Load the Boston Housing data set from `sklearn`\n",
    "***\n",
    "\n",
    "This data set is available in the [sklearn](http://scikit-learn.org/stable/modules/generated/sklearn.datasets.load_boston.html#sklearn.datasets.load_boston) python module which is how we will access it today.  "
   ]
  },
  {
   "cell_type": "code",
   "execution_count": 2,
   "metadata": {},
   "outputs": [],
   "source": [
    "from sklearn.datasets import load_boston\n",
    "import pandas as pd\n",
    "boston = load_boston()"
   ]
  },
  {
   "cell_type": "code",
   "execution_count": 3,
   "metadata": {},
   "outputs": [
    {
     "data": {
      "text/plain": [
       "dict_keys(['data', 'target', 'feature_names', 'DESCR', 'filename'])"
      ]
     },
     "execution_count": 3,
     "metadata": {},
     "output_type": "execute_result"
    }
   ],
   "source": [
    "boston.keys()"
   ]
  },
  {
   "cell_type": "code",
   "execution_count": 4,
   "metadata": {},
   "outputs": [
    {
     "data": {
      "text/plain": [
       "(506, 13)"
      ]
     },
     "execution_count": 4,
     "metadata": {},
     "output_type": "execute_result"
    }
   ],
   "source": [
    "boston.data.shape"
   ]
  },
  {
   "cell_type": "code",
   "execution_count": 5,
   "metadata": {},
   "outputs": [
    {
     "name": "stdout",
     "output_type": "stream",
     "text": [
      "['CRIM' 'ZN' 'INDUS' 'CHAS' 'NOX' 'RM' 'AGE' 'DIS' 'RAD' 'TAX' 'PTRATIO'\n",
      " 'B' 'LSTAT']\n"
     ]
    }
   ],
   "source": [
    "# Print column names\n",
    "print(boston.feature_names)"
   ]
  },
  {
   "cell_type": "code",
   "execution_count": 6,
   "metadata": {},
   "outputs": [
    {
     "name": "stdout",
     "output_type": "stream",
     "text": [
      ".. _boston_dataset:\n",
      "\n",
      "Boston house prices dataset\n",
      "---------------------------\n",
      "\n",
      "**Data Set Characteristics:**  \n",
      "\n",
      "    :Number of Instances: 506 \n",
      "\n",
      "    :Number of Attributes: 13 numeric/categorical predictive. Median Value (attribute 14) is usually the target.\n",
      "\n",
      "    :Attribute Information (in order):\n",
      "        - CRIM     per capita crime rate by town\n",
      "        - ZN       proportion of residential land zoned for lots over 25,000 sq.ft.\n",
      "        - INDUS    proportion of non-retail business acres per town\n",
      "        - CHAS     Charles River dummy variable (= 1 if tract bounds river; 0 otherwise)\n",
      "        - NOX      nitric oxides concentration (parts per 10 million)\n",
      "        - RM       average number of rooms per dwelling\n",
      "        - AGE      proportion of owner-occupied units built prior to 1940\n",
      "        - DIS      weighted distances to five Boston employment centres\n",
      "        - RAD      index of accessibility to radial highways\n",
      "        - TAX      full-value property-tax rate per $10,000\n",
      "        - PTRATIO  pupil-teacher ratio by town\n",
      "        - B        1000(Bk - 0.63)^2 where Bk is the proportion of blacks by town\n",
      "        - LSTAT    % lower status of the population\n",
      "        - MEDV     Median value of owner-occupied homes in $1000's\n",
      "\n",
      "    :Missing Attribute Values: None\n",
      "\n",
      "    :Creator: Harrison, D. and Rubinfeld, D.L.\n",
      "\n",
      "This is a copy of UCI ML housing dataset.\n",
      "https://archive.ics.uci.edu/ml/machine-learning-databases/housing/\n",
      "\n",
      "\n",
      "This dataset was taken from the StatLib library which is maintained at Carnegie Mellon University.\n",
      "\n",
      "The Boston house-price data of Harrison, D. and Rubinfeld, D.L. 'Hedonic\n",
      "prices and the demand for clean air', J. Environ. Economics & Management,\n",
      "vol.5, 81-102, 1978.   Used in Belsley, Kuh & Welsch, 'Regression diagnostics\n",
      "...', Wiley, 1980.   N.B. Various transformations are used in the table on\n",
      "pages 244-261 of the latter.\n",
      "\n",
      "The Boston house-price data has been used in many machine learning papers that address regression\n",
      "problems.   \n",
      "     \n",
      ".. topic:: References\n",
      "\n",
      "   - Belsley, Kuh & Welsch, 'Regression diagnostics: Identifying Influential Data and Sources of Collinearity', Wiley, 1980. 244-261.\n",
      "   - Quinlan,R. (1993). Combining Instance-Based and Model-Based Learning. In Proceedings on the Tenth International Conference of Machine Learning, 236-243, University of Massachusetts, Amherst. Morgan Kaufmann.\n",
      "\n"
     ]
    }
   ],
   "source": [
    "# Print description of Boston housing data set\n",
    "print(boston.DESCR)"
   ]
  },
  {
   "cell_type": "markdown",
   "metadata": {},
   "source": [
    "Now let's explore the data set itself. "
   ]
  },
  {
   "cell_type": "code",
   "execution_count": 7,
   "metadata": {},
   "outputs": [
    {
     "data": {
      "text/html": [
       "<div>\n",
       "<style scoped>\n",
       "    .dataframe tbody tr th:only-of-type {\n",
       "        vertical-align: middle;\n",
       "    }\n",
       "\n",
       "    .dataframe tbody tr th {\n",
       "        vertical-align: top;\n",
       "    }\n",
       "\n",
       "    .dataframe thead th {\n",
       "        text-align: right;\n",
       "    }\n",
       "</style>\n",
       "<table border=\"1\" class=\"dataframe\">\n",
       "  <thead>\n",
       "    <tr style=\"text-align: right;\">\n",
       "      <th></th>\n",
       "      <th>0</th>\n",
       "      <th>1</th>\n",
       "      <th>2</th>\n",
       "      <th>3</th>\n",
       "      <th>4</th>\n",
       "      <th>5</th>\n",
       "      <th>6</th>\n",
       "      <th>7</th>\n",
       "      <th>8</th>\n",
       "      <th>9</th>\n",
       "      <th>10</th>\n",
       "      <th>11</th>\n",
       "      <th>12</th>\n",
       "    </tr>\n",
       "  </thead>\n",
       "  <tbody>\n",
       "    <tr>\n",
       "      <th>0</th>\n",
       "      <td>0.00632</td>\n",
       "      <td>18.0</td>\n",
       "      <td>2.31</td>\n",
       "      <td>0.0</td>\n",
       "      <td>0.538</td>\n",
       "      <td>6.575</td>\n",
       "      <td>65.2</td>\n",
       "      <td>4.0900</td>\n",
       "      <td>1.0</td>\n",
       "      <td>296.0</td>\n",
       "      <td>15.3</td>\n",
       "      <td>396.90</td>\n",
       "      <td>4.98</td>\n",
       "    </tr>\n",
       "    <tr>\n",
       "      <th>1</th>\n",
       "      <td>0.02731</td>\n",
       "      <td>0.0</td>\n",
       "      <td>7.07</td>\n",
       "      <td>0.0</td>\n",
       "      <td>0.469</td>\n",
       "      <td>6.421</td>\n",
       "      <td>78.9</td>\n",
       "      <td>4.9671</td>\n",
       "      <td>2.0</td>\n",
       "      <td>242.0</td>\n",
       "      <td>17.8</td>\n",
       "      <td>396.90</td>\n",
       "      <td>9.14</td>\n",
       "    </tr>\n",
       "    <tr>\n",
       "      <th>2</th>\n",
       "      <td>0.02729</td>\n",
       "      <td>0.0</td>\n",
       "      <td>7.07</td>\n",
       "      <td>0.0</td>\n",
       "      <td>0.469</td>\n",
       "      <td>7.185</td>\n",
       "      <td>61.1</td>\n",
       "      <td>4.9671</td>\n",
       "      <td>2.0</td>\n",
       "      <td>242.0</td>\n",
       "      <td>17.8</td>\n",
       "      <td>392.83</td>\n",
       "      <td>4.03</td>\n",
       "    </tr>\n",
       "    <tr>\n",
       "      <th>3</th>\n",
       "      <td>0.03237</td>\n",
       "      <td>0.0</td>\n",
       "      <td>2.18</td>\n",
       "      <td>0.0</td>\n",
       "      <td>0.458</td>\n",
       "      <td>6.998</td>\n",
       "      <td>45.8</td>\n",
       "      <td>6.0622</td>\n",
       "      <td>3.0</td>\n",
       "      <td>222.0</td>\n",
       "      <td>18.7</td>\n",
       "      <td>394.63</td>\n",
       "      <td>2.94</td>\n",
       "    </tr>\n",
       "    <tr>\n",
       "      <th>4</th>\n",
       "      <td>0.06905</td>\n",
       "      <td>0.0</td>\n",
       "      <td>2.18</td>\n",
       "      <td>0.0</td>\n",
       "      <td>0.458</td>\n",
       "      <td>7.147</td>\n",
       "      <td>54.2</td>\n",
       "      <td>6.0622</td>\n",
       "      <td>3.0</td>\n",
       "      <td>222.0</td>\n",
       "      <td>18.7</td>\n",
       "      <td>396.90</td>\n",
       "      <td>5.33</td>\n",
       "    </tr>\n",
       "  </tbody>\n",
       "</table>\n",
       "</div>"
      ],
      "text/plain": [
       "        0     1     2    3      4      5     6       7    8      9     10  \\\n",
       "0  0.00632  18.0  2.31  0.0  0.538  6.575  65.2  4.0900  1.0  296.0  15.3   \n",
       "1  0.02731   0.0  7.07  0.0  0.469  6.421  78.9  4.9671  2.0  242.0  17.8   \n",
       "2  0.02729   0.0  7.07  0.0  0.469  7.185  61.1  4.9671  2.0  242.0  17.8   \n",
       "3  0.03237   0.0  2.18  0.0  0.458  6.998  45.8  6.0622  3.0  222.0  18.7   \n",
       "4  0.06905   0.0  2.18  0.0  0.458  7.147  54.2  6.0622  3.0  222.0  18.7   \n",
       "\n",
       "       11    12  \n",
       "0  396.90  4.98  \n",
       "1  396.90  9.14  \n",
       "2  392.83  4.03  \n",
       "3  394.63  2.94  \n",
       "4  396.90  5.33  "
      ]
     },
     "execution_count": 7,
     "metadata": {},
     "output_type": "execute_result"
    }
   ],
   "source": [
    "bos = pd.DataFrame(boston.data)\n",
    "bos.head()"
   ]
  },
  {
   "cell_type": "markdown",
   "metadata": {},
   "source": [
    "There are no column names in the DataFrame. Let's add those. "
   ]
  },
  {
   "cell_type": "code",
   "execution_count": 8,
   "metadata": {},
   "outputs": [
    {
     "data": {
      "text/html": [
       "<div>\n",
       "<style scoped>\n",
       "    .dataframe tbody tr th:only-of-type {\n",
       "        vertical-align: middle;\n",
       "    }\n",
       "\n",
       "    .dataframe tbody tr th {\n",
       "        vertical-align: top;\n",
       "    }\n",
       "\n",
       "    .dataframe thead th {\n",
       "        text-align: right;\n",
       "    }\n",
       "</style>\n",
       "<table border=\"1\" class=\"dataframe\">\n",
       "  <thead>\n",
       "    <tr style=\"text-align: right;\">\n",
       "      <th></th>\n",
       "      <th>CRIM</th>\n",
       "      <th>ZN</th>\n",
       "      <th>INDUS</th>\n",
       "      <th>CHAS</th>\n",
       "      <th>NOX</th>\n",
       "      <th>RM</th>\n",
       "      <th>AGE</th>\n",
       "      <th>DIS</th>\n",
       "      <th>RAD</th>\n",
       "      <th>TAX</th>\n",
       "      <th>PTRATIO</th>\n",
       "      <th>B</th>\n",
       "      <th>LSTAT</th>\n",
       "    </tr>\n",
       "  </thead>\n",
       "  <tbody>\n",
       "    <tr>\n",
       "      <th>0</th>\n",
       "      <td>0.00632</td>\n",
       "      <td>18.0</td>\n",
       "      <td>2.31</td>\n",
       "      <td>0.0</td>\n",
       "      <td>0.538</td>\n",
       "      <td>6.575</td>\n",
       "      <td>65.2</td>\n",
       "      <td>4.0900</td>\n",
       "      <td>1.0</td>\n",
       "      <td>296.0</td>\n",
       "      <td>15.3</td>\n",
       "      <td>396.90</td>\n",
       "      <td>4.98</td>\n",
       "    </tr>\n",
       "    <tr>\n",
       "      <th>1</th>\n",
       "      <td>0.02731</td>\n",
       "      <td>0.0</td>\n",
       "      <td>7.07</td>\n",
       "      <td>0.0</td>\n",
       "      <td>0.469</td>\n",
       "      <td>6.421</td>\n",
       "      <td>78.9</td>\n",
       "      <td>4.9671</td>\n",
       "      <td>2.0</td>\n",
       "      <td>242.0</td>\n",
       "      <td>17.8</td>\n",
       "      <td>396.90</td>\n",
       "      <td>9.14</td>\n",
       "    </tr>\n",
       "    <tr>\n",
       "      <th>2</th>\n",
       "      <td>0.02729</td>\n",
       "      <td>0.0</td>\n",
       "      <td>7.07</td>\n",
       "      <td>0.0</td>\n",
       "      <td>0.469</td>\n",
       "      <td>7.185</td>\n",
       "      <td>61.1</td>\n",
       "      <td>4.9671</td>\n",
       "      <td>2.0</td>\n",
       "      <td>242.0</td>\n",
       "      <td>17.8</td>\n",
       "      <td>392.83</td>\n",
       "      <td>4.03</td>\n",
       "    </tr>\n",
       "    <tr>\n",
       "      <th>3</th>\n",
       "      <td>0.03237</td>\n",
       "      <td>0.0</td>\n",
       "      <td>2.18</td>\n",
       "      <td>0.0</td>\n",
       "      <td>0.458</td>\n",
       "      <td>6.998</td>\n",
       "      <td>45.8</td>\n",
       "      <td>6.0622</td>\n",
       "      <td>3.0</td>\n",
       "      <td>222.0</td>\n",
       "      <td>18.7</td>\n",
       "      <td>394.63</td>\n",
       "      <td>2.94</td>\n",
       "    </tr>\n",
       "    <tr>\n",
       "      <th>4</th>\n",
       "      <td>0.06905</td>\n",
       "      <td>0.0</td>\n",
       "      <td>2.18</td>\n",
       "      <td>0.0</td>\n",
       "      <td>0.458</td>\n",
       "      <td>7.147</td>\n",
       "      <td>54.2</td>\n",
       "      <td>6.0622</td>\n",
       "      <td>3.0</td>\n",
       "      <td>222.0</td>\n",
       "      <td>18.7</td>\n",
       "      <td>396.90</td>\n",
       "      <td>5.33</td>\n",
       "    </tr>\n",
       "  </tbody>\n",
       "</table>\n",
       "</div>"
      ],
      "text/plain": [
       "      CRIM    ZN  INDUS  CHAS    NOX     RM   AGE     DIS  RAD    TAX  \\\n",
       "0  0.00632  18.0   2.31   0.0  0.538  6.575  65.2  4.0900  1.0  296.0   \n",
       "1  0.02731   0.0   7.07   0.0  0.469  6.421  78.9  4.9671  2.0  242.0   \n",
       "2  0.02729   0.0   7.07   0.0  0.469  7.185  61.1  4.9671  2.0  242.0   \n",
       "3  0.03237   0.0   2.18   0.0  0.458  6.998  45.8  6.0622  3.0  222.0   \n",
       "4  0.06905   0.0   2.18   0.0  0.458  7.147  54.2  6.0622  3.0  222.0   \n",
       "\n",
       "   PTRATIO       B  LSTAT  \n",
       "0     15.3  396.90   4.98  \n",
       "1     17.8  396.90   9.14  \n",
       "2     17.8  392.83   4.03  \n",
       "3     18.7  394.63   2.94  \n",
       "4     18.7  396.90   5.33  "
      ]
     },
     "execution_count": 8,
     "metadata": {},
     "output_type": "execute_result"
    }
   ],
   "source": [
    "bos.columns = boston.feature_names\n",
    "bos.head()"
   ]
  },
  {
   "cell_type": "markdown",
   "metadata": {},
   "source": [
    "Now we have a pandas DataFrame called `bos` containing all the data we want to use to predict Boston Housing prices.  Let's create a variable called `PRICE` which will contain the prices. This information is contained in the `target` data. "
   ]
  },
  {
   "cell_type": "code",
   "execution_count": 9,
   "metadata": {},
   "outputs": [
    {
     "name": "stdout",
     "output_type": "stream",
     "text": [
      "(506,)\n"
     ]
    }
   ],
   "source": [
    "print(boston.target.shape)"
   ]
  },
  {
   "cell_type": "code",
   "execution_count": 10,
   "metadata": {},
   "outputs": [
    {
     "data": {
      "text/html": [
       "<div>\n",
       "<style scoped>\n",
       "    .dataframe tbody tr th:only-of-type {\n",
       "        vertical-align: middle;\n",
       "    }\n",
       "\n",
       "    .dataframe tbody tr th {\n",
       "        vertical-align: top;\n",
       "    }\n",
       "\n",
       "    .dataframe thead th {\n",
       "        text-align: right;\n",
       "    }\n",
       "</style>\n",
       "<table border=\"1\" class=\"dataframe\">\n",
       "  <thead>\n",
       "    <tr style=\"text-align: right;\">\n",
       "      <th></th>\n",
       "      <th>CRIM</th>\n",
       "      <th>ZN</th>\n",
       "      <th>INDUS</th>\n",
       "      <th>CHAS</th>\n",
       "      <th>NOX</th>\n",
       "      <th>RM</th>\n",
       "      <th>AGE</th>\n",
       "      <th>DIS</th>\n",
       "      <th>RAD</th>\n",
       "      <th>TAX</th>\n",
       "      <th>PTRATIO</th>\n",
       "      <th>B</th>\n",
       "      <th>LSTAT</th>\n",
       "      <th>PRICE</th>\n",
       "    </tr>\n",
       "  </thead>\n",
       "  <tbody>\n",
       "    <tr>\n",
       "      <th>0</th>\n",
       "      <td>0.00632</td>\n",
       "      <td>18.0</td>\n",
       "      <td>2.31</td>\n",
       "      <td>0.0</td>\n",
       "      <td>0.538</td>\n",
       "      <td>6.575</td>\n",
       "      <td>65.2</td>\n",
       "      <td>4.0900</td>\n",
       "      <td>1.0</td>\n",
       "      <td>296.0</td>\n",
       "      <td>15.3</td>\n",
       "      <td>396.90</td>\n",
       "      <td>4.98</td>\n",
       "      <td>24.0</td>\n",
       "    </tr>\n",
       "    <tr>\n",
       "      <th>1</th>\n",
       "      <td>0.02731</td>\n",
       "      <td>0.0</td>\n",
       "      <td>7.07</td>\n",
       "      <td>0.0</td>\n",
       "      <td>0.469</td>\n",
       "      <td>6.421</td>\n",
       "      <td>78.9</td>\n",
       "      <td>4.9671</td>\n",
       "      <td>2.0</td>\n",
       "      <td>242.0</td>\n",
       "      <td>17.8</td>\n",
       "      <td>396.90</td>\n",
       "      <td>9.14</td>\n",
       "      <td>21.6</td>\n",
       "    </tr>\n",
       "    <tr>\n",
       "      <th>2</th>\n",
       "      <td>0.02729</td>\n",
       "      <td>0.0</td>\n",
       "      <td>7.07</td>\n",
       "      <td>0.0</td>\n",
       "      <td>0.469</td>\n",
       "      <td>7.185</td>\n",
       "      <td>61.1</td>\n",
       "      <td>4.9671</td>\n",
       "      <td>2.0</td>\n",
       "      <td>242.0</td>\n",
       "      <td>17.8</td>\n",
       "      <td>392.83</td>\n",
       "      <td>4.03</td>\n",
       "      <td>34.7</td>\n",
       "    </tr>\n",
       "    <tr>\n",
       "      <th>3</th>\n",
       "      <td>0.03237</td>\n",
       "      <td>0.0</td>\n",
       "      <td>2.18</td>\n",
       "      <td>0.0</td>\n",
       "      <td>0.458</td>\n",
       "      <td>6.998</td>\n",
       "      <td>45.8</td>\n",
       "      <td>6.0622</td>\n",
       "      <td>3.0</td>\n",
       "      <td>222.0</td>\n",
       "      <td>18.7</td>\n",
       "      <td>394.63</td>\n",
       "      <td>2.94</td>\n",
       "      <td>33.4</td>\n",
       "    </tr>\n",
       "    <tr>\n",
       "      <th>4</th>\n",
       "      <td>0.06905</td>\n",
       "      <td>0.0</td>\n",
       "      <td>2.18</td>\n",
       "      <td>0.0</td>\n",
       "      <td>0.458</td>\n",
       "      <td>7.147</td>\n",
       "      <td>54.2</td>\n",
       "      <td>6.0622</td>\n",
       "      <td>3.0</td>\n",
       "      <td>222.0</td>\n",
       "      <td>18.7</td>\n",
       "      <td>396.90</td>\n",
       "      <td>5.33</td>\n",
       "      <td>36.2</td>\n",
       "    </tr>\n",
       "  </tbody>\n",
       "</table>\n",
       "</div>"
      ],
      "text/plain": [
       "      CRIM    ZN  INDUS  CHAS    NOX     RM   AGE     DIS  RAD    TAX  \\\n",
       "0  0.00632  18.0   2.31   0.0  0.538  6.575  65.2  4.0900  1.0  296.0   \n",
       "1  0.02731   0.0   7.07   0.0  0.469  6.421  78.9  4.9671  2.0  242.0   \n",
       "2  0.02729   0.0   7.07   0.0  0.469  7.185  61.1  4.9671  2.0  242.0   \n",
       "3  0.03237   0.0   2.18   0.0  0.458  6.998  45.8  6.0622  3.0  222.0   \n",
       "4  0.06905   0.0   2.18   0.0  0.458  7.147  54.2  6.0622  3.0  222.0   \n",
       "\n",
       "   PTRATIO       B  LSTAT  PRICE  \n",
       "0     15.3  396.90   4.98   24.0  \n",
       "1     17.8  396.90   9.14   21.6  \n",
       "2     17.8  392.83   4.03   34.7  \n",
       "3     18.7  394.63   2.94   33.4  \n",
       "4     18.7  396.90   5.33   36.2  "
      ]
     },
     "execution_count": 10,
     "metadata": {},
     "output_type": "execute_result"
    }
   ],
   "source": [
    "bos['PRICE'] = boston.target\n",
    "bos.head()"
   ]
  },
  {
   "cell_type": "markdown",
   "metadata": {},
   "source": [
    "## EDA and Summary Statistics\n",
    "***\n",
    "\n",
    "Let's explore this data set.  First we use `describe()` to get basic summary statistics for each of the columns. "
   ]
  },
  {
   "cell_type": "code",
   "execution_count": 11,
   "metadata": {},
   "outputs": [
    {
     "data": {
      "text/html": [
       "<div>\n",
       "<style scoped>\n",
       "    .dataframe tbody tr th:only-of-type {\n",
       "        vertical-align: middle;\n",
       "    }\n",
       "\n",
       "    .dataframe tbody tr th {\n",
       "        vertical-align: top;\n",
       "    }\n",
       "\n",
       "    .dataframe thead th {\n",
       "        text-align: right;\n",
       "    }\n",
       "</style>\n",
       "<table border=\"1\" class=\"dataframe\">\n",
       "  <thead>\n",
       "    <tr style=\"text-align: right;\">\n",
       "      <th></th>\n",
       "      <th>CRIM</th>\n",
       "      <th>ZN</th>\n",
       "      <th>INDUS</th>\n",
       "      <th>CHAS</th>\n",
       "      <th>NOX</th>\n",
       "      <th>RM</th>\n",
       "      <th>AGE</th>\n",
       "      <th>DIS</th>\n",
       "      <th>RAD</th>\n",
       "      <th>TAX</th>\n",
       "      <th>PTRATIO</th>\n",
       "      <th>B</th>\n",
       "      <th>LSTAT</th>\n",
       "      <th>PRICE</th>\n",
       "    </tr>\n",
       "  </thead>\n",
       "  <tbody>\n",
       "    <tr>\n",
       "      <th>count</th>\n",
       "      <td>506.000000</td>\n",
       "      <td>506.000000</td>\n",
       "      <td>506.000000</td>\n",
       "      <td>506.000000</td>\n",
       "      <td>506.000000</td>\n",
       "      <td>506.000000</td>\n",
       "      <td>506.000000</td>\n",
       "      <td>506.000000</td>\n",
       "      <td>506.000000</td>\n",
       "      <td>506.000000</td>\n",
       "      <td>506.000000</td>\n",
       "      <td>506.000000</td>\n",
       "      <td>506.000000</td>\n",
       "      <td>506.000000</td>\n",
       "    </tr>\n",
       "    <tr>\n",
       "      <th>mean</th>\n",
       "      <td>3.613524</td>\n",
       "      <td>11.363636</td>\n",
       "      <td>11.136779</td>\n",
       "      <td>0.069170</td>\n",
       "      <td>0.554695</td>\n",
       "      <td>6.284634</td>\n",
       "      <td>68.574901</td>\n",
       "      <td>3.795043</td>\n",
       "      <td>9.549407</td>\n",
       "      <td>408.237154</td>\n",
       "      <td>18.455534</td>\n",
       "      <td>356.674032</td>\n",
       "      <td>12.653063</td>\n",
       "      <td>22.532806</td>\n",
       "    </tr>\n",
       "    <tr>\n",
       "      <th>std</th>\n",
       "      <td>8.601545</td>\n",
       "      <td>23.322453</td>\n",
       "      <td>6.860353</td>\n",
       "      <td>0.253994</td>\n",
       "      <td>0.115878</td>\n",
       "      <td>0.702617</td>\n",
       "      <td>28.148861</td>\n",
       "      <td>2.105710</td>\n",
       "      <td>8.707259</td>\n",
       "      <td>168.537116</td>\n",
       "      <td>2.164946</td>\n",
       "      <td>91.294864</td>\n",
       "      <td>7.141062</td>\n",
       "      <td>9.197104</td>\n",
       "    </tr>\n",
       "    <tr>\n",
       "      <th>min</th>\n",
       "      <td>0.006320</td>\n",
       "      <td>0.000000</td>\n",
       "      <td>0.460000</td>\n",
       "      <td>0.000000</td>\n",
       "      <td>0.385000</td>\n",
       "      <td>3.561000</td>\n",
       "      <td>2.900000</td>\n",
       "      <td>1.129600</td>\n",
       "      <td>1.000000</td>\n",
       "      <td>187.000000</td>\n",
       "      <td>12.600000</td>\n",
       "      <td>0.320000</td>\n",
       "      <td>1.730000</td>\n",
       "      <td>5.000000</td>\n",
       "    </tr>\n",
       "    <tr>\n",
       "      <th>25%</th>\n",
       "      <td>0.082045</td>\n",
       "      <td>0.000000</td>\n",
       "      <td>5.190000</td>\n",
       "      <td>0.000000</td>\n",
       "      <td>0.449000</td>\n",
       "      <td>5.885500</td>\n",
       "      <td>45.025000</td>\n",
       "      <td>2.100175</td>\n",
       "      <td>4.000000</td>\n",
       "      <td>279.000000</td>\n",
       "      <td>17.400000</td>\n",
       "      <td>375.377500</td>\n",
       "      <td>6.950000</td>\n",
       "      <td>17.025000</td>\n",
       "    </tr>\n",
       "    <tr>\n",
       "      <th>50%</th>\n",
       "      <td>0.256510</td>\n",
       "      <td>0.000000</td>\n",
       "      <td>9.690000</td>\n",
       "      <td>0.000000</td>\n",
       "      <td>0.538000</td>\n",
       "      <td>6.208500</td>\n",
       "      <td>77.500000</td>\n",
       "      <td>3.207450</td>\n",
       "      <td>5.000000</td>\n",
       "      <td>330.000000</td>\n",
       "      <td>19.050000</td>\n",
       "      <td>391.440000</td>\n",
       "      <td>11.360000</td>\n",
       "      <td>21.200000</td>\n",
       "    </tr>\n",
       "    <tr>\n",
       "      <th>75%</th>\n",
       "      <td>3.677083</td>\n",
       "      <td>12.500000</td>\n",
       "      <td>18.100000</td>\n",
       "      <td>0.000000</td>\n",
       "      <td>0.624000</td>\n",
       "      <td>6.623500</td>\n",
       "      <td>94.075000</td>\n",
       "      <td>5.188425</td>\n",
       "      <td>24.000000</td>\n",
       "      <td>666.000000</td>\n",
       "      <td>20.200000</td>\n",
       "      <td>396.225000</td>\n",
       "      <td>16.955000</td>\n",
       "      <td>25.000000</td>\n",
       "    </tr>\n",
       "    <tr>\n",
       "      <th>max</th>\n",
       "      <td>88.976200</td>\n",
       "      <td>100.000000</td>\n",
       "      <td>27.740000</td>\n",
       "      <td>1.000000</td>\n",
       "      <td>0.871000</td>\n",
       "      <td>8.780000</td>\n",
       "      <td>100.000000</td>\n",
       "      <td>12.126500</td>\n",
       "      <td>24.000000</td>\n",
       "      <td>711.000000</td>\n",
       "      <td>22.000000</td>\n",
       "      <td>396.900000</td>\n",
       "      <td>37.970000</td>\n",
       "      <td>50.000000</td>\n",
       "    </tr>\n",
       "  </tbody>\n",
       "</table>\n",
       "</div>"
      ],
      "text/plain": [
       "             CRIM          ZN       INDUS        CHAS         NOX          RM  \\\n",
       "count  506.000000  506.000000  506.000000  506.000000  506.000000  506.000000   \n",
       "mean     3.613524   11.363636   11.136779    0.069170    0.554695    6.284634   \n",
       "std      8.601545   23.322453    6.860353    0.253994    0.115878    0.702617   \n",
       "min      0.006320    0.000000    0.460000    0.000000    0.385000    3.561000   \n",
       "25%      0.082045    0.000000    5.190000    0.000000    0.449000    5.885500   \n",
       "50%      0.256510    0.000000    9.690000    0.000000    0.538000    6.208500   \n",
       "75%      3.677083   12.500000   18.100000    0.000000    0.624000    6.623500   \n",
       "max     88.976200  100.000000   27.740000    1.000000    0.871000    8.780000   \n",
       "\n",
       "              AGE         DIS         RAD         TAX     PTRATIO           B  \\\n",
       "count  506.000000  506.000000  506.000000  506.000000  506.000000  506.000000   \n",
       "mean    68.574901    3.795043    9.549407  408.237154   18.455534  356.674032   \n",
       "std     28.148861    2.105710    8.707259  168.537116    2.164946   91.294864   \n",
       "min      2.900000    1.129600    1.000000  187.000000   12.600000    0.320000   \n",
       "25%     45.025000    2.100175    4.000000  279.000000   17.400000  375.377500   \n",
       "50%     77.500000    3.207450    5.000000  330.000000   19.050000  391.440000   \n",
       "75%     94.075000    5.188425   24.000000  666.000000   20.200000  396.225000   \n",
       "max    100.000000   12.126500   24.000000  711.000000   22.000000  396.900000   \n",
       "\n",
       "            LSTAT       PRICE  \n",
       "count  506.000000  506.000000  \n",
       "mean    12.653063   22.532806  \n",
       "std      7.141062    9.197104  \n",
       "min      1.730000    5.000000  \n",
       "25%      6.950000   17.025000  \n",
       "50%     11.360000   21.200000  \n",
       "75%     16.955000   25.000000  \n",
       "max     37.970000   50.000000  "
      ]
     },
     "execution_count": 11,
     "metadata": {},
     "output_type": "execute_result"
    }
   ],
   "source": [
    "bos.describe()"
   ]
  },
  {
   "cell_type": "markdown",
   "metadata": {},
   "source": [
    "### Scatterplots\n",
    "***\n",
    "\n",
    "Let's look at some scatter plots for three variables: 'CRIM' (per capita crime rate), 'RM' (number of rooms) and 'PTRATIO' (pupil-to-teacher ratio in schools).  "
   ]
  },
  {
   "cell_type": "code",
   "execution_count": 12,
   "metadata": {
    "scrolled": true
   },
   "outputs": [
    {
     "data": {
      "text/plain": [
       "Text(0.5, 1.0, 'Relationship between CRIM and Price')"
      ]
     },
     "execution_count": 12,
     "metadata": {},
     "output_type": "execute_result"
    },
    {
     "data": {
      "image/png": "[encoded data removed]",
      "text/plain": [
       "<Figure size 432x288 with 1 Axes>"
      ]
     },
     "metadata": {
      "needs_background": "light"
     },
     "output_type": "display_data"
    }
   ],
   "source": [
    "plt.scatter(bos.CRIM, bos.PRICE)\n",
    "plt.xlabel(\"Per capita crime rate by town (CRIM)\")\n",
    "plt.ylabel(\"Housing Price\")\n",
    "plt.title(\"Relationship between CRIM and Price\")"
   ]
  },
  {
   "cell_type": "markdown",
   "metadata": {},
   "source": [
    "<div class=\"span5 alert alert-info\">\n",
    "<h3>Part 2 Checkup Exercise Set I</h3>\n",
    "\n",
    "<p><b>Exercise:</b> What kind of relationship do you see? e.g. positive, negative?  linear? non-linear? Is there anything else strange or interesting about the data? What about outliers?</p>\n",
    "\n",
    "\n",
    "<p><b>Exercise:</b> Create scatter plots between *RM* and *PRICE*, and *PTRATIO* and *PRICE*. Label your axes appropriately using human readable labels. Tell a story about what you see.</p>\n",
    "\n",
    "<p><b>Exercise:</b> What are some other numeric variables of interest? Why do you think they are interesting? Plot scatterplots with these variables and *PRICE* (house price) and tell a story about what you see.</p>\n",
    "\n",
    "</div>"
   ]
  },
  {
   "cell_type": "code",
   "execution_count": null,
   "metadata": {},
   "outputs": [],
   "source": [
    "# your turn: describe relationship\n"
   ]
  },
  {
   "cell_type": "markdown",
   "metadata": {},
   "source": [
    "The relationship looks linear but is a bit decieving due to the many points reported at the 0 CRIM, which could be missing data or non-reported data. The relationship between Housing Price and CRIM is negative, meaning as crime rate increases the housing price decreases, which makes intuitive sense."
   ]
  },
  {
   "cell_type": "code",
   "execution_count": 14,
   "metadata": {},
   "outputs": [
    {
     "data": {
      "text/plain": [
       "Text(0.5, 1.0, 'Relationship between RM and Price')"
      ]
     },
     "execution_count": 14,
     "metadata": {},
     "output_type": "execute_result"
    },
    {
     "data": {
      "image/png": "[encoded data removed]",
      "text/plain": [
       "<Figure size 432x288 with 1 Axes>"
      ]
     },
     "metadata": {
      "needs_background": "light"
     },
     "output_type": "display_data"
    }
   ],
   "source": [
    "# your turn: scatter plot between *RM* and *PRICE*\n",
    "plt.scatter(bos.RM, bos.PRICE)\n",
    "plt.xlabel(\"Average number of rooms per dwelling (RM)\")\n",
    "plt.ylabel(\"Housing Price\")\n",
    "plt.title(\"Relationship between RM and Price\")"
   ]
  },
  {
   "cell_type": "markdown",
   "metadata": {},
   "source": [
    "The relationship looks positive and linear, as the number of rooms increases the housing price also increases, which makes intuitive sense. We expect the house price to go up as the size goes up. Generally we can assume the house with more rooms is larger and more expensive."
   ]
  },
  {
   "cell_type": "code",
   "execution_count": 15,
   "metadata": {},
   "outputs": [
    {
     "data": {
      "text/plain": [
       "Text(0.5, 1.0, 'Relationship between PTRATIO and Price')"
      ]
     },
     "execution_count": 15,
     "metadata": {},
     "output_type": "execute_result"
    },
    {
     "data": {
      "image/png": "[encoded data removed]",
      "text/plain": [
       "<Figure size 432x288 with 1 Axes>"
      ]
     },
     "metadata": {
      "needs_background": "light"
     },
     "output_type": "display_data"
    }
   ],
   "source": [
    "# your turn: scatter plot between *PTRATIO* and *PRICE*\n",
    "plt.scatter(bos.PTRATIO, bos.PRICE)\n",
    "plt.xlabel(\"Pupil-teacher ratio by town (PTRATIO)\")\n",
    "plt.ylabel(\"Housing Price\")\n",
    "plt.title(\"Relationship between PTRATIO and Price\")"
   ]
  },
  {
   "cell_type": "markdown",
   "metadata": {},
   "source": [
    "The relationship looks negative and linear, but hard to tell as the data points are too scattered. The negative relationship between pupil-teacher ratio and housing price makes sense as we expect more desirable areas to have a smaller pupil to teasher ratio and therefore be more expensive."
   ]
  },
  {
   "cell_type": "code",
   "execution_count": 117,
   "metadata": {},
   "outputs": [
    {
     "data": {
      "text/plain": [
       "Text(0.5, 1.0, 'Relationship between LSTAT and Price')"
      ]
     },
     "execution_count": 117,
     "metadata": {},
     "output_type": "execute_result"
    },
    {
     "data": {
      "image/png": "[encoded data removed]",
      "text/plain": [
       "<Figure size 432x288 with 1 Axes>"
      ]
     },
     "metadata": {
      "needs_background": "light"
     },
     "output_type": "display_data"
    }
   ],
   "source": [
    "# your turn: create some other scatter plots\n",
    "plt.scatter(bos.PRICE, bos.LSTAT)\n",
    "plt.xlabel(\"% lower status of the population (LSTAT)\")\n",
    "plt.ylabel(\"Housing Price\")\n",
    "plt.title(\"Relationship between LSTAT and Price\")"
   ]
  },
  {
   "cell_type": "markdown",
   "metadata": {},
   "source": [
    "There is a negative linear relationship between % of lower status population and the housing price. Assuming \"status\" has to do with income or wealth, this makes sense when compared to house price."
   ]
  },
  {
   "cell_type": "code",
   "execution_count": 17,
   "metadata": {},
   "outputs": [
    {
     "data": {
      "text/plain": [
       "Text(0.5, 1.0, 'Relationship between INDUS and Price')"
      ]
     },
     "execution_count": 17,
     "metadata": {},
     "output_type": "execute_result"
    },
    {
     "data": {
      "image/png": "[encoded data removed]",
      "text/plain": [
       "<Figure size 432x288 with 1 Axes>"
      ]
     },
     "metadata": {
      "needs_background": "light"
     },
     "output_type": "display_data"
    }
   ],
   "source": [
    "plt.scatter(bos.INDUS, bos.PRICE)\n",
    "plt.xlabel(\"proportion of non-retail business acres per town (INDUS)\")\n",
    "plt.ylabel(\"Housing Price\")\n",
    "plt.title(\"Relationship between INDUS and Price\")"
   ]
  },
  {
   "cell_type": "markdown",
   "metadata": {},
   "source": [
    "The relationship does not look particularly linear but there is does seem to be a negative relationship between non-retail businesses in the area and lower housing prices."
   ]
  },
  {
   "cell_type": "markdown",
   "metadata": {},
   "source": [
    "### Scatterplots using Seaborn\n",
    "***\n",
    "\n",
    "[Seaborn](https://stanford.edu/~mwaskom/software/seaborn/) is a cool Python plotting library built on top of matplotlib. It provides convenient syntax and shortcuts for many common types of plots, along with better-looking defaults.\n",
    "\n",
    "We can also use [seaborn regplot](https://stanford.edu/~mwaskom/software/seaborn/tutorial/regression.html#functions-to-draw-linear-regression-models) for the scatterplot above. This provides automatic linear regression fits (useful for data exploration later on). Here's one example below."
   ]
  },
  {
   "cell_type": "code",
   "execution_count": 19,
   "metadata": {},
   "outputs": [
    {
     "name": "stderr",
     "output_type": "stream",
     "text": [
      "/Users/dmitriykats/anaconda3/lib/python3.7/site-packages/scipy/stats/stats.py:1713: FutureWarning: Using a non-tuple sequence for multidimensional indexing is deprecated; use `arr[tuple(seq)]` instead of `arr[seq]`. In the future this will be interpreted as an array index, `arr[np.array(seq)]`, which will result either in an error or a different result.\n",
      "  return np.add.reduce(sorted[indexer] * weights, axis=axis) / sumval\n"
     ]
    },
    {
     "data": {
      "text/plain": [
       "<matplotlib.axes._subplots.AxesSubplot at 0x1a16ebea90>"
      ]
     },
     "execution_count": 19,
     "metadata": {},
     "output_type": "execute_result"
    },
    {
     "data": {
      "image/png": "[encoded data removed]",
      "text/plain": [
       "<Figure size 432x288 with 1 Axes>"
      ]
     },
     "metadata": {
      "needs_background": "light"
     },
     "output_type": "display_data"
    }
   ],
   "source": [
    "sns.regplot(y=\"PRICE\", x=\"RM\", data=bos, fit_reg = True)"
   ]
  },
  {
   "cell_type": "markdown",
   "metadata": {},
   "source": [
    "### Histograms\n",
    "***\n"
   ]
  },
  {
   "cell_type": "code",
   "execution_count": 20,
   "metadata": {
    "scrolled": true
   },
   "outputs": [
    {
     "data": {
      "image/png": "[encoded data removed]",
      "text/plain": [
       "<Figure size 432x288 with 1 Axes>"
      ]
     },
     "metadata": {
      "needs_background": "light"
     },
     "output_type": "display_data"
    }
   ],
   "source": [
    "plt.hist(np.log(bos.CRIM))\n",
    "plt.title(\"CRIM\")\n",
    "plt.xlabel(\"Crime rate per capita\")\n",
    "plt.ylabel(\"Frequencey\")\n",
    "plt.show()"
   ]
  },
  {
   "cell_type": "markdown",
   "metadata": {},
   "source": [
    "<div class=\"span5 alert alert-info\">\n",
    "<h3>Part 2 Checkup Exercise Set II</h3>\n",
    "\n",
    "<p><b>Exercise:</b> In the above histogram, we took the logarithm of the crime rate per capita. Repeat this histogram without taking the log. What was the purpose of taking the log? What do we gain by making this transformation? What do you now notice about this variable that is not obvious without making the transformation?\n",
    "\n",
    "<p><b>Exercise:</b> Plot the histogram for *RM* and *PTRATIO* against each other, along with the two variables you picked in the previous section. We are looking for correlations in predictors here.</p>\n",
    "</div>"
   ]
  },
  {
   "cell_type": "markdown",
   "metadata": {},
   "source": [
    "The purpose of taking a log is to remove the skewness towards numbers which appear more frequently in the dataset. This allows us to compare the data on a normalized basis and visualize the entire dataset. By taking the log of the data we can see that there is a significant amount of crime per capita that is greater than one, which indicates a lot of crime. "
   ]
  },
  {
   "cell_type": "code",
   "execution_count": 21,
   "metadata": {},
   "outputs": [
    {
     "data": {
      "text/plain": [
       "count    506.000000\n",
       "mean       3.613524\n",
       "std        8.601545\n",
       "min        0.006320\n",
       "25%        0.082045\n",
       "50%        0.256510\n",
       "75%        3.677083\n",
       "max       88.976200\n",
       "Name: CRIM, dtype: float64"
      ]
     },
     "execution_count": 21,
     "metadata": {},
     "output_type": "execute_result"
    }
   ],
   "source": [
    "bos.CRIM.describe()"
   ]
  },
  {
   "cell_type": "code",
   "execution_count": 22,
   "metadata": {},
   "outputs": [
    {
     "data": {
      "image/png": "[encoded data removed]",
      "text/plain": [
       "<Figure size 432x288 with 1 Axes>"
      ]
     },
     "metadata": {
      "needs_background": "light"
     },
     "output_type": "display_data"
    }
   ],
   "source": [
    "#your turn\n",
    "plt.hist(bos.CRIM)\n",
    "plt.title(\"CRIM\")\n",
    "plt.xlabel(\"Crime rate per capita\")\n",
    "plt.ylabel(\"Frequencey\")\n",
    "plt.show()"
   ]
  },
  {
   "cell_type": "code",
   "execution_count": 23,
   "metadata": {},
   "outputs": [
    {
     "data": {
      "image/png": "[encoded data removed]",
      "text/plain": [
       "<Figure size 432x288 with 1 Axes>"
      ]
     },
     "metadata": {
      "needs_background": "light"
     },
     "output_type": "display_data"
    }
   ],
   "source": [
    "#your turn\n",
    "plt.hist(bos.RM)\n",
    "plt.title(\"RM\")\n",
    "plt.xlabel(\"Average number of rooms per dwelling\")\n",
    "plt.ylabel(\"Frequencey\")\n",
    "plt.show()"
   ]
  },
  {
   "cell_type": "code",
   "execution_count": 24,
   "metadata": {},
   "outputs": [
    {
     "data": {
      "image/png": "[encoded data removed]",
      "text/plain": [
       "<Figure size 432x288 with 1 Axes>"
      ]
     },
     "metadata": {
      "needs_background": "light"
     },
     "output_type": "display_data"
    }
   ],
   "source": [
    "#your turn\n",
    "plt.hist(bos.PTRATIO)\n",
    "plt.title(\"PTRATIO\")\n",
    "plt.xlabel(\"Pupil-teacher ratio by town\")\n",
    "plt.ylabel(\"Frequencey\")\n",
    "plt.show()"
   ]
  },
  {
   "cell_type": "code",
   "execution_count": 25,
   "metadata": {
    "scrolled": true
   },
   "outputs": [
    {
     "data": {
      "image/png": "[encoded data removed]",
      "text/plain": [
       "<Figure size 432x288 with 1 Axes>"
      ]
     },
     "metadata": {
      "needs_background": "light"
     },
     "output_type": "display_data"
    }
   ],
   "source": [
    "#your turn\n",
    "plt.hist(bos.B)\n",
    "plt.title(\"B\")\n",
    "plt.xlabel(\"1000(Bk - 0.63)^2 where Bk is the proportion of blacks by town\")\n",
    "plt.ylabel(\"Frequencey\")\n",
    "plt.show()"
   ]
  },
  {
   "cell_type": "code",
   "execution_count": 26,
   "metadata": {},
   "outputs": [
    {
     "data": {
      "image/png": "[encoded data removed]",
      "text/plain": [
       "<Figure size 432x288 with 1 Axes>"
      ]
     },
     "metadata": {
      "needs_background": "light"
     },
     "output_type": "display_data"
    }
   ],
   "source": [
    "#your turn\n",
    "plt.hist(bos.INDUS, bins=15)\n",
    "plt.title(\"INDUS\")\n",
    "plt.xlabel(\"proportion of non-retail business acres per town\")\n",
    "plt.ylabel(\"Frequencey\")\n",
    "plt.show()"
   ]
  },
  {
   "cell_type": "code",
   "execution_count": 27,
   "metadata": {},
   "outputs": [
    {
     "data": {
      "image/png": "[encoded data removed]",
      "text/plain": [
       "<Figure size 432x288 with 1 Axes>"
      ]
     },
     "metadata": {
      "needs_background": "light"
     },
     "output_type": "display_data"
    }
   ],
   "source": [
    "#your turn\n",
    "plt.hist(bos.DIS)\n",
    "plt.title(\"DIS\")\n",
    "plt.xlabel(\"weighted distances to five Boston employment centres\")\n",
    "plt.ylabel(\"Frequencey\")\n",
    "plt.show()"
   ]
  },
  {
   "cell_type": "markdown",
   "metadata": {},
   "source": [
    "## Part 3: Linear Regression with Boston Housing Data Example\n",
    "***\n",
    "\n",
    "Here, \n",
    "\n",
    "$Y$ = boston housing prices (called \"target\" data in python, and referred to as the dependent variable or response variable)\n",
    "\n",
    "and\n",
    "\n",
    "$X$ = all the other features (or independent variables, predictors or explanatory variables)\n",
    "\n",
    "which we will use to fit a linear regression model and predict Boston housing prices. We will use the least-squares method to estimate the coefficients.  "
   ]
  },
  {
   "cell_type": "markdown",
   "metadata": {},
   "source": [
    "We'll use two ways of fitting a linear regression. We recommend the first but the second is also powerful in its features."
   ]
  },
  {
   "cell_type": "markdown",
   "metadata": {},
   "source": [
    "### Fitting Linear Regression using `statsmodels`\n",
    "***\n",
    "[Statsmodels](http://statsmodels.sourceforge.net/) is a great Python library for a lot of basic and inferential statistics. It also provides basic regression functions using an R-like syntax, so it's commonly used by statisticians. While we don't cover statsmodels officially in the Data Science Intensive workshop, it's a good library to have in your toolbox. Here's a quick example of what you could do with it. The version of least-squares we will use in statsmodels is called *ordinary least-squares (OLS)*. There are many other versions of least-squares such as [partial least squares (PLS)](https://en.wikipedia.org/wiki/Partial_least_squares_regression) and [weighted least squares (WLS)](https://en.wikipedia.org/wiki/Iteratively_reweighted_least_squares)."
   ]
  },
  {
   "cell_type": "code",
   "execution_count": 28,
   "metadata": {},
   "outputs": [],
   "source": [
    "# Import regression modules\n",
    "import statsmodels.api as sm\n",
    "from statsmodels.formula.api import ols"
   ]
  },
  {
   "cell_type": "code",
   "execution_count": 29,
   "metadata": {},
   "outputs": [
    {
     "name": "stdout",
     "output_type": "stream",
     "text": [
      "                            OLS Regression Results                            \n",
      "==============================================================================\n",
      "Dep. Variable:                  PRICE   R-squared:                       0.484\n",
      "Model:                            OLS   Adj. R-squared:                  0.483\n",
      "Method:                 Least Squares   F-statistic:                     471.8\n",
      "Date:                Tue, 02 Apr 2019   Prob (F-statistic):           2.49e-74\n",
      "Time:                        13:35:05   Log-Likelihood:                -1673.1\n",
      "No. Observations:                 506   AIC:                             3350.\n",
      "Df Residuals:                     504   BIC:                             3359.\n",
      "Df Model:                           1                                         \n",
      "Covariance Type:            nonrobust                                         \n",
      "==============================================================================\n",
      "                 coef    std err          t      P>|t|      [0.025      0.975]\n",
      "------------------------------------------------------------------------------\n",
      "Intercept    -34.6706      2.650    -13.084      0.000     -39.877     -29.465\n",
      "RM             9.1021      0.419     21.722      0.000       8.279       9.925\n",
      "==============================================================================\n",
      "Omnibus:                      102.585   Durbin-Watson:                   0.684\n",
      "Prob(Omnibus):                  0.000   Jarque-Bera (JB):              612.449\n",
      "Skew:                           0.726   Prob(JB):                    1.02e-133\n",
      "Kurtosis:                       8.190   Cond. No.                         58.4\n",
      "==============================================================================\n",
      "\n",
      "Warnings:\n",
      "[1] Standard Errors assume that the covariance matrix of the errors is correctly specified.\n"
     ]
    }
   ],
   "source": [
    "# statsmodels works nicely with pandas dataframes\n",
    "# The thing inside the \"quotes\" is called a formula, a bit on that below\n",
    "m = ols('PRICE ~ RM',bos).fit()\n",
    "print(m.summary())"
   ]
  },
  {
   "cell_type": "markdown",
   "metadata": {},
   "source": [
    "#### Interpreting coefficients\n",
    "\n",
    "There is a ton of information in this output. But we'll concentrate on the coefficient table (middle table). We can interpret the `RM` coefficient (9.1021) by first noticing that the p-value (under `P>|t|`) is so small, basically zero. This means that the number of rooms, `RM`, is a statisticall significant predictor of `PRICE`. The regression coefficient for `RM` of 9.1021 means that *on average, each additional room is associated with an increase of $\\$9,100$ in house price net of the other variables*. The confidence interval gives us a range of plausible values for this average change, about ($\\$8,279, \\$9,925$), definitely not chump change. \n",
    "\n",
    "In general, the $\\hat{\\beta_i}, i > 0$ can be interpreted as the following: \"A one unit increase in $x_i$ is associated with, on average, a $\\hat{\\beta_i}$ increase/decrease in $y$ net of all other variables.\"\n",
    "\n",
    "On the other hand, the interpretation for the intercept, $\\hat{\\beta}_0$ is the average of $y$ given that all of the independent variables $x_i$ are 0."
   ]
  },
  {
   "cell_type": "markdown",
   "metadata": {},
   "source": [
    "####  `statsmodels` formulas\n",
    "***\n",
    "This formula notation will seem familiar to `R` users, but will take some getting used to for people coming from other languages or are new to statistics.\n",
    "\n",
    "The formula gives instruction for a general structure for a regression call. For `statsmodels` (`ols` or `logit`) calls you need to have a Pandas dataframe with column names that you will add to your formula. In the below example you need a pandas data frame that includes the columns named (`Outcome`, `X1`,`X2`, ...), but you don't need to build a new dataframe for every regression. Use the same dataframe with all these things in it. The structure is very simple:\n",
    "\n",
    "`Outcome ~ X1`\n",
    "\n",
    "But of course we want to to be able to handle more complex models, for example multiple regression is doone like this:\n",
    "\n",
    "`Outcome ~ X1 + X2 + X3`\n",
    "\n",
    "In general, a formula for an OLS multiple linear regression is\n",
    "\n",
    "`Y ~ X1 + X2 + ... + Xp`\n",
    "\n",
    "This is the very basic structure but it should be enough to get you through the homework. Things can get much more complex. You can force statsmodels to treat variables as categorical with the `C()` function, call numpy functions to transform data such as `np.log` for extremely-skewed data, or fit a model without an intercept by including `- 1` in the formula. For a quick run-down of further uses see the `statsmodels` [help page](http://statsmodels.sourceforge.net/devel/example_formulas.html).\n"
   ]
  },
  {
   "cell_type": "markdown",
   "metadata": {},
   "source": [
    "Let's see how our model actually fit our data. We can see below that there is a ceiling effect, we should probably look into that. Also, for large values of $Y$ we get underpredictions, most predictions are below the 45-degree gridlines. "
   ]
  },
  {
   "cell_type": "markdown",
   "metadata": {},
   "source": [
    "<div class=\"span5 alert alert-info\">\n",
    "<h3>Part 3 Checkup Exercise Set I</h3>\n",
    "\n",
    "<p><b>Exercise:</b> Create a scatterplot between the predicted prices, available in `m.fittedvalues` (where `m` is the fitted model) and the original prices. How does the plot look? Do you notice anything interesting or weird in the plot? Comment on what you see.</p>\n",
    "</div>"
   ]
  },
  {
   "cell_type": "code",
   "execution_count": 30,
   "metadata": {
    "scrolled": true
   },
   "outputs": [
    {
     "data": {
      "text/plain": [
       "Text(0.5, 1.0, 'Relationship between predicted and actual price')"
      ]
     },
     "execution_count": 30,
     "metadata": {},
     "output_type": "execute_result"
    },
    {
     "data": {
      "image/png": "[encoded data removed]",
      "text/plain": [
       "<Figure size 432x288 with 1 Axes>"
      ]
     },
     "metadata": {
      "needs_background": "light"
     },
     "output_type": "display_data"
    }
   ],
   "source": [
    "plt.scatter(m.fittedvalues, bos.PRICE)\n",
    "plt.xlabel(\"Predicted Price\")\n",
    "plt.ylabel(\"Housing Price\")\n",
    "plt.title(\"Relationship between predicted and actual price\")# your turn"
   ]
  },
  {
   "cell_type": "markdown",
   "metadata": {},
   "source": [
    "### Fitting Linear Regression using `sklearn`\n"
   ]
  },
  {
   "cell_type": "code",
   "execution_count": 54,
   "metadata": {},
   "outputs": [
    {
     "data": {
      "text/plain": [
       "LinearRegression(copy_X=True, fit_intercept=True, n_jobs=None,\n",
       "         normalize=False)"
      ]
     },
     "execution_count": 54,
     "metadata": {},
     "output_type": "execute_result"
    }
   ],
   "source": [
    "from sklearn.linear_model import LinearRegression\n",
    "X = bos.drop('PRICE', axis = 1)\n",
    "\n",
    "# This creates a LinearRegression object\n",
    "lm = LinearRegression()\n",
    "lm"
   ]
  },
  {
   "cell_type": "markdown",
   "metadata": {},
   "source": [
    "#### What can you do with a LinearRegression object? \n",
    "***\n",
    "Check out the scikit-learn [docs here](http://scikit-learn.org/stable/modules/generated/sklearn.linear_model.LinearRegression.html). We have listed the main functions here. Most machine learning models in scikit-learn follow this same API of fitting a model with `fit`, making predictions with `predict` and the appropriate scoring function `score` for each model."
   ]
  },
  {
   "cell_type": "markdown",
   "metadata": {},
   "source": [
    "Main functions | Description\n",
    "--- | --- \n",
    "`lm.fit()` | Fit a linear model\n",
    "`lm.predit()` | Predict Y using the linear model with estimated coefficients\n",
    "`lm.score()` | Returns the coefficient of determination (R^2). *A measure of how well observed outcomes are replicated by the model, as the proportion of total variation of outcomes explained by the model*"
   ]
  },
  {
   "cell_type": "markdown",
   "metadata": {},
   "source": [
    "#### What output can you get?"
   ]
  },
  {
   "cell_type": "code",
   "execution_count": 32,
   "metadata": {},
   "outputs": [],
   "source": [
    "# Look inside lm object\n",
    "# lm.<tab>"
   ]
  },
  {
   "cell_type": "markdown",
   "metadata": {},
   "source": [
    "Output | Description\n",
    "--- | --- \n",
    "`lm.coef_` | Estimated coefficients\n",
    "`lm.intercept_` | Estimated intercept "
   ]
  },
  {
   "cell_type": "markdown",
   "metadata": {},
   "source": [
    "### Fit a linear model\n",
    "***\n",
    "\n",
    "The `lm.fit()` function estimates the coefficients the linear regression using least squares. "
   ]
  },
  {
   "cell_type": "code",
   "execution_count": 62,
   "metadata": {},
   "outputs": [
    {
     "data": {
      "text/plain": [
       "LinearRegression(copy_X=True, fit_intercept=True, n_jobs=None,\n",
       "         normalize=False)"
      ]
     },
     "execution_count": 62,
     "metadata": {},
     "output_type": "execute_result"
    }
   ],
   "source": [
    "# Use all 13 predictors to fit linear regression model\n",
    "lm.fit(X, bos.PRICE)"
   ]
  },
  {
   "cell_type": "markdown",
   "metadata": {},
   "source": [
    "<div class=\"span5 alert alert-info\">\n",
    "<h3>Part 3 Checkup Exercise Set II</h3>\n",
    "\n",
    "<p><b>Exercise:</b> How would you change the model to not fit an intercept term? Would you recommend not having an intercept? Why or why not? For more information on why to include or exclude an intercept, look [here](https://stats.idre.ucla.edu/other/mult-pkg/faq/general/faq-what-is-regression-through-the-origin/).</p>\n",
    "\n",
    "<p><b>Exercise:</b> One of the assumptions of the linear model is that the residuals must be i.i.d. (independently and identically distributed). To satisfy this, is it enough that the residuals are normally distributed? Explain your answer.</p>\n",
    "\n",
    "<p><b>Exercise:</b> True or false. To use linear regression, $Y$ must be normally distributed. Explain your answer.</p>\n",
    "</div>\n"
   ]
  },
  {
   "cell_type": "markdown",
   "metadata": {},
   "source": [
    "#### How would you change the model to not fit an intercept term?"
   ]
  },
  {
   "cell_type": "markdown",
   "metadata": {},
   "source": [
    "One of the parameters of LinearRegression in sklearn is \"fit_intercept\", which is by default set to True. We can set this parameter to False if we don't want to fit an intercept term."
   ]
  },
  {
   "cell_type": "markdown",
   "metadata": {},
   "source": [
    "#### Would you recommend not having an intercept? Why or why not? "
   ]
  },
  {
   "cell_type": "markdown",
   "metadata": {},
   "source": [
    "I would expect this data to have an intercept as no matter what the other features are, the price of a house/lot is going to be greater than $0."
   ]
  },
  {
   "cell_type": "markdown",
   "metadata": {},
   "source": [
    "#### Exercise: One of the assumptions of the linear model is that the residuals must be i.i.d. (independently and identically distributed). To satisfy this, is it enough that the residuals are normally distributed? Explain your answer."
   ]
  },
  {
   "cell_type": "markdown",
   "metadata": {},
   "source": [
    "In order to satisfy i.i.d., the residuals should be normally distributed AND risidual variances have to be equal for all values of X."
   ]
  },
  {
   "cell_type": "markdown",
   "metadata": {},
   "source": [
    "#### Exercise: True or false. To use linear regression,  𝑌 must be normally distributed. Explain your answer."
   ]
  },
  {
   "cell_type": "markdown",
   "metadata": {
    "collapsed": true
   },
   "source": [
    "False, neither the dependent variable Y or independent variable X have to be normally distributed. However the risiduals do have to be normally distributed.\n"
   ]
  },
  {
   "cell_type": "markdown",
   "metadata": {},
   "source": [
    "### Estimated intercept and coefficients\n",
    "\n",
    "Let's look at the estimated coefficients from the linear model using `1m.intercept_` and `lm.coef_`.  \n",
    "\n",
    "After we have fit our linear regression model using the least squares method, we want to see what are the estimates of our coefficients $\\beta_0$, $\\beta_1$, ..., $\\beta_{13}$: \n",
    "\n",
    "$$ \\hat{\\beta}_0, \\hat{\\beta}_1, \\ldots, \\hat{\\beta}_{13} $$\n",
    "\n"
   ]
  },
  {
   "cell_type": "code",
   "execution_count": 34,
   "metadata": {},
   "outputs": [
    {
     "name": "stdout",
     "output_type": "stream",
     "text": [
      "Estimated intercept coefficient: 36.45948838509015\n"
     ]
    }
   ],
   "source": [
    "print('Estimated intercept coefficient: {}'.format(lm.intercept_))"
   ]
  },
  {
   "cell_type": "code",
   "execution_count": 35,
   "metadata": {},
   "outputs": [
    {
     "name": "stdout",
     "output_type": "stream",
     "text": [
      "Number of coefficients: 13\n"
     ]
    }
   ],
   "source": [
    "print('Number of coefficients: {}'.format(len(lm.coef_)))"
   ]
  },
  {
   "cell_type": "code",
   "execution_count": 36,
   "metadata": {},
   "outputs": [
    {
     "data": {
      "text/html": [
       "<div>\n",
       "<style scoped>\n",
       "    .dataframe tbody tr th:only-of-type {\n",
       "        vertical-align: middle;\n",
       "    }\n",
       "\n",
       "    .dataframe tbody tr th {\n",
       "        vertical-align: top;\n",
       "    }\n",
       "\n",
       "    .dataframe thead th {\n",
       "        text-align: right;\n",
       "    }\n",
       "</style>\n",
       "<table border=\"1\" class=\"dataframe\">\n",
       "  <thead>\n",
       "    <tr style=\"text-align: right;\">\n",
       "      <th></th>\n",
       "      <th>features</th>\n",
       "      <th>estimatedCoefficients</th>\n",
       "    </tr>\n",
       "  </thead>\n",
       "  <tbody>\n",
       "    <tr>\n",
       "      <th>0</th>\n",
       "      <td>CRIM</td>\n",
       "      <td>-0.108011</td>\n",
       "    </tr>\n",
       "    <tr>\n",
       "      <th>1</th>\n",
       "      <td>ZN</td>\n",
       "      <td>0.046420</td>\n",
       "    </tr>\n",
       "    <tr>\n",
       "      <th>2</th>\n",
       "      <td>INDUS</td>\n",
       "      <td>0.020559</td>\n",
       "    </tr>\n",
       "    <tr>\n",
       "      <th>3</th>\n",
       "      <td>CHAS</td>\n",
       "      <td>2.686734</td>\n",
       "    </tr>\n",
       "    <tr>\n",
       "      <th>4</th>\n",
       "      <td>NOX</td>\n",
       "      <td>-17.766611</td>\n",
       "    </tr>\n",
       "    <tr>\n",
       "      <th>5</th>\n",
       "      <td>RM</td>\n",
       "      <td>3.809865</td>\n",
       "    </tr>\n",
       "    <tr>\n",
       "      <th>6</th>\n",
       "      <td>AGE</td>\n",
       "      <td>0.000692</td>\n",
       "    </tr>\n",
       "    <tr>\n",
       "      <th>7</th>\n",
       "      <td>DIS</td>\n",
       "      <td>-1.475567</td>\n",
       "    </tr>\n",
       "    <tr>\n",
       "      <th>8</th>\n",
       "      <td>RAD</td>\n",
       "      <td>0.306049</td>\n",
       "    </tr>\n",
       "    <tr>\n",
       "      <th>9</th>\n",
       "      <td>TAX</td>\n",
       "      <td>-0.012335</td>\n",
       "    </tr>\n",
       "    <tr>\n",
       "      <th>10</th>\n",
       "      <td>PTRATIO</td>\n",
       "      <td>-0.952747</td>\n",
       "    </tr>\n",
       "    <tr>\n",
       "      <th>11</th>\n",
       "      <td>B</td>\n",
       "      <td>0.009312</td>\n",
       "    </tr>\n",
       "    <tr>\n",
       "      <th>12</th>\n",
       "      <td>LSTAT</td>\n",
       "      <td>-0.524758</td>\n",
       "    </tr>\n",
       "  </tbody>\n",
       "</table>\n",
       "</div>"
      ],
      "text/plain": [
       "   features  estimatedCoefficients\n",
       "0      CRIM              -0.108011\n",
       "1        ZN               0.046420\n",
       "2     INDUS               0.020559\n",
       "3      CHAS               2.686734\n",
       "4       NOX             -17.766611\n",
       "5        RM               3.809865\n",
       "6       AGE               0.000692\n",
       "7       DIS              -1.475567\n",
       "8       RAD               0.306049\n",
       "9       TAX              -0.012335\n",
       "10  PTRATIO              -0.952747\n",
       "11        B               0.009312\n",
       "12    LSTAT              -0.524758"
      ]
     },
     "execution_count": 36,
     "metadata": {},
     "output_type": "execute_result"
    }
   ],
   "source": [
    "# The coefficients\n",
    "pd.DataFrame({'features': X.columns, 'estimatedCoefficients': lm.coef_})[['features', 'estimatedCoefficients']]"
   ]
  },
  {
   "cell_type": "markdown",
   "metadata": {},
   "source": [
    "### Predict Prices \n",
    "\n",
    "We can calculate the predicted prices ($\\hat{Y}_i$) using `lm.predict`. \n",
    "\n",
    "$$ \\hat{Y}_i = \\hat{\\beta}_0 + \\hat{\\beta}_1 X_1 + \\ldots \\hat{\\beta}_{13} X_{13} $$"
   ]
  },
  {
   "cell_type": "code",
   "execution_count": 63,
   "metadata": {},
   "outputs": [
    {
     "data": {
      "text/plain": [
       "array([30.00384338, 25.02556238, 30.56759672, 28.60703649, 27.94352423])"
      ]
     },
     "execution_count": 63,
     "metadata": {},
     "output_type": "execute_result"
    }
   ],
   "source": [
    "# first five predicted prices\n",
    "lm.predict(X)[0:5]"
   ]
  },
  {
   "cell_type": "markdown",
   "metadata": {},
   "source": [
    "<div class=\"span5 alert alert-info\">\n",
    "<h3>Part 3 Checkup Exercise Set III</h3>\n",
    "\n",
    "<p><b>Exercise:</b> Histogram: Plot a histogram of all the predicted prices. Write a story about what you see. Describe the shape, center and spread of the distribution. Are there any outliers? What might be the reason for them? Should we do anything special with them?</p>\n",
    "\n",
    "<p><b>Exercise:</b> Scatterplot: Let's plot the true prices compared to the predicted prices to see they disagree (we did this with `statsmodels` before).</p>\n",
    "\n",
    "<p><b>Exercise:</b> We have looked at fitting a linear model in both `statsmodels` and `scikit-learn`. What are the advantages and disadvantages of each based on your exploration? Based on the information provided by both packages, what advantage does `statsmodels` provide?</p>\n",
    "</div>"
   ]
  },
  {
   "cell_type": "markdown",
   "metadata": {},
   "source": [
    "#### Exercise: Histogram: Plot a histogram of all the predicted prices. Write a story about what you see. Describe the shape, center and spread of the distribution. Are there any outliers? What might be the reason for them? Should we do anything special with them?"
   ]
  },
  {
   "cell_type": "markdown",
   "metadata": {},
   "source": [
    "The distribution of the predicted prices is normal, which is expected since the housing prices are also normally distributed and we used a linear model to fit predict the data. The mean and meadian are almost the same, which also indicates a normal distribution. There are outliers, however. Specifically, we have a one or more predictions that are below zero, which is impossible to have. We can remove them from the data."
   ]
  },
  {
   "cell_type": "code",
   "execution_count": 65,
   "metadata": {
    "scrolled": true
   },
   "outputs": [
    {
     "data": {
      "text/plain": [
       "22.532806324110677"
      ]
     },
     "execution_count": 65,
     "metadata": {},
     "output_type": "execute_result"
    }
   ],
   "source": [
    "np.mean(lm.predict(X))"
   ]
  },
  {
   "cell_type": "code",
   "execution_count": 47,
   "metadata": {},
   "outputs": [
    {
     "data": {
      "text/plain": [
       "7.907257740483541"
      ]
     },
     "execution_count": 47,
     "metadata": {},
     "output_type": "execute_result"
    }
   ],
   "source": [
    "np.std(lm.predict(X))"
   ]
  },
  {
   "cell_type": "code",
   "execution_count": 45,
   "metadata": {},
   "outputs": [
    {
     "data": {
      "text/plain": [
       "22.11865254996865"
      ]
     },
     "execution_count": 45,
     "metadata": {},
     "output_type": "execute_result"
    }
   ],
   "source": [
    "np.median(lm.predict(X))"
   ]
  },
  {
   "cell_type": "code",
   "execution_count": 43,
   "metadata": {},
   "outputs": [
    {
     "data": {
      "text/plain": [
       "(array([ 1.,  0.,  0.,  0.,  2.,  0.,  3.,  1.,  6.,  2.,  9.,  4.,  7.,\n",
       "         9., 22., 18., 21., 27., 30., 38., 40., 33., 31., 32., 25., 19.,\n",
       "        20., 12., 17., 14., 15., 12., 10.,  8.,  5.,  2.,  6.,  2.,  2.,\n",
       "         1.]),\n",
       " array([-4.28131071, -3.05745086, -1.833591  , -0.60973115,  0.6141287 ,\n",
       "         1.83798855,  3.06184841,  4.28570826,  5.50956811,  6.73342796,\n",
       "         7.95728781,  9.18114767, 10.40500752, 11.62886737, 12.85272722,\n",
       "        14.07658708, 15.30044693, 16.52430678, 17.74816663, 18.97202649,\n",
       "        20.19588634, 21.41974619, 22.64360604, 23.8674659 , 25.09132575,\n",
       "        26.3151856 , 27.53904545, 28.76290531, 29.98676516, 31.21062501,\n",
       "        32.43448486, 33.65834472, 34.88220457, 36.10606442, 37.32992427,\n",
       "        38.55378413, 39.77764398, 41.00150383, 42.22536368, 43.44922353,\n",
       "        44.67308339]),\n",
       " <a list of 40 Patch objects>)"
      ]
     },
     "execution_count": 43,
     "metadata": {},
     "output_type": "execute_result"
    },
    {
     "data": {
      "image/png": "[encoded data removed]",
      "text/plain": [
       "<Figure size 432x288 with 1 Axes>"
      ]
     },
     "metadata": {
      "needs_background": "light"
     },
     "output_type": "display_data"
    }
   ],
   "source": [
    "# your turn\n",
    "plt.hist(lm.predict(X), bins=40)"
   ]
  },
  {
   "cell_type": "markdown",
   "metadata": {},
   "source": [
    "#### Exercise: Scatterplot: Let's plot the true prices compared to the predicted prices to see they disagree (we did this with `statsmodels` before)."
   ]
  },
  {
   "cell_type": "markdown",
   "metadata": {},
   "source": [
    "The relationship is linear as expected, however it looks like the predicted price tends to be lower than the actual price."
   ]
  },
  {
   "cell_type": "code",
   "execution_count": 48,
   "metadata": {
    "scrolled": true
   },
   "outputs": [
    {
     "data": {
      "text/plain": [
       "Text(0.5, 1.0, 'Relationship between predicted and actual price')"
      ]
     },
     "execution_count": 48,
     "metadata": {},
     "output_type": "execute_result"
    },
    {
     "data": {
      "image/png": "[encoded data removed]",
      "text/plain": [
       "<Figure size 432x288 with 1 Axes>"
      ]
     },
     "metadata": {
      "needs_background": "light"
     },
     "output_type": "display_data"
    }
   ],
   "source": [
    "plt.scatter(lm.predict(X), bos.PRICE)\n",
    "plt.xlabel(\"Predicted Price\")\n",
    "plt.ylabel(\"Housing Price\")\n",
    "plt.title(\"Relationship between predicted and actual price\")"
   ]
  },
  {
   "cell_type": "markdown",
   "metadata": {},
   "source": [
    "#### Exercise: We have looked at fitting a linear model in both `statsmodels` and `scikit-learn`. What are the advantages and disadvantages of each based on your exploration? Based on the information provided by both packages, what advantage does `statsmodels` provide?"
   ]
  },
  {
   "cell_type": "markdown",
   "metadata": {},
   "source": [
    "From initial EDA, it looks like statsmodel is more closely correlated to the actual prices. statsmodel also provides a summary table on the fit, which is great for evaluation"
   ]
  },
  {
   "cell_type": "markdown",
   "metadata": {},
   "source": [
    "### Evaluating the Model: Sum-of-Squares\n",
    "\n",
    "The partitioning of the sum-of-squares shows the variance in the predictions explained by the model and the variance that is attributed to error.\n",
    "\n",
    "$$TSS = ESS + RSS$$\n",
    "\n",
    "#### Residual Sum-of-Squares (aka $RSS$)\n",
    "\n",
    "The residual sum-of-squares is one of the basic ways of quantifying how much error exists in the fitted model. We will revisit this in a bit.\n",
    "\n",
    "$$ RSS = \\sum_{i=1}^N r_i^2 = \\sum_{i=1}^N \\left(y_i - \\left(\\beta_0 + \\beta_1 x_i\\right)\\right)^2 $$"
   ]
  },
  {
   "cell_type": "code",
   "execution_count": 66,
   "metadata": {},
   "outputs": [
    {
     "name": "stdout",
     "output_type": "stream",
     "text": [
      "11078.784577954977\n"
     ]
    }
   ],
   "source": [
    "print(np.sum((bos.PRICE - lm.predict(X)) ** 2))"
   ]
  },
  {
   "cell_type": "markdown",
   "metadata": {},
   "source": [
    "#### Explained Sum-of-Squares (aka $ESS$)\n",
    "\n",
    "The explained sum-of-squares measures the variance explained by the regression model.\n",
    "\n",
    "$$ESS = \\sum_{i=1}^N \\left( \\hat{y}_i - \\bar{y} \\right)^2 = \\sum_{i=1}^N \\left( \\left( \\hat{\\beta}_0 + \\hat{\\beta}_1 x_i \\right) - \\bar{y} \\right)^2$$"
   ]
  },
  {
   "cell_type": "code",
   "execution_count": 67,
   "metadata": {},
   "outputs": [
    {
     "name": "stdout",
     "output_type": "stream",
     "text": [
      "1.11785704968299e-22\n"
     ]
    }
   ],
   "source": [
    "print(np.sum(lm.predict(X) - np.mean(bos.PRICE)) ** 2)"
   ]
  },
  {
   "cell_type": "markdown",
   "metadata": {},
   "source": [
    "### Evaluating the Model: The Coefficient of Determination ($R^2$)\n",
    "\n",
    "The coefficient of determination, $R^2$, tells us the percentage of the variance in the response variable $Y$ that can be explained by the linear regression model.\n",
    "\n",
    "$$ R^2 = \\frac{ESS}{TSS} $$\n",
    "\n",
    "The $R^2$ value is one of the most common metrics that people use in describing the quality of a model, but it is important to note that *$R^2$ increases artificially as a side-effect of increasing the number of independent variables.* While $R^2$ is reported in almost all statistical packages, another metric called the *adjusted $R^2$* is also provided as it takes into account the number of variables in the model, and can sometimes even be used for non-linear regression models!\n",
    "\n",
    "$$R_{adj}^2 = 1 - \\left( 1 - R^2 \\right) \\frac{N - 1}{N - K - 1} = R^2 - \\left( 1 - R^2 \\right) \\frac{K}{N - K - 1} = 1 - \\frac{\\frac{RSS}{DF_R}}{\\frac{TSS}{DF_T}}$$\n",
    "\n",
    "where $N$ is the number of observations, $K$ is the number of variables, $DF_R = N - K - 1$ is the degrees of freedom associated with the residual error and $DF_T = N - 1$ is the degrees of the freedom of the total error."
   ]
  },
  {
   "cell_type": "markdown",
   "metadata": {},
   "source": [
    "### Evaluating the Model: Mean Squared Error and the $F$-Statistic\n",
    "***\n",
    "The mean squared errors are just the *averages* of the sum-of-squares errors over their respective degrees of freedom.\n",
    "\n",
    "$$MSE = \\frac{ESS}{K}$$\n",
    "$$MSR = \\frac{RSS}{N-K-1}$$\n",
    "\n",
    "**Remember: ** Notation may vary across resources particularly the use of *R* and *E* in *RSS/ESS* and *MSR/MSE*. In some resources, E = explained and R = residual. In other resources, E = error and R = regression (explained). **This is a very important distinction that requires looking at the formula to determine which naming scheme is being used.**\n",
    "\n",
    "Given the MSR and MSE, we can now determine whether or not the entire model we just fit is even statistically significant. We use an $F$-test for this. The null hypothesis is that all of the $\\beta$ coefficients are zero, that is, none of them have any effect on $Y$. The alternative is that *at least one* $\\beta$ coefficient is nonzero, but it doesn't tell us which one in a multiple regression:\n",
    "\n",
    "$$H_0: \\beta_i = 0, \\mbox{for all $i$} \\\\\n",
    "H_A: \\beta_i > 0, \\mbox{for some $i$}$$ \n",
    "\n",
    "$$F = \\frac{MSR}{MSE} = \\left( \\frac{R^2}{1 - R^2} \\right) \\left( \\frac{N - K - 1}{K} \\right)$$\n",
    " \n",
    "Once we compute the $F$-statistic, we can use the $F$-distribution with $N-K$ and $K-1$ degrees of degrees of freedom to get a p-value.\n",
    "\n",
    "**Warning!** The $F$-statistic mentioned in this section is NOT the same as the F1-measure or F1-value discused in Unit 7."
   ]
  },
  {
   "cell_type": "markdown",
   "metadata": {},
   "source": [
    "<div class=\"span5 alert alert-info\">\n",
    "<h3>Part 3 Checkup Exercise Set IV</h3>\n",
    "\n",
    "<p>Let's look at the relationship between `PTRATIO` and housing price.</p>\n",
    "\n",
    "<p><b>Exercise:</b> Try fitting a linear regression model using only the 'PTRATIO' (pupil-teacher ratio by town) and interpret the intercept and the coefficients.</p>\n",
    "\n",
    "<p><b>Exercise:</b> Calculate (or extract) the $R^2$ value. What does it tell you?</p>\n",
    "\n",
    "<p><b>Exercise:</b> Compute the $F$-statistic. What does it tell you?</p>\n",
    "\n",
    "<p><b>Exercise:</b> Take a close look at the $F$-statistic and the $t$-statistic for the regression coefficient. What relationship do you notice? Note that this relationship only applies in *simple* linear regression models.</p>\n",
    "</div>"
   ]
  },
  {
   "cell_type": "code",
   "execution_count": 69,
   "metadata": {},
   "outputs": [
    {
     "data": {
      "text/html": [
       "<div>\n",
       "<style scoped>\n",
       "    .dataframe tbody tr th:only-of-type {\n",
       "        vertical-align: middle;\n",
       "    }\n",
       "\n",
       "    .dataframe tbody tr th {\n",
       "        vertical-align: top;\n",
       "    }\n",
       "\n",
       "    .dataframe thead th {\n",
       "        text-align: right;\n",
       "    }\n",
       "</style>\n",
       "<table border=\"1\" class=\"dataframe\">\n",
       "  <thead>\n",
       "    <tr style=\"text-align: right;\">\n",
       "      <th></th>\n",
       "      <th>CRIM</th>\n",
       "      <th>ZN</th>\n",
       "      <th>INDUS</th>\n",
       "      <th>CHAS</th>\n",
       "      <th>NOX</th>\n",
       "      <th>RM</th>\n",
       "      <th>AGE</th>\n",
       "      <th>DIS</th>\n",
       "      <th>RAD</th>\n",
       "      <th>TAX</th>\n",
       "      <th>PTRATIO</th>\n",
       "      <th>B</th>\n",
       "      <th>LSTAT</th>\n",
       "      <th>PRICE</th>\n",
       "    </tr>\n",
       "  </thead>\n",
       "  <tbody>\n",
       "    <tr>\n",
       "      <th>0</th>\n",
       "      <td>0.00632</td>\n",
       "      <td>18.0</td>\n",
       "      <td>2.31</td>\n",
       "      <td>0.0</td>\n",
       "      <td>0.538</td>\n",
       "      <td>6.575</td>\n",
       "      <td>65.2</td>\n",
       "      <td>4.0900</td>\n",
       "      <td>1.0</td>\n",
       "      <td>296.0</td>\n",
       "      <td>15.3</td>\n",
       "      <td>396.90</td>\n",
       "      <td>4.98</td>\n",
       "      <td>24.0</td>\n",
       "    </tr>\n",
       "    <tr>\n",
       "      <th>1</th>\n",
       "      <td>0.02731</td>\n",
       "      <td>0.0</td>\n",
       "      <td>7.07</td>\n",
       "      <td>0.0</td>\n",
       "      <td>0.469</td>\n",
       "      <td>6.421</td>\n",
       "      <td>78.9</td>\n",
       "      <td>4.9671</td>\n",
       "      <td>2.0</td>\n",
       "      <td>242.0</td>\n",
       "      <td>17.8</td>\n",
       "      <td>396.90</td>\n",
       "      <td>9.14</td>\n",
       "      <td>21.6</td>\n",
       "    </tr>\n",
       "    <tr>\n",
       "      <th>2</th>\n",
       "      <td>0.02729</td>\n",
       "      <td>0.0</td>\n",
       "      <td>7.07</td>\n",
       "      <td>0.0</td>\n",
       "      <td>0.469</td>\n",
       "      <td>7.185</td>\n",
       "      <td>61.1</td>\n",
       "      <td>4.9671</td>\n",
       "      <td>2.0</td>\n",
       "      <td>242.0</td>\n",
       "      <td>17.8</td>\n",
       "      <td>392.83</td>\n",
       "      <td>4.03</td>\n",
       "      <td>34.7</td>\n",
       "    </tr>\n",
       "    <tr>\n",
       "      <th>3</th>\n",
       "      <td>0.03237</td>\n",
       "      <td>0.0</td>\n",
       "      <td>2.18</td>\n",
       "      <td>0.0</td>\n",
       "      <td>0.458</td>\n",
       "      <td>6.998</td>\n",
       "      <td>45.8</td>\n",
       "      <td>6.0622</td>\n",
       "      <td>3.0</td>\n",
       "      <td>222.0</td>\n",
       "      <td>18.7</td>\n",
       "      <td>394.63</td>\n",
       "      <td>2.94</td>\n",
       "      <td>33.4</td>\n",
       "    </tr>\n",
       "    <tr>\n",
       "      <th>4</th>\n",
       "      <td>0.06905</td>\n",
       "      <td>0.0</td>\n",
       "      <td>2.18</td>\n",
       "      <td>0.0</td>\n",
       "      <td>0.458</td>\n",
       "      <td>7.147</td>\n",
       "      <td>54.2</td>\n",
       "      <td>6.0622</td>\n",
       "      <td>3.0</td>\n",
       "      <td>222.0</td>\n",
       "      <td>18.7</td>\n",
       "      <td>396.90</td>\n",
       "      <td>5.33</td>\n",
       "      <td>36.2</td>\n",
       "    </tr>\n",
       "  </tbody>\n",
       "</table>\n",
       "</div>"
      ],
      "text/plain": [
       "      CRIM    ZN  INDUS  CHAS    NOX     RM   AGE     DIS  RAD    TAX  \\\n",
       "0  0.00632  18.0   2.31   0.0  0.538  6.575  65.2  4.0900  1.0  296.0   \n",
       "1  0.02731   0.0   7.07   0.0  0.469  6.421  78.9  4.9671  2.0  242.0   \n",
       "2  0.02729   0.0   7.07   0.0  0.469  7.185  61.1  4.9671  2.0  242.0   \n",
       "3  0.03237   0.0   2.18   0.0  0.458  6.998  45.8  6.0622  3.0  222.0   \n",
       "4  0.06905   0.0   2.18   0.0  0.458  7.147  54.2  6.0622  3.0  222.0   \n",
       "\n",
       "   PTRATIO       B  LSTAT  PRICE  \n",
       "0     15.3  396.90   4.98   24.0  \n",
       "1     17.8  396.90   9.14   21.6  \n",
       "2     17.8  392.83   4.03   34.7  \n",
       "3     18.7  394.63   2.94   33.4  \n",
       "4     18.7  396.90   5.33   36.2  "
      ]
     },
     "execution_count": 69,
     "metadata": {},
     "output_type": "execute_result"
    }
   ],
   "source": [
    "bos.head()"
   ]
  },
  {
   "cell_type": "markdown",
   "metadata": {},
   "source": [
    "#### Exercise: Try fitting a linear regression model using only the 'PTRATIO' (pupil-teacher ratio by town) and interpret the intercept and the coefficients."
   ]
  },
  {
   "cell_type": "code",
   "execution_count": 70,
   "metadata": {},
   "outputs": [
    {
     "name": "stdout",
     "output_type": "stream",
     "text": [
      "                            OLS Regression Results                            \n",
      "==============================================================================\n",
      "Dep. Variable:                  PRICE   R-squared:                       0.258\n",
      "Model:                            OLS   Adj. R-squared:                  0.256\n",
      "Method:                 Least Squares   F-statistic:                     175.1\n",
      "Date:                Tue, 02 Apr 2019   Prob (F-statistic):           1.61e-34\n",
      "Time:                        15:52:39   Log-Likelihood:                -1764.8\n",
      "No. Observations:                 506   AIC:                             3534.\n",
      "Df Residuals:                     504   BIC:                             3542.\n",
      "Df Model:                           1                                         \n",
      "Covariance Type:            nonrobust                                         \n",
      "==============================================================================\n",
      "                 coef    std err          t      P>|t|      [0.025      0.975]\n",
      "------------------------------------------------------------------------------\n",
      "Intercept     62.3446      3.029     20.581      0.000      56.393      68.296\n",
      "PTRATIO       -2.1572      0.163    -13.233      0.000      -2.477      -1.837\n",
      "==============================================================================\n",
      "Omnibus:                       92.924   Durbin-Watson:                   0.725\n",
      "Prob(Omnibus):                  0.000   Jarque-Bera (JB):              191.444\n",
      "Skew:                           1.001   Prob(JB):                     2.68e-42\n",
      "Kurtosis:                       5.252   Cond. No.                         160.\n",
      "==============================================================================\n",
      "\n",
      "Warnings:\n",
      "[1] Standard Errors assume that the covariance matrix of the errors is correctly specified.\n"
     ]
    }
   ],
   "source": [
    "m = ols('PRICE ~ PTRATIO',bos).fit()\n",
    "print(m.summary())"
   ]
  },
  {
   "cell_type": "markdown",
   "metadata": {},
   "source": [
    "#### Exercise: Calculate (or extract) the  𝑅2 value. What does it tell you?"
   ]
  },
  {
   "cell_type": "markdown",
   "metadata": {},
   "source": [
    "R2 is 0.258 using statsmodel. This tells us that PTRATIO contributes to the overall model by 25.8 percent. And although PTRATIO is statistically significant, it is not as good as RM when predicting the houseing price."
   ]
  },
  {
   "cell_type": "markdown",
   "metadata": {},
   "source": [
    "#### Exercise: Compute the  𝐹-statistic. What does it tell you?"
   ]
  },
  {
   "cell_type": "markdown",
   "metadata": {},
   "source": [
    "With the F-statistic at 175.1 and Pvalue of 1.61e-34 (close to zero) we can see that PTRATIO has a statistical significance on the overall price."
   ]
  },
  {
   "cell_type": "markdown",
   "metadata": {},
   "source": [
    "#### Exercise: Take a close look at the  𝐹-statistic and the  𝑡-statistic for the regression coefficient. What relationship do you notice? Note that this relationship only applies in *simple* linear regression models."
   ]
  },
  {
   "cell_type": "markdown",
   "metadata": {},
   "source": [
    "The F-statistic is a square of the t-statistic."
   ]
  },
  {
   "cell_type": "markdown",
   "metadata": {},
   "source": [
    "<div class=\"span5 alert alert-info\">\n",
    "<h3>Part 3 Checkup Exercise Set V</h3>\n",
    "\n",
    "<p>Fit a linear regression model using three independent variables</p>\n",
    "\n",
    "<ol>\n",
    "<li> 'CRIM' (per capita crime rate by town)\n",
    "<li> 'RM' (average number of rooms per dwelling)\n",
    "<li> 'PTRATIO' (pupil-teacher ratio by town)\n",
    "</ol>\n",
    "\n",
    "<p><b>Exercise:</b> Compute or extract the $F$-statistic. What does it tell you about the model?</p>\n",
    "\n",
    "<p><b>Exercise:</b> Compute or extract the $R^2$ statistic. What does it tell you about the model?</p>\n",
    "\n",
    "<p><b>Exercise:</b> Which variables in the model are significant in predicting house price? Write a story that interprets the coefficients.</p>\n",
    "</div>"
   ]
  },
  {
   "cell_type": "code",
   "execution_count": 111,
   "metadata": {},
   "outputs": [
    {
     "name": "stdout",
     "output_type": "stream",
     "text": [
      "                            OLS Regression Results                            \n",
      "==============================================================================\n",
      "Dep. Variable:                  PRICE   R-squared:                       0.594\n",
      "Model:                            OLS   Adj. R-squared:                  0.592\n",
      "Method:                 Least Squares   F-statistic:                     245.2\n",
      "Date:                Tue, 02 Apr 2019   Prob (F-statistic):           6.15e-98\n",
      "Time:                        20:51:10   Log-Likelihood:                -1612.0\n",
      "No. Observations:                 506   AIC:                             3232.\n",
      "Df Residuals:                     502   BIC:                             3249.\n",
      "Df Model:                           3                                         \n",
      "Covariance Type:            nonrobust                                         \n",
      "==============================================================================\n",
      "                 coef    std err          t      P>|t|      [0.025      0.975]\n",
      "------------------------------------------------------------------------------\n",
      "Intercept     -3.3707      4.034     -0.836      0.404     -11.296       4.555\n",
      "CRIM          -0.2050      0.032     -6.399      0.000      -0.268      -0.142\n",
      "RM             7.3804      0.402     18.382      0.000       6.592       8.169\n",
      "PTRATIO       -1.0695      0.133     -8.051      0.000      -1.331      -0.809\n",
      "==============================================================================\n",
      "Omnibus:                      234.656   Durbin-Watson:                   0.830\n",
      "Prob(Omnibus):                  0.000   Jarque-Bera (JB):             2020.689\n",
      "Skew:                           1.815   Prob(JB):                         0.00\n",
      "Kurtosis:                      12.092   Cond. No.                         311.\n",
      "==============================================================================\n",
      "\n",
      "Warnings:\n",
      "[1] Standard Errors assume that the covariance matrix of the errors is correctly specified.\n"
     ]
    }
   ],
   "source": [
    "# your turn\n",
    "m = ols('PRICE ~ CRIM + RM + PTRATIO',bos).fit()\n",
    "print(m.summary())"
   ]
  },
  {
   "cell_type": "markdown",
   "metadata": {},
   "source": [
    "#### Exercise: Compute or extract the  𝐹-statistic. What does it tell you about the model?"
   ]
  },
  {
   "cell_type": "markdown",
   "metadata": {},
   "source": [
    "The F-statistic along with P-value is even closer to zero than when we used only one feature to model the regression.  "
   ]
  },
  {
   "cell_type": "markdown",
   "metadata": {},
   "source": [
    "#### Exercise: Compute or extract the  𝑅2 statistic. What does it tell you about the model?"
   ]
  },
  {
   "cell_type": "markdown",
   "metadata": {},
   "source": [
    "R2 value has now increased to 0.594 which is a significant improvement over using just PTRATIO to fit the model."
   ]
  },
  {
   "cell_type": "markdown",
   "metadata": {},
   "source": [
    "#### Exercise: Which variables in the model are significant in predicting house price? Write a story that interprets the coefficients."
   ]
  },
  {
   "cell_type": "markdown",
   "metadata": {},
   "source": [
    "The three variables we tested in this model all have significant contributions to predicting the overall housing prices. However, we can rank these variables by the actual dollar amount contributed per unit rate of increase. First is the 'average number of rooms per dwelling' (RM), contributing over 7,300 dollars per each room added. Next is the 'pupil-teacher ratio' (PTRATIO), which contributes close to 1,100 dollars when the ratio decreases by one. And finally, 'per capita crime rate' (CRIM), contributing 200 dollars every time the rate goes down by one. All of these relationships make intuitive sense when it comes to housing prices."
   ]
  },
  {
   "cell_type": "markdown",
   "metadata": {},
   "source": [
    "## Part 4: Comparing Models"
   ]
  },
  {
   "cell_type": "markdown",
   "metadata": {},
   "source": [
    "During modeling, there will be times when we want to compare models to see which one is more predictive or fits the data better. There are many ways to compare models, but we will focus on two."
   ]
  },
  {
   "cell_type": "markdown",
   "metadata": {},
   "source": [
    "### The $F$-Statistic Revisited\n",
    "\n",
    "The $F$-statistic can also be used to compare two *nested* models, that is, two models trained on the same dataset where one of the models contains a *subset* of the variables of the other model. The *full* model contains $K$ variables and the *reduced* model contains a subset of these $K$ variables. This allows us to add additional variables to a base model and then test if adding the variables helped the model fit.\n",
    "\n",
    "$$F = \\frac{\\left( \\frac{RSS_{reduced} - RSS_{full}}{DF_{reduced} - DF_{full}} \\right)}{\\left( \\frac{RSS_{full}}{DF_{full}} \\right)}$$\n",
    "\n",
    "where $DF_x = N - K_x - 1$ where $K_x$ is the number of variables in model $x$."
   ]
  },
  {
   "cell_type": "markdown",
   "metadata": {},
   "source": [
    "### Akaike Information Criterion (AIC)\n",
    "\n",
    "Another statistic for comparing two models is AIC, which is based on the likelihood function and takes into account the number of variables in the model.\n",
    "\n",
    "$$AIC = 2 K - 2 \\log_e{L}$$\n",
    "\n",
    "where $L$ is the likelihood of the model. AIC is meaningless in the absolute sense, and is only meaningful when compared to AIC values from other models. Lower values of AIC indicate better fitting models.\n",
    "\n",
    "`statsmodels` provides the AIC in its output."
   ]
  },
  {
   "cell_type": "markdown",
   "metadata": {},
   "source": [
    "<div class=\"span5 alert alert-info\">\n",
    "<h3>Part 4 Checkup Exercises</h3>\n",
    "\n",
    "<p><b>Exercise:</b> Find another variable (or two) to add to the model we built in Part 3. Compute the $F$-test comparing the two models as well as the AIC. Which model is better?</p>\n",
    "</div>"
   ]
  },
  {
   "cell_type": "code",
   "execution_count": 110,
   "metadata": {
    "scrolled": true
   },
   "outputs": [
    {
     "name": "stdout",
     "output_type": "stream",
     "text": [
      "                            OLS Regression Results                            \n",
      "==============================================================================\n",
      "Dep. Variable:                  PRICE   R-squared:                       0.681\n",
      "Model:                            OLS   Adj. R-squared:                  0.679\n",
      "Method:                 Least Squares   F-statistic:                     268.0\n",
      "Date:                Tue, 02 Apr 2019   Prob (F-statistic):          5.84e-123\n",
      "Time:                        20:50:48   Log-Likelihood:                -1550.8\n",
      "No. Observations:                 506   AIC:                             3112.\n",
      "Df Residuals:                     501   BIC:                             3133.\n",
      "Df Model:                           4                                         \n",
      "Covariance Type:            nonrobust                                         \n",
      "==============================================================================\n",
      "                 coef    std err          t      P>|t|      [0.025      0.975]\n",
      "------------------------------------------------------------------------------\n",
      "Intercept     16.9233      3.976      4.257      0.000       9.112      24.734\n",
      "CRIM          -0.0654      0.031     -2.124      0.034      -0.126      -0.005\n",
      "RM             4.6186      0.427     10.812      0.000       3.779       5.458\n",
      "PTRATIO       -0.8897      0.119     -7.487      0.000      -1.123      -0.656\n",
      "LSTAT         -0.5343      0.046    -11.708      0.000      -0.624      -0.445\n",
      "==============================================================================\n",
      "Omnibus:                      219.815   Durbin-Watson:                   0.887\n",
      "Prob(Omnibus):                  0.000   Jarque-Bera (JB):             1220.115\n",
      "Skew:                           1.840   Prob(JB):                    1.14e-265\n",
      "Kurtosis:                       9.658   Cond. No.                         417.\n",
      "==============================================================================\n",
      "\n",
      "Warnings:\n",
      "[1] Standard Errors assume that the covariance matrix of the errors is correctly specified.\n"
     ]
    }
   ],
   "source": [
    "m2 = ols('PRICE ~ CRIM + RM + PTRATIO + LSTAT',bos).fit()\n",
    "print(m2.summary())"
   ]
  },
  {
   "cell_type": "code",
   "execution_count": 114,
   "metadata": {},
   "outputs": [],
   "source": [
    "DFfull = 506 - 4 - 1\n",
    "DFred = 506 - 3 - 1 \n",
    "F = ((m.ssr - m2.ssr) / (DFred - DFfull)) / (m2.ssr / DFfull)"
   ]
  },
  {
   "cell_type": "code",
   "execution_count": 115,
   "metadata": {},
   "outputs": [
    {
     "data": {
      "text/plain": [
       "137.08517689561597"
      ]
     },
     "execution_count": 115,
     "metadata": {},
     "output_type": "execute_result"
    }
   ],
   "source": [
    "F"
   ]
  },
  {
   "cell_type": "markdown",
   "metadata": {},
   "source": [
    "The AIC value has decreased from 3232 to 3112 when we added the LSTAT variable which indicates that this is a better fitting model. Additionally, we preformed an F-test which resulted in 137.1 which is much higher than 1.0, indicating that the more complicated model (with four variables) is correct."
   ]
  },
  {
   "cell_type": "markdown",
   "metadata": {},
   "source": [
    "\n",
    "## Part 5: Evaluating the Model via Model Assumptions and Other Issues\n",
    "***\n",
    "Linear regression makes several assumptions. It is always best to check that these assumptions are valid after fitting a linear regression model.\n",
    "\n",
    "<div class=\"span5 alert alert-danger\">\n",
    "<ul>\n",
    "  <li>**Linearity**. The dependent variable $Y$ is a linear combination of the regression coefficients and the independent variables $X$. This can be verified with a scatterplot of each $X$ vs. $Y$ and plotting correlations among $X$. Nonlinearity can sometimes be resolved by [transforming](https://onlinecourses.science.psu.edu/stat501/node/318) one or more independent variables, the dependent variable, or both. In other cases, a [generalized linear model](https://en.wikipedia.org/wiki/Generalized_linear_model) or a [nonlinear model](https://en.wikipedia.org/wiki/Nonlinear_regression) may be warranted.</li>\n",
    "  <li>**Constant standard deviation**. The SD of the dependent variable $Y$ should be constant for different values of X. We can check this by plotting each $X$ against $Y$ and verifying that there is no \"funnel\" shape showing data points fanning out as $X$ increases or decreases. Some techniques for dealing with non-constant variance include weighted least squares (WLS), [robust standard errors](https://en.wikipedia.org/wiki/Heteroscedasticity-consistent_standard_errors), or variance stabilizing transformations.\n",
    "    </li>\n",
    "  <li> **Normal distribution for errors**.  The $\\epsilon$ term we discussed at the beginning are assumed to be normally distributed. This can be verified with a fitted values vs. residuals plot and verifying that there is no pattern, and with a quantile plot.\n",
    "  $$ \\epsilon_i \\sim N(0, \\sigma^2)$$\n",
    "Sometimes the distributions of responses $Y$ may not be normally distributed at any given value of $X$.  e.g. skewed positively or negatively. </li>\n",
    "<li> **Independent errors**.  The observations are assumed to be obtained independently.\n",
    "    <ul>\n",
    "        <li>e.g. Observations across time may be correlated\n",
    "    </ul>\n",
    "</li>\n",
    "</ul>  \n",
    "\n",
    "</div>\n",
    "\n",
    "There are some other issues that are important investigate with linear regression models.\n",
    "\n",
    "<div class=\"span5 alert alert-danger\">\n",
    "<ul>\n",
    "  <li>**Correlated Predictors:** Care should be taken to make sure that the independent variables in a regression model are not too highly correlated. Correlated predictors typically do not majorly affect prediction, but do inflate standard errors of coefficients making interpretation unreliable. Common solutions are dropping the least important variables involved in the correlations, using regularlization, or, when many predictors are highly correlated, considering a dimension reduction technique such as principal component analysis (PCA).\n",
    "  <li>**Influential Points:** Data points that have undue influence on the regression model. These points can be high leverage points or outliers. Such points are typically removed and the regression model rerun.\n",
    "</ul>\n",
    "</div>\n"
   ]
  },
  {
   "cell_type": "markdown",
   "metadata": {},
   "source": [
    "<div class=\"span5 alert alert-info\">\n",
    "<h3>Part 5 Checkup Exercises</h3>\n",
    "\n",
    "<p>Take the reduced model from Part 3 to answer the following exercises. Take a look at [this blog post](http://mpastell.com/2013/04/19/python_regression/) for more information on using statsmodels to construct these plots.</p>\n",
    "    \n",
    "<p><b>Exercise:</b> Construct a fitted values versus residuals plot. What does the plot tell you? Are there any violations of the model assumptions?</p>\n",
    "\n",
    "<p><b>Exercise:</b> Construct a quantile plot of the residuals. What does the plot tell you?</p>\n",
    "\n",
    "<p><b>Exercise:</b> What are some advantages and disadvantages of the fitted vs. residual and quantile plot compared to each other?</p>\n",
    "\n",
    "<p><b>Exercise:</b> Identify any outliers (if any) in your model and write a story describing what these outliers might represent.</p>\n",
    "\n",
    "<p><b>Exercise:</b> Construct a leverage plot and identify high leverage points in the model. Write a story explaining possible reasons for the high leverage points.</p>\n",
    "\n",
    "<p><b>Exercise:</b> Remove the outliers and high leverage points from your model and run the regression again. How do the results change?</p>\n",
    "</div>"
   ]
  },
  {
   "cell_type": "markdown",
   "metadata": {
    "collapsed": true
   },
   "source": [
    "#### Exercise: Construct a fitted values versus residuals plot. What does the plot tell you? Are there any violations of the model assumptions?\n"
   ]
  },
  {
   "cell_type": "code",
   "execution_count": 126,
   "metadata": {},
   "outputs": [
    {
     "data": {
      "text/plain": [
       "Text(0.5, 1.0, 'Relationship between predicted and actual price')"
      ]
     },
     "execution_count": 126,
     "metadata": {},
     "output_type": "execute_result"
    },
    {
     "data": {
      "image/png": "[encoded data removed]",
      "text/plain": [
       "<Figure size 432x288 with 1 Axes>"
      ]
     },
     "metadata": {
      "needs_background": "light"
     },
     "output_type": "display_data"
    }
   ],
   "source": [
    "plt.scatter(m.fittedvalues, bos.PRICE)\n",
    "plt.xlabel(\"Predicted Price\")\n",
    "plt.ylabel(\"Housing Price\")\n",
    "plt.title(\"Relationship between predicted and actual price\")"
   ]
  },
  {
   "cell_type": "code",
   "execution_count": 120,
   "metadata": {},
   "outputs": [
    {
     "data": {
      "image/png": "[encoded data removed]",
      "text/plain": [
       "<Figure size 432x288 with 1 Axes>"
      ]
     },
     "metadata": {
      "needs_background": "light"
     },
     "output_type": "display_data"
    }
   ],
   "source": [
    "plt.plot(m.fittedvalues, m.resid, marker='.', linestyle='none')\n",
    "plt.xlabel('Fitted values')\n",
    "plt.ylabel('Residual Values')\n",
    "plt.show()"
   ]
  },
  {
   "cell_type": "markdown",
   "metadata": {},
   "source": [
    "The fitted vs residuals plot is typically used to detect non-linearity, unequal error variances, and outliers. The obvious points that stand out from the scatter plots are the ones that form a straight line. These points correspond to outliers and can be seen on both graphs above. From the residuals vs fitted plot we can see that the points bounce randomly around the zero line (with the exception of the outliers). This suggests that the relationship is linear if outliers are removed, we'll take a look at outliers next. As far as enequal error variances, the points seem to be in a horizontal band around the zero line, which suggests the variances of the error terms are equal."
   ]
  },
  {
   "cell_type": "markdown",
   "metadata": {},
   "source": [
    "#### Exercise: Construct a quantile plot of the residuals. What does the plot tell you?"
   ]
  },
  {
   "cell_type": "code",
   "execution_count": 125,
   "metadata": {},
   "outputs": [
    {
     "data": {
      "text/plain": [
       "((array([-2.99573567e+00, -2.71411028e+00, -2.55577619e+00, -2.44351800e+00,\n",
       "         -2.35556494e+00, -2.28276382e+00, -2.22036495e+00, -2.16557440e+00,\n",
       "         -2.11660431e+00, -2.07223893e+00, -2.03161265e+00, -1.99408648e+00,\n",
       "         -1.95917475e+00, -1.92649942e+00, -1.89576017e+00, -1.86671438e+00,\n",
       "         -1.83916307e+00, -1.81294098e+00, -1.78790928e+00, -1.76395019e+00,\n",
       "         -1.74096288e+00, -1.71886034e+00, -1.69756695e+00, -1.67701655e+00,\n",
       "         -1.65715093e+00, -1.63791855e+00, -1.61927361e+00, -1.60117517e+00,\n",
       "         -1.58358651e+00, -1.56647453e+00, -1.54980933e+00, -1.53356377e+00,\n",
       "         -1.51771316e+00, -1.50223493e+00, -1.48710847e+00, -1.47231481e+00,\n",
       "         -1.45783653e+00, -1.44365756e+00, -1.42976302e+00, -1.41613915e+00,\n",
       "         -1.40277318e+00, -1.38965322e+00, -1.37676820e+00, -1.36410778e+00,\n",
       "         -1.35166231e+00, -1.33942275e+00, -1.32738062e+00, -1.31552796e+00,\n",
       "         -1.30385728e+00, -1.29236155e+00, -1.28103411e+00, -1.26986869e+00,\n",
       "         -1.25885938e+00, -1.24800057e+00, -1.23728696e+00, -1.22671351e+00,\n",
       "         -1.21627546e+00, -1.20596826e+00, -1.19578762e+00, -1.18572943e+00,\n",
       "         -1.17578979e+00, -1.16596497e+00, -1.15625143e+00, -1.14664578e+00,\n",
       "         -1.13714478e+00, -1.12774533e+00, -1.11844448e+00, -1.10923938e+00,\n",
       "         -1.10012733e+00, -1.09110572e+00, -1.08217204e+00, -1.07332392e+00,\n",
       "         -1.06455903e+00, -1.05587517e+00, -1.04727022e+00, -1.03874212e+00,\n",
       "         -1.03028890e+00, -1.02190867e+00, -1.01359960e+00, -1.00535993e+00,\n",
       "         -9.97187950e-01, -9.89082030e-01, -9.81040583e-01, -9.73062080e-01,\n",
       "         -9.65145042e-01, -9.57288042e-01, -9.49489697e-01, -9.41748672e-01,\n",
       "         -9.34063672e-01, -9.26433446e-01, -9.18856778e-01, -9.11332495e-01,\n",
       "         -9.03859457e-01, -8.96436557e-01, -8.89062726e-01, -8.81736921e-01,\n",
       "         -8.74458134e-01, -8.67225385e-01, -8.60037720e-01, -8.52894215e-01,\n",
       "         -8.45793969e-01, -8.38736110e-01, -8.31719785e-01, -8.24744168e-01,\n",
       "         -8.17808453e-01, -8.10911857e-01, -8.04053616e-01, -7.97232988e-01,\n",
       "         -7.90449248e-01, -7.83701690e-01, -7.76989626e-01, -7.70312386e-01,\n",
       "         -7.63669315e-01, -7.57059776e-01, -7.50483145e-01, -7.43938816e-01,\n",
       "         -7.37426194e-01, -7.30944700e-01, -7.24493769e-01, -7.18072847e-01,\n",
       "         -7.11681394e-01, -7.05318883e-01, -6.98984797e-01, -6.92678632e-01,\n",
       "         -6.86399893e-01, -6.80148098e-01, -6.73922775e-01, -6.67723460e-01,\n",
       "         -6.61549701e-01, -6.55401055e-01, -6.49277088e-01, -6.43177375e-01,\n",
       "         -6.37101499e-01, -6.31049052e-01, -6.25019633e-01, -6.19012852e-01,\n",
       "         -6.13028323e-01, -6.07065669e-01, -6.01124520e-01, -5.95204515e-01,\n",
       "         -5.89305296e-01, -5.83426515e-01, -5.77567828e-01, -5.71728899e-01,\n",
       "         -5.65909397e-01, -5.60108998e-01, -5.54327383e-01, -5.48564239e-01,\n",
       "         -5.42819257e-01, -5.37092135e-01, -5.31382576e-01, -5.25690287e-01,\n",
       "         -5.20014981e-01, -5.14356375e-01, -5.08714191e-01, -5.03088156e-01,\n",
       "         -4.97477999e-01, -4.91883457e-01, -4.86304268e-01, -4.80740175e-01,\n",
       "         -4.75190926e-01, -4.69656272e-01, -4.64135967e-01, -4.58629771e-01,\n",
       "         -4.53137444e-01, -4.47658752e-01, -4.42193465e-01, -4.36741354e-01,\n",
       "         -4.31302195e-01, -4.25875766e-01, -4.20461848e-01, -4.15060226e-01,\n",
       "         -4.09670688e-01, -4.04293024e-01, -3.98927026e-01, -3.93572490e-01,\n",
       "         -3.88229215e-01, -3.82897001e-01, -3.77575652e-01, -3.72264973e-01,\n",
       "         -3.66964772e-01, -3.61674861e-01, -3.56395050e-01, -3.51125157e-01,\n",
       "         -3.45864997e-01, -3.40614389e-01, -3.35373155e-01, -3.30141118e-01,\n",
       "         -3.24918102e-01, -3.19703936e-01, -3.14498447e-01, -3.09301466e-01,\n",
       "         -3.04112825e-01, -2.98932359e-01, -2.93759903e-01, -2.88595295e-01,\n",
       "         -2.83438373e-01, -2.78288978e-01, -2.73146951e-01, -2.68012137e-01,\n",
       "         -2.62884379e-01, -2.57763524e-01, -2.52649420e-01, -2.47541915e-01,\n",
       "         -2.42440860e-01, -2.37346105e-01, -2.32257504e-01, -2.27174909e-01,\n",
       "         -2.22098177e-01, -2.17027162e-01, -2.11961722e-01, -2.06901715e-01,\n",
       "         -2.01846999e-01, -1.96797436e-01, -1.91752886e-01, -1.86713211e-01,\n",
       "         -1.81678273e-01, -1.76647937e-01, -1.71622067e-01, -1.66600528e-01,\n",
       "         -1.61583187e-01, -1.56569910e-01, -1.51560566e-01, -1.46555021e-01,\n",
       "         -1.41553146e-01, -1.36554810e-01, -1.31559883e-01, -1.26568236e-01,\n",
       "         -1.21579741e-01, -1.16594270e-01, -1.11611695e-01, -1.06631890e-01,\n",
       "         -1.01654727e-01, -9.66800810e-02, -9.17078267e-02, -8.67378386e-02,\n",
       "         -8.17699921e-02, -7.68041629e-02, -7.18402269e-02, -6.68780605e-02,\n",
       "         -6.19175402e-02, -5.69585432e-02, -5.20009464e-02, -4.70446274e-02,\n",
       "         -4.20894637e-02, -3.71353333e-02, -3.21821142e-02, -2.72296845e-02,\n",
       "         -2.22779226e-02, -1.73267069e-02, -1.23759159e-02, -7.42542823e-03,\n",
       "         -2.47512252e-03,  2.47512252e-03,  7.42542823e-03,  1.23759159e-02,\n",
       "          1.73267069e-02,  2.22779226e-02,  2.72296845e-02,  3.21821142e-02,\n",
       "          3.71353333e-02,  4.20894637e-02,  4.70446274e-02,  5.20009464e-02,\n",
       "          5.69585432e-02,  6.19175402e-02,  6.68780605e-02,  7.18402269e-02,\n",
       "          7.68041629e-02,  8.17699921e-02,  8.67378386e-02,  9.17078267e-02,\n",
       "          9.66800810e-02,  1.01654727e-01,  1.06631890e-01,  1.11611695e-01,\n",
       "          1.16594270e-01,  1.21579741e-01,  1.26568236e-01,  1.31559883e-01,\n",
       "          1.36554810e-01,  1.41553146e-01,  1.46555021e-01,  1.51560566e-01,\n",
       "          1.56569910e-01,  1.61583187e-01,  1.66600528e-01,  1.71622067e-01,\n",
       "          1.76647937e-01,  1.81678273e-01,  1.86713211e-01,  1.91752886e-01,\n",
       "          1.96797436e-01,  2.01846999e-01,  2.06901715e-01,  2.11961722e-01,\n",
       "          2.17027162e-01,  2.22098177e-01,  2.27174909e-01,  2.32257504e-01,\n",
       "          2.37346105e-01,  2.42440860e-01,  2.47541915e-01,  2.52649420e-01,\n",
       "          2.57763524e-01,  2.62884379e-01,  2.68012137e-01,  2.73146951e-01,\n",
       "          2.78288978e-01,  2.83438373e-01,  2.88595295e-01,  2.93759903e-01,\n",
       "          2.98932359e-01,  3.04112825e-01,  3.09301466e-01,  3.14498447e-01,\n",
       "          3.19703936e-01,  3.24918102e-01,  3.30141118e-01,  3.35373155e-01,\n",
       "          3.40614389e-01,  3.45864997e-01,  3.51125157e-01,  3.56395050e-01,\n",
       "          3.61674861e-01,  3.66964772e-01,  3.72264973e-01,  3.77575652e-01,\n",
       "          3.82897001e-01,  3.88229215e-01,  3.93572490e-01,  3.98927026e-01,\n",
       "          4.04293024e-01,  4.09670688e-01,  4.15060226e-01,  4.20461848e-01,\n",
       "          4.25875766e-01,  4.31302195e-01,  4.36741354e-01,  4.42193465e-01,\n",
       "          4.47658752e-01,  4.53137444e-01,  4.58629771e-01,  4.64135967e-01,\n",
       "          4.69656272e-01,  4.75190926e-01,  4.80740175e-01,  4.86304268e-01,\n",
       "          4.91883457e-01,  4.97477999e-01,  5.03088156e-01,  5.08714191e-01,\n",
       "          5.14356375e-01,  5.20014981e-01,  5.25690287e-01,  5.31382576e-01,\n",
       "          5.37092135e-01,  5.42819257e-01,  5.48564239e-01,  5.54327383e-01,\n",
       "          5.60108998e-01,  5.65909397e-01,  5.71728899e-01,  5.77567828e-01,\n",
       "          5.83426515e-01,  5.89305296e-01,  5.95204515e-01,  6.01124520e-01,\n",
       "          6.07065669e-01,  6.13028323e-01,  6.19012852e-01,  6.25019633e-01,\n",
       "          6.31049052e-01,  6.37101499e-01,  6.43177375e-01,  6.49277088e-01,\n",
       "          6.55401055e-01,  6.61549701e-01,  6.67723460e-01,  6.73922775e-01,\n",
       "          6.80148098e-01,  6.86399893e-01,  6.92678632e-01,  6.98984797e-01,\n",
       "          7.05318883e-01,  7.11681394e-01,  7.18072847e-01,  7.24493769e-01,\n",
       "          7.30944700e-01,  7.37426194e-01,  7.43938816e-01,  7.50483145e-01,\n",
       "          7.57059776e-01,  7.63669315e-01,  7.70312386e-01,  7.76989626e-01,\n",
       "          7.83701690e-01,  7.90449248e-01,  7.97232988e-01,  8.04053616e-01,\n",
       "          8.10911857e-01,  8.17808453e-01,  8.24744168e-01,  8.31719785e-01,\n",
       "          8.38736110e-01,  8.45793969e-01,  8.52894215e-01,  8.60037720e-01,\n",
       "          8.67225385e-01,  8.74458134e-01,  8.81736921e-01,  8.89062726e-01,\n",
       "          8.96436557e-01,  9.03859457e-01,  9.11332495e-01,  9.18856778e-01,\n",
       "          9.26433446e-01,  9.34063672e-01,  9.41748672e-01,  9.49489697e-01,\n",
       "          9.57288042e-01,  9.65145042e-01,  9.73062080e-01,  9.81040583e-01,\n",
       "          9.89082030e-01,  9.97187950e-01,  1.00535993e+00,  1.01359960e+00,\n",
       "          1.02190867e+00,  1.03028890e+00,  1.03874212e+00,  1.04727022e+00,\n",
       "          1.05587517e+00,  1.06455903e+00,  1.07332392e+00,  1.08217204e+00,\n",
       "          1.09110572e+00,  1.10012733e+00,  1.10923938e+00,  1.11844448e+00,\n",
       "          1.12774533e+00,  1.13714478e+00,  1.14664578e+00,  1.15625143e+00,\n",
       "          1.16596497e+00,  1.17578979e+00,  1.18572943e+00,  1.19578762e+00,\n",
       "          1.20596826e+00,  1.21627546e+00,  1.22671351e+00,  1.23728696e+00,\n",
       "          1.24800057e+00,  1.25885938e+00,  1.26986869e+00,  1.28103411e+00,\n",
       "          1.29236155e+00,  1.30385728e+00,  1.31552796e+00,  1.32738062e+00,\n",
       "          1.33942275e+00,  1.35166231e+00,  1.36410778e+00,  1.37676820e+00,\n",
       "          1.38965322e+00,  1.40277318e+00,  1.41613915e+00,  1.42976302e+00,\n",
       "          1.44365756e+00,  1.45783653e+00,  1.47231481e+00,  1.48710847e+00,\n",
       "          1.50223493e+00,  1.51771316e+00,  1.53356377e+00,  1.54980933e+00,\n",
       "          1.56647453e+00,  1.58358651e+00,  1.60117517e+00,  1.61927361e+00,\n",
       "          1.63791855e+00,  1.65715093e+00,  1.67701655e+00,  1.69756695e+00,\n",
       "          1.71886034e+00,  1.74096288e+00,  1.76395019e+00,  1.78790928e+00,\n",
       "          1.81294098e+00,  1.83916307e+00,  1.86671438e+00,  1.89576017e+00,\n",
       "          1.92649942e+00,  1.95917475e+00,  1.99408648e+00,  2.03161265e+00,\n",
       "          2.07223893e+00,  2.11660431e+00,  2.16557440e+00,  2.22036495e+00,\n",
       "          2.28276382e+00,  2.35556494e+00,  2.44351800e+00,  2.55577619e+00,\n",
       "          2.71411028e+00,  2.99573567e+00]),\n",
       "  array([-1.72123826e+01, -1.53578259e+01, -1.45673310e+01, -1.23909829e+01,\n",
       "         -1.18612166e+01, -1.17205487e+01, -1.16033948e+01, -1.13862814e+01,\n",
       "         -1.06973806e+01, -1.01536014e+01, -1.00973084e+01, -1.00579895e+01,\n",
       "         -9.98671853e+00, -9.97831340e+00, -9.88212590e+00, -9.85354681e+00,\n",
       "         -9.29243615e+00, -9.17562489e+00, -8.85172380e+00, -8.70723877e+00,\n",
       "         -8.61802202e+00, -8.59245733e+00, -8.47751622e+00, -8.26176480e+00,\n",
       "         -8.22187246e+00, -8.22138143e+00, -8.10759721e+00, -8.05138113e+00,\n",
       "         -7.89651238e+00, -7.84202524e+00, -7.82994885e+00, -7.82587978e+00,\n",
       "         -7.75430580e+00, -7.62372960e+00, -7.36722347e+00, -7.09430110e+00,\n",
       "         -7.09078905e+00, -7.08088958e+00, -7.06337668e+00, -6.98862804e+00,\n",
       "         -6.76298936e+00, -6.70264403e+00, -6.70176498e+00, -6.61940944e+00,\n",
       "         -6.52520876e+00, -6.40222086e+00, -6.29035455e+00, -6.25477219e+00,\n",
       "         -6.21502178e+00, -6.03926319e+00, -5.89221849e+00, -5.88878684e+00,\n",
       "         -5.79700854e+00, -5.74933169e+00, -5.69431493e+00, -5.66674616e+00,\n",
       "         -5.63484321e+00, -5.63476012e+00, -5.63232256e+00, -5.47287394e+00,\n",
       "         -5.46195342e+00, -5.44368014e+00, -5.39372777e+00, -5.38799396e+00,\n",
       "         -5.36137101e+00, -5.35430219e+00, -5.34130808e+00, -5.32924875e+00,\n",
       "         -5.29603307e+00, -5.22205348e+00, -5.21929818e+00, -5.18060182e+00,\n",
       "         -5.15951322e+00, -5.11546909e+00, -5.03953132e+00, -5.02282796e+00,\n",
       "         -4.82324941e+00, -4.80542100e+00, -4.79014801e+00, -4.72952643e+00,\n",
       "         -4.72338583e+00, -4.66020909e+00, -4.59779007e+00, -4.57733166e+00,\n",
       "         -4.41587779e+00, -4.35562771e+00, -4.33016742e+00, -4.31086320e+00,\n",
       "         -4.25030668e+00, -4.20501927e+00, -4.16453254e+00, -4.08989900e+00,\n",
       "         -4.07601801e+00, -4.04670451e+00, -3.97494294e+00, -3.83078699e+00,\n",
       "         -3.80731365e+00, -3.80227812e+00, -3.75409012e+00, -3.73668566e+00,\n",
       "         -3.72975918e+00, -3.71185766e+00, -3.65812202e+00, -3.65378707e+00,\n",
       "         -3.63036214e+00, -3.62584956e+00, -3.62502277e+00, -3.57839376e+00,\n",
       "         -3.55629717e+00, -3.55557634e+00, -3.54616504e+00, -3.40134447e+00,\n",
       "         -3.40124096e+00, -3.37539733e+00, -3.36779732e+00, -3.35164178e+00,\n",
       "         -3.32513333e+00, -3.31930493e+00, -3.28324596e+00, -3.27229388e+00,\n",
       "         -3.21030197e+00, -3.20123728e+00, -3.17271885e+00, -3.10068284e+00,\n",
       "         -3.03949037e+00, -3.03470890e+00, -3.01763353e+00, -3.00733414e+00,\n",
       "         -2.99037782e+00, -2.98738163e+00, -2.95212644e+00, -2.94957527e+00,\n",
       "         -2.94408444e+00, -2.91296320e+00, -2.90849380e+00, -2.90042848e+00,\n",
       "         -2.87922664e+00, -2.85484917e+00, -2.83886401e+00, -2.80292293e+00,\n",
       "         -2.79788538e+00, -2.73216583e+00, -2.71106730e+00, -2.69944107e+00,\n",
       "         -2.68032855e+00, -2.67494464e+00, -2.60873676e+00, -2.59441202e+00,\n",
       "         -2.54865670e+00, -2.54703671e+00, -2.51842216e+00, -2.49549966e+00,\n",
       "         -2.47134648e+00, -2.40922933e+00, -2.40647634e+00, -2.36856790e+00,\n",
       "         -2.36668369e+00, -2.34791430e+00, -2.34187280e+00, -2.33165176e+00,\n",
       "         -2.32504352e+00, -2.28887897e+00, -2.27800034e+00, -2.25841361e+00,\n",
       "         -2.23040227e+00, -2.23032460e+00, -2.22022831e+00, -2.17855973e+00,\n",
       "         -2.17739878e+00, -2.14864367e+00, -2.13660906e+00, -2.11621473e+00,\n",
       "         -2.08983059e+00, -1.97559617e+00, -1.94822733e+00, -1.94582534e+00,\n",
       "         -1.92023275e+00, -1.86809363e+00, -1.84782113e+00, -1.82932640e+00,\n",
       "         -1.82618840e+00, -1.82513053e+00, -1.79955050e+00, -1.75200107e+00,\n",
       "         -1.74212203e+00, -1.72848301e+00, -1.70379200e+00, -1.69997424e+00,\n",
       "         -1.63409290e+00, -1.61111556e+00, -1.60255194e+00, -1.54876328e+00,\n",
       "         -1.54113563e+00, -1.54009108e+00, -1.49603233e+00, -1.49186894e+00,\n",
       "         -1.48687901e+00, -1.44022180e+00, -1.43936083e+00, -1.42114952e+00,\n",
       "         -1.41947158e+00, -1.41193353e+00, -1.36185721e+00, -1.24971553e+00,\n",
       "         -1.23042328e+00, -1.16123615e+00, -1.12666186e+00, -1.12643829e+00,\n",
       "         -1.11890637e+00, -1.10131217e+00, -1.07767403e+00, -1.05098884e+00,\n",
       "         -9.84570576e-01, -9.68837312e-01, -9.68647800e-01, -9.62883947e-01,\n",
       "         -9.52298643e-01, -9.27911983e-01, -9.26381926e-01, -9.04018346e-01,\n",
       "         -8.87197101e-01, -8.84022626e-01, -8.71007423e-01, -8.69032760e-01,\n",
       "         -8.29056868e-01, -8.23683464e-01, -8.19396907e-01, -8.04179850e-01,\n",
       "         -7.98893039e-01, -7.94329144e-01, -7.90221399e-01, -7.82523466e-01,\n",
       "         -7.70215467e-01, -7.39859910e-01, -7.19353348e-01, -7.16759819e-01,\n",
       "         -7.09757446e-01, -6.61785042e-01, -6.53849246e-01, -6.43868480e-01,\n",
       "         -5.69329358e-01, -5.65377515e-01, -5.58841014e-01, -5.45375468e-01,\n",
       "         -5.31100289e-01, -5.02385325e-01, -5.01105117e-01, -4.73012358e-01,\n",
       "         -4.39649860e-01, -4.15041303e-01, -3.75737315e-01, -3.58150798e-01,\n",
       "         -3.43192588e-01, -3.35550683e-01, -3.33442105e-01, -2.73113723e-01,\n",
       "         -2.25993384e-01, -1.98268004e-01, -1.87565534e-01, -1.84958231e-01,\n",
       "         -1.76437903e-01, -1.65968356e-01, -1.53260850e-01, -1.48872723e-01,\n",
       "         -1.19198758e-01, -1.12657183e-01, -9.05129226e-02, -8.57704135e-02,\n",
       "         -8.47820045e-02, -2.57550694e-02,  2.77139068e-02,  1.05000456e-01,\n",
       "          1.18287863e-01,  1.29478865e-01,  1.62633845e-01,  1.96467543e-01,\n",
       "          2.20714338e-01,  2.26472009e-01,  2.27076044e-01,  2.51871873e-01,\n",
       "          2.66844239e-01,  2.81516814e-01,  2.90807735e-01,  3.18234222e-01,\n",
       "          3.20624909e-01,  3.23463538e-01,  3.35871622e-01,  3.37835053e-01,\n",
       "          3.40928178e-01,  3.43339106e-01,  3.51063994e-01,  3.73165900e-01,\n",
       "          4.05379448e-01,  4.09162898e-01,  4.13525509e-01,  4.18337930e-01,\n",
       "          4.56525204e-01,  4.81582091e-01,  5.00653957e-01,  5.71277156e-01,\n",
       "          6.04943704e-01,  6.15560740e-01,  6.77321866e-01,  7.04304007e-01,\n",
       "          7.12025568e-01,  7.32305230e-01,  7.41637552e-01,  7.63981219e-01,\n",
       "          7.64613769e-01,  7.64745988e-01,  7.99443463e-01,  8.00427084e-01,\n",
       "          8.10852446e-01,  8.16979556e-01,  8.18903379e-01,  8.21051685e-01,\n",
       "          8.34397525e-01,  8.36936046e-01,  8.54543700e-01,  8.64400656e-01,\n",
       "          9.09043617e-01,  9.31323677e-01,  9.71045739e-01,  9.73310461e-01,\n",
       "          1.01276906e+00,  1.02285858e+00,  1.05453643e+00,  1.06761186e+00,\n",
       "          1.07767403e+00,  1.08436309e+00,  1.10346568e+00,  1.12782820e+00,\n",
       "          1.13135378e+00,  1.16634115e+00,  1.16692677e+00,  1.19008123e+00,\n",
       "          1.20553479e+00,  1.20589043e+00,  1.25536938e+00,  1.27233503e+00,\n",
       "          1.27476774e+00,  1.38505391e+00,  1.39926888e+00,  1.40850869e+00,\n",
       "          1.43196537e+00,  1.48922908e+00,  1.50970785e+00,  1.51670647e+00,\n",
       "          1.52811219e+00,  1.54392836e+00,  1.54664203e+00,  1.58165500e+00,\n",
       "          1.58999759e+00,  1.64389842e+00,  1.68816883e+00,  1.70308037e+00,\n",
       "          1.72469243e+00,  1.74699668e+00,  1.74701003e+00,  1.77616657e+00,\n",
       "          1.78272553e+00,  1.79476233e+00,  1.79739899e+00,  1.91231859e+00,\n",
       "          1.95376299e+00,  1.96257870e+00,  1.98822895e+00,  2.00108489e+00,\n",
       "          2.00260259e+00,  2.05248475e+00,  2.05838073e+00,  2.06861434e+00,\n",
       "          2.07036460e+00,  2.09697644e+00,  2.13803921e+00,  2.15232397e+00,\n",
       "          2.15731654e+00,  2.18086228e+00,  2.18546705e+00,  2.18722789e+00,\n",
       "          2.20108122e+00,  2.21493431e+00,  2.22665708e+00,  2.23727382e+00,\n",
       "          2.24863161e+00,  2.26823100e+00,  2.31482536e+00,  2.41422071e+00,\n",
       "          2.41979245e+00,  2.44372268e+00,  2.45418289e+00,  2.49016189e+00,\n",
       "          2.63278249e+00,  2.66801900e+00,  2.67914667e+00,  2.73265563e+00,\n",
       "          2.75754035e+00,  2.80244441e+00,  2.85072993e+00,  2.88127315e+00,\n",
       "          2.93729687e+00,  2.98533091e+00,  2.98773831e+00,  3.02016207e+00,\n",
       "          3.06897194e+00,  3.08913564e+00,  3.10070336e+00,  3.13003715e+00,\n",
       "          3.13499244e+00,  3.16104712e+00,  3.28783043e+00,  3.31426579e+00,\n",
       "          3.33986451e+00,  3.34080186e+00,  3.36323519e+00,  3.47124267e+00,\n",
       "          3.52191581e+00,  3.53162778e+00,  3.60666178e+00,  3.62150502e+00,\n",
       "          3.62906240e+00,  3.68658099e+00,  3.71244497e+00,  3.73660571e+00,\n",
       "          3.83782007e+00,  3.88493024e+00,  3.91264832e+00,  4.08596449e+00,\n",
       "          4.17470042e+00,  4.20071949e+00,  4.21269647e+00,  4.34294208e+00,\n",
       "          4.41766645e+00,  4.60153588e+00,  4.61033518e+00,  4.62129106e+00,\n",
       "          4.72697413e+00,  4.72946542e+00,  4.82726426e+00,  4.84396409e+00,\n",
       "          4.86424464e+00,  4.88203699e+00,  4.91323549e+00,  4.92858743e+00,\n",
       "          4.98107683e+00,  4.98358580e+00,  5.07524978e+00,  5.12973406e+00,\n",
       "          5.19574441e+00,  5.21490050e+00,  5.23256548e+00,  5.34444688e+00,\n",
       "          5.34515330e+00,  5.59113028e+00,  5.65451767e+00,  5.71983776e+00,\n",
       "          5.75391400e+00,  5.75700139e+00,  5.83895857e+00,  5.92817354e+00,\n",
       "          6.01027498e+00,  6.14163665e+00,  6.15806974e+00,  6.49149930e+00,\n",
       "          6.56038273e+00,  6.60934935e+00,  6.83757077e+00,  6.95566223e+00,\n",
       "          6.99945987e+00,  7.08082329e+00,  7.46582921e+00,  7.52044103e+00,\n",
       "          7.59342859e+00,  7.69471958e+00,  7.96734498e+00,  7.99961653e+00,\n",
       "          8.10520212e+00,  8.46697407e+00,  8.72449942e+00,  8.89626036e+00,\n",
       "          9.10283294e+00,  9.36605523e+00,  9.40162367e+00,  9.44461056e+00,\n",
       "          9.48249444e+00,  9.64185771e+00,  9.80292684e+00,  1.05814040e+01,\n",
       "          1.06542612e+01,  1.09857626e+01,  1.10042852e+01,  1.18869156e+01,\n",
       "          1.20160840e+01,  1.20268009e+01,  1.25745112e+01,  1.32774968e+01,\n",
       "          1.39356975e+01,  1.41210647e+01,  1.46241074e+01,  2.23365288e+01,\n",
       "          2.45347609e+01,  2.68143719e+01,  2.71276665e+01,  3.09911600e+01,\n",
       "          3.33100827e+01,  3.92988356e+01])),\n",
       " (5.491467096573164, -2.8758725747760575e-14, 0.9336754285020272))"
      ]
     },
     "execution_count": 125,
     "metadata": {},
     "output_type": "execute_result"
    },
    {
     "data": {
      "image/png": "[encoded data removed]",
      "text/plain": [
       "<Figure size 432x288 with 1 Axes>"
      ]
     },
     "metadata": {
      "needs_background": "light"
     },
     "output_type": "display_data"
    }
   ],
   "source": [
    "from scipy.stats import probplot\n",
    "probplot(m.resid, plot=plt)"
   ]
  },
  {
   "cell_type": "markdown",
   "metadata": {},
   "source": [
    "The residuals seem to follow the normal distribution until the values are ~20 and above. This may be due to outliers."
   ]
  },
  {
   "cell_type": "markdown",
   "metadata": {},
   "source": [
    "#### Exercise: What are some advantages and disadvantages of the fitted vs. residual and quantile plot compared to each other?"
   ]
  },
  {
   "cell_type": "markdown",
   "metadata": {},
   "source": [
    "On the quantile plot we can see how the entire model's performance as it relates to a linear fit. It is easy to detec outliers and get clues on the entire model itself. The fitted vs residual plot provides us information on each individual point."
   ]
  },
  {
   "cell_type": "markdown",
   "metadata": {},
   "source": [
    "#### Exercise: Identify any outliers (if any) in your model and write a story describing what these outliers might represent."
   ]
  },
  {
   "cell_type": "code",
   "execution_count": 132,
   "metadata": {},
   "outputs": [],
   "source": [
    "outliers = m.resid > 20"
   ]
  },
  {
   "cell_type": "code",
   "execution_count": 133,
   "metadata": {},
   "outputs": [
    {
     "data": {
      "text/html": [
       "<div>\n",
       "<style scoped>\n",
       "    .dataframe tbody tr th:only-of-type {\n",
       "        vertical-align: middle;\n",
       "    }\n",
       "\n",
       "    .dataframe tbody tr th {\n",
       "        vertical-align: top;\n",
       "    }\n",
       "\n",
       "    .dataframe thead th {\n",
       "        text-align: right;\n",
       "    }\n",
       "</style>\n",
       "<table border=\"1\" class=\"dataframe\">\n",
       "  <thead>\n",
       "    <tr style=\"text-align: right;\">\n",
       "      <th></th>\n",
       "      <th>CRIM</th>\n",
       "      <th>ZN</th>\n",
       "      <th>INDUS</th>\n",
       "      <th>CHAS</th>\n",
       "      <th>NOX</th>\n",
       "      <th>RM</th>\n",
       "      <th>AGE</th>\n",
       "      <th>DIS</th>\n",
       "      <th>RAD</th>\n",
       "      <th>TAX</th>\n",
       "      <th>PTRATIO</th>\n",
       "      <th>B</th>\n",
       "      <th>LSTAT</th>\n",
       "      <th>PRICE</th>\n",
       "    </tr>\n",
       "  </thead>\n",
       "  <tbody>\n",
       "    <tr>\n",
       "      <th>365</th>\n",
       "      <td>4.55587</td>\n",
       "      <td>0.0</td>\n",
       "      <td>18.1</td>\n",
       "      <td>0.0</td>\n",
       "      <td>0.718</td>\n",
       "      <td>3.561</td>\n",
       "      <td>87.9</td>\n",
       "      <td>1.6132</td>\n",
       "      <td>24.0</td>\n",
       "      <td>666.0</td>\n",
       "      <td>20.2</td>\n",
       "      <td>354.70</td>\n",
       "      <td>7.12</td>\n",
       "      <td>27.5</td>\n",
       "    </tr>\n",
       "    <tr>\n",
       "      <th>367</th>\n",
       "      <td>13.52220</td>\n",
       "      <td>0.0</td>\n",
       "      <td>18.1</td>\n",
       "      <td>0.0</td>\n",
       "      <td>0.631</td>\n",
       "      <td>3.863</td>\n",
       "      <td>100.0</td>\n",
       "      <td>1.5106</td>\n",
       "      <td>24.0</td>\n",
       "      <td>666.0</td>\n",
       "      <td>20.2</td>\n",
       "      <td>131.42</td>\n",
       "      <td>13.33</td>\n",
       "      <td>23.1</td>\n",
       "    </tr>\n",
       "    <tr>\n",
       "      <th>368</th>\n",
       "      <td>4.89822</td>\n",
       "      <td>0.0</td>\n",
       "      <td>18.1</td>\n",
       "      <td>0.0</td>\n",
       "      <td>0.631</td>\n",
       "      <td>4.970</td>\n",
       "      <td>100.0</td>\n",
       "      <td>1.3325</td>\n",
       "      <td>24.0</td>\n",
       "      <td>666.0</td>\n",
       "      <td>20.2</td>\n",
       "      <td>375.52</td>\n",
       "      <td>3.26</td>\n",
       "      <td>50.0</td>\n",
       "    </tr>\n",
       "    <tr>\n",
       "      <th>369</th>\n",
       "      <td>5.66998</td>\n",
       "      <td>0.0</td>\n",
       "      <td>18.1</td>\n",
       "      <td>1.0</td>\n",
       "      <td>0.631</td>\n",
       "      <td>6.683</td>\n",
       "      <td>96.8</td>\n",
       "      <td>1.3567</td>\n",
       "      <td>24.0</td>\n",
       "      <td>666.0</td>\n",
       "      <td>20.2</td>\n",
       "      <td>375.33</td>\n",
       "      <td>3.73</td>\n",
       "      <td>50.0</td>\n",
       "    </tr>\n",
       "    <tr>\n",
       "      <th>370</th>\n",
       "      <td>6.53876</td>\n",
       "      <td>0.0</td>\n",
       "      <td>18.1</td>\n",
       "      <td>1.0</td>\n",
       "      <td>0.631</td>\n",
       "      <td>7.016</td>\n",
       "      <td>97.5</td>\n",
       "      <td>1.2024</td>\n",
       "      <td>24.0</td>\n",
       "      <td>666.0</td>\n",
       "      <td>20.2</td>\n",
       "      <td>392.05</td>\n",
       "      <td>2.96</td>\n",
       "      <td>50.0</td>\n",
       "    </tr>\n",
       "    <tr>\n",
       "      <th>371</th>\n",
       "      <td>9.23230</td>\n",
       "      <td>0.0</td>\n",
       "      <td>18.1</td>\n",
       "      <td>0.0</td>\n",
       "      <td>0.631</td>\n",
       "      <td>6.216</td>\n",
       "      <td>100.0</td>\n",
       "      <td>1.1691</td>\n",
       "      <td>24.0</td>\n",
       "      <td>666.0</td>\n",
       "      <td>20.2</td>\n",
       "      <td>366.15</td>\n",
       "      <td>9.53</td>\n",
       "      <td>50.0</td>\n",
       "    </tr>\n",
       "    <tr>\n",
       "      <th>372</th>\n",
       "      <td>8.26725</td>\n",
       "      <td>0.0</td>\n",
       "      <td>18.1</td>\n",
       "      <td>1.0</td>\n",
       "      <td>0.668</td>\n",
       "      <td>5.875</td>\n",
       "      <td>89.6</td>\n",
       "      <td>1.1296</td>\n",
       "      <td>24.0</td>\n",
       "      <td>666.0</td>\n",
       "      <td>20.2</td>\n",
       "      <td>347.88</td>\n",
       "      <td>8.88</td>\n",
       "      <td>50.0</td>\n",
       "    </tr>\n",
       "  </tbody>\n",
       "</table>\n",
       "</div>"
      ],
      "text/plain": [
       "         CRIM   ZN  INDUS  CHAS    NOX     RM    AGE     DIS   RAD    TAX  \\\n",
       "365   4.55587  0.0   18.1   0.0  0.718  3.561   87.9  1.6132  24.0  666.0   \n",
       "367  13.52220  0.0   18.1   0.0  0.631  3.863  100.0  1.5106  24.0  666.0   \n",
       "368   4.89822  0.0   18.1   0.0  0.631  4.970  100.0  1.3325  24.0  666.0   \n",
       "369   5.66998  0.0   18.1   1.0  0.631  6.683   96.8  1.3567  24.0  666.0   \n",
       "370   6.53876  0.0   18.1   1.0  0.631  7.016   97.5  1.2024  24.0  666.0   \n",
       "371   9.23230  0.0   18.1   0.0  0.631  6.216  100.0  1.1691  24.0  666.0   \n",
       "372   8.26725  0.0   18.1   1.0  0.668  5.875   89.6  1.1296  24.0  666.0   \n",
       "\n",
       "     PTRATIO       B  LSTAT  PRICE  \n",
       "365     20.2  354.70   7.12   27.5  \n",
       "367     20.2  131.42  13.33   23.1  \n",
       "368     20.2  375.52   3.26   50.0  \n",
       "369     20.2  375.33   3.73   50.0  \n",
       "370     20.2  392.05   2.96   50.0  \n",
       "371     20.2  366.15   9.53   50.0  \n",
       "372     20.2  347.88   8.88   50.0  "
      ]
     },
     "execution_count": 133,
     "metadata": {},
     "output_type": "execute_result"
    }
   ],
   "source": [
    "bos[outliers]"
   ]
  },
  {
   "cell_type": "markdown",
   "metadata": {},
   "source": [
    "The target variable immediately jumps out. We see that majority of prices are 50k. Taking a closer look at the other variable we note that crime per capita is relatively high while the price is also at a maximum, which doesn't make sense. This tells us that these points are misrepresented or entered erroneously. Additionally, a number of variables are identical (PTRATIO, TAX, RAD, NOX, INDUS) suggesting that these data points may be comming from the same town / location. "
   ]
  },
  {
   "cell_type": "markdown",
   "metadata": {},
   "source": [
    "#### Exercise: Construct a leverage plot and identify high leverage points in the model. Write a story explaining possible reasons for the high leverage points."
   ]
  },
  {
   "cell_type": "code",
   "execution_count": 134,
   "metadata": {},
   "outputs": [],
   "source": [
    "from statsmodels.graphics.regressionplots import plot_leverage_resid2"
   ]
  },
  {
   "cell_type": "code",
   "execution_count": 135,
   "metadata": {
    "scrolled": true
   },
   "outputs": [
    {
     "data": {
      "image/png": "[encoded data removed]",
      "text/plain": [
       "<Figure size 432x288 with 1 Axes>"
      ]
     },
     "metadata": {
      "needs_background": "light"
     },
     "output_type": "display_data"
    }
   ],
   "source": [
    "plot = plot_leverage_resid2(m)"
   ]
  },
  {
   "cell_type": "markdown",
   "metadata": {},
   "source": [
    "This plot will help determine if any data are influential on the model. Points at the upper left cornder is where we'll focus. Let's take a look at the specific data:"
   ]
  },
  {
   "cell_type": "code",
   "execution_count": 156,
   "metadata": {},
   "outputs": [
    {
     "data": {
      "text/html": [
       "<div>\n",
       "<style scoped>\n",
       "    .dataframe tbody tr th:only-of-type {\n",
       "        vertical-align: middle;\n",
       "    }\n",
       "\n",
       "    .dataframe tbody tr th {\n",
       "        vertical-align: top;\n",
       "    }\n",
       "\n",
       "    .dataframe thead th {\n",
       "        text-align: right;\n",
       "    }\n",
       "</style>\n",
       "<table border=\"1\" class=\"dataframe\">\n",
       "  <thead>\n",
       "    <tr style=\"text-align: right;\">\n",
       "      <th></th>\n",
       "      <th>CRIM</th>\n",
       "      <th>ZN</th>\n",
       "      <th>INDUS</th>\n",
       "      <th>CHAS</th>\n",
       "      <th>NOX</th>\n",
       "      <th>RM</th>\n",
       "      <th>AGE</th>\n",
       "      <th>DIS</th>\n",
       "      <th>RAD</th>\n",
       "      <th>TAX</th>\n",
       "      <th>PTRATIO</th>\n",
       "      <th>B</th>\n",
       "      <th>LSTAT</th>\n",
       "      <th>PRICE</th>\n",
       "    </tr>\n",
       "  </thead>\n",
       "  <tbody>\n",
       "    <tr>\n",
       "      <th>380</th>\n",
       "      <td>88.9762</td>\n",
       "      <td>0.0</td>\n",
       "      <td>18.1</td>\n",
       "      <td>0.0</td>\n",
       "      <td>0.671</td>\n",
       "      <td>6.968</td>\n",
       "      <td>91.9</td>\n",
       "      <td>1.4165</td>\n",
       "      <td>24.0</td>\n",
       "      <td>666.0</td>\n",
       "      <td>20.2</td>\n",
       "      <td>396.90</td>\n",
       "      <td>17.21</td>\n",
       "      <td>10.4</td>\n",
       "    </tr>\n",
       "    <tr>\n",
       "      <th>418</th>\n",
       "      <td>73.5341</td>\n",
       "      <td>0.0</td>\n",
       "      <td>18.1</td>\n",
       "      <td>0.0</td>\n",
       "      <td>0.679</td>\n",
       "      <td>5.957</td>\n",
       "      <td>100.0</td>\n",
       "      <td>1.8026</td>\n",
       "      <td>24.0</td>\n",
       "      <td>666.0</td>\n",
       "      <td>20.2</td>\n",
       "      <td>16.45</td>\n",
       "      <td>20.62</td>\n",
       "      <td>8.8</td>\n",
       "    </tr>\n",
       "    <tr>\n",
       "      <th>405</th>\n",
       "      <td>67.9208</td>\n",
       "      <td>0.0</td>\n",
       "      <td>18.1</td>\n",
       "      <td>0.0</td>\n",
       "      <td>0.693</td>\n",
       "      <td>5.683</td>\n",
       "      <td>100.0</td>\n",
       "      <td>1.4254</td>\n",
       "      <td>24.0</td>\n",
       "      <td>666.0</td>\n",
       "      <td>20.2</td>\n",
       "      <td>384.97</td>\n",
       "      <td>22.98</td>\n",
       "      <td>5.0</td>\n",
       "    </tr>\n",
       "    <tr>\n",
       "      <th>410</th>\n",
       "      <td>51.1358</td>\n",
       "      <td>0.0</td>\n",
       "      <td>18.1</td>\n",
       "      <td>0.0</td>\n",
       "      <td>0.597</td>\n",
       "      <td>5.757</td>\n",
       "      <td>100.0</td>\n",
       "      <td>1.4130</td>\n",
       "      <td>24.0</td>\n",
       "      <td>666.0</td>\n",
       "      <td>20.2</td>\n",
       "      <td>2.60</td>\n",
       "      <td>10.11</td>\n",
       "      <td>15.0</td>\n",
       "    </tr>\n",
       "    <tr>\n",
       "      <th>414</th>\n",
       "      <td>45.7461</td>\n",
       "      <td>0.0</td>\n",
       "      <td>18.1</td>\n",
       "      <td>0.0</td>\n",
       "      <td>0.693</td>\n",
       "      <td>4.519</td>\n",
       "      <td>100.0</td>\n",
       "      <td>1.6582</td>\n",
       "      <td>24.0</td>\n",
       "      <td>666.0</td>\n",
       "      <td>20.2</td>\n",
       "      <td>88.27</td>\n",
       "      <td>36.98</td>\n",
       "      <td>7.0</td>\n",
       "    </tr>\n",
       "    <tr>\n",
       "      <th>404</th>\n",
       "      <td>41.5292</td>\n",
       "      <td>0.0</td>\n",
       "      <td>18.1</td>\n",
       "      <td>0.0</td>\n",
       "      <td>0.693</td>\n",
       "      <td>5.531</td>\n",
       "      <td>85.4</td>\n",
       "      <td>1.6074</td>\n",
       "      <td>24.0</td>\n",
       "      <td>666.0</td>\n",
       "      <td>20.2</td>\n",
       "      <td>329.46</td>\n",
       "      <td>27.38</td>\n",
       "      <td>8.5</td>\n",
       "    </tr>\n",
       "  </tbody>\n",
       "</table>\n",
       "</div>"
      ],
      "text/plain": [
       "        CRIM   ZN  INDUS  CHAS    NOX     RM    AGE     DIS   RAD    TAX  \\\n",
       "380  88.9762  0.0   18.1   0.0  0.671  6.968   91.9  1.4165  24.0  666.0   \n",
       "418  73.5341  0.0   18.1   0.0  0.679  5.957  100.0  1.8026  24.0  666.0   \n",
       "405  67.9208  0.0   18.1   0.0  0.693  5.683  100.0  1.4254  24.0  666.0   \n",
       "410  51.1358  0.0   18.1   0.0  0.597  5.757  100.0  1.4130  24.0  666.0   \n",
       "414  45.7461  0.0   18.1   0.0  0.693  4.519  100.0  1.6582  24.0  666.0   \n",
       "404  41.5292  0.0   18.1   0.0  0.693  5.531   85.4  1.6074  24.0  666.0   \n",
       "\n",
       "     PTRATIO       B  LSTAT  PRICE  \n",
       "380     20.2  396.90  17.21   10.4  \n",
       "418     20.2   16.45  20.62    8.8  \n",
       "405     20.2  384.97  22.98    5.0  \n",
       "410     20.2    2.60  10.11   15.0  \n",
       "414     20.2   88.27  36.98    7.0  \n",
       "404     20.2  329.46  27.38    8.5  "
      ]
     },
     "execution_count": 156,
     "metadata": {},
     "output_type": "execute_result"
    }
   ],
   "source": [
    "bos.iloc[[380, 418, 405, 410, 414, 404]]"
   ]
  },
  {
   "cell_type": "markdown",
   "metadata": {},
   "source": [
    "The crime rate looks very high for these high impact points."
   ]
  },
  {
   "cell_type": "code",
   "execution_count": 157,
   "metadata": {},
   "outputs": [
    {
     "data": {
      "text/plain": [
       "417    25.9406\n",
       "413    28.6558\n",
       "427    37.6619\n",
       "398    38.3518\n",
       "404    41.5292\n",
       "414    45.7461\n",
       "410    51.1358\n",
       "405    67.9208\n",
       "418    73.5341\n",
       "380    88.9762\n",
       "Name: CRIM, dtype: float64"
      ]
     },
     "execution_count": 157,
     "metadata": {},
     "output_type": "execute_result"
    }
   ],
   "source": [
    "#Where do these crime rates fall within the entire data?\n",
    "bos.CRIM.sort_values().tail(10)"
   ]
  },
  {
   "cell_type": "markdown",
   "metadata": {},
   "source": [
    "The high leverage points seem to be the highest crime rate points."
   ]
  },
  {
   "cell_type": "markdown",
   "metadata": {},
   "source": [
    "#### Exercise: Remove the outliers and high leverage points from your model and run the regression again. How do the results change?"
   ]
  },
  {
   "cell_type": "code",
   "execution_count": 158,
   "metadata": {
    "scrolled": true
   },
   "outputs": [
    {
     "data": {
      "text/plain": [
       "Int64Index([365, 367, 368, 369, 370, 371, 372], dtype='int64')"
      ]
     },
     "execution_count": 158,
     "metadata": {},
     "output_type": "execute_result"
    }
   ],
   "source": [
    "bos[outliers].index"
   ]
  },
  {
   "cell_type": "code",
   "execution_count": 159,
   "metadata": {},
   "outputs": [],
   "source": [
    "#let's remove all the outliers and high leveraged data points and refit the data:\n",
    "cleaned_bos = bos.drop([365, 367, 368, 369, 370, 371, 372, 380, 418, 405, 410, 414, 404], axis=0)"
   ]
  },
  {
   "cell_type": "code",
   "execution_count": 160,
   "metadata": {
    "scrolled": true
   },
   "outputs": [
    {
     "name": "stdout",
     "output_type": "stream",
     "text": [
      "<class 'pandas.core.frame.DataFrame'>\n",
      "Int64Index: 493 entries, 0 to 505\n",
      "Data columns (total 14 columns):\n",
      "CRIM       493 non-null float64\n",
      "ZN         493 non-null float64\n",
      "INDUS      493 non-null float64\n",
      "CHAS       493 non-null float64\n",
      "NOX        493 non-null float64\n",
      "RM         493 non-null float64\n",
      "AGE        493 non-null float64\n",
      "DIS        493 non-null float64\n",
      "RAD        493 non-null float64\n",
      "TAX        493 non-null float64\n",
      "PTRATIO    493 non-null float64\n",
      "B          493 non-null float64\n",
      "LSTAT      493 non-null float64\n",
      "PRICE      493 non-null float64\n",
      "dtypes: float64(14)\n",
      "memory usage: 57.8 KB\n"
     ]
    }
   ],
   "source": [
    "cleaned_bos.info()"
   ]
  },
  {
   "cell_type": "code",
   "execution_count": 161,
   "metadata": {},
   "outputs": [
    {
     "name": "stdout",
     "output_type": "stream",
     "text": [
      "                            OLS Regression Results                            \n",
      "==============================================================================\n",
      "Dep. Variable:                  PRICE   R-squared:                       0.723\n",
      "Model:                            OLS   Adj. R-squared:                  0.721\n",
      "Method:                 Least Squares   F-statistic:                     425.3\n",
      "Date:                Wed, 03 Apr 2019   Prob (F-statistic):          7.69e-136\n",
      "Time:                        11:36:06   Log-Likelihood:                -1452.7\n",
      "No. Observations:                 493   AIC:                             2913.\n",
      "Df Residuals:                     489   BIC:                             2930.\n",
      "Df Model:                           3                                         \n",
      "Covariance Type:            nonrobust                                         \n",
      "==============================================================================\n",
      "                 coef    std err          t      P>|t|      [0.025      0.975]\n",
      "------------------------------------------------------------------------------\n",
      "Intercept     -6.9150      3.256     -2.124      0.034     -13.312      -0.518\n",
      "CRIM          -0.3423      0.041     -8.413      0.000      -0.422      -0.262\n",
      "RM             7.9204      0.332     23.864      0.000       7.268       8.573\n",
      "PTRATIO       -1.0660      0.107     -9.989      0.000      -1.276      -0.856\n",
      "==============================================================================\n",
      "Omnibus:                       25.849   Durbin-Watson:                   1.167\n",
      "Prob(Omnibus):                  0.000   Jarque-Bera (JB):               51.977\n",
      "Skew:                           0.303   Prob(JB):                     5.17e-12\n",
      "Kurtosis:                       4.471   Cond. No.                         311.\n",
      "==============================================================================\n",
      "\n",
      "Warnings:\n",
      "[1] Standard Errors assume that the covariance matrix of the errors is correctly specified.\n"
     ]
    }
   ],
   "source": [
    "#refit the data\n",
    "m3 = ols('PRICE ~ CRIM + RM + PTRATIO',cleaned_bos).fit()\n",
    "print(m3.summary())"
   ]
  },
  {
   "cell_type": "code",
   "execution_count": 165,
   "metadata": {},
   "outputs": [
    {
     "data": {
      "image/png": "[encoded data removed]",
      "text/plain": [
       "<Figure size 432x288 with 1 Axes>"
      ]
     },
     "metadata": {
      "needs_background": "light"
     },
     "output_type": "display_data"
    }
   ],
   "source": [
    "plt.plot(m3.fittedvalues, m3.resid, marker='.', linestyle='none')\n",
    "plt.xlabel('Fitted values')\n",
    "plt.ylabel('Residual Values')\n",
    "plt.show()"
   ]
  },
  {
   "cell_type": "code",
   "execution_count": 166,
   "metadata": {},
   "outputs": [
    {
     "data": {
      "text/plain": [
       "((array([-2.98779493, -2.70548328, -2.54671238, -2.43411877, -2.34588644,\n",
       "         -2.27284232, -2.21022606, -2.15523728, -2.1060839 , -2.06154727,\n",
       "         -2.02075964, -1.98308043, -1.94802276, -1.9152076 , -1.88433387,\n",
       "         -1.85515832, -1.82748143, -1.8011375 , -1.77598734, -1.75191283,\n",
       "         -1.72881287, -1.70660022, -1.68519903, -1.66454296, -1.64457364,\n",
       "         -1.62523939, -1.60649426, -1.58829721, -1.57061139, -1.55340363,\n",
       "         -1.53664393, -1.52030506, -1.50436226, -1.48879291, -1.47357631,\n",
       "         -1.45869345, -1.44412686, -1.42986041, -1.41587918, -1.40216938,\n",
       "         -1.38871817, -1.37551363, -1.36254467, -1.34980092, -1.33727269,\n",
       "         -1.3249509 , -1.31282706, -1.30089317, -1.28914173, -1.27756567,\n",
       "         -1.26615832, -1.2549134 , -1.24382495, -1.23288737, -1.22209532,\n",
       "         -1.21144376, -1.2009279 , -1.19054319, -1.18028531, -1.17015015,\n",
       "         -1.16013377, -1.15023246, -1.14044265, -1.13076093, -1.12118407,\n",
       "         -1.11170894, -1.10233259, -1.09305215, -1.08386492, -1.07476827,\n",
       "         -1.0657597 , -1.0568368 , -1.04799726, -1.03923885, -1.03055945,\n",
       "         -1.021957  , -1.01342952, -1.0049751 , -0.99659191, -0.98827818,\n",
       "         -0.98003221, -0.97185233, -0.96373698, -0.9556846 , -0.94769372,\n",
       "         -0.9397629 , -0.93189076, -0.92407594, -0.91631716, -0.90861314,\n",
       "         -0.90096268, -0.8933646 , -0.88581774, -0.878321  , -0.8708733 ,\n",
       "         -0.8634736 , -0.85612087, -0.84881415, -0.84155246, -0.83433487,\n",
       "         -0.8271605 , -0.82002844, -0.81293786, -0.80588791, -0.7988778 ,\n",
       "         -0.79190672, -0.78497392, -0.77807864, -0.77122016, -0.76439776,\n",
       "         -0.75761076, -0.75085848, -0.74414026, -0.73745546, -0.73080346,\n",
       "         -0.72418363, -0.71759539, -0.71103815, -0.70451134, -0.69801441,\n",
       "         -0.69154681, -0.685108  , -0.67869748, -0.67231473, -0.66595924,\n",
       "         -0.65963055, -0.65332816, -0.64705162, -0.64080047, -0.63457426,\n",
       "         -0.62837255, -0.62219492, -0.61604094, -0.6099102 , -0.6038023 ,\n",
       "         -0.59771685, -0.59165345, -0.58561172, -0.57959129, -0.5735918 ,\n",
       "         -0.56761289, -0.5616542 , -0.55571538, -0.5497961 , -0.54389602,\n",
       "         -0.53801481, -0.53215216, -0.52630774, -0.52048124, -0.51467235,\n",
       "         -0.50888078, -0.50310623, -0.49734841, -0.49160703, -0.48588181,\n",
       "         -0.48017247, -0.47447874, -0.46880035, -0.46313704, -0.45748854,\n",
       "         -0.4518546 , -0.44623497, -0.4406294 , -0.43503763, -0.42945944,\n",
       "         -0.42389458, -0.41834281, -0.41280391, -0.40727764, -0.40176379,\n",
       "         -0.39626212, -0.39077242, -0.38529447, -0.37982806, -0.37437298,\n",
       "         -0.36892901, -0.36349596, -0.35807361, -0.35266178, -0.34726025,\n",
       "         -0.34186883, -0.33648734, -0.33111557, -0.32575333, -0.32040045,\n",
       "         -0.31505674, -0.309722  , -0.30439607, -0.29907875, -0.29376988,\n",
       "         -0.28846928, -0.28317676, -0.27789217, -0.27261533, -0.26734607,\n",
       "         -0.26208422, -0.25682961, -0.25158209, -0.24634149, -0.24110764,\n",
       "         -0.23588039, -0.23065958, -0.22544505, -0.22023664, -0.21503419,\n",
       "         -0.20983757, -0.2046466 , -0.19946114, -0.19428104, -0.18910614,\n",
       "         -0.18393631, -0.17877138, -0.17361123, -0.16845569, -0.16330462,\n",
       "         -0.15815788, -0.15301533, -0.14787682, -0.14274222, -0.13761137,\n",
       "         -0.13248415, -0.1273604 , -0.12224   , -0.1171228 , -0.11200867,\n",
       "         -0.10689746, -0.10178904, -0.09668328, -0.09158004, -0.08647918,\n",
       "         -0.08138057, -0.07628408, -0.07118957, -0.0660969 , -0.06100595,\n",
       "         -0.05591657, -0.05082865, -0.04574204, -0.04065661, -0.03557224,\n",
       "         -0.03048879, -0.02540612, -0.02032411, -0.01524262, -0.01016153,\n",
       "         -0.0050807 ,  0.        ,  0.0050807 ,  0.01016153,  0.01524262,\n",
       "          0.02032411,  0.02540612,  0.03048879,  0.03557224,  0.04065661,\n",
       "          0.04574204,  0.05082865,  0.05591657,  0.06100595,  0.0660969 ,\n",
       "          0.07118957,  0.07628408,  0.08138057,  0.08647918,  0.09158004,\n",
       "          0.09668328,  0.10178904,  0.10689746,  0.11200867,  0.1171228 ,\n",
       "          0.12224   ,  0.1273604 ,  0.13248415,  0.13761137,  0.14274222,\n",
       "          0.14787682,  0.15301533,  0.15815788,  0.16330462,  0.16845569,\n",
       "          0.17361123,  0.17877138,  0.18393631,  0.18910614,  0.19428104,\n",
       "          0.19946114,  0.2046466 ,  0.20983757,  0.21503419,  0.22023664,\n",
       "          0.22544505,  0.23065958,  0.23588039,  0.24110764,  0.24634149,\n",
       "          0.25158209,  0.25682961,  0.26208422,  0.26734607,  0.27261533,\n",
       "          0.27789217,  0.28317676,  0.28846928,  0.29376988,  0.29907875,\n",
       "          0.30439607,  0.309722  ,  0.31505674,  0.32040045,  0.32575333,\n",
       "          0.33111557,  0.33648734,  0.34186883,  0.34726025,  0.35266178,\n",
       "          0.35807361,  0.36349596,  0.36892901,  0.37437298,  0.37982806,\n",
       "          0.38529447,  0.39077242,  0.39626212,  0.40176379,  0.40727764,\n",
       "          0.41280391,  0.41834281,  0.42389458,  0.42945944,  0.43503763,\n",
       "          0.4406294 ,  0.44623497,  0.4518546 ,  0.45748854,  0.46313704,\n",
       "          0.46880035,  0.47447874,  0.48017247,  0.48588181,  0.49160703,\n",
       "          0.49734841,  0.50310623,  0.50888078,  0.51467235,  0.52048124,\n",
       "          0.52630774,  0.53215216,  0.53801481,  0.54389602,  0.5497961 ,\n",
       "          0.55571538,  0.5616542 ,  0.56761289,  0.5735918 ,  0.57959129,\n",
       "          0.58561172,  0.59165345,  0.59771685,  0.6038023 ,  0.6099102 ,\n",
       "          0.61604094,  0.62219492,  0.62837255,  0.63457426,  0.64080047,\n",
       "          0.64705162,  0.65332816,  0.65963055,  0.66595924,  0.67231473,\n",
       "          0.67869748,  0.685108  ,  0.69154681,  0.69801441,  0.70451134,\n",
       "          0.71103815,  0.71759539,  0.72418363,  0.73080346,  0.73745546,\n",
       "          0.74414026,  0.75085848,  0.75761076,  0.76439776,  0.77122016,\n",
       "          0.77807864,  0.78497392,  0.79190672,  0.7988778 ,  0.80588791,\n",
       "          0.81293786,  0.82002844,  0.8271605 ,  0.83433487,  0.84155246,\n",
       "          0.84881415,  0.85612087,  0.8634736 ,  0.8708733 ,  0.878321  ,\n",
       "          0.88581774,  0.8933646 ,  0.90096268,  0.90861314,  0.91631716,\n",
       "          0.92407594,  0.93189076,  0.9397629 ,  0.94769372,  0.9556846 ,\n",
       "          0.96373698,  0.97185233,  0.98003221,  0.98827818,  0.99659191,\n",
       "          1.0049751 ,  1.01342952,  1.021957  ,  1.03055945,  1.03923885,\n",
       "          1.04799726,  1.0568368 ,  1.0657597 ,  1.07476827,  1.08386492,\n",
       "          1.09305215,  1.10233259,  1.11170894,  1.12118407,  1.13076093,\n",
       "          1.14044265,  1.15023246,  1.16013377,  1.17015015,  1.18028531,\n",
       "          1.19054319,  1.2009279 ,  1.21144376,  1.22209532,  1.23288737,\n",
       "          1.24382495,  1.2549134 ,  1.26615832,  1.27756567,  1.28914173,\n",
       "          1.30089317,  1.31282706,  1.3249509 ,  1.33727269,  1.34980092,\n",
       "          1.36254467,  1.37551363,  1.38871817,  1.40216938,  1.41587918,\n",
       "          1.42986041,  1.44412686,  1.45869345,  1.47357631,  1.48879291,\n",
       "          1.50436226,  1.52030506,  1.53664393,  1.55340363,  1.57061139,\n",
       "          1.58829721,  1.60649426,  1.62523939,  1.64457364,  1.66454296,\n",
       "          1.68519903,  1.70660022,  1.72881287,  1.75191283,  1.77598734,\n",
       "          1.8011375 ,  1.82748143,  1.85515832,  1.88433387,  1.9152076 ,\n",
       "          1.94802276,  1.98308043,  2.02075964,  2.06154727,  2.1060839 ,\n",
       "          2.15523728,  2.21022606,  2.27284232,  2.34588644,  2.43411877,\n",
       "          2.54671238,  2.70548328,  2.98779493]),\n",
       "  array([-18.00336913, -14.05925784, -13.1571415 , -12.31292064,\n",
       "         -11.42614863, -11.35218758,  -9.71778323,  -9.48379232,\n",
       "          -9.38704324,  -9.3308856 ,  -9.30683246,  -9.12134967,\n",
       "          -8.7002391 ,  -8.47472573,  -8.2073377 ,  -8.18921145,\n",
       "          -8.12739849,  -7.97729185,  -7.77165058,  -7.76162087,\n",
       "          -7.50533602,  -7.47616967,  -7.25654205,  -7.19924703,\n",
       "          -7.08080369,  -7.05700383,  -6.91388555,  -6.88923181,\n",
       "          -6.83578271,  -6.80059437,  -6.72074288,  -6.68354628,\n",
       "          -6.5788785 ,  -6.54225903,  -6.38290377,  -6.31677789,\n",
       "          -6.13359011,  -6.10540671,  -5.98869814,  -5.97712724,\n",
       "          -5.94392806,  -5.88149185,  -5.67171198,  -5.65289705,\n",
       "          -5.62753819,  -5.53496725,  -5.47737193,  -5.47726684,\n",
       "          -5.40946761,  -5.40921642,  -5.28625479,  -5.23340591,\n",
       "          -5.18858828,  -5.09527463,  -5.08472963,  -5.08143639,\n",
       "          -5.0647504 ,  -5.04072365,  -4.98252193,  -4.92921434,\n",
       "          -4.90894815,  -4.86863809,  -4.84937305,  -4.79820033,\n",
       "          -4.72235144,  -4.5856105 ,  -4.53985433,  -4.5247186 ,\n",
       "          -4.52146756,  -4.46078909,  -4.42341014,  -4.38295091,\n",
       "          -4.37955423,  -4.25900937,  -4.14978348,  -4.13428065,\n",
       "          -4.10386293,  -4.09447701,  -4.07635814,  -4.05644392,\n",
       "          -4.05545835,  -3.91661616,  -3.90439552,  -3.84350201,\n",
       "          -3.83619656,  -3.82746388,  -3.82546476,  -3.81157132,\n",
       "          -3.72373687,  -3.72081868,  -3.58484757,  -3.58385794,\n",
       "          -3.52755709,  -3.5117336 ,  -3.49676885,  -3.48954422,\n",
       "          -3.47691678,  -3.47679344,  -3.46600175,  -3.44931891,\n",
       "          -3.42529668,  -3.39081883,  -3.35734836,  -3.30998798,\n",
       "          -3.27865559,  -3.24591267,  -3.16638648,  -3.14582617,\n",
       "          -3.09423578,  -3.09342649,  -3.0906643 ,  -3.08774449,\n",
       "          -3.05331398,  -3.03986283,  -3.00936127,  -2.99294995,\n",
       "          -2.92075212,  -2.87616861,  -2.86066548,  -2.85695515,\n",
       "          -2.84780964,  -2.82651073,  -2.76837765,  -2.73547196,\n",
       "          -2.70327673,  -2.67480429,  -2.65332441,  -2.60611687,\n",
       "          -2.57492487,  -2.57177589,  -2.56326891,  -2.5468458 ,\n",
       "          -2.5371802 ,  -2.51760133,  -2.50613289,  -2.49646141,\n",
       "          -2.47218897,  -2.4365311 ,  -2.40247843,  -2.37009971,\n",
       "          -2.36925584,  -2.35846339,  -2.34241553,  -2.31898208,\n",
       "          -2.3188323 ,  -2.29259169,  -2.28050501,  -2.27851533,\n",
       "          -2.26829095,  -2.25997986,  -2.23794548,  -2.22911536,\n",
       "          -2.22348085,  -2.21613729,  -2.10822778,  -2.10091629,\n",
       "          -2.06355795,  -2.03042119,  -1.90144142,  -1.8942811 ,\n",
       "          -1.86110121,  -1.83411362,  -1.79262344,  -1.79222432,\n",
       "          -1.78115326,  -1.77822296,  -1.76212823,  -1.7543308 ,\n",
       "          -1.7272266 ,  -1.6851715 ,  -1.56871601,  -1.5578953 ,\n",
       "          -1.55709063,  -1.55560944,  -1.53949821,  -1.51801189,\n",
       "          -1.50544664,  -1.46908227,  -1.46019478,  -1.42592388,\n",
       "          -1.40720513,  -1.38380428,  -1.35355912,  -1.34855731,\n",
       "          -1.34042492,  -1.30724383,  -1.29097533,  -1.27064129,\n",
       "          -1.23036729,  -1.21727818,  -1.20888546,  -1.19865776,\n",
       "          -1.13937404,  -1.08001208,  -1.01965304,  -0.98070489,\n",
       "          -0.98069781,  -0.95417673,  -0.95181842,  -0.94447912,\n",
       "          -0.93335672,  -0.9190319 ,  -0.90603061,  -0.88939096,\n",
       "          -0.8570867 ,  -0.83010577,  -0.8162437 ,  -0.78780635,\n",
       "          -0.78663542,  -0.78099196,  -0.78057685,  -0.72484009,\n",
       "          -0.71161836,  -0.70004294,  -0.68710768,  -0.65102364,\n",
       "          -0.62866653,  -0.60133256,  -0.59879585,  -0.58141937,\n",
       "          -0.56647633,  -0.56288   ,  -0.53092193,  -0.51567838,\n",
       "          -0.49625456,  -0.49170427,  -0.48549971,  -0.46884785,\n",
       "          -0.45426121,  -0.43408762,  -0.39304811,  -0.37326028,\n",
       "          -0.35120878,  -0.31303172,  -0.27685243,  -0.23630537,\n",
       "          -0.20350077,  -0.17368331,  -0.15204859,  -0.14888582,\n",
       "          -0.1162722 ,  -0.10524665,  -0.10418335,  -0.09919596,\n",
       "          -0.04970022,  -0.04014852,  -0.03785022,   0.04649788,\n",
       "           0.04786114,   0.0639182 ,   0.09022317,   0.0947454 ,\n",
       "           0.10815424,   0.12176556,   0.1515044 ,   0.15418802,\n",
       "           0.19330086,   0.19972204,   0.20253639,   0.23385421,\n",
       "           0.26392599,   0.26656304,   0.26835118,   0.33206488,\n",
       "           0.34350768,   0.34442466,   0.35178139,   0.38013665,\n",
       "           0.38705601,   0.39588572,   0.41167061,   0.41525353,\n",
       "           0.4534874 ,   0.47074397,   0.47107199,   0.48212161,\n",
       "           0.49759154,   0.49986128,   0.5144392 ,   0.51885031,\n",
       "           0.58529886,   0.58915869,   0.59438063,   0.60681981,\n",
       "           0.61801614,   0.63133282,   0.63971152,   0.64083723,\n",
       "           0.64780805,   0.65392202,   0.68239929,   0.71260734,\n",
       "           0.73182158,   0.73465933,   0.74378871,   0.76993386,\n",
       "           0.7876471 ,   0.79366261,   0.81536336,   0.8342554 ,\n",
       "           0.83483309,   0.88037344,   0.91250962,   0.91936772,\n",
       "           0.93499144,   0.99161511,   0.99204623,   1.03540252,\n",
       "           1.07030687,   1.07148465,   1.07805126,   1.09244226,\n",
       "           1.10196496,   1.1031247 ,   1.1115236 ,   1.11719154,\n",
       "           1.13904277,   1.15295967,   1.1577821 ,   1.1860927 ,\n",
       "           1.19577884,   1.19661904,   1.2364936 ,   1.29198792,\n",
       "           1.29716714,   1.32239257,   1.32824062,   1.34446293,\n",
       "           1.35524108,   1.37333823,   1.38327053,   1.38662933,\n",
       "           1.39516386,   1.42928382,   1.43136935,   1.44416936,\n",
       "           1.44771434,   1.47560366,   1.51298398,   1.51615101,\n",
       "           1.53863517,   1.5527515 ,   1.55774352,   1.56357349,\n",
       "           1.5985416 ,   1.67747431,   1.74679831,   1.80193775,\n",
       "           1.85475021,   1.86497966,   1.88652028,   1.90297358,\n",
       "           1.91177596,   1.91190372,   1.91505948,   1.92349549,\n",
       "           1.94797021,   2.02196421,   2.02579189,   2.04328381,\n",
       "           2.06760453,   2.07251366,   2.07575448,   2.11643913,\n",
       "           2.13285081,   2.17679707,   2.18681391,   2.22436803,\n",
       "           2.24788926,   2.38982553,   2.39805994,   2.44257556,\n",
       "           2.48428884,   2.52655557,   2.53007125,   2.54719485,\n",
       "           2.57521832,   2.57567984,   2.59767897,   2.61258055,\n",
       "           2.69549209,   2.73065719,   2.78275874,   2.79861732,\n",
       "           2.80692573,   2.84689447,   2.8713863 ,   3.02199903,\n",
       "           3.1169202 ,   3.16023369,   3.20865616,   3.2236189 ,\n",
       "           3.2356534 ,   3.3145627 ,   3.35409282,   3.35695718,\n",
       "           3.36214712,   3.36983484,   3.38545828,   3.42342007,\n",
       "           3.46425656,   3.46524894,   3.48315477,   3.52562035,\n",
       "           3.58098389,   3.62613215,   3.6914325 ,   3.69395554,\n",
       "           3.72907199,   3.81792832,   3.93384476,   3.98104892,\n",
       "           3.986275  ,   3.98855479,   4.00293765,   4.0169126 ,\n",
       "           4.040266  ,   4.09772834,   4.14376309,   4.21078844,\n",
       "           4.32852842,   4.39856998,   4.40081337,   4.4908465 ,\n",
       "           4.49458023,   4.5547634 ,   4.5655732 ,   4.57022792,\n",
       "           4.61864243,   4.63167074,   4.70333489,   4.71971629,\n",
       "           4.73329151,   4.78767061,   4.83372621,   4.8894689 ,\n",
       "           4.90161491,   4.90318446,   4.99762418,   5.04206039,\n",
       "           5.0948136 ,   5.2205205 ,   5.25553746,   5.29278566,\n",
       "           5.33664839,   5.41851771,   5.53400887,   5.57600845,\n",
       "           5.63526619,   5.70179752,   5.71761755,   5.75468422,\n",
       "           5.94350926,   6.27335377,   6.44285689,   6.46613588,\n",
       "           6.53855967,   6.56258741,   6.61988822,   6.77197394,\n",
       "           6.7766779 ,   7.15086186,   7.19322597,   7.67695739,\n",
       "           7.77468071,   7.82556433,   7.93273542,   7.99384489,\n",
       "           8.03848015,   8.0945918 ,   8.2681612 ,   8.55762741,\n",
       "           8.63803158,   8.66459142,   8.83128803,   8.8985392 ,\n",
       "           8.95980299,   9.31291645,   9.52691229,   9.89719148,\n",
       "          10.45231739,  10.47260085,  11.38960067,  11.41811276,\n",
       "          12.30514442,  13.4508403 ,  13.72709476,  13.77042854,\n",
       "          13.88466494,  14.66468759,  15.80553199,  16.02161453,\n",
       "          16.13158102])),\n",
       " (4.5790102264633985, 1.3341541840648994e-14, 0.9887289956300523))"
      ]
     },
     "execution_count": 166,
     "metadata": {},
     "output_type": "execute_result"
    },
    {
     "data": {
      "image/png": "[encoded data removed]",
      "text/plain": [
       "<Figure size 432x288 with 1 Axes>"
      ]
     },
     "metadata": {
      "needs_background": "light"
     },
     "output_type": "display_data"
    }
   ],
   "source": [
    "probplot(m3.resid, plot=plt)"
   ]
  },
  {
   "cell_type": "code",
   "execution_count": 168,
   "metadata": {},
   "outputs": [
    {
     "data": {
      "image/png": "[encoded data removed]",
      "text/plain": [
       "<Figure size 432x288 with 1 Axes>"
      ]
     },
     "metadata": {
      "needs_background": "light"
     },
     "output_type": "display_data"
    }
   ],
   "source": [
    "plot1 = plot_leverage_resid2(m3)"
   ]
  },
  {
   "cell_type": "markdown",
   "metadata": {},
   "source": [
    "Removing the outliers and high-levarage data points from the set results in a better fitted model. R2 value jumps from 0.594 to 0.723 and AIC is further reduced from 3232 to 2913 which indicates a better fitted model. This tells us that our predictive power is much better if we remove just 13 entries (7 outliers and 6 high leverage points) from the dataset. We can try removing more outliers and more levarage points but this is a good starting point. Additionally, more parameters could be added to the model to see if there is any improvement."
   ]
  },
  {
   "cell_type": "code",
   "execution_count": null,
   "metadata": {},
   "outputs": [],
   "source": []
  }
 ],
 "metadata": {
  "kernelspec": {
   "display_name": "Python 3",
   "language": "python",
   "name": "python3"
  },
  "language_info": {
   "codemirror_mode": {
    "name": "ipython",
    "version": 3
   },
   "file_extension": ".py",
   "mimetype": "text/x-python",
   "name": "python",
   "nbconvert_exporter": "python",
   "pygments_lexer": "ipython3",
   "version": "3.7.1"
  }
 },
 "nbformat": 4,
 "nbformat_minor": 1
}
