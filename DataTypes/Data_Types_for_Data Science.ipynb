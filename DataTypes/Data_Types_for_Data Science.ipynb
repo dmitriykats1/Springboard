{
 "cells": [
  {
   "cell_type": "markdown",
   "metadata": {},
   "source": [
    "This is an attempt to summarize DataCamp's \"Data Types for Data Science\" which I found to be incredibly useful but also fast paced if you are not familiar with data structures. This may also be useful as a study guide for technical interviews. Fundamentals and basics are key, so here we go.\n",
    "This notebook will cover:\n",
    "\n",
    "Lists\n",
    "Tuples - IMMUTABLE (can't edit)\n",
    "Sets\n",
    "Dictionaries\n"
   ]
  },
  {
   "cell_type": "code",
   "execution_count": 29,
   "metadata": {
    "scrolled": true
   },
   "outputs": [
    {
     "name": "stdout",
     "output_type": "stream",
     "text": [
      "myList: <class 'list'>\n",
      "mySet: <class 'set'>\n",
      "myTuple: <class 'tuple'>\n",
      "myDict: <class 'dict'>\n"
     ]
    }
   ],
   "source": [
    "#Creating Empty data types:\n",
    "#Lists\n",
    "myList = []\n",
    "print('myList: '+str(type(myList)))\n",
    "\n",
    "#Sets - more efficient than lists\n",
    "mySet = set()\n",
    "print('mySet: '+str(type(mySet)))\n",
    "\n",
    "#Tuples - generally used to compare data\n",
    "myTuple = ()\n",
    "print('myTuple: '+str(type(myTuple)))\n",
    "\n",
    "#Dictionary - used to store key:value pairs\n",
    "myDict = {}\n",
    "print('myDict: '+str(type(myDict)))"
   ]
  },
  {
   "cell_type": "code",
   "execution_count": 30,
   "metadata": {},
   "outputs": [
    {
     "name": "stdout",
     "output_type": "stream",
     "text": [
      "Before adding names: \n",
      "['Samantha', 'Sarah', 'Aliza', 'Erin']\n",
      "['Charles', 'Isaac', 'Henry', 'Aiden']\n",
      "After adding more names: \n",
      "['Samantha', 'Sarah', 'Aliza', 'Erin', 'Asha', 'Cindy']\n",
      "['Charles', 'Isaac', 'Henry', 'Aiden', 'Jacob', 'Randy']\n",
      "<zip object at 0x10b4dca48>\n"
     ]
    }
   ],
   "source": [
    "#Adding data into data types:\n",
    "#Lists\n",
    "girlNames = ['Samantha', 'Sarah', 'Aliza', 'Erin']\n",
    "boyNames = ['Charles', 'Isaac', 'Henry', 'Aiden']\n",
    "print('Before adding names: ')\n",
    "print(girlNames)\n",
    "print(boyNames)\n",
    "\n",
    "#You can use .append() method but this will only add one item to the list.\n",
    "#A better approach is to use .extend() method to combine lists, tuples, or sets\n",
    "girlNames.extend(['Asha', 'Cindy'])\n",
    "boyNames.extend(['Jacob', 'Randy'])\n",
    "print('After adding more names: ')\n",
    "print(girlNames)\n",
    "print(boyNames)\n",
    "\n",
    "#Tuples: since tuples are immutable, we'll have to create a tuple using zip()\n",
    "nameTuple = zip(girlNames, boyNames)\n",
    "print(nameTuple)\n"
   ]
  },
  {
   "cell_type": "code",
   "execution_count": null,
   "metadata": {},
   "outputs": [],
   "source": []
  },
  {
   "cell_type": "code",
   "execution_count": null,
   "metadata": {},
   "outputs": [],
   "source": []
  }
 ],
 "metadata": {
  "kernelspec": {
   "display_name": "Python 3",
   "language": "python",
   "name": "python3"
  },
  "language_info": {
   "codemirror_mode": {
    "name": "ipython",
    "version": 3
   },
   "file_extension": ".py",
   "mimetype": "text/x-python",
   "name": "python",
   "nbconvert_exporter": "python",
   "pygments_lexer": "ipython3",
   "version": "3.7.1"
  }
 },
 "nbformat": 4,
 "nbformat_minor": 2
}
