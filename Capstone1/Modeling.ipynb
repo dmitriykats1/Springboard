{
 "cells": [
  {
   "cell_type": "markdown",
   "metadata": {
    "toc": true
   },
   "source": [
    "<h1>Table of Contents<span class=\"tocSkip\"></span></h1>\n",
    "<div class=\"toc\"><ul class=\"toc-item\"><li><span><a href=\"#Read-in-csv-file-with-all-features-pre-engineered-(saves-run-time-for-modeling)-then-go-to-section-2.2\" data-toc-modified-id=\"Read-in-csv-file-with-all-features-pre-engineered-(saves-run-time-for-modeling)-then-go-to-section-2.2-1\"><span class=\"toc-item-num\">1&nbsp;&nbsp;</span>Read in csv file with all features pre-engineered (saves run-time for modeling) then go to section 2.2</a></span></li><li><span><a href=\"#Start-with-a-clean-data-set-and-engineer-features-again\" data-toc-modified-id=\"Start-with-a-clean-data-set-and-engineer-features-again-2\"><span class=\"toc-item-num\">2&nbsp;&nbsp;</span>Start with a clean data-set and engineer features again</a></span><ul class=\"toc-item\"><li><span><a href=\"#Feature-Engineering\" data-toc-modified-id=\"Feature-Engineering-2.1\"><span class=\"toc-item-num\">2.1&nbsp;&nbsp;</span>Feature Engineering</a></span><ul class=\"toc-item\"><li><ul class=\"toc-item\"><li><span><a href=\"#Hourly-bins\" data-toc-modified-id=\"Hourly-bins-2.1.0.1\"><span class=\"toc-item-num\">2.1.0.1&nbsp;&nbsp;</span>Hourly bins</a></span></li><li><span><a href=\"#Direction-of-flight-(Choose-the-dominant-direction-of-flight)\" data-toc-modified-id=\"Direction-of-flight-(Choose-the-dominant-direction-of-flight)-2.1.0.2\"><span class=\"toc-item-num\">2.1.0.2&nbsp;&nbsp;</span>Direction of flight (Choose the dominant direction of flight)</a></span></li><li><span><a href=\"#Weather\" data-toc-modified-id=\"Weather-2.1.0.3\"><span class=\"toc-item-num\">2.1.0.3&nbsp;&nbsp;</span>Weather</a></span></li><li><span><a href=\"#Create-a-feature-with-Hourly-Flight-Frequency-at-Origin-(number-of-flights-at-a-givin-airport-during-a-given-hour-block)\" data-toc-modified-id=\"Create-a-feature-with-Hourly-Flight-Frequency-at-Origin-(number-of-flights-at-a-givin-airport-during-a-given-hour-block)-2.1.0.4\"><span class=\"toc-item-num\">2.1.0.4&nbsp;&nbsp;</span>Create a feature with Hourly Flight Frequency at Origin (number of flights at a givin airport during a given hour block)</a></span></li><li><span><a href=\"#Monthly-flight-route-delay-averages-aggregated-by-flight-number-(including-Origin-and-Destination-airports-to-account-for-flight-number-changes)\" data-toc-modified-id=\"Monthly-flight-route-delay-averages-aggregated-by-flight-number-(including-Origin-and-Destination-airports-to-account-for-flight-number-changes)-2.1.0.5\"><span class=\"toc-item-num\">2.1.0.5&nbsp;&nbsp;</span>Monthly flight route delay averages aggregated by flight number (including Origin and Destination airports to account for flight number changes)</a></span></li><li><span><a href=\"#Passenger-Loading-Data\" data-toc-modified-id=\"Passenger-Loading-Data-2.1.0.6\"><span class=\"toc-item-num\">2.1.0.6&nbsp;&nbsp;</span>Passenger Loading Data</a></span></li><li><span><a href=\"#Export-as-a-csv-file-for-easier-modeling-later\" data-toc-modified-id=\"Export-as-a-csv-file-for-easier-modeling-later-2.1.0.7\"><span class=\"toc-item-num\">2.1.0.7&nbsp;&nbsp;</span>Export as a csv file for easier modeling later</a></span></li></ul></li></ul></li><li><span><a href=\"#Adding-final-filters-and-Target-column\" data-toc-modified-id=\"Adding-final-filters-and-Target-column-2.2\"><span class=\"toc-item-num\">2.2&nbsp;&nbsp;</span>Adding final filters and Target column</a></span><ul class=\"toc-item\"><li><ul class=\"toc-item\"><li><span><a href=\"#Pick-top-20-airports-and-top-5-airlines\" data-toc-modified-id=\"Pick-top-20-airports-and-top-5-airlines-2.2.0.1\"><span class=\"toc-item-num\">2.2.0.1&nbsp;&nbsp;</span>Pick top 20 airports and top 5 airlines</a></span></li><li><span><a href=\"#Status-(Delayed-or-Ontime)\" data-toc-modified-id=\"Status-(Delayed-or-Ontime)-2.2.0.2\"><span class=\"toc-item-num\">2.2.0.2&nbsp;&nbsp;</span>Status (Delayed or Ontime)</a></span></li></ul></li></ul></li><li><span><a href=\"#Creating-X-matrix\" data-toc-modified-id=\"Creating-X-matrix-2.3\"><span class=\"toc-item-num\">2.3&nbsp;&nbsp;</span>Creating X matrix</a></span><ul class=\"toc-item\"><li><span><a href=\"#Resampling-(if-required)\" data-toc-modified-id=\"Resampling-(if-required)-2.3.1\"><span class=\"toc-item-num\">2.3.1&nbsp;&nbsp;</span>Resampling (if required)</a></span></li><li><span><a href=\"#LabelEncoder\" data-toc-modified-id=\"LabelEncoder-2.3.2\"><span class=\"toc-item-num\">2.3.2&nbsp;&nbsp;</span>LabelEncoder</a></span></li></ul></li></ul></li><li><span><a href=\"#Random-Forrest-Model\" data-toc-modified-id=\"Random-Forrest-Model-3\"><span class=\"toc-item-num\">3&nbsp;&nbsp;</span>Random Forrest Model</a></span><ul class=\"toc-item\"><li><ul class=\"toc-item\"><li><span><a href=\"#Leave-one-feature-out\" data-toc-modified-id=\"Leave-one-feature-out-3.0.1\"><span class=\"toc-item-num\">3.0.1&nbsp;&nbsp;</span>Leave one feature out</a></span></li><li><span><a href=\"#OneHotEncoder\" data-toc-modified-id=\"OneHotEncoder-3.0.2\"><span class=\"toc-item-num\">3.0.2&nbsp;&nbsp;</span>OneHotEncoder</a></span></li><li><span><a href=\"#Creating-the-feature-matrix\" data-toc-modified-id=\"Creating-the-feature-matrix-3.0.3\"><span class=\"toc-item-num\">3.0.3&nbsp;&nbsp;</span>Creating the feature matrix</a></span></li><li><span><a href=\"#No-encoding\" data-toc-modified-id=\"No-encoding-3.0.4\"><span class=\"toc-item-num\">3.0.4&nbsp;&nbsp;</span>No encoding</a></span></li><li><span><a href=\"#Saving-the-model\" data-toc-modified-id=\"Saving-the-model-3.0.5\"><span class=\"toc-item-num\">3.0.5&nbsp;&nbsp;</span>Saving the model</a></span></li><li><span><a href=\"#Loading-the-model\" data-toc-modified-id=\"Loading-the-model-3.0.6\"><span class=\"toc-item-num\">3.0.6&nbsp;&nbsp;</span>Loading the model</a></span><ul class=\"toc-item\"><li><span><a href=\"#Predict\" data-toc-modified-id=\"Predict-3.0.6.1\"><span class=\"toc-item-num\">3.0.6.1&nbsp;&nbsp;</span>Predict</a></span></li></ul></li><li><span><a href=\"#Extracting-a-single-tree\" data-toc-modified-id=\"Extracting-a-single-tree-3.0.7\"><span class=\"toc-item-num\">3.0.7&nbsp;&nbsp;</span>Extracting a single tree</a></span></li></ul></li></ul></li><li><span><a href=\"#XGBoost\" data-toc-modified-id=\"XGBoost-4\"><span class=\"toc-item-num\">4&nbsp;&nbsp;</span>XGBoost</a></span></li><li><span><a href=\"#XGBoost-Reggression\" data-toc-modified-id=\"XGBoost-Reggression-5\"><span class=\"toc-item-num\">5&nbsp;&nbsp;</span>XGBoost Reggression</a></span></li><li><span><a href=\"#Linear-Regression\" data-toc-modified-id=\"Linear-Regression-6\"><span class=\"toc-item-num\">6&nbsp;&nbsp;</span>Linear Regression</a></span><ul class=\"toc-item\"><li><ul class=\"toc-item\"><li><span><a href=\"#OneHotEncoder-Linear-Regression\" data-toc-modified-id=\"OneHotEncoder-Linear-Regression-6.0.1\"><span class=\"toc-item-num\">6.0.1&nbsp;&nbsp;</span>OneHotEncoder Linear Regression</a></span></li></ul></li><li><span><a href=\"#Using-Cross-Validation\" data-toc-modified-id=\"Using-Cross-Validation-6.1\"><span class=\"toc-item-num\">6.1&nbsp;&nbsp;</span>Using Cross Validation</a></span></li></ul></li><li><span><a href=\"#Logistic-Regression\" data-toc-modified-id=\"Logistic-Regression-7\"><span class=\"toc-item-num\">7&nbsp;&nbsp;</span>Logistic Regression</a></span></li><li><span><a href=\"#Naive-Bayes\" data-toc-modified-id=\"Naive-Bayes-8\"><span class=\"toc-item-num\">8&nbsp;&nbsp;</span>Naive Bayes</a></span></li></ul></div>"
   ]
  },
  {
   "cell_type": "code",
   "execution_count": 2,
   "metadata": {
    "ExecuteTime": {
     "end_time": "2019-05-03T19:17:36.797159Z",
     "start_time": "2019-05-03T19:17:36.792459Z"
    }
   },
   "outputs": [],
   "source": [
    "import pandas as pd\n",
    "import numpy as np\n",
    "import glob\n",
    "import os\n",
    "from datetime import datetime\n",
    "import datetime\n",
    "import time\n",
    "import timestring\n",
    "import math\n",
    "import scipy\n",
    "import scipy.sparse\n",
    "import seaborn as sns\n",
    "import matplotlib\n",
    "matplotlib.rcParams['figure.figsize'] = (14, 8)"
   ]
  },
  {
   "cell_type": "code",
   "execution_count": 3,
   "metadata": {
    "ExecuteTime": {
     "end_time": "2019-05-03T19:17:36.814651Z",
     "start_time": "2019-05-03T19:17:36.810616Z"
    }
   },
   "outputs": [],
   "source": [
    "pd.set_option('display.max_rows', 50)\n",
    "pd.set_option('display.max_columns', 200)\n",
    "pd.set_option('display.width', 100)\n",
    "pd.set_option('display.max_info_columns', 200)"
   ]
  },
  {
   "cell_type": "markdown",
   "metadata": {},
   "source": [
    "# Read in csv file with all features pre-engineered (saves run-time for modeling) then go to section 2.2"
   ]
  },
  {
   "cell_type": "code",
   "execution_count": 4,
   "metadata": {
    "ExecuteTime": {
     "end_time": "2019-05-03T19:17:58.990843Z",
     "start_time": "2019-05-03T19:17:37.918977Z"
    }
   },
   "outputs": [],
   "source": [
    "df = pd.read_csv('./Data/2017FeatEng.csv')"
   ]
  },
  {
   "cell_type": "markdown",
   "metadata": {},
   "source": [
    "# Start with a clean data-set and engineer features again"
   ]
  },
  {
   "cell_type": "code",
   "execution_count": 185,
   "metadata": {
    "ExecuteTime": {
     "end_time": "2019-04-24T19:17:14.461801Z",
     "start_time": "2019-04-24T19:16:24.028315Z"
    },
    "code_folding": []
   },
   "outputs": [
    {
     "data": {
      "text/plain": [
       "precip_sum    2605706\n",
       "dtype: int64"
      ]
     },
     "execution_count": 185,
     "metadata": {},
     "output_type": "execute_result"
    }
   ],
   "source": [
    "#import the 2017 Data with weather column included\n",
    "df = pd.read_csv('./Data/2017NEW.csv')\n",
    "\n",
    "#remove rows will null values which is approximately 1.5%\n",
    "null_columns = df.columns[df.isnull().any()]\n",
    "df[null_columns].isnull().sum()"
   ]
  },
  {
   "cell_type": "code",
   "execution_count": 186,
   "metadata": {},
   "outputs": [
    {
     "data": {
      "text/html": [
       "<div>\n",
       "<style scoped>\n",
       "    .dataframe tbody tr th:only-of-type {\n",
       "        vertical-align: middle;\n",
       "    }\n",
       "\n",
       "    .dataframe tbody tr th {\n",
       "        vertical-align: top;\n",
       "    }\n",
       "\n",
       "    .dataframe thead th {\n",
       "        text-align: right;\n",
       "    }\n",
       "</style>\n",
       "<table border=\"1\" class=\"dataframe\">\n",
       "  <thead>\n",
       "    <tr style=\"text-align: right;\">\n",
       "      <th></th>\n",
       "      <th>Quarter</th>\n",
       "      <th>Month</th>\n",
       "      <th>DayofMonth</th>\n",
       "      <th>DayOfWeek</th>\n",
       "      <th>FlightDate</th>\n",
       "      <th>Reporting_Airline</th>\n",
       "      <th>Tail_Number</th>\n",
       "      <th>Flight_Number_Reporting_Airline</th>\n",
       "      <th>Origin</th>\n",
       "      <th>OriginState</th>\n",
       "      <th>DestState</th>\n",
       "      <th>Dest</th>\n",
       "      <th>CRSDepTime</th>\n",
       "      <th>CRSArrTime</th>\n",
       "      <th>CRSElapsedTime</th>\n",
       "      <th>ArrDelay</th>\n",
       "      <th>Distance</th>\n",
       "      <th>DistanceGroup</th>\n",
       "      <th>FL_TIME</th>\n",
       "      <th>FL_TIME_NEW</th>\n",
       "      <th>combined</th>\n",
       "      <th>precip_sum</th>\n",
       "    </tr>\n",
       "  </thead>\n",
       "  <tbody>\n",
       "    <tr>\n",
       "      <th>0</th>\n",
       "      <td>2</td>\n",
       "      <td>5</td>\n",
       "      <td>6</td>\n",
       "      <td>6</td>\n",
       "      <td>2017-05-06 00:00:00</td>\n",
       "      <td>WN</td>\n",
       "      <td>N7824A</td>\n",
       "      <td>4652</td>\n",
       "      <td>SJC</td>\n",
       "      <td>CA</td>\n",
       "      <td>CA</td>\n",
       "      <td>SAN</td>\n",
       "      <td>650</td>\n",
       "      <td>810</td>\n",
       "      <td>80.0</td>\n",
       "      <td>2.0</td>\n",
       "      <td>417.0</td>\n",
       "      <td>2</td>\n",
       "      <td>2017-05-06 06:50:00</td>\n",
       "      <td>2017-05-06 06:00:00</td>\n",
       "      <td>SJC2017-05-06 06:00:00</td>\n",
       "      <td>NaN</td>\n",
       "    </tr>\n",
       "    <tr>\n",
       "      <th>1</th>\n",
       "      <td>2</td>\n",
       "      <td>5</td>\n",
       "      <td>6</td>\n",
       "      <td>6</td>\n",
       "      <td>2017-05-06 00:00:00</td>\n",
       "      <td>WN</td>\n",
       "      <td>N8522P</td>\n",
       "      <td>4971</td>\n",
       "      <td>SJC</td>\n",
       "      <td>CA</td>\n",
       "      <td>CA</td>\n",
       "      <td>SAN</td>\n",
       "      <td>1710</td>\n",
       "      <td>1830</td>\n",
       "      <td>80.0</td>\n",
       "      <td>-7.0</td>\n",
       "      <td>417.0</td>\n",
       "      <td>2</td>\n",
       "      <td>2017-05-06 17:10:00</td>\n",
       "      <td>2017-05-06 17:00:00</td>\n",
       "      <td>SJC2017-05-06 17:00:00</td>\n",
       "      <td>NaN</td>\n",
       "    </tr>\n",
       "    <tr>\n",
       "      <th>2</th>\n",
       "      <td>2</td>\n",
       "      <td>5</td>\n",
       "      <td>6</td>\n",
       "      <td>6</td>\n",
       "      <td>2017-05-06 00:00:00</td>\n",
       "      <td>WN</td>\n",
       "      <td>N8617E</td>\n",
       "      <td>5113</td>\n",
       "      <td>SJC</td>\n",
       "      <td>CA</td>\n",
       "      <td>CA</td>\n",
       "      <td>SAN</td>\n",
       "      <td>1100</td>\n",
       "      <td>1220</td>\n",
       "      <td>80.0</td>\n",
       "      <td>0.0</td>\n",
       "      <td>417.0</td>\n",
       "      <td>2</td>\n",
       "      <td>2017-05-06 11:00:00</td>\n",
       "      <td>2017-05-06 11:00:00</td>\n",
       "      <td>SJC2017-05-06 11:00:00</td>\n",
       "      <td>NaN</td>\n",
       "    </tr>\n",
       "    <tr>\n",
       "      <th>3</th>\n",
       "      <td>2</td>\n",
       "      <td>5</td>\n",
       "      <td>6</td>\n",
       "      <td>6</td>\n",
       "      <td>2017-05-06 00:00:00</td>\n",
       "      <td>WN</td>\n",
       "      <td>N450WN</td>\n",
       "      <td>5150</td>\n",
       "      <td>SJC</td>\n",
       "      <td>CA</td>\n",
       "      <td>CA</td>\n",
       "      <td>SAN</td>\n",
       "      <td>2030</td>\n",
       "      <td>2150</td>\n",
       "      <td>80.0</td>\n",
       "      <td>1.0</td>\n",
       "      <td>417.0</td>\n",
       "      <td>2</td>\n",
       "      <td>2017-05-06 20:30:00</td>\n",
       "      <td>2017-05-06 20:00:00</td>\n",
       "      <td>SJC2017-05-06 20:00:00</td>\n",
       "      <td>NaN</td>\n",
       "    </tr>\n",
       "    <tr>\n",
       "      <th>4</th>\n",
       "      <td>2</td>\n",
       "      <td>5</td>\n",
       "      <td>6</td>\n",
       "      <td>6</td>\n",
       "      <td>2017-05-06 00:00:00</td>\n",
       "      <td>WN</td>\n",
       "      <td>N498WN</td>\n",
       "      <td>5711</td>\n",
       "      <td>SJC</td>\n",
       "      <td>CA</td>\n",
       "      <td>CA</td>\n",
       "      <td>SAN</td>\n",
       "      <td>1325</td>\n",
       "      <td>1445</td>\n",
       "      <td>80.0</td>\n",
       "      <td>-2.0</td>\n",
       "      <td>417.0</td>\n",
       "      <td>2</td>\n",
       "      <td>2017-05-06 13:25:00</td>\n",
       "      <td>2017-05-06 13:00:00</td>\n",
       "      <td>SJC2017-05-06 13:00:00</td>\n",
       "      <td>NaN</td>\n",
       "    </tr>\n",
       "  </tbody>\n",
       "</table>\n",
       "</div>"
      ],
      "text/plain": [
       "   Quarter  Month  DayofMonth  DayOfWeek           FlightDate Reporting_Airline Tail_Number  \\\n",
       "0        2      5           6          6  2017-05-06 00:00:00                WN      N7824A   \n",
       "1        2      5           6          6  2017-05-06 00:00:00                WN      N8522P   \n",
       "2        2      5           6          6  2017-05-06 00:00:00                WN      N8617E   \n",
       "3        2      5           6          6  2017-05-06 00:00:00                WN      N450WN   \n",
       "4        2      5           6          6  2017-05-06 00:00:00                WN      N498WN   \n",
       "\n",
       "   Flight_Number_Reporting_Airline Origin OriginState DestState Dest  CRSDepTime  CRSArrTime  \\\n",
       "0                             4652    SJC          CA        CA  SAN         650         810   \n",
       "1                             4971    SJC          CA        CA  SAN        1710        1830   \n",
       "2                             5113    SJC          CA        CA  SAN        1100        1220   \n",
       "3                             5150    SJC          CA        CA  SAN        2030        2150   \n",
       "4                             5711    SJC          CA        CA  SAN        1325        1445   \n",
       "\n",
       "   CRSElapsedTime  ArrDelay  Distance  DistanceGroup              FL_TIME          FL_TIME_NEW  \\\n",
       "0            80.0       2.0     417.0              2  2017-05-06 06:50:00  2017-05-06 06:00:00   \n",
       "1            80.0      -7.0     417.0              2  2017-05-06 17:10:00  2017-05-06 17:00:00   \n",
       "2            80.0       0.0     417.0              2  2017-05-06 11:00:00  2017-05-06 11:00:00   \n",
       "3            80.0       1.0     417.0              2  2017-05-06 20:30:00  2017-05-06 20:00:00   \n",
       "4            80.0      -2.0     417.0              2  2017-05-06 13:25:00  2017-05-06 13:00:00   \n",
       "\n",
       "                 combined  precip_sum  \n",
       "0  SJC2017-05-06 06:00:00         NaN  \n",
       "1  SJC2017-05-06 17:00:00         NaN  \n",
       "2  SJC2017-05-06 11:00:00         NaN  \n",
       "3  SJC2017-05-06 20:00:00         NaN  \n",
       "4  SJC2017-05-06 13:00:00         NaN  "
      ]
     },
     "execution_count": 186,
     "metadata": {},
     "output_type": "execute_result"
    }
   ],
   "source": [
    "df.head()"
   ]
  },
  {
   "cell_type": "code",
   "execution_count": 187,
   "metadata": {},
   "outputs": [],
   "source": [
    "df = df.fillna(0)"
   ]
  },
  {
   "cell_type": "code",
   "execution_count": 9,
   "metadata": {
    "ExecuteTime": {
     "end_time": "2019-04-27T13:29:39.466164Z",
     "start_time": "2019-04-27T13:29:39.434188Z"
    }
   },
   "outputs": [
    {
     "data": {
      "text/html": [
       "<div>\n",
       "<style scoped>\n",
       "    .dataframe tbody tr th:only-of-type {\n",
       "        vertical-align: middle;\n",
       "    }\n",
       "\n",
       "    .dataframe tbody tr th {\n",
       "        vertical-align: top;\n",
       "    }\n",
       "\n",
       "    .dataframe thead th {\n",
       "        text-align: right;\n",
       "    }\n",
       "</style>\n",
       "<table border=\"1\" class=\"dataframe\">\n",
       "  <thead>\n",
       "    <tr style=\"text-align: right;\">\n",
       "      <th></th>\n",
       "      <th>Quarter</th>\n",
       "      <th>Month</th>\n",
       "      <th>DayofMonth</th>\n",
       "      <th>DayOfWeek</th>\n",
       "      <th>FlightDate</th>\n",
       "      <th>Reporting_Airline</th>\n",
       "      <th>Tail_Number</th>\n",
       "      <th>Flight_Number_Reporting_Airline</th>\n",
       "      <th>Origin</th>\n",
       "      <th>OriginState</th>\n",
       "      <th>...</th>\n",
       "      <th>CRSElapsedTime</th>\n",
       "      <th>ArrDelay</th>\n",
       "      <th>Distance</th>\n",
       "      <th>DistanceGroup</th>\n",
       "      <th>precip_sum</th>\n",
       "      <th>ARR_HOUR</th>\n",
       "      <th>DEP_HOUR</th>\n",
       "      <th>DOM_DIRECTION</th>\n",
       "      <th>flight_freq</th>\n",
       "      <th>flight_delay_freq</th>\n",
       "    </tr>\n",
       "  </thead>\n",
       "  <tbody>\n",
       "    <tr>\n",
       "      <th>0</th>\n",
       "      <td>2</td>\n",
       "      <td>5</td>\n",
       "      <td>6</td>\n",
       "      <td>6</td>\n",
       "      <td>2017-05-06 00:00:00</td>\n",
       "      <td>WN</td>\n",
       "      <td>N7824A</td>\n",
       "      <td>4652</td>\n",
       "      <td>SJC</td>\n",
       "      <td>CA</td>\n",
       "      <td>...</td>\n",
       "      <td>80.0</td>\n",
       "      <td>2.0</td>\n",
       "      <td>417.0</td>\n",
       "      <td>2</td>\n",
       "      <td>0.0</td>\n",
       "      <td>8</td>\n",
       "      <td>6</td>\n",
       "      <td>East</td>\n",
       "      <td>17</td>\n",
       "      <td>23.250</td>\n",
       "    </tr>\n",
       "    <tr>\n",
       "      <th>1</th>\n",
       "      <td>2</td>\n",
       "      <td>5</td>\n",
       "      <td>6</td>\n",
       "      <td>6</td>\n",
       "      <td>2017-05-06 00:00:00</td>\n",
       "      <td>WN</td>\n",
       "      <td>N8522P</td>\n",
       "      <td>4971</td>\n",
       "      <td>SJC</td>\n",
       "      <td>CA</td>\n",
       "      <td>...</td>\n",
       "      <td>80.0</td>\n",
       "      <td>-7.0</td>\n",
       "      <td>417.0</td>\n",
       "      <td>2</td>\n",
       "      <td>0.0</td>\n",
       "      <td>18</td>\n",
       "      <td>17</td>\n",
       "      <td>East</td>\n",
       "      <td>7</td>\n",
       "      <td>0.250</td>\n",
       "    </tr>\n",
       "    <tr>\n",
       "      <th>2</th>\n",
       "      <td>2</td>\n",
       "      <td>5</td>\n",
       "      <td>6</td>\n",
       "      <td>6</td>\n",
       "      <td>2017-05-06 00:00:00</td>\n",
       "      <td>WN</td>\n",
       "      <td>N8617E</td>\n",
       "      <td>5113</td>\n",
       "      <td>SJC</td>\n",
       "      <td>CA</td>\n",
       "      <td>...</td>\n",
       "      <td>80.0</td>\n",
       "      <td>0.0</td>\n",
       "      <td>417.0</td>\n",
       "      <td>2</td>\n",
       "      <td>0.0</td>\n",
       "      <td>12</td>\n",
       "      <td>11</td>\n",
       "      <td>East</td>\n",
       "      <td>8</td>\n",
       "      <td>-1.000</td>\n",
       "    </tr>\n",
       "    <tr>\n",
       "      <th>3</th>\n",
       "      <td>2</td>\n",
       "      <td>5</td>\n",
       "      <td>6</td>\n",
       "      <td>6</td>\n",
       "      <td>2017-05-06 00:00:00</td>\n",
       "      <td>WN</td>\n",
       "      <td>N450WN</td>\n",
       "      <td>5150</td>\n",
       "      <td>SJC</td>\n",
       "      <td>CA</td>\n",
       "      <td>...</td>\n",
       "      <td>80.0</td>\n",
       "      <td>1.0</td>\n",
       "      <td>417.0</td>\n",
       "      <td>2</td>\n",
       "      <td>0.0</td>\n",
       "      <td>21</td>\n",
       "      <td>20</td>\n",
       "      <td>East</td>\n",
       "      <td>3</td>\n",
       "      <td>-7.750</td>\n",
       "    </tr>\n",
       "    <tr>\n",
       "      <th>4</th>\n",
       "      <td>2</td>\n",
       "      <td>5</td>\n",
       "      <td>6</td>\n",
       "      <td>6</td>\n",
       "      <td>2017-05-06 00:00:00</td>\n",
       "      <td>WN</td>\n",
       "      <td>N498WN</td>\n",
       "      <td>5711</td>\n",
       "      <td>SJC</td>\n",
       "      <td>CA</td>\n",
       "      <td>...</td>\n",
       "      <td>80.0</td>\n",
       "      <td>-2.0</td>\n",
       "      <td>417.0</td>\n",
       "      <td>2</td>\n",
       "      <td>0.0</td>\n",
       "      <td>14</td>\n",
       "      <td>13</td>\n",
       "      <td>East</td>\n",
       "      <td>10</td>\n",
       "      <td>1.625</td>\n",
       "    </tr>\n",
       "  </tbody>\n",
       "</table>\n",
       "<p>5 rows × 22 columns</p>\n",
       "</div>"
      ],
      "text/plain": [
       "   Quarter  Month  DayofMonth  DayOfWeek           FlightDate  \\\n",
       "0        2      5           6          6  2017-05-06 00:00:00   \n",
       "1        2      5           6          6  2017-05-06 00:00:00   \n",
       "2        2      5           6          6  2017-05-06 00:00:00   \n",
       "3        2      5           6          6  2017-05-06 00:00:00   \n",
       "4        2      5           6          6  2017-05-06 00:00:00   \n",
       "\n",
       "  Reporting_Airline Tail_Number  Flight_Number_Reporting_Airline Origin  \\\n",
       "0                WN      N7824A                             4652    SJC   \n",
       "1                WN      N8522P                             4971    SJC   \n",
       "2                WN      N8617E                             5113    SJC   \n",
       "3                WN      N450WN                             5150    SJC   \n",
       "4                WN      N498WN                             5711    SJC   \n",
       "\n",
       "  OriginState        ...        CRSElapsedTime ArrDelay  Distance  \\\n",
       "0          CA        ...                  80.0      2.0     417.0   \n",
       "1          CA        ...                  80.0     -7.0     417.0   \n",
       "2          CA        ...                  80.0      0.0     417.0   \n",
       "3          CA        ...                  80.0      1.0     417.0   \n",
       "4          CA        ...                  80.0     -2.0     417.0   \n",
       "\n",
       "   DistanceGroup  precip_sum  ARR_HOUR  DEP_HOUR  DOM_DIRECTION  flight_freq  \\\n",
       "0              2         0.0         8         6           East           17   \n",
       "1              2         0.0        18        17           East            7   \n",
       "2              2         0.0        12        11           East            8   \n",
       "3              2         0.0        21        20           East            3   \n",
       "4              2         0.0        14        13           East           10   \n",
       "\n",
       "  flight_delay_freq  \n",
       "0            23.250  \n",
       "1             0.250  \n",
       "2            -1.000  \n",
       "3            -7.750  \n",
       "4             1.625  \n",
       "\n",
       "[5 rows x 22 columns]"
      ]
     },
     "execution_count": 9,
     "metadata": {},
     "output_type": "execute_result"
    }
   ],
   "source": [
    "df.head()"
   ]
  },
  {
   "cell_type": "code",
   "execution_count": 190,
   "metadata": {
    "ExecuteTime": {
     "end_time": "2019-04-24T14:12:36.395586Z",
     "start_time": "2019-04-24T14:12:36.384957Z"
    },
    "scrolled": true
   },
   "outputs": [
    {
     "data": {
      "text/plain": [
       "Index(['Quarter', 'Month', 'DayofMonth', 'DayOfWeek', 'FlightDate', 'Reporting_Airline',\n",
       "       'Tail_Number', 'Flight_Number_Reporting_Airline', 'Origin', 'OriginState', 'DestState',\n",
       "       'Dest', 'CRSDepTime', 'CRSArrTime', 'CRSElapsedTime', 'ArrDelay', 'Distance',\n",
       "       'DistanceGroup', 'FL_TIME', 'FL_TIME_NEW', 'combined', 'precip_sum'],\n",
       "      dtype='object')"
      ]
     },
     "execution_count": 190,
     "metadata": {},
     "output_type": "execute_result"
    }
   ],
   "source": [
    "df.columns"
   ]
  },
  {
   "cell_type": "code",
   "execution_count": 191,
   "metadata": {
    "ExecuteTime": {
     "end_time": "2019-04-24T14:12:43.599844Z",
     "start_time": "2019-04-24T14:12:42.052257Z"
    }
   },
   "outputs": [],
   "source": [
    "#Let's remove the features that will not be available for predicting flights\n",
    "df = df[['Quarter', 'Month', 'DayofMonth', 'DayOfWeek', 'FlightDate',\n",
    "       'Reporting_Airline', 'Tail_Number', 'Flight_Number_Reporting_Airline',\n",
    "       'Origin', 'OriginState', 'DestState', 'Dest', 'CRSDepTime', 'CRSArrTime', 'CRSElapsedTime',\n",
    "       'ArrDelay', 'Distance', 'DistanceGroup','precip_sum']]\n",
    "df = df.reindex()"
   ]
  },
  {
   "cell_type": "code",
   "execution_count": 60,
   "metadata": {
    "ExecuteTime": {
     "end_time": "2019-05-01T22:55:52.916426Z",
     "start_time": "2019-05-01T22:55:52.686987Z"
    }
   },
   "outputs": [],
   "source": [
    "airlines = list(df.Reporting_Airline.unique())"
   ]
  },
  {
   "cell_type": "markdown",
   "metadata": {},
   "source": [
    "## Feature Engineering"
   ]
  },
  {
   "cell_type": "markdown",
   "metadata": {},
   "source": [
    "#### Hourly bins"
   ]
  },
  {
   "cell_type": "code",
   "execution_count": 194,
   "metadata": {
    "ExecuteTime": {
     "end_time": "2019-04-24T14:12:56.200065Z",
     "start_time": "2019-04-24T14:12:46.078783Z"
    }
   },
   "outputs": [],
   "source": [
    "#Let's convert the DEP_TIME and ARR_TIME into hours only. \n",
    "df['ARR_HOUR'] = df['CRSArrTime'].apply(lambda x: int(str(x)[:2]) if x>999 else int(str(x)[:1] if x>99 else 0))\n",
    "df['ARR_HOUR'] = df['ARR_HOUR'].apply(lambda x:0 if x==24 else x)\n",
    "df['DEP_HOUR'] = df['CRSDepTime'].apply(lambda x: int(str(x)[:2]) if x>999 else int(str(x)[:1] if x>99 else 0))\n",
    "df = df.drop(columns=['CRSDepTime', 'CRSArrTime'])"
   ]
  },
  {
   "cell_type": "code",
   "execution_count": 195,
   "metadata": {},
   "outputs": [
    {
     "data": {
      "text/html": [
       "<div>\n",
       "<style scoped>\n",
       "    .dataframe tbody tr th:only-of-type {\n",
       "        vertical-align: middle;\n",
       "    }\n",
       "\n",
       "    .dataframe tbody tr th {\n",
       "        vertical-align: top;\n",
       "    }\n",
       "\n",
       "    .dataframe thead th {\n",
       "        text-align: right;\n",
       "    }\n",
       "</style>\n",
       "<table border=\"1\" class=\"dataframe\">\n",
       "  <thead>\n",
       "    <tr style=\"text-align: right;\">\n",
       "      <th></th>\n",
       "      <th>Quarter</th>\n",
       "      <th>Month</th>\n",
       "      <th>DayofMonth</th>\n",
       "      <th>DayOfWeek</th>\n",
       "      <th>FlightDate</th>\n",
       "      <th>Reporting_Airline</th>\n",
       "      <th>Tail_Number</th>\n",
       "      <th>Flight_Number_Reporting_Airline</th>\n",
       "      <th>Origin</th>\n",
       "      <th>OriginState</th>\n",
       "      <th>DestState</th>\n",
       "      <th>Dest</th>\n",
       "      <th>CRSElapsedTime</th>\n",
       "      <th>ArrDelay</th>\n",
       "      <th>Distance</th>\n",
       "      <th>DistanceGroup</th>\n",
       "      <th>precip_sum</th>\n",
       "      <th>ARR_HOUR</th>\n",
       "      <th>DEP_HOUR</th>\n",
       "    </tr>\n",
       "  </thead>\n",
       "  <tbody>\n",
       "    <tr>\n",
       "      <th>0</th>\n",
       "      <td>2</td>\n",
       "      <td>5</td>\n",
       "      <td>6</td>\n",
       "      <td>6</td>\n",
       "      <td>2017-05-06 00:00:00</td>\n",
       "      <td>WN</td>\n",
       "      <td>N7824A</td>\n",
       "      <td>4652</td>\n",
       "      <td>SJC</td>\n",
       "      <td>CA</td>\n",
       "      <td>CA</td>\n",
       "      <td>SAN</td>\n",
       "      <td>80.0</td>\n",
       "      <td>2.0</td>\n",
       "      <td>417.0</td>\n",
       "      <td>2</td>\n",
       "      <td>0.0</td>\n",
       "      <td>8</td>\n",
       "      <td>6</td>\n",
       "    </tr>\n",
       "    <tr>\n",
       "      <th>1</th>\n",
       "      <td>2</td>\n",
       "      <td>5</td>\n",
       "      <td>6</td>\n",
       "      <td>6</td>\n",
       "      <td>2017-05-06 00:00:00</td>\n",
       "      <td>WN</td>\n",
       "      <td>N8522P</td>\n",
       "      <td>4971</td>\n",
       "      <td>SJC</td>\n",
       "      <td>CA</td>\n",
       "      <td>CA</td>\n",
       "      <td>SAN</td>\n",
       "      <td>80.0</td>\n",
       "      <td>-7.0</td>\n",
       "      <td>417.0</td>\n",
       "      <td>2</td>\n",
       "      <td>0.0</td>\n",
       "      <td>18</td>\n",
       "      <td>17</td>\n",
       "    </tr>\n",
       "    <tr>\n",
       "      <th>2</th>\n",
       "      <td>2</td>\n",
       "      <td>5</td>\n",
       "      <td>6</td>\n",
       "      <td>6</td>\n",
       "      <td>2017-05-06 00:00:00</td>\n",
       "      <td>WN</td>\n",
       "      <td>N8617E</td>\n",
       "      <td>5113</td>\n",
       "      <td>SJC</td>\n",
       "      <td>CA</td>\n",
       "      <td>CA</td>\n",
       "      <td>SAN</td>\n",
       "      <td>80.0</td>\n",
       "      <td>0.0</td>\n",
       "      <td>417.0</td>\n",
       "      <td>2</td>\n",
       "      <td>0.0</td>\n",
       "      <td>12</td>\n",
       "      <td>11</td>\n",
       "    </tr>\n",
       "    <tr>\n",
       "      <th>3</th>\n",
       "      <td>2</td>\n",
       "      <td>5</td>\n",
       "      <td>6</td>\n",
       "      <td>6</td>\n",
       "      <td>2017-05-06 00:00:00</td>\n",
       "      <td>WN</td>\n",
       "      <td>N450WN</td>\n",
       "      <td>5150</td>\n",
       "      <td>SJC</td>\n",
       "      <td>CA</td>\n",
       "      <td>CA</td>\n",
       "      <td>SAN</td>\n",
       "      <td>80.0</td>\n",
       "      <td>1.0</td>\n",
       "      <td>417.0</td>\n",
       "      <td>2</td>\n",
       "      <td>0.0</td>\n",
       "      <td>21</td>\n",
       "      <td>20</td>\n",
       "    </tr>\n",
       "    <tr>\n",
       "      <th>4</th>\n",
       "      <td>2</td>\n",
       "      <td>5</td>\n",
       "      <td>6</td>\n",
       "      <td>6</td>\n",
       "      <td>2017-05-06 00:00:00</td>\n",
       "      <td>WN</td>\n",
       "      <td>N498WN</td>\n",
       "      <td>5711</td>\n",
       "      <td>SJC</td>\n",
       "      <td>CA</td>\n",
       "      <td>CA</td>\n",
       "      <td>SAN</td>\n",
       "      <td>80.0</td>\n",
       "      <td>-2.0</td>\n",
       "      <td>417.0</td>\n",
       "      <td>2</td>\n",
       "      <td>0.0</td>\n",
       "      <td>14</td>\n",
       "      <td>13</td>\n",
       "    </tr>\n",
       "  </tbody>\n",
       "</table>\n",
       "</div>"
      ],
      "text/plain": [
       "   Quarter  Month  DayofMonth  DayOfWeek           FlightDate Reporting_Airline Tail_Number  \\\n",
       "0        2      5           6          6  2017-05-06 00:00:00                WN      N7824A   \n",
       "1        2      5           6          6  2017-05-06 00:00:00                WN      N8522P   \n",
       "2        2      5           6          6  2017-05-06 00:00:00                WN      N8617E   \n",
       "3        2      5           6          6  2017-05-06 00:00:00                WN      N450WN   \n",
       "4        2      5           6          6  2017-05-06 00:00:00                WN      N498WN   \n",
       "\n",
       "   Flight_Number_Reporting_Airline Origin OriginState DestState Dest  CRSElapsedTime  ArrDelay  \\\n",
       "0                             4652    SJC          CA        CA  SAN            80.0       2.0   \n",
       "1                             4971    SJC          CA        CA  SAN            80.0      -7.0   \n",
       "2                             5113    SJC          CA        CA  SAN            80.0       0.0   \n",
       "3                             5150    SJC          CA        CA  SAN            80.0       1.0   \n",
       "4                             5711    SJC          CA        CA  SAN            80.0      -2.0   \n",
       "\n",
       "   Distance  DistanceGroup  precip_sum  ARR_HOUR  DEP_HOUR  \n",
       "0     417.0              2         0.0         8         6  \n",
       "1     417.0              2         0.0        18        17  \n",
       "2     417.0              2         0.0        12        11  \n",
       "3     417.0              2         0.0        21        20  \n",
       "4     417.0              2         0.0        14        13  "
      ]
     },
     "execution_count": 195,
     "metadata": {},
     "output_type": "execute_result"
    }
   ],
   "source": [
    "df.head()"
   ]
  },
  {
   "cell_type": "markdown",
   "metadata": {},
   "source": [
    "#### Direction of flight (Choose the dominant direction of flight)"
   ]
  },
  {
   "cell_type": "code",
   "execution_count": 196,
   "metadata": {
    "ExecuteTime": {
     "end_time": "2019-04-24T14:14:01.122803Z",
     "start_time": "2019-04-24T14:12:56.266222Z"
    }
   },
   "outputs": [],
   "source": [
    "#let's add a direction of flight features\n",
    "#import airport location information csv\n",
    "airport_location = pd.read_csv('airport_loc.csv')\n",
    "#combine Latitude and Longitude into a tuple and form a new column and drop the Latitude & Longitude columns\n",
    "airport_location['location'] = list(zip(airport_location.Latitude, airport_location.Longitude))\n",
    "airports_locs = airport_location.copy()\n",
    "airports_locs.head()\n",
    "airports_locs.drop(['Latitude', 'Longitude'], axis=1, inplace=True)\n",
    "airport_loc = airports_locs.set_index('locationID').to_dict()['location']\n",
    "\n",
    "#create two new columns with location coordinates of origin and destination airports\n",
    "df['ORIGIN_LOC'] = df.Origin.apply(lambda x: airport_loc.get(x))\n",
    "df['DEST_LOC'] = df.Dest.apply(lambda x: airport_loc.get(x))\n",
    "\n",
    "#turn into an array so we can subtract and determine which direction the plane is traveling\n",
    "df.ORIGIN_LOC = df.ORIGIN_LOC.apply(lambda x: np.asarray(x))\n",
    "df.DEST_LOC = df.DEST_LOC.apply(lambda x: np.asarray(x))\n",
    "df['DIRECTION'] = df.ORIGIN_LOC - df.DEST_LOC\n",
    "\n",
    "df = df.dropna(subset=['DIRECTION'])\n",
    "#(n/s - increasing to the north : e/w - increasing to the west)\n",
    "# if first number is negative = south - north = plane is going north\n",
    "# if second number is negative = east - west = plane is going west\n",
    "\n",
    "def direction(latlong):\n",
    "    if latlong[0] < 0:\n",
    "        direction1 = 'North'\n",
    "    else:\n",
    "        direction1 = 'South'\n",
    "    if latlong[1] < 0:\n",
    "        direction2 = 'West'\n",
    "    else:\n",
    "        direction2 = 'East'\n",
    "    if abs(latlong[0]) > abs(latlong[1]):\n",
    "        dom_dir = direction1\n",
    "    else:\n",
    "        dom_dir = direction2\n",
    "    return dom_dir      \n",
    "df['DOM_DIRECTION'] = df.DIRECTION.apply(direction)\n",
    "\n",
    "#clean up and delete the columns created for this tranformation\n",
    "df = df.drop(columns=['ORIGIN_LOC', 'DEST_LOC', 'DIRECTION'])"
   ]
  },
  {
   "cell_type": "markdown",
   "metadata": {},
   "source": [
    "#### Weather"
   ]
  },
  {
   "cell_type": "markdown",
   "metadata": {},
   "source": [
    "https://mesonet.agron.iastate.edu/ASOS/"
   ]
  },
  {
   "cell_type": "markdown",
   "metadata": {},
   "source": [
    "Weather data has been pre-processed in a seperate notebook and imported in the flight dataset. We're using Origin airport with 4 hours prior to departure precipitation data."
   ]
  },
  {
   "cell_type": "markdown",
   "metadata": {},
   "source": [
    "#### Create a feature with Hourly Flight Frequency at Origin (number of flights at a givin airport during a given hour block)"
   ]
  },
  {
   "cell_type": "code",
   "execution_count": 413,
   "metadata": {
    "ExecuteTime": {
     "end_time": "2019-05-02T16:11:22.985096Z",
     "start_time": "2019-05-02T16:11:18.432489Z"
    }
   },
   "outputs": [],
   "source": [
    "#create a dataframe with multiIndex for easy lookup\n",
    "fltfrq_df = pd.DataFrame(df.groupby(['Origin', 'Month', 'DayofMonth', 'DayOfWeek', 'DEP_HOUR'])['Month'].count())\n",
    "\n",
    "fltfrq_df_dict = fltfrq_df.to_dict()['Month']"
   ]
  },
  {
   "cell_type": "code",
   "execution_count": null,
   "metadata": {},
   "outputs": [],
   "source": [
    "#create a tuple column with all the required information to look up the flight frequency \n",
    "#in the newly created dictionary (fltfrq_df_dict)\n",
    "df['temp'] = list(zip(df.Origin, df.Month, df.DayofMonth, df.DayOfWeek, df.DEP_HOUR))\n",
    "df['flight_freq'] = df.temp.apply(lambda x: fltfrq_df_dict.get(x))\n",
    "df = df.drop(columns=['temp'])"
   ]
  },
  {
   "cell_type": "markdown",
   "metadata": {},
   "source": [
    "#### Monthly flight route delay averages aggregated by flight number (including Origin and Destination airports to account for flight number changes)"
   ]
  },
  {
   "cell_type": "code",
   "execution_count": 411,
   "metadata": {
    "ExecuteTime": {
     "end_time": "2019-05-02T16:09:41.037273Z",
     "start_time": "2019-05-02T16:09:37.058416Z"
    }
   },
   "outputs": [],
   "source": [
    "#create a dataframe with multiIndex for easy lookup\n",
    "look_up_df = pd.DataFrame(df.groupby(['Month','Flight_Number_Reporting_Airline',\n",
    "                                      'Reporting_Airline','Origin','Dest'])['ArrDelay'].mean())\n",
    "#create a dictionary from the DataFrame for faster look-up\n",
    "look_up_df_dict = look_up_df.to_dict()['ArrDelay']"
   ]
  },
  {
   "cell_type": "code",
   "execution_count": null,
   "metadata": {},
   "outputs": [],
   "source": [
    "#create a tuple column with all the required information to look up the flight frequency in \n",
    "#the newly created dictionary (delayfrq_df_dict)\n",
    "df['temp'] = list(zip(df.Month, df.Flight_Number_Reporting_Airline, df.Reporting_Airline, df.Origin, df.Dest))\n",
    "df['flight_delay_freq'] = df.temp.apply(lambda x: look_up_df_dict.get(x))\n",
    "df = df.drop(columns=['temp'])"
   ]
  },
  {
   "cell_type": "markdown",
   "metadata": {},
   "source": [
    "#### Passenger Loading Data"
   ]
  },
  {
   "cell_type": "code",
   "execution_count": 62,
   "metadata": {
    "ExecuteTime": {
     "end_time": "2019-05-01T22:56:16.190962Z",
     "start_time": "2019-05-01T22:56:08.926042Z"
    }
   },
   "outputs": [],
   "source": [
    "#import the passenger load data\n",
    "load_factor_df = pd.read_csv('./Data/Loading.csv')\n",
    "load_factor_df = load_factor_df[load_factor_df.CARRIER.isin(airlines)]\n",
    "load_factor_df['LOAD_FACTOR'] = (load_factor_df.PASSENGERS * load_factor_df.DISTANCE) /\\\n",
    "(load_factor_df.SEATS * load_factor_df.DISTANCE)\n",
    "look_up_factor = pd.DataFrame(load_factor_df.groupby(['MONTH', 'CARRIER', 'ORIGIN','DEST'])['LOAD_FACTOR'].mean())"
   ]
  },
  {
   "cell_type": "code",
   "execution_count": 103,
   "metadata": {
    "ExecuteTime": {
     "end_time": "2019-05-02T01:40:24.876567Z",
     "start_time": "2019-05-02T01:40:24.854698Z"
    }
   },
   "outputs": [],
   "source": [
    "load_factor_dict = look_up_factor.to_dict()['LOAD_FACTOR']"
   ]
  },
  {
   "cell_type": "code",
   "execution_count": 108,
   "metadata": {
    "ExecuteTime": {
     "end_time": "2019-05-02T01:42:38.349556Z",
     "start_time": "2019-05-02T01:42:29.900394Z"
    },
    "scrolled": true
   },
   "outputs": [],
   "source": [
    "df['temp'] = list(zip(df.Month, df.Reporting_Airline, df.Origin, df.Dest))\n",
    "df['LoadFactor'] = df.temp.apply(lambda x: load_factor_dict.get((x)))\n",
    "df = df.drop(columns=['temp'])"
   ]
  },
  {
   "cell_type": "markdown",
   "metadata": {},
   "source": [
    "#### Export as a csv file for easier modeling later"
   ]
  },
  {
   "cell_type": "code",
   "execution_count": 110,
   "metadata": {
    "ExecuteTime": {
     "end_time": "2019-05-02T01:53:48.117842Z",
     "start_time": "2019-05-02T01:52:17.239885Z"
    }
   },
   "outputs": [],
   "source": [
    "df.to_csv('./Data/2017FeatEng.csv', index = False, encoding = 'utf-8')"
   ]
  },
  {
   "cell_type": "markdown",
   "metadata": {},
   "source": [
    "## Adding final filters and Target column"
   ]
  },
  {
   "cell_type": "markdown",
   "metadata": {},
   "source": [
    "#### Pick top 20 airports and top 5 airlines"
   ]
  },
  {
   "cell_type": "code",
   "execution_count": 5,
   "metadata": {
    "ExecuteTime": {
     "end_time": "2019-05-03T19:18:22.559188Z",
     "start_time": "2019-05-03T19:18:22.284600Z"
    }
   },
   "outputs": [],
   "source": [
    "#create a list with top 20 airport origins by flight volume\n",
    "top_20 = list(df.groupby('Origin').size().sort_values(ascending=False)[0:20].index)"
   ]
  },
  {
   "cell_type": "code",
   "execution_count": 6,
   "metadata": {
    "ExecuteTime": {
     "end_time": "2019-05-03T19:18:22.928252Z",
     "start_time": "2019-05-03T19:18:22.714110Z"
    }
   },
   "outputs": [],
   "source": [
    "#create a list with top 5 airlines by flight volume\n",
    "top_5 = list(df.groupby('Reporting_Airline').size().sort_values(ascending=False)[0:5].index)"
   ]
  },
  {
   "cell_type": "code",
   "execution_count": 7,
   "metadata": {
    "ExecuteTime": {
     "end_time": "2019-05-03T19:18:23.904291Z",
     "start_time": "2019-05-03T19:18:22.997511Z"
    }
   },
   "outputs": [],
   "source": [
    "#only use top 20 origin airports\n",
    "top_df = df[df.Origin.isin(top_20)]"
   ]
  },
  {
   "cell_type": "code",
   "execution_count": 8,
   "metadata": {
    "ExecuteTime": {
     "end_time": "2019-05-03T19:18:24.595976Z",
     "start_time": "2019-05-03T19:18:24.001851Z"
    }
   },
   "outputs": [],
   "source": [
    "#only use top 5 airlines\n",
    "top_df = top_df[top_df.Reporting_Airline.isin(top_5)]"
   ]
  },
  {
   "cell_type": "markdown",
   "metadata": {},
   "source": [
    "#### Status (Delayed or Ontime)"
   ]
  },
  {
   "cell_type": "code",
   "execution_count": 236,
   "metadata": {
    "ExecuteTime": {
     "end_time": "2019-05-04T03:54:19.529449Z",
     "start_time": "2019-05-04T03:54:18.363201Z"
    }
   },
   "outputs": [],
   "source": [
    "#Add a column classifying if the flight is delayed or not using 20 minutes as delayed\n",
    "top_df['STATUS'] = top_df.ArrDelay.apply(lambda x: 1 if x >= 15 else 0)"
   ]
  },
  {
   "cell_type": "markdown",
   "metadata": {},
   "source": [
    "## Creating X matrix"
   ]
  },
  {
   "cell_type": "code",
   "execution_count": 237,
   "metadata": {
    "ExecuteTime": {
     "end_time": "2019-05-04T03:54:22.452560Z",
     "start_time": "2019-05-04T03:54:22.449758Z"
    },
    "scrolled": true
   },
   "outputs": [],
   "source": [
    "name = top_df"
   ]
  },
  {
   "cell_type": "code",
   "execution_count": 238,
   "metadata": {
    "ExecuteTime": {
     "end_time": "2019-05-04T03:54:22.953040Z",
     "start_time": "2019-05-04T03:54:22.933395Z"
    },
    "scrolled": false
   },
   "outputs": [
    {
     "data": {
      "text/html": [
       "<div>\n",
       "<style scoped>\n",
       "    .dataframe tbody tr th:only-of-type {\n",
       "        vertical-align: middle;\n",
       "    }\n",
       "\n",
       "    .dataframe tbody tr th {\n",
       "        vertical-align: top;\n",
       "    }\n",
       "\n",
       "    .dataframe thead th {\n",
       "        text-align: right;\n",
       "    }\n",
       "</style>\n",
       "<table border=\"1\" class=\"dataframe\">\n",
       "  <thead>\n",
       "    <tr style=\"text-align: right;\">\n",
       "      <th></th>\n",
       "      <th>Quarter</th>\n",
       "      <th>Month</th>\n",
       "      <th>DayofMonth</th>\n",
       "      <th>DayOfWeek</th>\n",
       "      <th>FlightDate</th>\n",
       "      <th>Reporting_Airline</th>\n",
       "      <th>Tail_Number</th>\n",
       "      <th>Flight_Number_Reporting_Airline</th>\n",
       "      <th>Origin</th>\n",
       "      <th>OriginState</th>\n",
       "      <th>DestState</th>\n",
       "      <th>Dest</th>\n",
       "      <th>CRSElapsedTime</th>\n",
       "      <th>ArrDelay</th>\n",
       "      <th>Distance</th>\n",
       "      <th>DistanceGroup</th>\n",
       "      <th>precip_sum</th>\n",
       "      <th>ARR_HOUR</th>\n",
       "      <th>DEP_HOUR</th>\n",
       "      <th>DOM_DIRECTION</th>\n",
       "      <th>flight_freq</th>\n",
       "      <th>flight_delay_freq</th>\n",
       "      <th>LoadFactor</th>\n",
       "      <th>STATUS</th>\n",
       "    </tr>\n",
       "  </thead>\n",
       "  <tbody>\n",
       "    <tr>\n",
       "      <th>25</th>\n",
       "      <td>2</td>\n",
       "      <td>5</td>\n",
       "      <td>6</td>\n",
       "      <td>6</td>\n",
       "      <td>2017-05-06 00:00:00</td>\n",
       "      <td>4</td>\n",
       "      <td>1691</td>\n",
       "      <td>435</td>\n",
       "      <td>19</td>\n",
       "      <td>15</td>\n",
       "      <td>4</td>\n",
       "      <td>39</td>\n",
       "      <td>120.0</td>\n",
       "      <td>-18.0</td>\n",
       "      <td>574.0</td>\n",
       "      <td>3</td>\n",
       "      <td>0.0</td>\n",
       "      <td>19</td>\n",
       "      <td>18</td>\n",
       "      <td>2</td>\n",
       "      <td>1</td>\n",
       "      <td>24.25</td>\n",
       "      <td>0.340491</td>\n",
       "      <td>0</td>\n",
       "    </tr>\n",
       "    <tr>\n",
       "      <th>26</th>\n",
       "      <td>2</td>\n",
       "      <td>5</td>\n",
       "      <td>6</td>\n",
       "      <td>6</td>\n",
       "      <td>2017-05-06 00:00:00</td>\n",
       "      <td>4</td>\n",
       "      <td>1691</td>\n",
       "      <td>451</td>\n",
       "      <td>19</td>\n",
       "      <td>15</td>\n",
       "      <td>4</td>\n",
       "      <td>39</td>\n",
       "      <td>115.0</td>\n",
       "      <td>-9.0</td>\n",
       "      <td>574.0</td>\n",
       "      <td>3</td>\n",
       "      <td>0.0</td>\n",
       "      <td>9</td>\n",
       "      <td>8</td>\n",
       "      <td>2</td>\n",
       "      <td>22</td>\n",
       "      <td>-7.50</td>\n",
       "      <td>0.340491</td>\n",
       "      <td>0</td>\n",
       "    </tr>\n",
       "    <tr>\n",
       "      <th>27</th>\n",
       "      <td>2</td>\n",
       "      <td>5</td>\n",
       "      <td>6</td>\n",
       "      <td>6</td>\n",
       "      <td>2017-05-06 00:00:00</td>\n",
       "      <td>4</td>\n",
       "      <td>3116</td>\n",
       "      <td>4720</td>\n",
       "      <td>19</td>\n",
       "      <td>15</td>\n",
       "      <td>18</td>\n",
       "      <td>40</td>\n",
       "      <td>250.0</td>\n",
       "      <td>-1.0</td>\n",
       "      <td>1865.0</td>\n",
       "      <td>8</td>\n",
       "      <td>0.0</td>\n",
       "      <td>15</td>\n",
       "      <td>9</td>\n",
       "      <td>0</td>\n",
       "      <td>23</td>\n",
       "      <td>1.50</td>\n",
       "      <td>0.805389</td>\n",
       "      <td>0</td>\n",
       "    </tr>\n",
       "    <tr>\n",
       "      <th>28</th>\n",
       "      <td>2</td>\n",
       "      <td>5</td>\n",
       "      <td>6</td>\n",
       "      <td>6</td>\n",
       "      <td>2017-05-06 00:00:00</td>\n",
       "      <td>4</td>\n",
       "      <td>3048</td>\n",
       "      <td>2435</td>\n",
       "      <td>19</td>\n",
       "      <td>15</td>\n",
       "      <td>42</td>\n",
       "      <td>66</td>\n",
       "      <td>150.0</td>\n",
       "      <td>0.0</td>\n",
       "      <td>999.0</td>\n",
       "      <td>4</td>\n",
       "      <td>0.0</td>\n",
       "      <td>18</td>\n",
       "      <td>14</td>\n",
       "      <td>0</td>\n",
       "      <td>7</td>\n",
       "      <td>-7.25</td>\n",
       "      <td>0.833898</td>\n",
       "      <td>0</td>\n",
       "    </tr>\n",
       "    <tr>\n",
       "      <th>29</th>\n",
       "      <td>2</td>\n",
       "      <td>5</td>\n",
       "      <td>6</td>\n",
       "      <td>6</td>\n",
       "      <td>2017-05-06 00:00:00</td>\n",
       "      <td>4</td>\n",
       "      <td>2598</td>\n",
       "      <td>4757</td>\n",
       "      <td>19</td>\n",
       "      <td>15</td>\n",
       "      <td>5</td>\n",
       "      <td>69</td>\n",
       "      <td>85.0</td>\n",
       "      <td>-13.0</td>\n",
       "      <td>391.0</td>\n",
       "      <td>2</td>\n",
       "      <td>0.0</td>\n",
       "      <td>14</td>\n",
       "      <td>13</td>\n",
       "      <td>0</td>\n",
       "      <td>15</td>\n",
       "      <td>-4.50</td>\n",
       "      <td>0.795838</td>\n",
       "      <td>0</td>\n",
       "    </tr>\n",
       "  </tbody>\n",
       "</table>\n",
       "</div>"
      ],
      "text/plain": [
       "    Quarter  Month  DayofMonth  DayOfWeek           FlightDate  Reporting_Airline  Tail_Number  \\\n",
       "25        2      5           6          6  2017-05-06 00:00:00                  4         1691   \n",
       "26        2      5           6          6  2017-05-06 00:00:00                  4         1691   \n",
       "27        2      5           6          6  2017-05-06 00:00:00                  4         3116   \n",
       "28        2      5           6          6  2017-05-06 00:00:00                  4         3048   \n",
       "29        2      5           6          6  2017-05-06 00:00:00                  4         2598   \n",
       "\n",
       "    Flight_Number_Reporting_Airline  Origin  OriginState  DestState  Dest  CRSElapsedTime  \\\n",
       "25                              435      19           15          4    39           120.0   \n",
       "26                              451      19           15          4    39           115.0   \n",
       "27                             4720      19           15         18    40           250.0   \n",
       "28                             2435      19           15         42    66           150.0   \n",
       "29                             4757      19           15          5    69            85.0   \n",
       "\n",
       "    ArrDelay  Distance  DistanceGroup  precip_sum  ARR_HOUR  DEP_HOUR  DOM_DIRECTION  flight_freq  \\\n",
       "25     -18.0     574.0              3         0.0        19        18              2            1   \n",
       "26      -9.0     574.0              3         0.0         9         8              2           22   \n",
       "27      -1.0    1865.0              8         0.0        15         9              0           23   \n",
       "28       0.0     999.0              4         0.0        18        14              0            7   \n",
       "29     -13.0     391.0              2         0.0        14        13              0           15   \n",
       "\n",
       "    flight_delay_freq  LoadFactor  STATUS  \n",
       "25              24.25    0.340491       0  \n",
       "26              -7.50    0.340491       0  \n",
       "27               1.50    0.805389       0  \n",
       "28              -7.25    0.833898       0  \n",
       "29              -4.50    0.795838       0  "
      ]
     },
     "execution_count": 238,
     "metadata": {},
     "output_type": "execute_result"
    }
   ],
   "source": [
    "name.head()"
   ]
  },
  {
   "cell_type": "code",
   "execution_count": 239,
   "metadata": {
    "ExecuteTime": {
     "end_time": "2019-05-04T03:54:24.255477Z",
     "start_time": "2019-05-04T03:54:24.213801Z"
    }
   },
   "outputs": [
    {
     "data": {
      "text/plain": [
       "0    1997377\n",
       "1     453435\n",
       "Name: STATUS, dtype: int64"
      ]
     },
     "execution_count": 239,
     "metadata": {},
     "output_type": "execute_result"
    }
   ],
   "source": [
    "name.STATUS.value_counts()"
   ]
  },
  {
   "cell_type": "code",
   "execution_count": 240,
   "metadata": {
    "ExecuteTime": {
     "end_time": "2019-05-04T03:54:31.922068Z",
     "start_time": "2019-05-04T03:54:30.106044Z"
    }
   },
   "outputs": [
    {
     "name": "stdout",
     "output_type": "stream",
     "text": [
      "Delay percentage: 0.18501419121499324\n"
     ]
    }
   ],
   "source": [
    "down = name[name.STATUS == 1]\n",
    "up = name[name.STATUS == 0]\n",
    "down = down.Reporting_Airline.count()\n",
    "up = up.Reporting_Airline.count()\n",
    "print(f'Delay percentage: {down/(up+down)}')"
   ]
  },
  {
   "cell_type": "markdown",
   "metadata": {},
   "source": [
    "### Resampling (if required)"
   ]
  },
  {
   "cell_type": "code",
   "execution_count": 28,
   "metadata": {
    "ExecuteTime": {
     "end_time": "2019-04-24T14:14:08.345991Z",
     "start_time": "2019-04-24T14:14:08.067597Z"
    }
   },
   "outputs": [
    {
     "data": {
      "text/plain": [
       "'from sklearn.utils import resample'"
      ]
     },
     "execution_count": 28,
     "metadata": {},
     "output_type": "execute_result"
    }
   ],
   "source": [
    "'''from sklearn.utils import resample'''"
   ]
  },
  {
   "cell_type": "code",
   "execution_count": 29,
   "metadata": {
    "ExecuteTime": {
     "end_time": "2019-04-24T14:14:08.624692Z",
     "start_time": "2019-04-24T14:14:08.618079Z"
    },
    "scrolled": true
   },
   "outputs": [
    {
     "data": {
      "text/plain": [
       "'# Separate majority and minority classes\\ndf_majority = name[name.STATUS==0]\\ndf_minority = name[name.STATUS==1]\\n \\n# Upsample minority class\\ndf_minority_upsampled = resample(df_minority, \\n                                 replace=True,     # sample with replacement\\n                                 n_samples=up,    # to match majority class\\n                                 random_state=42) # reproducible results\\n \\n# Combine majority class with upsampled minority class\\ndf_upsampled = pd.concat([df_majority, df_minority_upsampled])\\n \\n# Display new class counts\\ndf_upsampled.STATUS.value_counts()'"
      ]
     },
     "execution_count": 29,
     "metadata": {},
     "output_type": "execute_result"
    }
   ],
   "source": [
    "'''# Separate majority and minority classes\n",
    "df_majority = name[name.STATUS==0]\n",
    "df_minority = name[name.STATUS==1]\n",
    " \n",
    "# Upsample minority class\n",
    "df_minority_upsampled = resample(df_minority, \n",
    "                                 replace=True,     # sample with replacement\n",
    "                                 n_samples=up,    # to match majority class\n",
    "                                 random_state=42) # reproducible results\n",
    " \n",
    "# Combine majority class with upsampled minority class\n",
    "df_upsampled = pd.concat([df_majority, df_minority_upsampled])\n",
    " \n",
    "# Display new class counts\n",
    "df_upsampled.STATUS.value_counts()'''"
   ]
  },
  {
   "cell_type": "code",
   "execution_count": 30,
   "metadata": {
    "ExecuteTime": {
     "end_time": "2019-04-23T22:00:06.563148Z",
     "start_time": "2019-04-23T22:00:04.692153Z"
    },
    "code_folding": []
   },
   "outputs": [
    {
     "data": {
      "text/plain": [
       "\"#let's first separate majority class and minority class and resample\\n\\ndf_majority = name[name.STATUS == 0]\\ndf_minority = name[name.STATUS == 1]\\n\\n\\n# Downsample majority class\\ndf_majority_downsampled = resample(df_majority, \\n                                 replace=False,    # sample without replacement\\n                                 n_samples=down,     # to match minority class\\n                                 random_state=42) # reproducible results\\n# combine the new dataframes\\ndf_downsampled = pd.concat([df_majority_downsampled, df_minority])\\n\\ndf_downsampled.STATUS.value_counts()\""
      ]
     },
     "execution_count": 30,
     "metadata": {},
     "output_type": "execute_result"
    }
   ],
   "source": [
    "'''#let's first separate majority class and minority class and resample\n",
    "\n",
    "df_majority = name[name.STATUS == 0]\n",
    "df_minority = name[name.STATUS == 1]\n",
    "\n",
    "\n",
    "# Downsample majority class\n",
    "df_majority_downsampled = resample(df_majority, \n",
    "                                 replace=False,    # sample without replacement\n",
    "                                 n_samples=down,     # to match minority class\n",
    "                                 random_state=42) # reproducible results\n",
    "# combine the new dataframes\n",
    "df_downsampled = pd.concat([df_majority_downsampled, df_minority])\n",
    "\n",
    "df_downsample'd.STATUS.value_counts()'''"
   ]
  },
  {
   "cell_type": "code",
   "execution_count": 31,
   "metadata": {
    "ExecuteTime": {
     "end_time": "2019-04-23T22:00:06.903159Z",
     "start_time": "2019-04-23T22:00:06.899977Z"
    }
   },
   "outputs": [
    {
     "data": {
      "text/plain": [
       "'name = df_downsampled'"
      ]
     },
     "execution_count": 31,
     "metadata": {},
     "output_type": "execute_result"
    }
   ],
   "source": [
    "'''name = df_downsampled'''"
   ]
  },
  {
   "cell_type": "markdown",
   "metadata": {},
   "source": [
    "### LabelEncoder"
   ]
  },
  {
   "cell_type": "code",
   "execution_count": 241,
   "metadata": {
    "ExecuteTime": {
     "end_time": "2019-05-04T03:54:41.946700Z",
     "start_time": "2019-05-04T03:54:41.940794Z"
    }
   },
   "outputs": [],
   "source": [
    "from sklearn.preprocessing import OneHotEncoder, LabelEncoder"
   ]
  },
  {
   "cell_type": "code",
   "execution_count": 242,
   "metadata": {
    "ExecuteTime": {
     "end_time": "2019-05-04T03:54:43.322952Z",
     "start_time": "2019-05-04T03:54:42.293987Z"
    }
   },
   "outputs": [],
   "source": [
    "le = LabelEncoder()\n",
    "name['Reporting_Airline'] = le.fit_transform(name.Reporting_Airline.values)\n",
    "name['Tail_Number'] = le.fit_transform(name.Tail_Number.values)\n",
    "name['Origin'] = le.fit_transform(name.Origin.values)\n",
    "name['Dest'] = le.fit_transform(name.Dest.values)\n",
    "name['DOM_DIRECTION'] = le.fit_transform(name.DOM_DIRECTION.values)\n",
    "name['OriginState'] = le.fit_transform(name.OriginState.values)\n",
    "name['DestState'] = le.fit_transform(name.DestState.values)"
   ]
  },
  {
   "cell_type": "code",
   "execution_count": 284,
   "metadata": {
    "ExecuteTime": {
     "end_time": "2019-05-04T13:37:31.164934Z",
     "start_time": "2019-05-04T13:37:29.355324Z"
    },
    "scrolled": true
   },
   "outputs": [],
   "source": [
    "name = name.drop(columns='FlightDate')"
   ]
  },
  {
   "cell_type": "markdown",
   "metadata": {},
   "source": [
    "# Random Forrest Model"
   ]
  },
  {
   "cell_type": "markdown",
   "metadata": {},
   "source": [
    "Original run is on the entire 2017 dataset, with no feature engineering, only encoding departure and arrival hour blocks: Accuracy=82.5% AUC=0.738 with n_estimators=100."
   ]
  },
  {
   "cell_type": "markdown",
   "metadata": {},
   "source": [
    "Features to add: Seperater the data by month, log_distance, direction of flight (S to N & E to W), cluster regions of origin, cluster regions of arrival (West, South, Midwest, East), upsample or downsample to remove imbalance. "
   ]
  },
  {
   "cell_type": "code",
   "execution_count": 285,
   "metadata": {
    "ExecuteTime": {
     "end_time": "2019-05-04T13:37:35.344117Z",
     "start_time": "2019-05-04T13:37:35.336479Z"
    },
    "scrolled": true
   },
   "outputs": [
    {
     "data": {
      "text/plain": [
       "Index(['Quarter', 'Month', 'DayofMonth', 'DayOfWeek', 'Reporting_Airline', 'Tail_Number',\n",
       "       'Flight_Number_Reporting_Airline', 'Origin', 'OriginState', 'DestState', 'Dest',\n",
       "       'CRSElapsedTime', 'ArrDelay', 'Distance', 'DistanceGroup', 'precip_sum', 'ARR_HOUR',\n",
       "       'DEP_HOUR', 'DOM_DIRECTION', 'flight_freq', 'flight_delay_freq', 'LoadFactor', 'STATUS'],\n",
       "      dtype='object')"
      ]
     },
     "execution_count": 285,
     "metadata": {},
     "output_type": "execute_result"
    }
   ],
   "source": [
    "name.columns"
   ]
  },
  {
   "cell_type": "code",
   "execution_count": 286,
   "metadata": {
    "ExecuteTime": {
     "end_time": "2019-05-04T13:37:36.451941Z",
     "start_time": "2019-05-04T13:37:36.434190Z"
    },
    "scrolled": true
   },
   "outputs": [
    {
     "data": {
      "text/html": [
       "<div>\n",
       "<style scoped>\n",
       "    .dataframe tbody tr th:only-of-type {\n",
       "        vertical-align: middle;\n",
       "    }\n",
       "\n",
       "    .dataframe tbody tr th {\n",
       "        vertical-align: top;\n",
       "    }\n",
       "\n",
       "    .dataframe thead th {\n",
       "        text-align: right;\n",
       "    }\n",
       "</style>\n",
       "<table border=\"1\" class=\"dataframe\">\n",
       "  <thead>\n",
       "    <tr style=\"text-align: right;\">\n",
       "      <th></th>\n",
       "      <th>Quarter</th>\n",
       "      <th>Month</th>\n",
       "      <th>DayofMonth</th>\n",
       "      <th>DayOfWeek</th>\n",
       "      <th>Reporting_Airline</th>\n",
       "      <th>Tail_Number</th>\n",
       "      <th>Flight_Number_Reporting_Airline</th>\n",
       "      <th>Origin</th>\n",
       "      <th>OriginState</th>\n",
       "      <th>DestState</th>\n",
       "      <th>Dest</th>\n",
       "      <th>CRSElapsedTime</th>\n",
       "      <th>ArrDelay</th>\n",
       "      <th>Distance</th>\n",
       "      <th>DistanceGroup</th>\n",
       "      <th>precip_sum</th>\n",
       "      <th>ARR_HOUR</th>\n",
       "      <th>DEP_HOUR</th>\n",
       "      <th>DOM_DIRECTION</th>\n",
       "      <th>flight_freq</th>\n",
       "      <th>flight_delay_freq</th>\n",
       "      <th>LoadFactor</th>\n",
       "      <th>STATUS</th>\n",
       "    </tr>\n",
       "  </thead>\n",
       "  <tbody>\n",
       "    <tr>\n",
       "      <th>25</th>\n",
       "      <td>2</td>\n",
       "      <td>5</td>\n",
       "      <td>6</td>\n",
       "      <td>6</td>\n",
       "      <td>4</td>\n",
       "      <td>1691</td>\n",
       "      <td>435</td>\n",
       "      <td>19</td>\n",
       "      <td>15</td>\n",
       "      <td>4</td>\n",
       "      <td>39</td>\n",
       "      <td>120.0</td>\n",
       "      <td>-18.0</td>\n",
       "      <td>574.0</td>\n",
       "      <td>3</td>\n",
       "      <td>0.0</td>\n",
       "      <td>19</td>\n",
       "      <td>18</td>\n",
       "      <td>2</td>\n",
       "      <td>1</td>\n",
       "      <td>24.25</td>\n",
       "      <td>0.340491</td>\n",
       "      <td>0</td>\n",
       "    </tr>\n",
       "    <tr>\n",
       "      <th>26</th>\n",
       "      <td>2</td>\n",
       "      <td>5</td>\n",
       "      <td>6</td>\n",
       "      <td>6</td>\n",
       "      <td>4</td>\n",
       "      <td>1691</td>\n",
       "      <td>451</td>\n",
       "      <td>19</td>\n",
       "      <td>15</td>\n",
       "      <td>4</td>\n",
       "      <td>39</td>\n",
       "      <td>115.0</td>\n",
       "      <td>-9.0</td>\n",
       "      <td>574.0</td>\n",
       "      <td>3</td>\n",
       "      <td>0.0</td>\n",
       "      <td>9</td>\n",
       "      <td>8</td>\n",
       "      <td>2</td>\n",
       "      <td>22</td>\n",
       "      <td>-7.50</td>\n",
       "      <td>0.340491</td>\n",
       "      <td>0</td>\n",
       "    </tr>\n",
       "    <tr>\n",
       "      <th>27</th>\n",
       "      <td>2</td>\n",
       "      <td>5</td>\n",
       "      <td>6</td>\n",
       "      <td>6</td>\n",
       "      <td>4</td>\n",
       "      <td>3116</td>\n",
       "      <td>4720</td>\n",
       "      <td>19</td>\n",
       "      <td>15</td>\n",
       "      <td>18</td>\n",
       "      <td>40</td>\n",
       "      <td>250.0</td>\n",
       "      <td>-1.0</td>\n",
       "      <td>1865.0</td>\n",
       "      <td>8</td>\n",
       "      <td>0.0</td>\n",
       "      <td>15</td>\n",
       "      <td>9</td>\n",
       "      <td>0</td>\n",
       "      <td>23</td>\n",
       "      <td>1.50</td>\n",
       "      <td>0.805389</td>\n",
       "      <td>0</td>\n",
       "    </tr>\n",
       "    <tr>\n",
       "      <th>28</th>\n",
       "      <td>2</td>\n",
       "      <td>5</td>\n",
       "      <td>6</td>\n",
       "      <td>6</td>\n",
       "      <td>4</td>\n",
       "      <td>3048</td>\n",
       "      <td>2435</td>\n",
       "      <td>19</td>\n",
       "      <td>15</td>\n",
       "      <td>42</td>\n",
       "      <td>66</td>\n",
       "      <td>150.0</td>\n",
       "      <td>0.0</td>\n",
       "      <td>999.0</td>\n",
       "      <td>4</td>\n",
       "      <td>0.0</td>\n",
       "      <td>18</td>\n",
       "      <td>14</td>\n",
       "      <td>0</td>\n",
       "      <td>7</td>\n",
       "      <td>-7.25</td>\n",
       "      <td>0.833898</td>\n",
       "      <td>0</td>\n",
       "    </tr>\n",
       "    <tr>\n",
       "      <th>29</th>\n",
       "      <td>2</td>\n",
       "      <td>5</td>\n",
       "      <td>6</td>\n",
       "      <td>6</td>\n",
       "      <td>4</td>\n",
       "      <td>2598</td>\n",
       "      <td>4757</td>\n",
       "      <td>19</td>\n",
       "      <td>15</td>\n",
       "      <td>5</td>\n",
       "      <td>69</td>\n",
       "      <td>85.0</td>\n",
       "      <td>-13.0</td>\n",
       "      <td>391.0</td>\n",
       "      <td>2</td>\n",
       "      <td>0.0</td>\n",
       "      <td>14</td>\n",
       "      <td>13</td>\n",
       "      <td>0</td>\n",
       "      <td>15</td>\n",
       "      <td>-4.50</td>\n",
       "      <td>0.795838</td>\n",
       "      <td>0</td>\n",
       "    </tr>\n",
       "  </tbody>\n",
       "</table>\n",
       "</div>"
      ],
      "text/plain": [
       "    Quarter  Month  DayofMonth  DayOfWeek  Reporting_Airline  Tail_Number  \\\n",
       "25        2      5           6          6                  4         1691   \n",
       "26        2      5           6          6                  4         1691   \n",
       "27        2      5           6          6                  4         3116   \n",
       "28        2      5           6          6                  4         3048   \n",
       "29        2      5           6          6                  4         2598   \n",
       "\n",
       "    Flight_Number_Reporting_Airline  Origin  OriginState  DestState  Dest  CRSElapsedTime  \\\n",
       "25                              435      19           15          4    39           120.0   \n",
       "26                              451      19           15          4    39           115.0   \n",
       "27                             4720      19           15         18    40           250.0   \n",
       "28                             2435      19           15         42    66           150.0   \n",
       "29                             4757      19           15          5    69            85.0   \n",
       "\n",
       "    ArrDelay  Distance  DistanceGroup  precip_sum  ARR_HOUR  DEP_HOUR  DOM_DIRECTION  flight_freq  \\\n",
       "25     -18.0     574.0              3         0.0        19        18              2            1   \n",
       "26      -9.0     574.0              3         0.0         9         8              2           22   \n",
       "27      -1.0    1865.0              8         0.0        15         9              0           23   \n",
       "28       0.0     999.0              4         0.0        18        14              0            7   \n",
       "29     -13.0     391.0              2         0.0        14        13              0           15   \n",
       "\n",
       "    flight_delay_freq  LoadFactor  STATUS  \n",
       "25              24.25    0.340491       0  \n",
       "26              -7.50    0.340491       0  \n",
       "27               1.50    0.805389       0  \n",
       "28              -7.25    0.833898       0  \n",
       "29              -4.50    0.795838       0  "
      ]
     },
     "execution_count": 286,
     "metadata": {},
     "output_type": "execute_result"
    }
   ],
   "source": [
    "name.head()"
   ]
  },
  {
   "cell_type": "code",
   "execution_count": 244,
   "metadata": {
    "ExecuteTime": {
     "end_time": "2019-05-04T03:55:03.584798Z",
     "start_time": "2019-05-04T03:55:03.331529Z"
    }
   },
   "outputs": [],
   "source": [
    "rand = name.drop(columns=['ArrDelay'])"
   ]
  },
  {
   "cell_type": "code",
   "execution_count": 245,
   "metadata": {
    "ExecuteTime": {
     "end_time": "2019-05-04T03:55:03.875436Z",
     "start_time": "2019-05-04T03:55:03.843464Z"
    }
   },
   "outputs": [
    {
     "data": {
      "text/plain": [
       "0    1997377\n",
       "1     453435\n",
       "Name: STATUS, dtype: int64"
      ]
     },
     "execution_count": 245,
     "metadata": {},
     "output_type": "execute_result"
    }
   ],
   "source": [
    "rand.STATUS.value_counts()"
   ]
  },
  {
   "cell_type": "code",
   "execution_count": 246,
   "metadata": {
    "ExecuteTime": {
     "end_time": "2019-05-04T03:55:05.202733Z",
     "start_time": "2019-05-04T03:55:05.185710Z"
    },
    "scrolled": false
   },
   "outputs": [
    {
     "data": {
      "text/html": [
       "<div>\n",
       "<style scoped>\n",
       "    .dataframe tbody tr th:only-of-type {\n",
       "        vertical-align: middle;\n",
       "    }\n",
       "\n",
       "    .dataframe tbody tr th {\n",
       "        vertical-align: top;\n",
       "    }\n",
       "\n",
       "    .dataframe thead th {\n",
       "        text-align: right;\n",
       "    }\n",
       "</style>\n",
       "<table border=\"1\" class=\"dataframe\">\n",
       "  <thead>\n",
       "    <tr style=\"text-align: right;\">\n",
       "      <th></th>\n",
       "      <th>Quarter</th>\n",
       "      <th>Month</th>\n",
       "      <th>DayofMonth</th>\n",
       "      <th>DayOfWeek</th>\n",
       "      <th>Reporting_Airline</th>\n",
       "      <th>Tail_Number</th>\n",
       "      <th>Flight_Number_Reporting_Airline</th>\n",
       "      <th>Origin</th>\n",
       "      <th>OriginState</th>\n",
       "      <th>DestState</th>\n",
       "      <th>Dest</th>\n",
       "      <th>CRSElapsedTime</th>\n",
       "      <th>Distance</th>\n",
       "      <th>DistanceGroup</th>\n",
       "      <th>precip_sum</th>\n",
       "      <th>ARR_HOUR</th>\n",
       "      <th>DEP_HOUR</th>\n",
       "      <th>DOM_DIRECTION</th>\n",
       "      <th>flight_freq</th>\n",
       "      <th>flight_delay_freq</th>\n",
       "      <th>LoadFactor</th>\n",
       "      <th>STATUS</th>\n",
       "    </tr>\n",
       "  </thead>\n",
       "  <tbody>\n",
       "    <tr>\n",
       "      <th>25</th>\n",
       "      <td>2</td>\n",
       "      <td>5</td>\n",
       "      <td>6</td>\n",
       "      <td>6</td>\n",
       "      <td>4</td>\n",
       "      <td>1691</td>\n",
       "      <td>435</td>\n",
       "      <td>19</td>\n",
       "      <td>15</td>\n",
       "      <td>4</td>\n",
       "      <td>39</td>\n",
       "      <td>120.0</td>\n",
       "      <td>574.0</td>\n",
       "      <td>3</td>\n",
       "      <td>0.0</td>\n",
       "      <td>19</td>\n",
       "      <td>18</td>\n",
       "      <td>2</td>\n",
       "      <td>1</td>\n",
       "      <td>24.25</td>\n",
       "      <td>0.340491</td>\n",
       "      <td>0</td>\n",
       "    </tr>\n",
       "    <tr>\n",
       "      <th>26</th>\n",
       "      <td>2</td>\n",
       "      <td>5</td>\n",
       "      <td>6</td>\n",
       "      <td>6</td>\n",
       "      <td>4</td>\n",
       "      <td>1691</td>\n",
       "      <td>451</td>\n",
       "      <td>19</td>\n",
       "      <td>15</td>\n",
       "      <td>4</td>\n",
       "      <td>39</td>\n",
       "      <td>115.0</td>\n",
       "      <td>574.0</td>\n",
       "      <td>3</td>\n",
       "      <td>0.0</td>\n",
       "      <td>9</td>\n",
       "      <td>8</td>\n",
       "      <td>2</td>\n",
       "      <td>22</td>\n",
       "      <td>-7.50</td>\n",
       "      <td>0.340491</td>\n",
       "      <td>0</td>\n",
       "    </tr>\n",
       "    <tr>\n",
       "      <th>27</th>\n",
       "      <td>2</td>\n",
       "      <td>5</td>\n",
       "      <td>6</td>\n",
       "      <td>6</td>\n",
       "      <td>4</td>\n",
       "      <td>3116</td>\n",
       "      <td>4720</td>\n",
       "      <td>19</td>\n",
       "      <td>15</td>\n",
       "      <td>18</td>\n",
       "      <td>40</td>\n",
       "      <td>250.0</td>\n",
       "      <td>1865.0</td>\n",
       "      <td>8</td>\n",
       "      <td>0.0</td>\n",
       "      <td>15</td>\n",
       "      <td>9</td>\n",
       "      <td>0</td>\n",
       "      <td>23</td>\n",
       "      <td>1.50</td>\n",
       "      <td>0.805389</td>\n",
       "      <td>0</td>\n",
       "    </tr>\n",
       "    <tr>\n",
       "      <th>28</th>\n",
       "      <td>2</td>\n",
       "      <td>5</td>\n",
       "      <td>6</td>\n",
       "      <td>6</td>\n",
       "      <td>4</td>\n",
       "      <td>3048</td>\n",
       "      <td>2435</td>\n",
       "      <td>19</td>\n",
       "      <td>15</td>\n",
       "      <td>42</td>\n",
       "      <td>66</td>\n",
       "      <td>150.0</td>\n",
       "      <td>999.0</td>\n",
       "      <td>4</td>\n",
       "      <td>0.0</td>\n",
       "      <td>18</td>\n",
       "      <td>14</td>\n",
       "      <td>0</td>\n",
       "      <td>7</td>\n",
       "      <td>-7.25</td>\n",
       "      <td>0.833898</td>\n",
       "      <td>0</td>\n",
       "    </tr>\n",
       "    <tr>\n",
       "      <th>29</th>\n",
       "      <td>2</td>\n",
       "      <td>5</td>\n",
       "      <td>6</td>\n",
       "      <td>6</td>\n",
       "      <td>4</td>\n",
       "      <td>2598</td>\n",
       "      <td>4757</td>\n",
       "      <td>19</td>\n",
       "      <td>15</td>\n",
       "      <td>5</td>\n",
       "      <td>69</td>\n",
       "      <td>85.0</td>\n",
       "      <td>391.0</td>\n",
       "      <td>2</td>\n",
       "      <td>0.0</td>\n",
       "      <td>14</td>\n",
       "      <td>13</td>\n",
       "      <td>0</td>\n",
       "      <td>15</td>\n",
       "      <td>-4.50</td>\n",
       "      <td>0.795838</td>\n",
       "      <td>0</td>\n",
       "    </tr>\n",
       "  </tbody>\n",
       "</table>\n",
       "</div>"
      ],
      "text/plain": [
       "    Quarter  Month  DayofMonth  DayOfWeek  Reporting_Airline  Tail_Number  \\\n",
       "25        2      5           6          6                  4         1691   \n",
       "26        2      5           6          6                  4         1691   \n",
       "27        2      5           6          6                  4         3116   \n",
       "28        2      5           6          6                  4         3048   \n",
       "29        2      5           6          6                  4         2598   \n",
       "\n",
       "    Flight_Number_Reporting_Airline  Origin  OriginState  DestState  Dest  CRSElapsedTime  \\\n",
       "25                              435      19           15          4    39           120.0   \n",
       "26                              451      19           15          4    39           115.0   \n",
       "27                             4720      19           15         18    40           250.0   \n",
       "28                             2435      19           15         42    66           150.0   \n",
       "29                             4757      19           15          5    69            85.0   \n",
       "\n",
       "    Distance  DistanceGroup  precip_sum  ARR_HOUR  DEP_HOUR  DOM_DIRECTION  flight_freq  \\\n",
       "25     574.0              3         0.0        19        18              2            1   \n",
       "26     574.0              3         0.0         9         8              2           22   \n",
       "27    1865.0              8         0.0        15         9              0           23   \n",
       "28     999.0              4         0.0        18        14              0            7   \n",
       "29     391.0              2         0.0        14        13              0           15   \n",
       "\n",
       "    flight_delay_freq  LoadFactor  STATUS  \n",
       "25              24.25    0.340491       0  \n",
       "26              -7.50    0.340491       0  \n",
       "27               1.50    0.805389       0  \n",
       "28              -7.25    0.833898       0  \n",
       "29              -4.50    0.795838       0  "
      ]
     },
     "execution_count": 246,
     "metadata": {},
     "output_type": "execute_result"
    }
   ],
   "source": [
    "rand.head()"
   ]
  },
  {
   "cell_type": "code",
   "execution_count": 29,
   "metadata": {
    "ExecuteTime": {
     "end_time": "2019-05-03T19:21:34.530575Z",
     "start_time": "2019-05-03T19:21:34.336815Z"
    }
   },
   "outputs": [],
   "source": [
    "rand = rand.fillna(0)"
   ]
  },
  {
   "cell_type": "code",
   "execution_count": 247,
   "metadata": {
    "ExecuteTime": {
     "end_time": "2019-05-04T03:55:10.737211Z",
     "start_time": "2019-05-04T03:55:10.509545Z"
    }
   },
   "outputs": [],
   "source": [
    "rand_encoded = rand.copy()"
   ]
  },
  {
   "cell_type": "code",
   "execution_count": null,
   "metadata": {},
   "outputs": [],
   "source": []
  },
  {
   "cell_type": "markdown",
   "metadata": {},
   "source": [
    "### Leave one feature out"
   ]
  },
  {
   "cell_type": "code",
   "execution_count": 31,
   "metadata": {
    "ExecuteTime": {
     "end_time": "2019-05-03T19:21:36.876042Z",
     "start_time": "2019-05-03T19:21:36.860139Z"
    }
   },
   "outputs": [
    {
     "data": {
      "text/html": [
       "<div>\n",
       "<style scoped>\n",
       "    .dataframe tbody tr th:only-of-type {\n",
       "        vertical-align: middle;\n",
       "    }\n",
       "\n",
       "    .dataframe tbody tr th {\n",
       "        vertical-align: top;\n",
       "    }\n",
       "\n",
       "    .dataframe thead th {\n",
       "        text-align: right;\n",
       "    }\n",
       "</style>\n",
       "<table border=\"1\" class=\"dataframe\">\n",
       "  <thead>\n",
       "    <tr style=\"text-align: right;\">\n",
       "      <th></th>\n",
       "      <th>Quarter</th>\n",
       "      <th>Month</th>\n",
       "      <th>DayofMonth</th>\n",
       "      <th>DayOfWeek</th>\n",
       "      <th>Reporting_Airline</th>\n",
       "      <th>Tail_Number</th>\n",
       "      <th>Flight_Number_Reporting_Airline</th>\n",
       "      <th>Origin</th>\n",
       "      <th>OriginState</th>\n",
       "      <th>DestState</th>\n",
       "      <th>Dest</th>\n",
       "      <th>CRSElapsedTime</th>\n",
       "      <th>Distance</th>\n",
       "      <th>DistanceGroup</th>\n",
       "      <th>precip_sum</th>\n",
       "      <th>ARR_HOUR</th>\n",
       "      <th>DEP_HOUR</th>\n",
       "      <th>DOM_DIRECTION</th>\n",
       "      <th>flight_freq</th>\n",
       "      <th>flight_delay_freq</th>\n",
       "      <th>LoadFactor</th>\n",
       "      <th>STATUS</th>\n",
       "    </tr>\n",
       "  </thead>\n",
       "  <tbody>\n",
       "    <tr>\n",
       "      <th>25</th>\n",
       "      <td>2</td>\n",
       "      <td>5</td>\n",
       "      <td>6</td>\n",
       "      <td>6</td>\n",
       "      <td>4</td>\n",
       "      <td>1691</td>\n",
       "      <td>435</td>\n",
       "      <td>19</td>\n",
       "      <td>15</td>\n",
       "      <td>4</td>\n",
       "      <td>39</td>\n",
       "      <td>120.0</td>\n",
       "      <td>574.0</td>\n",
       "      <td>3</td>\n",
       "      <td>0.0</td>\n",
       "      <td>19</td>\n",
       "      <td>18</td>\n",
       "      <td>2</td>\n",
       "      <td>1</td>\n",
       "      <td>24.25</td>\n",
       "      <td>0.340491</td>\n",
       "      <td>0</td>\n",
       "    </tr>\n",
       "    <tr>\n",
       "      <th>26</th>\n",
       "      <td>2</td>\n",
       "      <td>5</td>\n",
       "      <td>6</td>\n",
       "      <td>6</td>\n",
       "      <td>4</td>\n",
       "      <td>1691</td>\n",
       "      <td>451</td>\n",
       "      <td>19</td>\n",
       "      <td>15</td>\n",
       "      <td>4</td>\n",
       "      <td>39</td>\n",
       "      <td>115.0</td>\n",
       "      <td>574.0</td>\n",
       "      <td>3</td>\n",
       "      <td>0.0</td>\n",
       "      <td>9</td>\n",
       "      <td>8</td>\n",
       "      <td>2</td>\n",
       "      <td>22</td>\n",
       "      <td>-7.50</td>\n",
       "      <td>0.340491</td>\n",
       "      <td>0</td>\n",
       "    </tr>\n",
       "    <tr>\n",
       "      <th>27</th>\n",
       "      <td>2</td>\n",
       "      <td>5</td>\n",
       "      <td>6</td>\n",
       "      <td>6</td>\n",
       "      <td>4</td>\n",
       "      <td>3116</td>\n",
       "      <td>4720</td>\n",
       "      <td>19</td>\n",
       "      <td>15</td>\n",
       "      <td>18</td>\n",
       "      <td>40</td>\n",
       "      <td>250.0</td>\n",
       "      <td>1865.0</td>\n",
       "      <td>8</td>\n",
       "      <td>0.0</td>\n",
       "      <td>15</td>\n",
       "      <td>9</td>\n",
       "      <td>0</td>\n",
       "      <td>23</td>\n",
       "      <td>1.50</td>\n",
       "      <td>0.805389</td>\n",
       "      <td>0</td>\n",
       "    </tr>\n",
       "    <tr>\n",
       "      <th>28</th>\n",
       "      <td>2</td>\n",
       "      <td>5</td>\n",
       "      <td>6</td>\n",
       "      <td>6</td>\n",
       "      <td>4</td>\n",
       "      <td>3048</td>\n",
       "      <td>2435</td>\n",
       "      <td>19</td>\n",
       "      <td>15</td>\n",
       "      <td>42</td>\n",
       "      <td>66</td>\n",
       "      <td>150.0</td>\n",
       "      <td>999.0</td>\n",
       "      <td>4</td>\n",
       "      <td>0.0</td>\n",
       "      <td>18</td>\n",
       "      <td>14</td>\n",
       "      <td>0</td>\n",
       "      <td>7</td>\n",
       "      <td>-7.25</td>\n",
       "      <td>0.833898</td>\n",
       "      <td>0</td>\n",
       "    </tr>\n",
       "    <tr>\n",
       "      <th>29</th>\n",
       "      <td>2</td>\n",
       "      <td>5</td>\n",
       "      <td>6</td>\n",
       "      <td>6</td>\n",
       "      <td>4</td>\n",
       "      <td>2598</td>\n",
       "      <td>4757</td>\n",
       "      <td>19</td>\n",
       "      <td>15</td>\n",
       "      <td>5</td>\n",
       "      <td>69</td>\n",
       "      <td>85.0</td>\n",
       "      <td>391.0</td>\n",
       "      <td>2</td>\n",
       "      <td>0.0</td>\n",
       "      <td>14</td>\n",
       "      <td>13</td>\n",
       "      <td>0</td>\n",
       "      <td>15</td>\n",
       "      <td>-4.50</td>\n",
       "      <td>0.795838</td>\n",
       "      <td>0</td>\n",
       "    </tr>\n",
       "  </tbody>\n",
       "</table>\n",
       "</div>"
      ],
      "text/plain": [
       "    Quarter  Month  DayofMonth  DayOfWeek  Reporting_Airline  Tail_Number  \\\n",
       "25        2      5           6          6                  4         1691   \n",
       "26        2      5           6          6                  4         1691   \n",
       "27        2      5           6          6                  4         3116   \n",
       "28        2      5           6          6                  4         3048   \n",
       "29        2      5           6          6                  4         2598   \n",
       "\n",
       "    Flight_Number_Reporting_Airline  Origin  OriginState  DestState  Dest  CRSElapsedTime  \\\n",
       "25                              435      19           15          4    39           120.0   \n",
       "26                              451      19           15          4    39           115.0   \n",
       "27                             4720      19           15         18    40           250.0   \n",
       "28                             2435      19           15         42    66           150.0   \n",
       "29                             4757      19           15          5    69            85.0   \n",
       "\n",
       "    Distance  DistanceGroup  precip_sum  ARR_HOUR  DEP_HOUR  DOM_DIRECTION  flight_freq  \\\n",
       "25     574.0              3         0.0        19        18              2            1   \n",
       "26     574.0              3         0.0         9         8              2           22   \n",
       "27    1865.0              8         0.0        15         9              0           23   \n",
       "28     999.0              4         0.0        18        14              0            7   \n",
       "29     391.0              2         0.0        14        13              0           15   \n",
       "\n",
       "    flight_delay_freq  LoadFactor  STATUS  \n",
       "25              24.25    0.340491       0  \n",
       "26              -7.50    0.340491       0  \n",
       "27               1.50    0.805389       0  \n",
       "28              -7.25    0.833898       0  \n",
       "29              -4.50    0.795838       0  "
      ]
     },
     "execution_count": 31,
     "metadata": {},
     "output_type": "execute_result"
    }
   ],
   "source": [
    "rand_encoded.head()"
   ]
  },
  {
   "cell_type": "code",
   "execution_count": 33,
   "metadata": {
    "ExecuteTime": {
     "end_time": "2019-05-03T19:27:52.266280Z",
     "start_time": "2019-05-03T19:27:52.260273Z"
    }
   },
   "outputs": [
    {
     "data": {
      "text/plain": [
       "Index(['Quarter', 'Month', 'DayofMonth', 'DayOfWeek', 'Reporting_Airline', 'Tail_Number',\n",
       "       'Flight_Number_Reporting_Airline', 'Origin', 'OriginState', 'DestState', 'Dest',\n",
       "       'CRSElapsedTime', 'Distance', 'DistanceGroup', 'precip_sum', 'ARR_HOUR', 'DEP_HOUR',\n",
       "       'DOM_DIRECTION', 'flight_freq', 'flight_delay_freq', 'LoadFactor', 'STATUS'],\n",
       "      dtype='object')"
      ]
     },
     "execution_count": 33,
     "metadata": {},
     "output_type": "execute_result"
    }
   ],
   "source": [
    "rand_encoded.columns"
   ]
  },
  {
   "cell_type": "code",
   "execution_count": 32,
   "metadata": {
    "ExecuteTime": {
     "end_time": "2019-05-03T19:27:32.143643Z",
     "start_time": "2019-05-03T19:27:32.137476Z"
    }
   },
   "outputs": [],
   "source": [
    "from lofo.lofo_importance import LOFOImportance\n",
    "from lofo.flofo_importance import FLOFOImportance\n",
    "from lofo.plotting import plot_importance"
   ]
  },
  {
   "cell_type": "code",
   "execution_count": 35,
   "metadata": {
    "ExecuteTime": {
     "end_time": "2019-05-03T19:29:23.147946Z",
     "start_time": "2019-05-03T19:29:23.144891Z"
    }
   },
   "outputs": [],
   "source": [
    "from sklearn.ensemble import RandomForestClassifier"
   ]
  },
  {
   "cell_type": "code",
   "execution_count": 37,
   "metadata": {
    "ExecuteTime": {
     "end_time": "2019-05-03T19:29:59.006451Z",
     "start_time": "2019-05-03T19:29:59.003578Z"
    }
   },
   "outputs": [],
   "source": [
    "from sklearn.model_selection import KFold"
   ]
  },
  {
   "cell_type": "code",
   "execution_count": 38,
   "metadata": {
    "ExecuteTime": {
     "end_time": "2019-05-03T19:30:01.272640Z",
     "start_time": "2019-05-03T19:30:01.267924Z"
    }
   },
   "outputs": [],
   "source": [
    "cv = KFold(n_splits=4, shuffle=True, random_state=0)"
   ]
  },
  {
   "cell_type": "code",
   "execution_count": 40,
   "metadata": {
    "ExecuteTime": {
     "end_time": "2019-05-03T21:58:49.171739Z",
     "start_time": "2019-05-03T21:26:46.941597Z"
    },
    "scrolled": false
   },
   "outputs": [
    {
     "data": {
      "application/vnd.jupyter.widget-view+json": {
       "model_id": "d3d32b0b71d14977a10ba80fcf0bfea1",
       "version_major": 2,
       "version_minor": 0
      },
      "text/plain": [
       "HBox(children=(IntProgress(value=0, max=21), HTML(value='')))"
      ]
     },
     "metadata": {},
     "output_type": "display_data"
    },
    {
     "data": {
      "text/html": [
       "<div>\n",
       "<style scoped>\n",
       "    .dataframe tbody tr th:only-of-type {\n",
       "        vertical-align: middle;\n",
       "    }\n",
       "\n",
       "    .dataframe tbody tr th {\n",
       "        vertical-align: top;\n",
       "    }\n",
       "\n",
       "    .dataframe thead th {\n",
       "        text-align: right;\n",
       "    }\n",
       "</style>\n",
       "<table border=\"1\" class=\"dataframe\">\n",
       "  <thead>\n",
       "    <tr style=\"text-align: right;\">\n",
       "      <th></th>\n",
       "      <th>feature</th>\n",
       "      <th>importance_mean</th>\n",
       "      <th>importance_std</th>\n",
       "    </tr>\n",
       "  </thead>\n",
       "  <tbody>\n",
       "    <tr>\n",
       "      <th>19</th>\n",
       "      <td>flight_delay_freq</td>\n",
       "      <td>0.000535</td>\n",
       "      <td>0.000305</td>\n",
       "    </tr>\n",
       "    <tr>\n",
       "      <th>14</th>\n",
       "      <td>precip_sum</td>\n",
       "      <td>0.000535</td>\n",
       "      <td>0.000305</td>\n",
       "    </tr>\n",
       "    <tr>\n",
       "      <th>20</th>\n",
       "      <td>LoadFactor</td>\n",
       "      <td>0.000526</td>\n",
       "      <td>0.000297</td>\n",
       "    </tr>\n",
       "    <tr>\n",
       "      <th>9</th>\n",
       "      <td>DestState</td>\n",
       "      <td>0.000343</td>\n",
       "      <td>0.000302</td>\n",
       "    </tr>\n",
       "    <tr>\n",
       "      <th>10</th>\n",
       "      <td>Dest</td>\n",
       "      <td>0.000286</td>\n",
       "      <td>0.000345</td>\n",
       "    </tr>\n",
       "    <tr>\n",
       "      <th>6</th>\n",
       "      <td>Flight_Number_Reporting_Airline</td>\n",
       "      <td>0.000245</td>\n",
       "      <td>0.000339</td>\n",
       "    </tr>\n",
       "    <tr>\n",
       "      <th>11</th>\n",
       "      <td>CRSElapsedTime</td>\n",
       "      <td>0.000241</td>\n",
       "      <td>0.000472</td>\n",
       "    </tr>\n",
       "    <tr>\n",
       "      <th>5</th>\n",
       "      <td>Tail_Number</td>\n",
       "      <td>0.000211</td>\n",
       "      <td>0.000345</td>\n",
       "    </tr>\n",
       "    <tr>\n",
       "      <th>8</th>\n",
       "      <td>OriginState</td>\n",
       "      <td>0.000208</td>\n",
       "      <td>0.000258</td>\n",
       "    </tr>\n",
       "    <tr>\n",
       "      <th>7</th>\n",
       "      <td>Origin</td>\n",
       "      <td>0.000192</td>\n",
       "      <td>0.000361</td>\n",
       "    </tr>\n",
       "    <tr>\n",
       "      <th>4</th>\n",
       "      <td>Reporting_Airline</td>\n",
       "      <td>0.000191</td>\n",
       "      <td>0.000386</td>\n",
       "    </tr>\n",
       "    <tr>\n",
       "      <th>12</th>\n",
       "      <td>Distance</td>\n",
       "      <td>0.000189</td>\n",
       "      <td>0.000434</td>\n",
       "    </tr>\n",
       "    <tr>\n",
       "      <th>13</th>\n",
       "      <td>DistanceGroup</td>\n",
       "      <td>0.000186</td>\n",
       "      <td>0.000442</td>\n",
       "    </tr>\n",
       "    <tr>\n",
       "      <th>15</th>\n",
       "      <td>ARR_HOUR</td>\n",
       "      <td>0.000123</td>\n",
       "      <td>0.000237</td>\n",
       "    </tr>\n",
       "    <tr>\n",
       "      <th>16</th>\n",
       "      <td>DEP_HOUR</td>\n",
       "      <td>0.000115</td>\n",
       "      <td>0.000223</td>\n",
       "    </tr>\n",
       "    <tr>\n",
       "      <th>0</th>\n",
       "      <td>Quarter</td>\n",
       "      <td>-0.000117</td>\n",
       "      <td>0.000303</td>\n",
       "    </tr>\n",
       "    <tr>\n",
       "      <th>2</th>\n",
       "      <td>DayofMonth</td>\n",
       "      <td>-0.000120</td>\n",
       "      <td>0.000224</td>\n",
       "    </tr>\n",
       "    <tr>\n",
       "      <th>3</th>\n",
       "      <td>DayOfWeek</td>\n",
       "      <td>-0.000124</td>\n",
       "      <td>0.000225</td>\n",
       "    </tr>\n",
       "    <tr>\n",
       "      <th>1</th>\n",
       "      <td>Month</td>\n",
       "      <td>-0.000272</td>\n",
       "      <td>0.000232</td>\n",
       "    </tr>\n",
       "    <tr>\n",
       "      <th>17</th>\n",
       "      <td>DOM_DIRECTION</td>\n",
       "      <td>-0.000444</td>\n",
       "      <td>0.000333</td>\n",
       "    </tr>\n",
       "    <tr>\n",
       "      <th>18</th>\n",
       "      <td>flight_freq</td>\n",
       "      <td>-0.000839</td>\n",
       "      <td>0.000511</td>\n",
       "    </tr>\n",
       "  </tbody>\n",
       "</table>\n",
       "</div>"
      ],
      "text/plain": [
       "                            feature  importance_mean  importance_std\n",
       "19                flight_delay_freq         0.000535        0.000305\n",
       "14                       precip_sum         0.000535        0.000305\n",
       "20                       LoadFactor         0.000526        0.000297\n",
       "9                         DestState         0.000343        0.000302\n",
       "10                             Dest         0.000286        0.000345\n",
       "6   Flight_Number_Reporting_Airline         0.000245        0.000339\n",
       "11                   CRSElapsedTime         0.000241        0.000472\n",
       "5                       Tail_Number         0.000211        0.000345\n",
       "8                       OriginState         0.000208        0.000258\n",
       "7                            Origin         0.000192        0.000361\n",
       "4                 Reporting_Airline         0.000191        0.000386\n",
       "12                         Distance         0.000189        0.000434\n",
       "13                    DistanceGroup         0.000186        0.000442\n",
       "15                         ARR_HOUR         0.000123        0.000237\n",
       "16                         DEP_HOUR         0.000115        0.000223\n",
       "0                           Quarter        -0.000117        0.000303\n",
       "2                        DayofMonth        -0.000120        0.000224\n",
       "3                         DayOfWeek        -0.000124        0.000225\n",
       "1                             Month        -0.000272        0.000232\n",
       "17                    DOM_DIRECTION        -0.000444        0.000333\n",
       "18                      flight_freq        -0.000839        0.000511"
      ]
     },
     "execution_count": 40,
     "metadata": {},
     "output_type": "execute_result"
    }
   ],
   "source": [
    "rf = RandomForestClassifier(n_estimators=10, max_depth=5, random_state=0)\n",
    "\n",
    "fi = LOFOImportance(rand_encoded, ['Quarter', 'Month', 'DayofMonth', 'DayOfWeek', 'Reporting_Airline', \n",
    "                                   'Tail_Number', 'Flight_Number_Reporting_Airline', 'Origin', \n",
    "                                   'OriginState', 'DestState', 'Dest','CRSElapsedTime', 'Distance', \n",
    "                                   'DistanceGroup', 'precip_sum', 'ARR_HOUR', 'DEP_HOUR', 'DOM_DIRECTION', \n",
    "                                   'flight_freq', 'flight_delay_freq', 'LoadFactor'], \n",
    "                                   'STATUS', scoring='accuracy', model=rf, cv=cv)\n",
    "\n",
    "importances = fi.get_importance()\n",
    "importances"
   ]
  },
  {
   "cell_type": "code",
   "execution_count": 248,
   "metadata": {
    "ExecuteTime": {
     "end_time": "2019-05-04T03:55:26.927736Z",
     "start_time": "2019-05-04T03:55:26.680689Z"
    }
   },
   "outputs": [],
   "source": [
    "rand_encoded = rand_encoded.drop(columns=['Quarter','DayofMonth','DayOfWeek',\n",
    "                                           'Month','DOM_DIRECTION','flight_freq'])"
   ]
  },
  {
   "cell_type": "code",
   "execution_count": 249,
   "metadata": {
    "ExecuteTime": {
     "end_time": "2019-05-04T03:55:27.594089Z",
     "start_time": "2019-05-04T03:55:27.580256Z"
    }
   },
   "outputs": [
    {
     "data": {
      "text/html": [
       "<div>\n",
       "<style scoped>\n",
       "    .dataframe tbody tr th:only-of-type {\n",
       "        vertical-align: middle;\n",
       "    }\n",
       "\n",
       "    .dataframe tbody tr th {\n",
       "        vertical-align: top;\n",
       "    }\n",
       "\n",
       "    .dataframe thead th {\n",
       "        text-align: right;\n",
       "    }\n",
       "</style>\n",
       "<table border=\"1\" class=\"dataframe\">\n",
       "  <thead>\n",
       "    <tr style=\"text-align: right;\">\n",
       "      <th></th>\n",
       "      <th>Reporting_Airline</th>\n",
       "      <th>Tail_Number</th>\n",
       "      <th>Flight_Number_Reporting_Airline</th>\n",
       "      <th>Origin</th>\n",
       "      <th>OriginState</th>\n",
       "      <th>DestState</th>\n",
       "      <th>Dest</th>\n",
       "      <th>CRSElapsedTime</th>\n",
       "      <th>Distance</th>\n",
       "      <th>DistanceGroup</th>\n",
       "      <th>precip_sum</th>\n",
       "      <th>ARR_HOUR</th>\n",
       "      <th>DEP_HOUR</th>\n",
       "      <th>flight_delay_freq</th>\n",
       "      <th>LoadFactor</th>\n",
       "      <th>STATUS</th>\n",
       "    </tr>\n",
       "  </thead>\n",
       "  <tbody>\n",
       "    <tr>\n",
       "      <th>25</th>\n",
       "      <td>4</td>\n",
       "      <td>1691</td>\n",
       "      <td>435</td>\n",
       "      <td>19</td>\n",
       "      <td>15</td>\n",
       "      <td>4</td>\n",
       "      <td>39</td>\n",
       "      <td>120.0</td>\n",
       "      <td>574.0</td>\n",
       "      <td>3</td>\n",
       "      <td>0.0</td>\n",
       "      <td>19</td>\n",
       "      <td>18</td>\n",
       "      <td>24.25</td>\n",
       "      <td>0.340491</td>\n",
       "      <td>0</td>\n",
       "    </tr>\n",
       "    <tr>\n",
       "      <th>26</th>\n",
       "      <td>4</td>\n",
       "      <td>1691</td>\n",
       "      <td>451</td>\n",
       "      <td>19</td>\n",
       "      <td>15</td>\n",
       "      <td>4</td>\n",
       "      <td>39</td>\n",
       "      <td>115.0</td>\n",
       "      <td>574.0</td>\n",
       "      <td>3</td>\n",
       "      <td>0.0</td>\n",
       "      <td>9</td>\n",
       "      <td>8</td>\n",
       "      <td>-7.50</td>\n",
       "      <td>0.340491</td>\n",
       "      <td>0</td>\n",
       "    </tr>\n",
       "    <tr>\n",
       "      <th>27</th>\n",
       "      <td>4</td>\n",
       "      <td>3116</td>\n",
       "      <td>4720</td>\n",
       "      <td>19</td>\n",
       "      <td>15</td>\n",
       "      <td>18</td>\n",
       "      <td>40</td>\n",
       "      <td>250.0</td>\n",
       "      <td>1865.0</td>\n",
       "      <td>8</td>\n",
       "      <td>0.0</td>\n",
       "      <td>15</td>\n",
       "      <td>9</td>\n",
       "      <td>1.50</td>\n",
       "      <td>0.805389</td>\n",
       "      <td>0</td>\n",
       "    </tr>\n",
       "    <tr>\n",
       "      <th>28</th>\n",
       "      <td>4</td>\n",
       "      <td>3048</td>\n",
       "      <td>2435</td>\n",
       "      <td>19</td>\n",
       "      <td>15</td>\n",
       "      <td>42</td>\n",
       "      <td>66</td>\n",
       "      <td>150.0</td>\n",
       "      <td>999.0</td>\n",
       "      <td>4</td>\n",
       "      <td>0.0</td>\n",
       "      <td>18</td>\n",
       "      <td>14</td>\n",
       "      <td>-7.25</td>\n",
       "      <td>0.833898</td>\n",
       "      <td>0</td>\n",
       "    </tr>\n",
       "    <tr>\n",
       "      <th>29</th>\n",
       "      <td>4</td>\n",
       "      <td>2598</td>\n",
       "      <td>4757</td>\n",
       "      <td>19</td>\n",
       "      <td>15</td>\n",
       "      <td>5</td>\n",
       "      <td>69</td>\n",
       "      <td>85.0</td>\n",
       "      <td>391.0</td>\n",
       "      <td>2</td>\n",
       "      <td>0.0</td>\n",
       "      <td>14</td>\n",
       "      <td>13</td>\n",
       "      <td>-4.50</td>\n",
       "      <td>0.795838</td>\n",
       "      <td>0</td>\n",
       "    </tr>\n",
       "  </tbody>\n",
       "</table>\n",
       "</div>"
      ],
      "text/plain": [
       "    Reporting_Airline  Tail_Number  Flight_Number_Reporting_Airline  Origin  OriginState  \\\n",
       "25                  4         1691                              435      19           15   \n",
       "26                  4         1691                              451      19           15   \n",
       "27                  4         3116                             4720      19           15   \n",
       "28                  4         3048                             2435      19           15   \n",
       "29                  4         2598                             4757      19           15   \n",
       "\n",
       "    DestState  Dest  CRSElapsedTime  Distance  DistanceGroup  precip_sum  ARR_HOUR  DEP_HOUR  \\\n",
       "25          4    39           120.0     574.0              3         0.0        19        18   \n",
       "26          4    39           115.0     574.0              3         0.0         9         8   \n",
       "27         18    40           250.0    1865.0              8         0.0        15         9   \n",
       "28         42    66           150.0     999.0              4         0.0        18        14   \n",
       "29          5    69            85.0     391.0              2         0.0        14        13   \n",
       "\n",
       "    flight_delay_freq  LoadFactor  STATUS  \n",
       "25              24.25    0.340491       0  \n",
       "26              -7.50    0.340491       0  \n",
       "27               1.50    0.805389       0  \n",
       "28              -7.25    0.833898       0  \n",
       "29              -4.50    0.795838       0  "
      ]
     },
     "execution_count": 249,
     "metadata": {},
     "output_type": "execute_result"
    }
   ],
   "source": [
    "rand_encoded.head()"
   ]
  },
  {
   "cell_type": "markdown",
   "metadata": {},
   "source": [
    "We removed the features that are not important and we can move on to section 3.0.4 No Encoding"
   ]
  },
  {
   "cell_type": "markdown",
   "metadata": {},
   "source": [
    "### OneHotEncoder"
   ]
  },
  {
   "cell_type": "code",
   "execution_count": 27,
   "metadata": {
    "ExecuteTime": {
     "end_time": "2019-05-03T04:35:35.246078Z",
     "start_time": "2019-05-03T04:35:35.242347Z"
    }
   },
   "outputs": [],
   "source": [
    "#objects = ['Reporting_Airline', 'Origin', 'Dest', 'DistanceGroup']\n",
    "dates = ['Quarter', 'Month','DayofMonth','DayOfWeek']\n",
    "#hours = ['ARR_HOUR', 'DEP_HOUR']\n",
    "#dist =  ['DistBins', 'DOM_DIRECTION']"
   ]
  },
  {
   "cell_type": "code",
   "execution_count": 28,
   "metadata": {
    "ExecuteTime": {
     "end_time": "2019-05-03T04:35:36.665269Z",
     "start_time": "2019-05-03T04:35:35.558583Z"
    },
    "scrolled": true
   },
   "outputs": [],
   "source": [
    "enc = OneHotEncoder(handle_unknown='ignore')\n",
    "dates_matrix = enc.fit_transform(rand_encoded[dates].values)\n",
    "#objects_matrix = enc.fit_transform(rand[objects].values)\n",
    "#hour_matrix = enc.fit_transform(rand[hours].values)\n",
    "#dist_matrix = enc.fit_transform(rand[dist].values)"
   ]
  },
  {
   "cell_type": "code",
   "execution_count": 29,
   "metadata": {
    "ExecuteTime": {
     "end_time": "2019-05-03T04:35:37.068231Z",
     "start_time": "2019-05-03T04:35:37.063480Z"
    },
    "scrolled": false
   },
   "outputs": [
    {
     "name": "stdout",
     "output_type": "stream",
     "text": [
      "Size is: 78.425984 MB\n"
     ]
    }
   ],
   "source": [
    "print(f'Size is: {dates_matrix.data.nbytes / 1000000} MB')\n",
    "#print(f'Size is: {objects_matrix.data.nbytes / 1000000} MB')\n",
    "#print(f'Size is: {hour_matrix.data.nbytes / 1000000} MB')\n",
    "#print(f'Size is: {dist_matrix.data.nbytes / 1000000} MB')"
   ]
  },
  {
   "cell_type": "code",
   "execution_count": 30,
   "metadata": {
    "ExecuteTime": {
     "end_time": "2019-05-03T04:35:37.736275Z",
     "start_time": "2019-05-03T04:35:37.441389Z"
    }
   },
   "outputs": [],
   "source": [
    "rand_encoded = rand_encoded.drop(columns=['Quarter', 'Month','DayofMonth','DayOfWeek'])"
   ]
  },
  {
   "cell_type": "code",
   "execution_count": 31,
   "metadata": {
    "ExecuteTime": {
     "end_time": "2019-05-03T04:35:38.050483Z",
     "start_time": "2019-05-03T04:35:38.032756Z"
    }
   },
   "outputs": [
    {
     "data": {
      "text/html": [
       "<div>\n",
       "<style scoped>\n",
       "    .dataframe tbody tr th:only-of-type {\n",
       "        vertical-align: middle;\n",
       "    }\n",
       "\n",
       "    .dataframe tbody tr th {\n",
       "        vertical-align: top;\n",
       "    }\n",
       "\n",
       "    .dataframe thead th {\n",
       "        text-align: right;\n",
       "    }\n",
       "</style>\n",
       "<table border=\"1\" class=\"dataframe\">\n",
       "  <thead>\n",
       "    <tr style=\"text-align: right;\">\n",
       "      <th></th>\n",
       "      <th>Reporting_Airline</th>\n",
       "      <th>Tail_Number</th>\n",
       "      <th>Flight_Number_Reporting_Airline</th>\n",
       "      <th>Origin</th>\n",
       "      <th>OriginState</th>\n",
       "      <th>DestState</th>\n",
       "      <th>Dest</th>\n",
       "      <th>CRSElapsedTime</th>\n",
       "      <th>Distance</th>\n",
       "      <th>DistanceGroup</th>\n",
       "      <th>precip_sum</th>\n",
       "      <th>ARR_HOUR</th>\n",
       "      <th>DEP_HOUR</th>\n",
       "      <th>DOM_DIRECTION</th>\n",
       "      <th>flight_freq</th>\n",
       "      <th>flight_delay_freq</th>\n",
       "      <th>STATUS</th>\n",
       "    </tr>\n",
       "  </thead>\n",
       "  <tbody>\n",
       "    <tr>\n",
       "      <th>25</th>\n",
       "      <td>4</td>\n",
       "      <td>1691</td>\n",
       "      <td>435</td>\n",
       "      <td>19</td>\n",
       "      <td>15</td>\n",
       "      <td>4</td>\n",
       "      <td>39</td>\n",
       "      <td>120.0</td>\n",
       "      <td>574.0</td>\n",
       "      <td>3</td>\n",
       "      <td>0.0</td>\n",
       "      <td>19</td>\n",
       "      <td>18</td>\n",
       "      <td>2</td>\n",
       "      <td>1</td>\n",
       "      <td>24.25</td>\n",
       "      <td>0</td>\n",
       "    </tr>\n",
       "    <tr>\n",
       "      <th>26</th>\n",
       "      <td>4</td>\n",
       "      <td>1691</td>\n",
       "      <td>451</td>\n",
       "      <td>19</td>\n",
       "      <td>15</td>\n",
       "      <td>4</td>\n",
       "      <td>39</td>\n",
       "      <td>115.0</td>\n",
       "      <td>574.0</td>\n",
       "      <td>3</td>\n",
       "      <td>0.0</td>\n",
       "      <td>9</td>\n",
       "      <td>8</td>\n",
       "      <td>2</td>\n",
       "      <td>22</td>\n",
       "      <td>-7.50</td>\n",
       "      <td>0</td>\n",
       "    </tr>\n",
       "    <tr>\n",
       "      <th>27</th>\n",
       "      <td>4</td>\n",
       "      <td>3116</td>\n",
       "      <td>4720</td>\n",
       "      <td>19</td>\n",
       "      <td>15</td>\n",
       "      <td>18</td>\n",
       "      <td>40</td>\n",
       "      <td>250.0</td>\n",
       "      <td>1865.0</td>\n",
       "      <td>8</td>\n",
       "      <td>0.0</td>\n",
       "      <td>15</td>\n",
       "      <td>9</td>\n",
       "      <td>0</td>\n",
       "      <td>23</td>\n",
       "      <td>1.50</td>\n",
       "      <td>0</td>\n",
       "    </tr>\n",
       "    <tr>\n",
       "      <th>28</th>\n",
       "      <td>4</td>\n",
       "      <td>3048</td>\n",
       "      <td>2435</td>\n",
       "      <td>19</td>\n",
       "      <td>15</td>\n",
       "      <td>42</td>\n",
       "      <td>66</td>\n",
       "      <td>150.0</td>\n",
       "      <td>999.0</td>\n",
       "      <td>4</td>\n",
       "      <td>0.0</td>\n",
       "      <td>18</td>\n",
       "      <td>14</td>\n",
       "      <td>0</td>\n",
       "      <td>7</td>\n",
       "      <td>-7.25</td>\n",
       "      <td>0</td>\n",
       "    </tr>\n",
       "    <tr>\n",
       "      <th>29</th>\n",
       "      <td>4</td>\n",
       "      <td>2598</td>\n",
       "      <td>4757</td>\n",
       "      <td>19</td>\n",
       "      <td>15</td>\n",
       "      <td>5</td>\n",
       "      <td>69</td>\n",
       "      <td>85.0</td>\n",
       "      <td>391.0</td>\n",
       "      <td>2</td>\n",
       "      <td>0.0</td>\n",
       "      <td>14</td>\n",
       "      <td>13</td>\n",
       "      <td>0</td>\n",
       "      <td>15</td>\n",
       "      <td>-4.50</td>\n",
       "      <td>0</td>\n",
       "    </tr>\n",
       "  </tbody>\n",
       "</table>\n",
       "</div>"
      ],
      "text/plain": [
       "    Reporting_Airline  Tail_Number  Flight_Number_Reporting_Airline  Origin  OriginState  \\\n",
       "25                  4         1691                              435      19           15   \n",
       "26                  4         1691                              451      19           15   \n",
       "27                  4         3116                             4720      19           15   \n",
       "28                  4         3048                             2435      19           15   \n",
       "29                  4         2598                             4757      19           15   \n",
       "\n",
       "    DestState  Dest  CRSElapsedTime  Distance  DistanceGroup  precip_sum  ARR_HOUR  DEP_HOUR  \\\n",
       "25          4    39           120.0     574.0              3         0.0        19        18   \n",
       "26          4    39           115.0     574.0              3         0.0         9         8   \n",
       "27         18    40           250.0    1865.0              8         0.0        15         9   \n",
       "28         42    66           150.0     999.0              4         0.0        18        14   \n",
       "29          5    69            85.0     391.0              2         0.0        14        13   \n",
       "\n",
       "    DOM_DIRECTION  flight_freq  flight_delay_freq  STATUS  \n",
       "25              2            1              24.25       0  \n",
       "26              2           22              -7.50       0  \n",
       "27              0           23               1.50       0  \n",
       "28              0            7              -7.25       0  \n",
       "29              0           15              -4.50       0  "
      ]
     },
     "execution_count": 31,
     "metadata": {},
     "output_type": "execute_result"
    }
   ],
   "source": [
    "rand_encoded.head()"
   ]
  },
  {
   "cell_type": "code",
   "execution_count": 32,
   "metadata": {
    "ExecuteTime": {
     "end_time": "2019-05-03T04:35:38.530183Z",
     "start_time": "2019-05-03T04:35:38.396650Z"
    }
   },
   "outputs": [],
   "source": [
    "rand_encoded = rand_encoded.fillna(0)"
   ]
  },
  {
   "cell_type": "markdown",
   "metadata": {},
   "source": [
    "### Creating the feature matrix"
   ]
  },
  {
   "cell_type": "code",
   "execution_count": 33,
   "metadata": {
    "ExecuteTime": {
     "end_time": "2019-05-03T04:35:39.475881Z",
     "start_time": "2019-05-03T04:35:38.891787Z"
    }
   },
   "outputs": [],
   "source": [
    "df_array = rand_encoded.drop(columns=['STATUS']).values"
   ]
  },
  {
   "cell_type": "code",
   "execution_count": 34,
   "metadata": {
    "ExecuteTime": {
     "end_time": "2019-05-03T04:35:39.849024Z",
     "start_time": "2019-05-03T04:35:39.844148Z"
    }
   },
   "outputs": [],
   "source": [
    "df_matrix = np.asmatrix(df_array)"
   ]
  },
  {
   "cell_type": "code",
   "execution_count": 35,
   "metadata": {
    "ExecuteTime": {
     "end_time": "2019-05-03T04:35:43.154216Z",
     "start_time": "2019-05-03T04:35:40.256612Z"
    },
    "scrolled": true
   },
   "outputs": [],
   "source": [
    "# Feature Scaling\n",
    "from sklearn.preprocessing import StandardScaler\n",
    "sc = StandardScaler()\n",
    "df_matrix = sc.fit_transform(df_matrix)"
   ]
  },
  {
   "cell_type": "code",
   "execution_count": 36,
   "metadata": {
    "ExecuteTime": {
     "end_time": "2019-05-03T04:35:47.049611Z",
     "start_time": "2019-05-03T04:35:43.558999Z"
    }
   },
   "outputs": [],
   "source": [
    "from scipy.sparse import hstack\n",
    "X_final_rand = hstack((dates_matrix, df_matrix))"
   ]
  },
  {
   "cell_type": "code",
   "execution_count": 38,
   "metadata": {
    "ExecuteTime": {
     "end_time": "2019-05-03T04:35:47.789766Z",
     "start_time": "2019-05-03T04:35:47.785371Z"
    }
   },
   "outputs": [],
   "source": [
    "y = rand.STATUS.values\n",
    "X = X_final_rand"
   ]
  },
  {
   "cell_type": "markdown",
   "metadata": {},
   "source": [
    "### No encoding"
   ]
  },
  {
   "cell_type": "code",
   "execution_count": 250,
   "metadata": {
    "ExecuteTime": {
     "end_time": "2019-05-04T03:55:45.953771Z",
     "start_time": "2019-05-04T03:55:45.636742Z"
    }
   },
   "outputs": [],
   "source": [
    "y = rand_encoded.STATUS.values\n",
    "X = rand_encoded.drop(columns='STATUS').values"
   ]
  },
  {
   "cell_type": "code",
   "execution_count": 251,
   "metadata": {
    "ExecuteTime": {
     "end_time": "2019-05-04T03:55:49.663229Z",
     "start_time": "2019-05-04T03:55:48.811223Z"
    }
   },
   "outputs": [],
   "source": [
    "from sklearn.model_selection import train_test_split\n",
    "X_train, X_test, y_train, y_test = train_test_split(X, y, test_size = 0.2, random_state=42)"
   ]
  },
  {
   "cell_type": "code",
   "execution_count": 252,
   "metadata": {
    "ExecuteTime": {
     "end_time": "2019-05-04T03:55:51.946422Z",
     "start_time": "2019-05-04T03:55:51.925923Z"
    }
   },
   "outputs": [],
   "source": [
    "from sklearn.ensemble import RandomForestClassifier\n",
    "\n",
    "clf_rand=RandomForestClassifier(n_estimators=10, max_depth=15)"
   ]
  },
  {
   "cell_type": "code",
   "execution_count": 253,
   "metadata": {
    "ExecuteTime": {
     "end_time": "2019-05-04T03:57:10.741129Z",
     "start_time": "2019-05-04T03:55:54.229850Z"
    },
    "scrolled": true
   },
   "outputs": [
    {
     "data": {
      "text/plain": [
       "RandomForestClassifier(bootstrap=True, class_weight=None, criterion='gini',\n",
       "            max_depth=15, max_features='auto', max_leaf_nodes=None,\n",
       "            min_impurity_decrease=0.0, min_impurity_split=None,\n",
       "            min_samples_leaf=1, min_samples_split=2,\n",
       "            min_weight_fraction_leaf=0.0, n_estimators=10, n_jobs=None,\n",
       "            oob_score=False, random_state=None, verbose=0,\n",
       "            warm_start=False)"
      ]
     },
     "execution_count": 253,
     "metadata": {},
     "output_type": "execute_result"
    }
   ],
   "source": [
    "#Train the model using the training sets y_pred=clf.predict(X_test)\n",
    "clf_rand.fit(X_train,y_train)"
   ]
  },
  {
   "cell_type": "code",
   "execution_count": null,
   "metadata": {},
   "outputs": [],
   "source": []
  },
  {
   "cell_type": "code",
   "execution_count": null,
   "metadata": {},
   "outputs": [],
   "source": []
  },
  {
   "cell_type": "code",
   "execution_count": null,
   "metadata": {},
   "outputs": [],
   "source": []
  },
  {
   "cell_type": "markdown",
   "metadata": {},
   "source": [
    "### Saving the model"
   ]
  },
  {
   "cell_type": "code",
   "execution_count": 2,
   "metadata": {
    "ExecuteTime": {
     "end_time": "2019-05-03T04:32:16.406152Z",
     "start_time": "2019-05-03T04:32:16.403209Z"
    }
   },
   "outputs": [],
   "source": [
    "import pickle"
   ]
  },
  {
   "cell_type": "code",
   "execution_count": 73,
   "metadata": {
    "ExecuteTime": {
     "end_time": "2019-04-28T15:35:43.989037Z",
     "start_time": "2019-04-28T15:34:57.291308Z"
    }
   },
   "outputs": [],
   "source": [
    "# save the model to disk\n",
    "filename = 'random_forest_model.sav'\n",
    "pickle.dump(clf_rand, open(filename, 'wb'))"
   ]
  },
  {
   "cell_type": "markdown",
   "metadata": {},
   "source": [
    "### Loading the model"
   ]
  },
  {
   "cell_type": "code",
   "execution_count": 41,
   "metadata": {
    "ExecuteTime": {
     "end_time": "2019-05-03T04:37:31.085594Z",
     "start_time": "2019-05-03T04:35:58.223287Z"
    },
    "scrolled": true
   },
   "outputs": [],
   "source": [
    "# load the model from disk\n",
    "filename = 'random_forest_model.sav'\n",
    "loaded_model = pickle.load(open(filename, 'rb'))\n",
    "y_pred = loaded_model.predict(X_test)"
   ]
  },
  {
   "cell_type": "code",
   "execution_count": null,
   "metadata": {},
   "outputs": [],
   "source": []
  },
  {
   "cell_type": "code",
   "execution_count": null,
   "metadata": {},
   "outputs": [],
   "source": []
  },
  {
   "cell_type": "code",
   "execution_count": null,
   "metadata": {},
   "outputs": [],
   "source": []
  },
  {
   "cell_type": "code",
   "execution_count": null,
   "metadata": {},
   "outputs": [],
   "source": []
  },
  {
   "cell_type": "markdown",
   "metadata": {},
   "source": [
    "#### Predict"
   ]
  },
  {
   "cell_type": "code",
   "execution_count": 254,
   "metadata": {
    "ExecuteTime": {
     "end_time": "2019-05-04T03:57:11.921122Z",
     "start_time": "2019-05-04T03:57:11.022467Z"
    }
   },
   "outputs": [],
   "source": [
    "y_pred = clf_rand.predict(X_test)"
   ]
  },
  {
   "cell_type": "code",
   "execution_count": 255,
   "metadata": {
    "ExecuteTime": {
     "end_time": "2019-05-04T03:57:12.241860Z",
     "start_time": "2019-05-04T03:57:12.182990Z"
    }
   },
   "outputs": [
    {
     "name": "stdout",
     "output_type": "stream",
     "text": [
      "Accuracy: 0.8242564208232771\n"
     ]
    }
   ],
   "source": [
    "# Model Accuracy, how often is the classifier correct?\n",
    "from sklearn import metrics\n",
    "print(\"Accuracy:\",metrics.accuracy_score(y_test, y_pred))"
   ]
  },
  {
   "cell_type": "code",
   "execution_count": 256,
   "metadata": {
    "ExecuteTime": {
     "end_time": "2019-05-04T03:57:12.867595Z",
     "start_time": "2019-05-04T03:57:12.470968Z"
    }
   },
   "outputs": [
    {
     "data": {
      "text/plain": [
       "array([[392351,   7409],\n",
       "       [ 78734,  11669]])"
      ]
     },
     "execution_count": 256,
     "metadata": {},
     "output_type": "execute_result"
    }
   ],
   "source": [
    "# Making the Confusion Matrix\n",
    "from sklearn.metrics import confusion_matrix\n",
    "cm = confusion_matrix(y_test, y_pred)\n",
    "cm"
   ]
  },
  {
   "cell_type": "code",
   "execution_count": 257,
   "metadata": {
    "ExecuteTime": {
     "end_time": "2019-05-04T03:57:13.125210Z",
     "start_time": "2019-05-04T03:57:13.122107Z"
    }
   },
   "outputs": [],
   "source": [
    "from sklearn.metrics import f1_score"
   ]
  },
  {
   "cell_type": "code",
   "execution_count": 258,
   "metadata": {
    "ExecuteTime": {
     "end_time": "2019-05-04T03:57:13.531382Z",
     "start_time": "2019-05-04T03:57:13.440423Z"
    }
   },
   "outputs": [
    {
     "data": {
      "text/plain": [
       "0.7742064335560046"
      ]
     },
     "execution_count": 258,
     "metadata": {},
     "output_type": "execute_result"
    }
   ],
   "source": [
    "f1_score(y_test, y_pred, average='weighted')"
   ]
  },
  {
   "cell_type": "code",
   "execution_count": 259,
   "metadata": {
    "ExecuteTime": {
     "end_time": "2019-05-04T03:57:13.787112Z",
     "start_time": "2019-05-04T03:57:13.781329Z"
    }
   },
   "outputs": [],
   "source": [
    "#find important features\n",
    "#feature_imp = pd.Series(clf_rand.feature_importances_,index=cols).sort_values(ascending=False)\n",
    "#feature_imp"
   ]
  },
  {
   "cell_type": "code",
   "execution_count": 260,
   "metadata": {
    "ExecuteTime": {
     "end_time": "2019-05-04T03:57:14.883012Z",
     "start_time": "2019-05-04T03:57:14.020668Z"
    }
   },
   "outputs": [],
   "source": [
    "y_prob = clf_rand.predict_proba(X_test)[::,1]"
   ]
  },
  {
   "cell_type": "code",
   "execution_count": 261,
   "metadata": {
    "ExecuteTime": {
     "end_time": "2019-05-04T03:57:15.124561Z",
     "start_time": "2019-05-04T03:57:15.119139Z"
    }
   },
   "outputs": [],
   "source": [
    "import matplotlib.pyplot as plt\n",
    "import matplotlib\n",
    "matplotlib.rcParams['figure.figsize'] = (10, 10)"
   ]
  },
  {
   "cell_type": "code",
   "execution_count": 262,
   "metadata": {
    "ExecuteTime": {
     "end_time": "2019-05-04T03:57:15.977825Z",
     "start_time": "2019-05-04T03:57:15.356241Z"
    }
   },
   "outputs": [
    {
     "data": {
      "image/png": "[encoded data removed]",
      "text/plain": [
       "<Figure size 720x720 with 1 Axes>"
      ]
     },
     "metadata": {
      "needs_background": "light"
     },
     "output_type": "display_data"
    }
   ],
   "source": [
    "y_pred_proba = y_prob\n",
    "fpr, tpr, _ = metrics.roc_curve(y_test,  y_pred_proba)\n",
    "auc = metrics.roc_auc_score(y_test, y_pred_proba)\n",
    "plt.plot(fpr,tpr,label=\"data 1, auc=\"+str(auc))\n",
    "plt.legend(loc=4)\n",
    "plt.title('ROC Curve')\n",
    "plt.show()"
   ]
  },
  {
   "cell_type": "markdown",
   "metadata": {},
   "source": [
    "### Extracting a single tree"
   ]
  },
  {
   "cell_type": "code",
   "execution_count": 169,
   "metadata": {
    "ExecuteTime": {
     "end_time": "2019-05-01T13:33:58.686374Z",
     "start_time": "2019-05-01T13:33:58.682138Z"
    }
   },
   "outputs": [],
   "source": [
    "estimator = loaded_model.estimators_[5]"
   ]
  },
  {
   "cell_type": "code",
   "execution_count": 171,
   "metadata": {
    "ExecuteTime": {
     "end_time": "2019-05-01T13:45:56.830704Z",
     "start_time": "2019-05-01T13:44:49.914638Z"
    }
   },
   "outputs": [],
   "source": [
    "from sklearn.tree import export_graphviz\n",
    "# Export as dot file\n",
    "export_graphviz(estimator, \n",
    "                out_file='tree.dot', \n",
    "                #feature_names = iris.feature_names,\n",
    "                #class_names = iris.target_names,\n",
    "                rounded = True, proportion = False, \n",
    "                precision = 2, filled = True)"
   ]
  },
  {
   "cell_type": "code",
   "execution_count": null,
   "metadata": {
    "ExecuteTime": {
     "start_time": "2019-05-01T14:06:09.204Z"
    }
   },
   "outputs": [],
   "source": [
    "import pydot\n",
    "\n",
    "(graph,) = pydot.graph_from_dot_file('tree.dot')\n",
    "graph.write_png('tree.png')"
   ]
  },
  {
   "cell_type": "code",
   "execution_count": null,
   "metadata": {},
   "outputs": [],
   "source": [
    "# Display in jupyter notebook\n",
    "from IPython.display import Image\n",
    "Image(filename = 'tree.png')"
   ]
  },
  {
   "cell_type": "markdown",
   "metadata": {},
   "source": [
    "# XGBoost"
   ]
  },
  {
   "cell_type": "code",
   "execution_count": 287,
   "metadata": {
    "ExecuteTime": {
     "end_time": "2019-05-04T13:47:19.412583Z",
     "start_time": "2019-05-04T13:47:19.402753Z"
    }
   },
   "outputs": [],
   "source": [
    "xgb_encoded = name"
   ]
  },
  {
   "cell_type": "code",
   "execution_count": 288,
   "metadata": {
    "ExecuteTime": {
     "end_time": "2019-05-04T13:47:20.112797Z",
     "start_time": "2019-05-04T13:47:20.095340Z"
    }
   },
   "outputs": [
    {
     "data": {
      "text/html": [
       "<div>\n",
       "<style scoped>\n",
       "    .dataframe tbody tr th:only-of-type {\n",
       "        vertical-align: middle;\n",
       "    }\n",
       "\n",
       "    .dataframe tbody tr th {\n",
       "        vertical-align: top;\n",
       "    }\n",
       "\n",
       "    .dataframe thead th {\n",
       "        text-align: right;\n",
       "    }\n",
       "</style>\n",
       "<table border=\"1\" class=\"dataframe\">\n",
       "  <thead>\n",
       "    <tr style=\"text-align: right;\">\n",
       "      <th></th>\n",
       "      <th>Quarter</th>\n",
       "      <th>Month</th>\n",
       "      <th>DayofMonth</th>\n",
       "      <th>DayOfWeek</th>\n",
       "      <th>Reporting_Airline</th>\n",
       "      <th>Tail_Number</th>\n",
       "      <th>Flight_Number_Reporting_Airline</th>\n",
       "      <th>Origin</th>\n",
       "      <th>OriginState</th>\n",
       "      <th>DestState</th>\n",
       "      <th>Dest</th>\n",
       "      <th>CRSElapsedTime</th>\n",
       "      <th>ArrDelay</th>\n",
       "      <th>Distance</th>\n",
       "      <th>DistanceGroup</th>\n",
       "      <th>precip_sum</th>\n",
       "      <th>ARR_HOUR</th>\n",
       "      <th>DEP_HOUR</th>\n",
       "      <th>DOM_DIRECTION</th>\n",
       "      <th>flight_freq</th>\n",
       "      <th>flight_delay_freq</th>\n",
       "      <th>LoadFactor</th>\n",
       "      <th>STATUS</th>\n",
       "    </tr>\n",
       "  </thead>\n",
       "  <tbody>\n",
       "    <tr>\n",
       "      <th>25</th>\n",
       "      <td>2</td>\n",
       "      <td>5</td>\n",
       "      <td>6</td>\n",
       "      <td>6</td>\n",
       "      <td>4</td>\n",
       "      <td>1691</td>\n",
       "      <td>435</td>\n",
       "      <td>19</td>\n",
       "      <td>15</td>\n",
       "      <td>4</td>\n",
       "      <td>39</td>\n",
       "      <td>120.0</td>\n",
       "      <td>-18.0</td>\n",
       "      <td>574.0</td>\n",
       "      <td>3</td>\n",
       "      <td>0.0</td>\n",
       "      <td>19</td>\n",
       "      <td>18</td>\n",
       "      <td>2</td>\n",
       "      <td>1</td>\n",
       "      <td>24.25</td>\n",
       "      <td>0.340491</td>\n",
       "      <td>0</td>\n",
       "    </tr>\n",
       "    <tr>\n",
       "      <th>26</th>\n",
       "      <td>2</td>\n",
       "      <td>5</td>\n",
       "      <td>6</td>\n",
       "      <td>6</td>\n",
       "      <td>4</td>\n",
       "      <td>1691</td>\n",
       "      <td>451</td>\n",
       "      <td>19</td>\n",
       "      <td>15</td>\n",
       "      <td>4</td>\n",
       "      <td>39</td>\n",
       "      <td>115.0</td>\n",
       "      <td>-9.0</td>\n",
       "      <td>574.0</td>\n",
       "      <td>3</td>\n",
       "      <td>0.0</td>\n",
       "      <td>9</td>\n",
       "      <td>8</td>\n",
       "      <td>2</td>\n",
       "      <td>22</td>\n",
       "      <td>-7.50</td>\n",
       "      <td>0.340491</td>\n",
       "      <td>0</td>\n",
       "    </tr>\n",
       "    <tr>\n",
       "      <th>27</th>\n",
       "      <td>2</td>\n",
       "      <td>5</td>\n",
       "      <td>6</td>\n",
       "      <td>6</td>\n",
       "      <td>4</td>\n",
       "      <td>3116</td>\n",
       "      <td>4720</td>\n",
       "      <td>19</td>\n",
       "      <td>15</td>\n",
       "      <td>18</td>\n",
       "      <td>40</td>\n",
       "      <td>250.0</td>\n",
       "      <td>-1.0</td>\n",
       "      <td>1865.0</td>\n",
       "      <td>8</td>\n",
       "      <td>0.0</td>\n",
       "      <td>15</td>\n",
       "      <td>9</td>\n",
       "      <td>0</td>\n",
       "      <td>23</td>\n",
       "      <td>1.50</td>\n",
       "      <td>0.805389</td>\n",
       "      <td>0</td>\n",
       "    </tr>\n",
       "    <tr>\n",
       "      <th>28</th>\n",
       "      <td>2</td>\n",
       "      <td>5</td>\n",
       "      <td>6</td>\n",
       "      <td>6</td>\n",
       "      <td>4</td>\n",
       "      <td>3048</td>\n",
       "      <td>2435</td>\n",
       "      <td>19</td>\n",
       "      <td>15</td>\n",
       "      <td>42</td>\n",
       "      <td>66</td>\n",
       "      <td>150.0</td>\n",
       "      <td>0.0</td>\n",
       "      <td>999.0</td>\n",
       "      <td>4</td>\n",
       "      <td>0.0</td>\n",
       "      <td>18</td>\n",
       "      <td>14</td>\n",
       "      <td>0</td>\n",
       "      <td>7</td>\n",
       "      <td>-7.25</td>\n",
       "      <td>0.833898</td>\n",
       "      <td>0</td>\n",
       "    </tr>\n",
       "    <tr>\n",
       "      <th>29</th>\n",
       "      <td>2</td>\n",
       "      <td>5</td>\n",
       "      <td>6</td>\n",
       "      <td>6</td>\n",
       "      <td>4</td>\n",
       "      <td>2598</td>\n",
       "      <td>4757</td>\n",
       "      <td>19</td>\n",
       "      <td>15</td>\n",
       "      <td>5</td>\n",
       "      <td>69</td>\n",
       "      <td>85.0</td>\n",
       "      <td>-13.0</td>\n",
       "      <td>391.0</td>\n",
       "      <td>2</td>\n",
       "      <td>0.0</td>\n",
       "      <td>14</td>\n",
       "      <td>13</td>\n",
       "      <td>0</td>\n",
       "      <td>15</td>\n",
       "      <td>-4.50</td>\n",
       "      <td>0.795838</td>\n",
       "      <td>0</td>\n",
       "    </tr>\n",
       "  </tbody>\n",
       "</table>\n",
       "</div>"
      ],
      "text/plain": [
       "    Quarter  Month  DayofMonth  DayOfWeek  Reporting_Airline  Tail_Number  \\\n",
       "25        2      5           6          6                  4         1691   \n",
       "26        2      5           6          6                  4         1691   \n",
       "27        2      5           6          6                  4         3116   \n",
       "28        2      5           6          6                  4         3048   \n",
       "29        2      5           6          6                  4         2598   \n",
       "\n",
       "    Flight_Number_Reporting_Airline  Origin  OriginState  DestState  Dest  CRSElapsedTime  \\\n",
       "25                              435      19           15          4    39           120.0   \n",
       "26                              451      19           15          4    39           115.0   \n",
       "27                             4720      19           15         18    40           250.0   \n",
       "28                             2435      19           15         42    66           150.0   \n",
       "29                             4757      19           15          5    69            85.0   \n",
       "\n",
       "    ArrDelay  Distance  DistanceGroup  precip_sum  ARR_HOUR  DEP_HOUR  DOM_DIRECTION  flight_freq  \\\n",
       "25     -18.0     574.0              3         0.0        19        18              2            1   \n",
       "26      -9.0     574.0              3         0.0         9         8              2           22   \n",
       "27      -1.0    1865.0              8         0.0        15         9              0           23   \n",
       "28       0.0     999.0              4         0.0        18        14              0            7   \n",
       "29     -13.0     391.0              2         0.0        14        13              0           15   \n",
       "\n",
       "    flight_delay_freq  LoadFactor  STATUS  \n",
       "25              24.25    0.340491       0  \n",
       "26              -7.50    0.340491       0  \n",
       "27               1.50    0.805389       0  \n",
       "28              -7.25    0.833898       0  \n",
       "29              -4.50    0.795838       0  "
      ]
     },
     "execution_count": 288,
     "metadata": {},
     "output_type": "execute_result"
    }
   ],
   "source": [
    "xgb_encoded.head()"
   ]
  },
  {
   "cell_type": "code",
   "execution_count": 290,
   "metadata": {
    "ExecuteTime": {
     "end_time": "2019-05-04T13:48:07.374351Z",
     "start_time": "2019-05-04T13:48:06.193760Z"
    }
   },
   "outputs": [],
   "source": [
    "xgb_encoded = xgb_encoded.drop(columns='ArrDelay')"
   ]
  },
  {
   "cell_type": "code",
   "execution_count": 265,
   "metadata": {
    "ExecuteTime": {
     "end_time": "2019-05-04T03:57:16.784930Z",
     "start_time": "2019-05-04T03:57:16.779359Z"
    }
   },
   "outputs": [],
   "source": [
    "from xgboost import XGBClassifier\n",
    "from sklearn.model_selection import train_test_split\n",
    "from sklearn.metrics import accuracy_score"
   ]
  },
  {
   "cell_type": "code",
   "execution_count": 266,
   "metadata": {
    "ExecuteTime": {
     "end_time": "2019-05-04T03:57:17.606038Z",
     "start_time": "2019-05-04T03:57:17.037251Z"
    }
   },
   "outputs": [],
   "source": [
    "y_xg = xgb_encoded.STATUS.values\n",
    "X_xg = xgb_encoded.drop(columns='STATUS').values"
   ]
  },
  {
   "cell_type": "code",
   "execution_count": 267,
   "metadata": {
    "ExecuteTime": {
     "end_time": "2019-05-04T03:57:28.788623Z",
     "start_time": "2019-05-04T03:57:26.879043Z"
    }
   },
   "outputs": [],
   "source": [
    "# Feature Scaling\n",
    "from sklearn.preprocessing import StandardScaler\n",
    "sc = StandardScaler()\n",
    "X_xg = sc.fit_transform(X_xg)"
   ]
  },
  {
   "cell_type": "code",
   "execution_count": 268,
   "metadata": {
    "ExecuteTime": {
     "end_time": "2019-05-04T03:57:30.027398Z",
     "start_time": "2019-05-04T03:57:29.100546Z"
    }
   },
   "outputs": [],
   "source": [
    "from sklearn.model_selection import train_test_split\n",
    "X_train_xg, X_test_xg, y_train_xg, y_test_xg = train_test_split(X_xg, y_xg, test_size = 0.2, random_state=42)"
   ]
  },
  {
   "cell_type": "code",
   "execution_count": 279,
   "metadata": {
    "ExecuteTime": {
     "end_time": "2019-05-04T04:36:32.185712Z",
     "start_time": "2019-05-04T04:34:03.368509Z"
    }
   },
   "outputs": [
    {
     "data": {
      "text/plain": [
       "XGBClassifier(base_score=0.5, booster='gbtree', colsample_bylevel=1,\n",
       "       colsample_bytree=1, gamma=0, learning_rate=0.15, max_delta_step=0,\n",
       "       max_depth=15, min_child_weight=1, missing=None, n_estimators=10,\n",
       "       n_jobs=1, nthread=None, objective='binary:logistic', random_state=0,\n",
       "       reg_alpha=0, reg_lambda=1, scale_pos_weight=1, seed=123,\n",
       "       silent=True, subsample=1)"
      ]
     },
     "execution_count": 279,
     "metadata": {},
     "output_type": "execute_result"
    }
   ],
   "source": [
    "xgb = XGBClassifier(n_estimators=10, seed=123, max_depth=15, learning_rate=0.15)\n",
    "xgb.fit(X_train_xg, y_train_xg)"
   ]
  },
  {
   "cell_type": "code",
   "execution_count": 280,
   "metadata": {
    "ExecuteTime": {
     "end_time": "2019-05-04T04:36:35.417444Z",
     "start_time": "2019-05-04T04:36:32.561107Z"
    }
   },
   "outputs": [
    {
     "name": "stdout",
     "output_type": "stream",
     "text": [
      "Accuracy: 0.8238993967312914\n"
     ]
    }
   ],
   "source": [
    "y_pred_xg = xgb.predict(X_test_xg)\n",
    "y_prob_xg = xgb.predict_proba(X_test_xg)[::,1]\n",
    "# Model Accuracy, how often is the classifier correct?\n",
    "from sklearn import metrics\n",
    "print(\"Accuracy:\",metrics.accuracy_score(y_test_xg, y_pred_xg))"
   ]
  },
  {
   "cell_type": "code",
   "execution_count": 281,
   "metadata": {
    "ExecuteTime": {
     "end_time": "2019-05-04T04:36:36.047308Z",
     "start_time": "2019-05-04T04:36:35.711210Z"
    }
   },
   "outputs": [
    {
     "data": {
      "text/plain": [
       "array([[389684,  10076],\n",
       "       [ 76242,  14161]])"
      ]
     },
     "execution_count": 281,
     "metadata": {},
     "output_type": "execute_result"
    }
   ],
   "source": [
    "# Making the Confusion Matrix\n",
    "from sklearn.metrics import confusion_matrix\n",
    "cm = confusion_matrix(y_test_xg, y_pred_xg)\n",
    "cm"
   ]
  },
  {
   "cell_type": "code",
   "execution_count": 282,
   "metadata": {
    "ExecuteTime": {
     "end_time": "2019-05-04T04:36:36.296005Z",
     "start_time": "2019-05-04T04:36:36.291644Z"
    }
   },
   "outputs": [],
   "source": [
    "import matplotlib.pyplot as plt\n",
    "import matplotlib\n",
    "matplotlib.rcParams['figure.figsize'] = (10, 10)"
   ]
  },
  {
   "cell_type": "code",
   "execution_count": 283,
   "metadata": {
    "ExecuteTime": {
     "end_time": "2019-05-04T04:36:37.066191Z",
     "start_time": "2019-05-04T04:36:36.533743Z"
    }
   },
   "outputs": [
    {
     "data": {
      "image/png": "[encoded data removed]",
      "text/plain": [
       "<Figure size 720x720 with 1 Axes>"
      ]
     },
     "metadata": {
      "needs_background": "light"
     },
     "output_type": "display_data"
    }
   ],
   "source": [
    "y_pred_proba = y_prob_xg\n",
    "fpr, tpr, _ = metrics.roc_curve(y_test_xg,  y_pred_proba)\n",
    "auc = metrics.roc_auc_score(y_test_xg, y_pred_proba)\n",
    "plt.plot(fpr,tpr,label=\"data 1, auc=\"+str(auc))\n",
    "plt.legend(loc=4)\n",
    "plt.title('ROC Curve')\n",
    "plt.show()"
   ]
  },
  {
   "cell_type": "markdown",
   "metadata": {},
   "source": [
    "# XGBoost Reggression"
   ]
  },
  {
   "cell_type": "code",
   "execution_count": 152,
   "metadata": {
    "ExecuteTime": {
     "end_time": "2019-05-03T23:37:33.276814Z",
     "start_time": "2019-05-03T23:37:33.272250Z"
    }
   },
   "outputs": [],
   "source": [
    "import xgboost as xgb"
   ]
  },
  {
   "cell_type": "code",
   "execution_count": 224,
   "metadata": {
    "ExecuteTime": {
     "end_time": "2019-05-04T03:35:23.466326Z",
     "start_time": "2019-05-04T03:35:23.458755Z"
    }
   },
   "outputs": [],
   "source": [
    "xg_df = name"
   ]
  },
  {
   "cell_type": "code",
   "execution_count": 293,
   "metadata": {
    "ExecuteTime": {
     "end_time": "2019-05-04T14:14:49.023732Z",
     "start_time": "2019-05-04T14:14:49.005009Z"
    }
   },
   "outputs": [
    {
     "data": {
      "text/html": [
       "<div>\n",
       "<style scoped>\n",
       "    .dataframe tbody tr th:only-of-type {\n",
       "        vertical-align: middle;\n",
       "    }\n",
       "\n",
       "    .dataframe tbody tr th {\n",
       "        vertical-align: top;\n",
       "    }\n",
       "\n",
       "    .dataframe thead th {\n",
       "        text-align: right;\n",
       "    }\n",
       "</style>\n",
       "<table border=\"1\" class=\"dataframe\">\n",
       "  <thead>\n",
       "    <tr style=\"text-align: right;\">\n",
       "      <th></th>\n",
       "      <th>Quarter</th>\n",
       "      <th>Month</th>\n",
       "      <th>DayofMonth</th>\n",
       "      <th>DayOfWeek</th>\n",
       "      <th>Reporting_Airline</th>\n",
       "      <th>Tail_Number</th>\n",
       "      <th>Flight_Number_Reporting_Airline</th>\n",
       "      <th>Origin</th>\n",
       "      <th>OriginState</th>\n",
       "      <th>DestState</th>\n",
       "      <th>Dest</th>\n",
       "      <th>CRSElapsedTime</th>\n",
       "      <th>ArrDelay</th>\n",
       "      <th>Distance</th>\n",
       "      <th>DistanceGroup</th>\n",
       "      <th>precip_sum</th>\n",
       "      <th>ARR_HOUR</th>\n",
       "      <th>DEP_HOUR</th>\n",
       "      <th>DOM_DIRECTION</th>\n",
       "      <th>flight_freq</th>\n",
       "      <th>flight_delay_freq</th>\n",
       "      <th>LoadFactor</th>\n",
       "      <th>STATUS</th>\n",
       "    </tr>\n",
       "  </thead>\n",
       "  <tbody>\n",
       "    <tr>\n",
       "      <th>25</th>\n",
       "      <td>2</td>\n",
       "      <td>5</td>\n",
       "      <td>6</td>\n",
       "      <td>6</td>\n",
       "      <td>4</td>\n",
       "      <td>1691</td>\n",
       "      <td>435</td>\n",
       "      <td>19</td>\n",
       "      <td>15</td>\n",
       "      <td>4</td>\n",
       "      <td>39</td>\n",
       "      <td>120.0</td>\n",
       "      <td>-18.0</td>\n",
       "      <td>574.0</td>\n",
       "      <td>3</td>\n",
       "      <td>0.0</td>\n",
       "      <td>19</td>\n",
       "      <td>18</td>\n",
       "      <td>2</td>\n",
       "      <td>1</td>\n",
       "      <td>24.25</td>\n",
       "      <td>0.340491</td>\n",
       "      <td>0</td>\n",
       "    </tr>\n",
       "    <tr>\n",
       "      <th>26</th>\n",
       "      <td>2</td>\n",
       "      <td>5</td>\n",
       "      <td>6</td>\n",
       "      <td>6</td>\n",
       "      <td>4</td>\n",
       "      <td>1691</td>\n",
       "      <td>451</td>\n",
       "      <td>19</td>\n",
       "      <td>15</td>\n",
       "      <td>4</td>\n",
       "      <td>39</td>\n",
       "      <td>115.0</td>\n",
       "      <td>-9.0</td>\n",
       "      <td>574.0</td>\n",
       "      <td>3</td>\n",
       "      <td>0.0</td>\n",
       "      <td>9</td>\n",
       "      <td>8</td>\n",
       "      <td>2</td>\n",
       "      <td>22</td>\n",
       "      <td>-7.50</td>\n",
       "      <td>0.340491</td>\n",
       "      <td>0</td>\n",
       "    </tr>\n",
       "    <tr>\n",
       "      <th>27</th>\n",
       "      <td>2</td>\n",
       "      <td>5</td>\n",
       "      <td>6</td>\n",
       "      <td>6</td>\n",
       "      <td>4</td>\n",
       "      <td>3116</td>\n",
       "      <td>4720</td>\n",
       "      <td>19</td>\n",
       "      <td>15</td>\n",
       "      <td>18</td>\n",
       "      <td>40</td>\n",
       "      <td>250.0</td>\n",
       "      <td>-1.0</td>\n",
       "      <td>1865.0</td>\n",
       "      <td>8</td>\n",
       "      <td>0.0</td>\n",
       "      <td>15</td>\n",
       "      <td>9</td>\n",
       "      <td>0</td>\n",
       "      <td>23</td>\n",
       "      <td>1.50</td>\n",
       "      <td>0.805389</td>\n",
       "      <td>0</td>\n",
       "    </tr>\n",
       "    <tr>\n",
       "      <th>28</th>\n",
       "      <td>2</td>\n",
       "      <td>5</td>\n",
       "      <td>6</td>\n",
       "      <td>6</td>\n",
       "      <td>4</td>\n",
       "      <td>3048</td>\n",
       "      <td>2435</td>\n",
       "      <td>19</td>\n",
       "      <td>15</td>\n",
       "      <td>42</td>\n",
       "      <td>66</td>\n",
       "      <td>150.0</td>\n",
       "      <td>0.0</td>\n",
       "      <td>999.0</td>\n",
       "      <td>4</td>\n",
       "      <td>0.0</td>\n",
       "      <td>18</td>\n",
       "      <td>14</td>\n",
       "      <td>0</td>\n",
       "      <td>7</td>\n",
       "      <td>-7.25</td>\n",
       "      <td>0.833898</td>\n",
       "      <td>0</td>\n",
       "    </tr>\n",
       "    <tr>\n",
       "      <th>29</th>\n",
       "      <td>2</td>\n",
       "      <td>5</td>\n",
       "      <td>6</td>\n",
       "      <td>6</td>\n",
       "      <td>4</td>\n",
       "      <td>2598</td>\n",
       "      <td>4757</td>\n",
       "      <td>19</td>\n",
       "      <td>15</td>\n",
       "      <td>5</td>\n",
       "      <td>69</td>\n",
       "      <td>85.0</td>\n",
       "      <td>-13.0</td>\n",
       "      <td>391.0</td>\n",
       "      <td>2</td>\n",
       "      <td>0.0</td>\n",
       "      <td>14</td>\n",
       "      <td>13</td>\n",
       "      <td>0</td>\n",
       "      <td>15</td>\n",
       "      <td>-4.50</td>\n",
       "      <td>0.795838</td>\n",
       "      <td>0</td>\n",
       "    </tr>\n",
       "  </tbody>\n",
       "</table>\n",
       "</div>"
      ],
      "text/plain": [
       "    Quarter  Month  DayofMonth  DayOfWeek  Reporting_Airline  Tail_Number  \\\n",
       "25        2      5           6          6                  4         1691   \n",
       "26        2      5           6          6                  4         1691   \n",
       "27        2      5           6          6                  4         3116   \n",
       "28        2      5           6          6                  4         3048   \n",
       "29        2      5           6          6                  4         2598   \n",
       "\n",
       "    Flight_Number_Reporting_Airline  Origin  OriginState  DestState  Dest  CRSElapsedTime  \\\n",
       "25                              435      19           15          4    39           120.0   \n",
       "26                              451      19           15          4    39           115.0   \n",
       "27                             4720      19           15         18    40           250.0   \n",
       "28                             2435      19           15         42    66           150.0   \n",
       "29                             4757      19           15          5    69            85.0   \n",
       "\n",
       "    ArrDelay  Distance  DistanceGroup  precip_sum  ARR_HOUR  DEP_HOUR  DOM_DIRECTION  flight_freq  \\\n",
       "25     -18.0     574.0              3         0.0        19        18              2            1   \n",
       "26      -9.0     574.0              3         0.0         9         8              2           22   \n",
       "27      -1.0    1865.0              8         0.0        15         9              0           23   \n",
       "28       0.0     999.0              4         0.0        18        14              0            7   \n",
       "29     -13.0     391.0              2         0.0        14        13              0           15   \n",
       "\n",
       "    flight_delay_freq  LoadFactor  STATUS  \n",
       "25              24.25    0.340491       0  \n",
       "26              -7.50    0.340491       0  \n",
       "27               1.50    0.805389       0  \n",
       "28              -7.25    0.833898       0  \n",
       "29              -4.50    0.795838       0  "
      ]
     },
     "execution_count": 293,
     "metadata": {},
     "output_type": "execute_result"
    }
   ],
   "source": [
    "xg_df.head()"
   ]
  },
  {
   "cell_type": "code",
   "execution_count": 227,
   "metadata": {
    "ExecuteTime": {
     "end_time": "2019-05-04T03:35:28.762406Z",
     "start_time": "2019-05-04T03:35:28.029258Z"
    }
   },
   "outputs": [],
   "source": [
    "xg_df = xg_df[(xg_df.ArrDelay <= 180)]"
   ]
  },
  {
   "cell_type": "code",
   "execution_count": 228,
   "metadata": {
    "ExecuteTime": {
     "end_time": "2019-05-04T03:35:29.993871Z",
     "start_time": "2019-05-04T03:35:29.054950Z"
    }
   },
   "outputs": [],
   "source": [
    "y_xg_reg = xg_df.ArrDelay.values\n",
    "X_xg_reg = xg_df.drop(columns='ArrDelay').values"
   ]
  },
  {
   "cell_type": "code",
   "execution_count": 229,
   "metadata": {
    "ExecuteTime": {
     "end_time": "2019-05-04T03:35:31.434328Z",
     "start_time": "2019-05-04T03:35:30.246320Z"
    }
   },
   "outputs": [],
   "source": [
    "data_dmatrix = xgb.DMatrix(data=X_xg_reg,label=y_xg_reg)"
   ]
  },
  {
   "cell_type": "code",
   "execution_count": 230,
   "metadata": {
    "ExecuteTime": {
     "end_time": "2019-05-04T03:35:33.177661Z",
     "start_time": "2019-05-04T03:35:31.707522Z"
    }
   },
   "outputs": [],
   "source": [
    "from sklearn.model_selection import train_test_split\n",
    "X_train_xgreg, X_test_xgreg, y_train_xgreg, y_test_xgreg = train_test_split(X_xg_reg, y_xg_reg, test_size = 0.2, random_state=42)"
   ]
  },
  {
   "cell_type": "code",
   "execution_count": 231,
   "metadata": {
    "ExecuteTime": {
     "end_time": "2019-05-04T03:35:45.872030Z",
     "start_time": "2019-05-04T03:35:45.837371Z"
    }
   },
   "outputs": [],
   "source": [
    "xg_reg = xgb.XGBRegressor(objective ='reg:linear', colsample_bytree = 0.7, learning_rate = 0.15,\n",
    "                max_depth = 10, alpha = 10, n_estimators = 100)"
   ]
  },
  {
   "cell_type": "code",
   "execution_count": 232,
   "metadata": {
    "ExecuteTime": {
     "end_time": "2019-05-04T03:49:52.533343Z",
     "start_time": "2019-05-04T03:35:47.210297Z"
    }
   },
   "outputs": [],
   "source": [
    "xg_reg.fit(X_train_xgreg,y_train_xgreg)\n",
    "\n",
    "preds = xg_reg.predict(X_test_xgreg)"
   ]
  },
  {
   "cell_type": "code",
   "execution_count": 233,
   "metadata": {
    "ExecuteTime": {
     "end_time": "2019-05-04T03:49:52.944792Z",
     "start_time": "2019-05-04T03:49:52.914261Z"
    }
   },
   "outputs": [
    {
     "name": "stdout",
     "output_type": "stream",
     "text": [
      "RMSE: 16.395829\n"
     ]
    }
   ],
   "source": [
    "from sklearn.metrics import mean_squared_error\n",
    "rmse = np.sqrt(mean_squared_error(y_test_xgreg, preds))\n",
    "print(\"RMSE: %f\" % (rmse))"
   ]
  },
  {
   "cell_type": "code",
   "execution_count": 234,
   "metadata": {
    "ExecuteTime": {
     "end_time": "2019-05-04T03:49:53.243892Z",
     "start_time": "2019-05-04T03:49:53.240297Z"
    }
   },
   "outputs": [],
   "source": [
    "import matplotlib.pyplot as plt\n",
    "import matplotlib\n",
    "matplotlib.rcParams['figure.figsize'] = (14, 8)"
   ]
  },
  {
   "cell_type": "code",
   "execution_count": 235,
   "metadata": {
    "ExecuteTime": {
     "end_time": "2019-05-04T03:49:58.377629Z",
     "start_time": "2019-05-04T03:49:53.530838Z"
    }
   },
   "outputs": [
    {
     "data": {
      "text/plain": [
       "Text(0, 0.5, 'Acutal')"
      ]
     },
     "execution_count": 235,
     "metadata": {},
     "output_type": "execute_result"
    },
    {
     "data": {
      "image/png": "[encoded data removed]",
      "text/plain": [
       "<Figure size 1008x576 with 1 Axes>"
      ]
     },
     "metadata": {
      "needs_background": "light"
     },
     "output_type": "display_data"
    }
   ],
   "source": [
    "plt.scatter(preds, y_test_xgreg, alpha=0.03)\n",
    "plt.xlabel('Predicted')\n",
    "plt.ylabel('Acutal')"
   ]
  },
  {
   "cell_type": "code",
   "execution_count": 180,
   "metadata": {
    "ExecuteTime": {
     "end_time": "2019-05-04T00:05:34.589382Z",
     "start_time": "2019-05-04T00:05:34.583588Z"
    }
   },
   "outputs": [],
   "source": [
    "from sklearn.model_selection import GridSearchCV\n",
    "from xgboost.sklearn import XGBRegressor"
   ]
  },
  {
   "cell_type": "code",
   "execution_count": 198,
   "metadata": {
    "ExecuteTime": {
     "end_time": "2019-05-04T03:26:17.759838Z",
     "start_time": "2019-05-04T02:31:12.502362Z"
    }
   },
   "outputs": [
    {
     "name": "stdout",
     "output_type": "stream",
     "text": [
      "Fitting 2 folds for each of 18 candidates, totalling 36 fits\n"
     ]
    },
    {
     "name": "stderr",
     "output_type": "stream",
     "text": [
      "[Parallel(n_jobs=4)]: Using backend LokyBackend with 4 concurrent workers.\n",
      "[Parallel(n_jobs=4)]: Done  36 out of  36 | elapsed: 47.7min finished\n"
     ]
    },
    {
     "name": "stdout",
     "output_type": "stream",
     "text": [
      "0.6760852802349306\n",
      "{'colsample_bytree': 0.7, 'learning_rate': 0.15, 'max_depth': 10, 'min_child_weight': 4, 'n_estimators': 50, 'nthread': 4, 'objective': 'reg:linear', 'silent': 1, 'subsample': 0.7}\n"
     ]
    }
   ],
   "source": [
    "xgb1 = XGBRegressor()\n",
    "parameters = {'nthread':[4], #when use hyperthread, xgboost may become slower\n",
    "              'objective':['reg:linear'],\n",
    "              'learning_rate': [0.15], #so called `eta` value, found to be 0.15\n",
    "              'max_depth': [10], #found to be 10\n",
    "              'min_child_weight': [4, 6],\n",
    "              'silent': [1],\n",
    "              'subsample': [0.7],\n",
    "              'colsample_bytree': [0.7, 0.9],\n",
    "              'n_estimators': [50]}\n",
    "\n",
    "xgb_grid = GridSearchCV(xgb1,\n",
    "                        parameters,\n",
    "                        cv = 2,\n",
    "                        n_jobs = 4,\n",
    "                        verbose=True)\n",
    "\n",
    "xgb_grid.fit(X_train_xgreg, y_train_xgreg)\n",
    "\n",
    "print(xgb_grid.best_score_)\n",
    "print(xgb_grid.best_params_)"
   ]
  },
  {
   "cell_type": "markdown",
   "metadata": {},
   "source": [
    "0.6760852802349306\n",
    "{'colsample_bytree': 0.7, 'learning_rate': 0.15, 'max_depth': 10, 'min_child_weight': 4, 'n_estimators': 50, 'nthread': 4, 'objective': 'reg:linear', 'silent': 1, 'subsample': 0.7}"
   ]
  },
  {
   "cell_type": "markdown",
   "metadata": {},
   "source": [
    "# Linear Regression"
   ]
  },
  {
   "cell_type": "markdown",
   "metadata": {},
   "source": [
    "### OneHotEncoder Linear Regression"
   ]
  },
  {
   "cell_type": "code",
   "execution_count": 294,
   "metadata": {
    "ExecuteTime": {
     "end_time": "2019-05-04T14:14:56.279091Z",
     "start_time": "2019-05-04T14:14:56.275080Z"
    }
   },
   "outputs": [],
   "source": [
    "lin_reg = name"
   ]
  },
  {
   "cell_type": "code",
   "execution_count": 295,
   "metadata": {
    "ExecuteTime": {
     "end_time": "2019-05-04T14:14:57.411121Z",
     "start_time": "2019-05-04T14:14:57.394495Z"
    }
   },
   "outputs": [
    {
     "data": {
      "text/html": [
       "<div>\n",
       "<style scoped>\n",
       "    .dataframe tbody tr th:only-of-type {\n",
       "        vertical-align: middle;\n",
       "    }\n",
       "\n",
       "    .dataframe tbody tr th {\n",
       "        vertical-align: top;\n",
       "    }\n",
       "\n",
       "    .dataframe thead th {\n",
       "        text-align: right;\n",
       "    }\n",
       "</style>\n",
       "<table border=\"1\" class=\"dataframe\">\n",
       "  <thead>\n",
       "    <tr style=\"text-align: right;\">\n",
       "      <th></th>\n",
       "      <th>Quarter</th>\n",
       "      <th>Month</th>\n",
       "      <th>DayofMonth</th>\n",
       "      <th>DayOfWeek</th>\n",
       "      <th>Reporting_Airline</th>\n",
       "      <th>Tail_Number</th>\n",
       "      <th>Flight_Number_Reporting_Airline</th>\n",
       "      <th>Origin</th>\n",
       "      <th>OriginState</th>\n",
       "      <th>DestState</th>\n",
       "      <th>Dest</th>\n",
       "      <th>CRSElapsedTime</th>\n",
       "      <th>ArrDelay</th>\n",
       "      <th>Distance</th>\n",
       "      <th>DistanceGroup</th>\n",
       "      <th>precip_sum</th>\n",
       "      <th>ARR_HOUR</th>\n",
       "      <th>DEP_HOUR</th>\n",
       "      <th>DOM_DIRECTION</th>\n",
       "      <th>flight_freq</th>\n",
       "      <th>flight_delay_freq</th>\n",
       "      <th>LoadFactor</th>\n",
       "      <th>STATUS</th>\n",
       "    </tr>\n",
       "  </thead>\n",
       "  <tbody>\n",
       "    <tr>\n",
       "      <th>25</th>\n",
       "      <td>2</td>\n",
       "      <td>5</td>\n",
       "      <td>6</td>\n",
       "      <td>6</td>\n",
       "      <td>4</td>\n",
       "      <td>1691</td>\n",
       "      <td>435</td>\n",
       "      <td>19</td>\n",
       "      <td>15</td>\n",
       "      <td>4</td>\n",
       "      <td>39</td>\n",
       "      <td>120.0</td>\n",
       "      <td>-18.0</td>\n",
       "      <td>574.0</td>\n",
       "      <td>3</td>\n",
       "      <td>0.0</td>\n",
       "      <td>19</td>\n",
       "      <td>18</td>\n",
       "      <td>2</td>\n",
       "      <td>1</td>\n",
       "      <td>24.25</td>\n",
       "      <td>0.340491</td>\n",
       "      <td>0</td>\n",
       "    </tr>\n",
       "    <tr>\n",
       "      <th>26</th>\n",
       "      <td>2</td>\n",
       "      <td>5</td>\n",
       "      <td>6</td>\n",
       "      <td>6</td>\n",
       "      <td>4</td>\n",
       "      <td>1691</td>\n",
       "      <td>451</td>\n",
       "      <td>19</td>\n",
       "      <td>15</td>\n",
       "      <td>4</td>\n",
       "      <td>39</td>\n",
       "      <td>115.0</td>\n",
       "      <td>-9.0</td>\n",
       "      <td>574.0</td>\n",
       "      <td>3</td>\n",
       "      <td>0.0</td>\n",
       "      <td>9</td>\n",
       "      <td>8</td>\n",
       "      <td>2</td>\n",
       "      <td>22</td>\n",
       "      <td>-7.50</td>\n",
       "      <td>0.340491</td>\n",
       "      <td>0</td>\n",
       "    </tr>\n",
       "    <tr>\n",
       "      <th>27</th>\n",
       "      <td>2</td>\n",
       "      <td>5</td>\n",
       "      <td>6</td>\n",
       "      <td>6</td>\n",
       "      <td>4</td>\n",
       "      <td>3116</td>\n",
       "      <td>4720</td>\n",
       "      <td>19</td>\n",
       "      <td>15</td>\n",
       "      <td>18</td>\n",
       "      <td>40</td>\n",
       "      <td>250.0</td>\n",
       "      <td>-1.0</td>\n",
       "      <td>1865.0</td>\n",
       "      <td>8</td>\n",
       "      <td>0.0</td>\n",
       "      <td>15</td>\n",
       "      <td>9</td>\n",
       "      <td>0</td>\n",
       "      <td>23</td>\n",
       "      <td>1.50</td>\n",
       "      <td>0.805389</td>\n",
       "      <td>0</td>\n",
       "    </tr>\n",
       "    <tr>\n",
       "      <th>28</th>\n",
       "      <td>2</td>\n",
       "      <td>5</td>\n",
       "      <td>6</td>\n",
       "      <td>6</td>\n",
       "      <td>4</td>\n",
       "      <td>3048</td>\n",
       "      <td>2435</td>\n",
       "      <td>19</td>\n",
       "      <td>15</td>\n",
       "      <td>42</td>\n",
       "      <td>66</td>\n",
       "      <td>150.0</td>\n",
       "      <td>0.0</td>\n",
       "      <td>999.0</td>\n",
       "      <td>4</td>\n",
       "      <td>0.0</td>\n",
       "      <td>18</td>\n",
       "      <td>14</td>\n",
       "      <td>0</td>\n",
       "      <td>7</td>\n",
       "      <td>-7.25</td>\n",
       "      <td>0.833898</td>\n",
       "      <td>0</td>\n",
       "    </tr>\n",
       "    <tr>\n",
       "      <th>29</th>\n",
       "      <td>2</td>\n",
       "      <td>5</td>\n",
       "      <td>6</td>\n",
       "      <td>6</td>\n",
       "      <td>4</td>\n",
       "      <td>2598</td>\n",
       "      <td>4757</td>\n",
       "      <td>19</td>\n",
       "      <td>15</td>\n",
       "      <td>5</td>\n",
       "      <td>69</td>\n",
       "      <td>85.0</td>\n",
       "      <td>-13.0</td>\n",
       "      <td>391.0</td>\n",
       "      <td>2</td>\n",
       "      <td>0.0</td>\n",
       "      <td>14</td>\n",
       "      <td>13</td>\n",
       "      <td>0</td>\n",
       "      <td>15</td>\n",
       "      <td>-4.50</td>\n",
       "      <td>0.795838</td>\n",
       "      <td>0</td>\n",
       "    </tr>\n",
       "  </tbody>\n",
       "</table>\n",
       "</div>"
      ],
      "text/plain": [
       "    Quarter  Month  DayofMonth  DayOfWeek  Reporting_Airline  Tail_Number  \\\n",
       "25        2      5           6          6                  4         1691   \n",
       "26        2      5           6          6                  4         1691   \n",
       "27        2      5           6          6                  4         3116   \n",
       "28        2      5           6          6                  4         3048   \n",
       "29        2      5           6          6                  4         2598   \n",
       "\n",
       "    Flight_Number_Reporting_Airline  Origin  OriginState  DestState  Dest  CRSElapsedTime  \\\n",
       "25                              435      19           15          4    39           120.0   \n",
       "26                              451      19           15          4    39           115.0   \n",
       "27                             4720      19           15         18    40           250.0   \n",
       "28                             2435      19           15         42    66           150.0   \n",
       "29                             4757      19           15          5    69            85.0   \n",
       "\n",
       "    ArrDelay  Distance  DistanceGroup  precip_sum  ARR_HOUR  DEP_HOUR  DOM_DIRECTION  flight_freq  \\\n",
       "25     -18.0     574.0              3         0.0        19        18              2            1   \n",
       "26      -9.0     574.0              3         0.0         9         8              2           22   \n",
       "27      -1.0    1865.0              8         0.0        15         9              0           23   \n",
       "28       0.0     999.0              4         0.0        18        14              0            7   \n",
       "29     -13.0     391.0              2         0.0        14        13              0           15   \n",
       "\n",
       "    flight_delay_freq  LoadFactor  STATUS  \n",
       "25              24.25    0.340491       0  \n",
       "26              -7.50    0.340491       0  \n",
       "27               1.50    0.805389       0  \n",
       "28              -7.25    0.833898       0  \n",
       "29              -4.50    0.795838       0  "
      ]
     },
     "execution_count": 295,
     "metadata": {},
     "output_type": "execute_result"
    }
   ],
   "source": [
    "lin_reg.head()"
   ]
  },
  {
   "cell_type": "code",
   "execution_count": 296,
   "metadata": {
    "ExecuteTime": {
     "end_time": "2019-05-04T14:16:23.611367Z",
     "start_time": "2019-05-04T14:16:22.460814Z"
    }
   },
   "outputs": [],
   "source": [
    "lin_reg = lin_reg.drop(columns=['STATUS'])"
   ]
  },
  {
   "cell_type": "code",
   "execution_count": 297,
   "metadata": {
    "ExecuteTime": {
     "end_time": "2019-05-04T14:16:28.411654Z",
     "start_time": "2019-05-04T14:16:28.395206Z"
    }
   },
   "outputs": [
    {
     "data": {
      "text/html": [
       "<div>\n",
       "<style scoped>\n",
       "    .dataframe tbody tr th:only-of-type {\n",
       "        vertical-align: middle;\n",
       "    }\n",
       "\n",
       "    .dataframe tbody tr th {\n",
       "        vertical-align: top;\n",
       "    }\n",
       "\n",
       "    .dataframe thead th {\n",
       "        text-align: right;\n",
       "    }\n",
       "</style>\n",
       "<table border=\"1\" class=\"dataframe\">\n",
       "  <thead>\n",
       "    <tr style=\"text-align: right;\">\n",
       "      <th></th>\n",
       "      <th>Quarter</th>\n",
       "      <th>Month</th>\n",
       "      <th>DayofMonth</th>\n",
       "      <th>DayOfWeek</th>\n",
       "      <th>Reporting_Airline</th>\n",
       "      <th>Tail_Number</th>\n",
       "      <th>Flight_Number_Reporting_Airline</th>\n",
       "      <th>Origin</th>\n",
       "      <th>OriginState</th>\n",
       "      <th>DestState</th>\n",
       "      <th>Dest</th>\n",
       "      <th>CRSElapsedTime</th>\n",
       "      <th>ArrDelay</th>\n",
       "      <th>Distance</th>\n",
       "      <th>DistanceGroup</th>\n",
       "      <th>precip_sum</th>\n",
       "      <th>ARR_HOUR</th>\n",
       "      <th>DEP_HOUR</th>\n",
       "      <th>DOM_DIRECTION</th>\n",
       "      <th>flight_freq</th>\n",
       "      <th>flight_delay_freq</th>\n",
       "      <th>LoadFactor</th>\n",
       "    </tr>\n",
       "  </thead>\n",
       "  <tbody>\n",
       "    <tr>\n",
       "      <th>25</th>\n",
       "      <td>2</td>\n",
       "      <td>5</td>\n",
       "      <td>6</td>\n",
       "      <td>6</td>\n",
       "      <td>4</td>\n",
       "      <td>1691</td>\n",
       "      <td>435</td>\n",
       "      <td>19</td>\n",
       "      <td>15</td>\n",
       "      <td>4</td>\n",
       "      <td>39</td>\n",
       "      <td>120.0</td>\n",
       "      <td>-18.0</td>\n",
       "      <td>574.0</td>\n",
       "      <td>3</td>\n",
       "      <td>0.0</td>\n",
       "      <td>19</td>\n",
       "      <td>18</td>\n",
       "      <td>2</td>\n",
       "      <td>1</td>\n",
       "      <td>24.25</td>\n",
       "      <td>0.340491</td>\n",
       "    </tr>\n",
       "    <tr>\n",
       "      <th>26</th>\n",
       "      <td>2</td>\n",
       "      <td>5</td>\n",
       "      <td>6</td>\n",
       "      <td>6</td>\n",
       "      <td>4</td>\n",
       "      <td>1691</td>\n",
       "      <td>451</td>\n",
       "      <td>19</td>\n",
       "      <td>15</td>\n",
       "      <td>4</td>\n",
       "      <td>39</td>\n",
       "      <td>115.0</td>\n",
       "      <td>-9.0</td>\n",
       "      <td>574.0</td>\n",
       "      <td>3</td>\n",
       "      <td>0.0</td>\n",
       "      <td>9</td>\n",
       "      <td>8</td>\n",
       "      <td>2</td>\n",
       "      <td>22</td>\n",
       "      <td>-7.50</td>\n",
       "      <td>0.340491</td>\n",
       "    </tr>\n",
       "    <tr>\n",
       "      <th>27</th>\n",
       "      <td>2</td>\n",
       "      <td>5</td>\n",
       "      <td>6</td>\n",
       "      <td>6</td>\n",
       "      <td>4</td>\n",
       "      <td>3116</td>\n",
       "      <td>4720</td>\n",
       "      <td>19</td>\n",
       "      <td>15</td>\n",
       "      <td>18</td>\n",
       "      <td>40</td>\n",
       "      <td>250.0</td>\n",
       "      <td>-1.0</td>\n",
       "      <td>1865.0</td>\n",
       "      <td>8</td>\n",
       "      <td>0.0</td>\n",
       "      <td>15</td>\n",
       "      <td>9</td>\n",
       "      <td>0</td>\n",
       "      <td>23</td>\n",
       "      <td>1.50</td>\n",
       "      <td>0.805389</td>\n",
       "    </tr>\n",
       "    <tr>\n",
       "      <th>28</th>\n",
       "      <td>2</td>\n",
       "      <td>5</td>\n",
       "      <td>6</td>\n",
       "      <td>6</td>\n",
       "      <td>4</td>\n",
       "      <td>3048</td>\n",
       "      <td>2435</td>\n",
       "      <td>19</td>\n",
       "      <td>15</td>\n",
       "      <td>42</td>\n",
       "      <td>66</td>\n",
       "      <td>150.0</td>\n",
       "      <td>0.0</td>\n",
       "      <td>999.0</td>\n",
       "      <td>4</td>\n",
       "      <td>0.0</td>\n",
       "      <td>18</td>\n",
       "      <td>14</td>\n",
       "      <td>0</td>\n",
       "      <td>7</td>\n",
       "      <td>-7.25</td>\n",
       "      <td>0.833898</td>\n",
       "    </tr>\n",
       "    <tr>\n",
       "      <th>29</th>\n",
       "      <td>2</td>\n",
       "      <td>5</td>\n",
       "      <td>6</td>\n",
       "      <td>6</td>\n",
       "      <td>4</td>\n",
       "      <td>2598</td>\n",
       "      <td>4757</td>\n",
       "      <td>19</td>\n",
       "      <td>15</td>\n",
       "      <td>5</td>\n",
       "      <td>69</td>\n",
       "      <td>85.0</td>\n",
       "      <td>-13.0</td>\n",
       "      <td>391.0</td>\n",
       "      <td>2</td>\n",
       "      <td>0.0</td>\n",
       "      <td>14</td>\n",
       "      <td>13</td>\n",
       "      <td>0</td>\n",
       "      <td>15</td>\n",
       "      <td>-4.50</td>\n",
       "      <td>0.795838</td>\n",
       "    </tr>\n",
       "  </tbody>\n",
       "</table>\n",
       "</div>"
      ],
      "text/plain": [
       "    Quarter  Month  DayofMonth  DayOfWeek  Reporting_Airline  Tail_Number  \\\n",
       "25        2      5           6          6                  4         1691   \n",
       "26        2      5           6          6                  4         1691   \n",
       "27        2      5           6          6                  4         3116   \n",
       "28        2      5           6          6                  4         3048   \n",
       "29        2      5           6          6                  4         2598   \n",
       "\n",
       "    Flight_Number_Reporting_Airline  Origin  OriginState  DestState  Dest  CRSElapsedTime  \\\n",
       "25                              435      19           15          4    39           120.0   \n",
       "26                              451      19           15          4    39           115.0   \n",
       "27                             4720      19           15         18    40           250.0   \n",
       "28                             2435      19           15         42    66           150.0   \n",
       "29                             4757      19           15          5    69            85.0   \n",
       "\n",
       "    ArrDelay  Distance  DistanceGroup  precip_sum  ARR_HOUR  DEP_HOUR  DOM_DIRECTION  flight_freq  \\\n",
       "25     -18.0     574.0              3         0.0        19        18              2            1   \n",
       "26      -9.0     574.0              3         0.0         9         8              2           22   \n",
       "27      -1.0    1865.0              8         0.0        15         9              0           23   \n",
       "28       0.0     999.0              4         0.0        18        14              0            7   \n",
       "29     -13.0     391.0              2         0.0        14        13              0           15   \n",
       "\n",
       "    flight_delay_freq  LoadFactor  \n",
       "25              24.25    0.340491  \n",
       "26              -7.50    0.340491  \n",
       "27               1.50    0.805389  \n",
       "28              -7.25    0.833898  \n",
       "29              -4.50    0.795838  "
      ]
     },
     "execution_count": 297,
     "metadata": {},
     "output_type": "execute_result"
    }
   ],
   "source": [
    "lin_reg.head()"
   ]
  },
  {
   "cell_type": "code",
   "execution_count": 238,
   "metadata": {
    "ExecuteTime": {
     "end_time": "2019-04-24T04:23:43.326660Z",
     "start_time": "2019-04-24T04:23:43.322074Z"
    }
   },
   "outputs": [],
   "source": [
    "objects = ['OP_CARRIER', 'ORIGIN', 'DEST', 'precip']\n",
    "dates = ['DAY_OF_MONTH', 'DAY_OF_WEEK','WEEKEND']\n",
    "hours = ['ARR_HOUR', 'DEP_HOUR']\n",
    "dist = ['DIST_BINS', 'DOM_DIRECTION']"
   ]
  },
  {
   "cell_type": "code",
   "execution_count": 239,
   "metadata": {
    "ExecuteTime": {
     "end_time": "2019-04-24T04:23:47.675994Z",
     "start_time": "2019-04-24T04:23:44.601039Z"
    },
    "scrolled": true
   },
   "outputs": [],
   "source": [
    "enc = OneHotEncoder(handle_unknown='ignore')\n",
    "dates_matrix = enc.fit_transform(lin_reg[dates].values)\n",
    "objects_matrix = enc.fit_transform(lin_reg[objects].values)\n",
    "hour_matrix = enc.fit_transform(lin_reg[hours].values)\n",
    "dist_matrix = enc.fit_transform(lin_reg[dist].values)"
   ]
  },
  {
   "cell_type": "code",
   "execution_count": 240,
   "metadata": {
    "ExecuteTime": {
     "end_time": "2019-04-24T04:23:48.862473Z",
     "start_time": "2019-04-24T04:23:48.858155Z"
    },
    "scrolled": false
   },
   "outputs": [
    {
     "name": "stdout",
     "output_type": "stream",
     "text": [
      "Size is: 58.819488 MB\n",
      "Size is: 78.425984 MB\n",
      "Size is: 39.212992 MB\n",
      "Size is: 39.212992 MB\n"
     ]
    }
   ],
   "source": [
    "print(f'Size is: {dates_matrix.data.nbytes / 1000000} MB')\n",
    "print(f'Size is: {objects_matrix.data.nbytes / 1000000} MB')\n",
    "print(f'Size is: {hour_matrix.data.nbytes / 1000000} MB')\n",
    "print(f'Size is: {dist_matrix.data.nbytes / 1000000} MB')"
   ]
  },
  {
   "cell_type": "code",
   "execution_count": 245,
   "metadata": {
    "ExecuteTime": {
     "end_time": "2019-04-24T04:24:20.841382Z",
     "start_time": "2019-04-24T04:24:19.781869Z"
    }
   },
   "outputs": [],
   "source": [
    "from scipy.sparse import hstack\n",
    "X_final = hstack((dates_matrix, objects_matrix, hour_matrix, dist_matrix))\n",
    "X_final_lr = hstack((dates_matrix, objects_matrix, hour_matrix, dist_matrix))"
   ]
  },
  {
   "cell_type": "code",
   "execution_count": 247,
   "metadata": {
    "ExecuteTime": {
     "end_time": "2019-04-24T04:24:28.778159Z",
     "start_time": "2019-04-24T04:24:28.774521Z"
    }
   },
   "outputs": [
    {
     "name": "stdout",
     "output_type": "stream",
     "text": [
      "Size is: 215.671456 MB\n"
     ]
    }
   ],
   "source": [
    "print(f'Size is: {X_final_lr.data.nbytes / 1000000} MB')"
   ]
  },
  {
   "cell_type": "code",
   "execution_count": 337,
   "metadata": {
    "ExecuteTime": {
     "end_time": "2019-05-04T14:40:59.866379Z",
     "start_time": "2019-05-04T14:40:59.858480Z"
    }
   },
   "outputs": [],
   "source": [
    "y_r = lin_reg.ArrDelay.values\n",
    "y_r = y_r.reshape(-1,1)"
   ]
  },
  {
   "cell_type": "code",
   "execution_count": 339,
   "metadata": {
    "ExecuteTime": {
     "end_time": "2019-05-04T14:41:13.556033Z",
     "start_time": "2019-05-04T14:41:12.408838Z"
    }
   },
   "outputs": [],
   "source": [
    "X_r = lin_reg.drop(columns='ArrDelay')"
   ]
  },
  {
   "cell_type": "code",
   "execution_count": 340,
   "metadata": {
    "ExecuteTime": {
     "end_time": "2019-05-04T14:41:29.296972Z",
     "start_time": "2019-05-04T14:41:29.287594Z"
    }
   },
   "outputs": [],
   "source": [
    "from sklearn.linear_model import LinearRegression\n",
    "from sklearn.metrics import mean_squared_error\n",
    "from sklearn.model_selection import train_test_split"
   ]
  },
  {
   "cell_type": "code",
   "execution_count": 341,
   "metadata": {
    "ExecuteTime": {
     "end_time": "2019-05-04T14:41:49.266642Z",
     "start_time": "2019-05-04T14:41:48.015819Z"
    }
   },
   "outputs": [],
   "source": [
    "X_train_r, X_test_r, y_train_r, y_test_r = train_test_split(X_r, y_r, test_size = 0.2, random_state=42)"
   ]
  },
  {
   "cell_type": "code",
   "execution_count": 342,
   "metadata": {
    "ExecuteTime": {
     "end_time": "2019-05-04T14:42:12.121447Z",
     "start_time": "2019-05-04T14:42:10.325885Z"
    }
   },
   "outputs": [
    {
     "data": {
      "text/plain": [
       "LinearRegression(copy_X=True, fit_intercept=True, n_jobs=None,\n",
       "         normalize=False)"
      ]
     },
     "execution_count": 342,
     "metadata": {},
     "output_type": "execute_result"
    }
   ],
   "source": [
    "reg_all = LinearRegression()\n",
    "reg_all.fit(X_train_r, y_train_r)"
   ]
  },
  {
   "cell_type": "code",
   "execution_count": 343,
   "metadata": {
    "ExecuteTime": {
     "end_time": "2019-05-04T14:42:19.706418Z",
     "start_time": "2019-05-04T14:42:19.620651Z"
    }
   },
   "outputs": [],
   "source": [
    "y_pred_r = reg_all.predict(X_test_r)"
   ]
  },
  {
   "cell_type": "code",
   "execution_count": 345,
   "metadata": {
    "ExecuteTime": {
     "end_time": "2019-05-04T14:42:32.167486Z",
     "start_time": "2019-05-04T14:42:32.116686Z"
    }
   },
   "outputs": [
    {
     "name": "stdout",
     "output_type": "stream",
     "text": [
      "R^2: 0.14986205831093558\n",
      "Root Mean Squared Error: 38.73953677767189\n"
     ]
    }
   ],
   "source": [
    "print(\"R^2: {}\".format(reg_all.score(X_test_r, y_test_r)))\n",
    "rmse = np.sqrt(mean_squared_error(y_test_r, y_pred_r))\n",
    "print(\"Root Mean Squared Error: {}\".format(rmse))"
   ]
  },
  {
   "cell_type": "markdown",
   "metadata": {},
   "source": [
    "This looks like a pretty bad model. Let's see why..."
   ]
  },
  {
   "cell_type": "code",
   "execution_count": 346,
   "metadata": {
    "ExecuteTime": {
     "end_time": "2019-05-04T14:42:43.178647Z",
     "start_time": "2019-05-04T14:42:43.171831Z"
    }
   },
   "outputs": [],
   "source": [
    "import matplotlib.pyplot as plt\n",
    "import matplotlib\n",
    "matplotlib.rcParams['figure.figsize'] = (14, 8)"
   ]
  },
  {
   "cell_type": "code",
   "execution_count": 347,
   "metadata": {
    "ExecuteTime": {
     "end_time": "2019-05-04T14:42:54.403871Z",
     "start_time": "2019-05-04T14:42:49.737088Z"
    }
   },
   "outputs": [
    {
     "data": {
      "text/plain": [
       "Text(0, 0.5, 'Acutal')"
      ]
     },
     "execution_count": 347,
     "metadata": {},
     "output_type": "execute_result"
    },
    {
     "data": {
      "image/png": "[encoded data removed]",
      "text/plain": [
       "<Figure size 1008x576 with 1 Axes>"
      ]
     },
     "metadata": {
      "needs_background": "light"
     },
     "output_type": "display_data"
    }
   ],
   "source": [
    "plt.scatter(y_pred_r, y_test_r, alpha=0.03)\n",
    "plt.xlabel('Predicted')\n",
    "plt.ylabel('Acutal')"
   ]
  },
  {
   "cell_type": "markdown",
   "metadata": {},
   "source": [
    "   ## Using Cross Validation"
   ]
  },
  {
   "cell_type": "code",
   "execution_count": 348,
   "metadata": {
    "ExecuteTime": {
     "end_time": "2019-05-04T14:43:18.379754Z",
     "start_time": "2019-05-04T14:43:18.376441Z"
    }
   },
   "outputs": [],
   "source": [
    "from sklearn.model_selection import cross_val_score"
   ]
  },
  {
   "cell_type": "code",
   "execution_count": 351,
   "metadata": {
    "ExecuteTime": {
     "end_time": "2019-05-04T14:44:03.442092Z",
     "start_time": "2019-05-04T14:43:54.085030Z"
    },
    "scrolled": true
   },
   "outputs": [
    {
     "name": "stdout",
     "output_type": "stream",
     "text": [
      "[0.14556449 0.13821185 0.14781887 0.1366124  0.17539859]\n"
     ]
    }
   ],
   "source": [
    "cv_scores = cross_val_score(reg_all, X_r, y_r, cv=5)\n",
    "print(cv_scores)"
   ]
  },
  {
   "cell_type": "markdown",
   "metadata": {},
   "source": [
    "Other possible models:"
   ]
  },
  {
   "cell_type": "markdown",
   "metadata": {},
   "source": [
    "# Logistic Regression"
   ]
  },
  {
   "cell_type": "code",
   "execution_count": 310,
   "metadata": {
    "ExecuteTime": {
     "end_time": "2019-05-04T14:24:24.212616Z",
     "start_time": "2019-05-04T14:24:23.742283Z"
    },
    "scrolled": true
   },
   "outputs": [],
   "source": [
    "log_reg = name.drop(columns='ArrDelay')"
   ]
  },
  {
   "cell_type": "code",
   "execution_count": 311,
   "metadata": {
    "ExecuteTime": {
     "end_time": "2019-05-04T14:24:24.783345Z",
     "start_time": "2019-05-04T14:24:24.766302Z"
    }
   },
   "outputs": [
    {
     "data": {
      "text/html": [
       "<div>\n",
       "<style scoped>\n",
       "    .dataframe tbody tr th:only-of-type {\n",
       "        vertical-align: middle;\n",
       "    }\n",
       "\n",
       "    .dataframe tbody tr th {\n",
       "        vertical-align: top;\n",
       "    }\n",
       "\n",
       "    .dataframe thead th {\n",
       "        text-align: right;\n",
       "    }\n",
       "</style>\n",
       "<table border=\"1\" class=\"dataframe\">\n",
       "  <thead>\n",
       "    <tr style=\"text-align: right;\">\n",
       "      <th></th>\n",
       "      <th>Quarter</th>\n",
       "      <th>Month</th>\n",
       "      <th>DayofMonth</th>\n",
       "      <th>DayOfWeek</th>\n",
       "      <th>Reporting_Airline</th>\n",
       "      <th>Tail_Number</th>\n",
       "      <th>Flight_Number_Reporting_Airline</th>\n",
       "      <th>Origin</th>\n",
       "      <th>OriginState</th>\n",
       "      <th>DestState</th>\n",
       "      <th>Dest</th>\n",
       "      <th>CRSElapsedTime</th>\n",
       "      <th>Distance</th>\n",
       "      <th>DistanceGroup</th>\n",
       "      <th>precip_sum</th>\n",
       "      <th>ARR_HOUR</th>\n",
       "      <th>DEP_HOUR</th>\n",
       "      <th>DOM_DIRECTION</th>\n",
       "      <th>flight_freq</th>\n",
       "      <th>flight_delay_freq</th>\n",
       "      <th>LoadFactor</th>\n",
       "      <th>STATUS</th>\n",
       "    </tr>\n",
       "  </thead>\n",
       "  <tbody>\n",
       "    <tr>\n",
       "      <th>25</th>\n",
       "      <td>2</td>\n",
       "      <td>5</td>\n",
       "      <td>6</td>\n",
       "      <td>6</td>\n",
       "      <td>4</td>\n",
       "      <td>1691</td>\n",
       "      <td>435</td>\n",
       "      <td>19</td>\n",
       "      <td>15</td>\n",
       "      <td>4</td>\n",
       "      <td>39</td>\n",
       "      <td>120.0</td>\n",
       "      <td>574.0</td>\n",
       "      <td>3</td>\n",
       "      <td>0.0</td>\n",
       "      <td>19</td>\n",
       "      <td>18</td>\n",
       "      <td>2</td>\n",
       "      <td>1</td>\n",
       "      <td>24.25</td>\n",
       "      <td>0.340491</td>\n",
       "      <td>0</td>\n",
       "    </tr>\n",
       "    <tr>\n",
       "      <th>26</th>\n",
       "      <td>2</td>\n",
       "      <td>5</td>\n",
       "      <td>6</td>\n",
       "      <td>6</td>\n",
       "      <td>4</td>\n",
       "      <td>1691</td>\n",
       "      <td>451</td>\n",
       "      <td>19</td>\n",
       "      <td>15</td>\n",
       "      <td>4</td>\n",
       "      <td>39</td>\n",
       "      <td>115.0</td>\n",
       "      <td>574.0</td>\n",
       "      <td>3</td>\n",
       "      <td>0.0</td>\n",
       "      <td>9</td>\n",
       "      <td>8</td>\n",
       "      <td>2</td>\n",
       "      <td>22</td>\n",
       "      <td>-7.50</td>\n",
       "      <td>0.340491</td>\n",
       "      <td>0</td>\n",
       "    </tr>\n",
       "    <tr>\n",
       "      <th>27</th>\n",
       "      <td>2</td>\n",
       "      <td>5</td>\n",
       "      <td>6</td>\n",
       "      <td>6</td>\n",
       "      <td>4</td>\n",
       "      <td>3116</td>\n",
       "      <td>4720</td>\n",
       "      <td>19</td>\n",
       "      <td>15</td>\n",
       "      <td>18</td>\n",
       "      <td>40</td>\n",
       "      <td>250.0</td>\n",
       "      <td>1865.0</td>\n",
       "      <td>8</td>\n",
       "      <td>0.0</td>\n",
       "      <td>15</td>\n",
       "      <td>9</td>\n",
       "      <td>0</td>\n",
       "      <td>23</td>\n",
       "      <td>1.50</td>\n",
       "      <td>0.805389</td>\n",
       "      <td>0</td>\n",
       "    </tr>\n",
       "    <tr>\n",
       "      <th>28</th>\n",
       "      <td>2</td>\n",
       "      <td>5</td>\n",
       "      <td>6</td>\n",
       "      <td>6</td>\n",
       "      <td>4</td>\n",
       "      <td>3048</td>\n",
       "      <td>2435</td>\n",
       "      <td>19</td>\n",
       "      <td>15</td>\n",
       "      <td>42</td>\n",
       "      <td>66</td>\n",
       "      <td>150.0</td>\n",
       "      <td>999.0</td>\n",
       "      <td>4</td>\n",
       "      <td>0.0</td>\n",
       "      <td>18</td>\n",
       "      <td>14</td>\n",
       "      <td>0</td>\n",
       "      <td>7</td>\n",
       "      <td>-7.25</td>\n",
       "      <td>0.833898</td>\n",
       "      <td>0</td>\n",
       "    </tr>\n",
       "    <tr>\n",
       "      <th>29</th>\n",
       "      <td>2</td>\n",
       "      <td>5</td>\n",
       "      <td>6</td>\n",
       "      <td>6</td>\n",
       "      <td>4</td>\n",
       "      <td>2598</td>\n",
       "      <td>4757</td>\n",
       "      <td>19</td>\n",
       "      <td>15</td>\n",
       "      <td>5</td>\n",
       "      <td>69</td>\n",
       "      <td>85.0</td>\n",
       "      <td>391.0</td>\n",
       "      <td>2</td>\n",
       "      <td>0.0</td>\n",
       "      <td>14</td>\n",
       "      <td>13</td>\n",
       "      <td>0</td>\n",
       "      <td>15</td>\n",
       "      <td>-4.50</td>\n",
       "      <td>0.795838</td>\n",
       "      <td>0</td>\n",
       "    </tr>\n",
       "  </tbody>\n",
       "</table>\n",
       "</div>"
      ],
      "text/plain": [
       "    Quarter  Month  DayofMonth  DayOfWeek  Reporting_Airline  Tail_Number  \\\n",
       "25        2      5           6          6                  4         1691   \n",
       "26        2      5           6          6                  4         1691   \n",
       "27        2      5           6          6                  4         3116   \n",
       "28        2      5           6          6                  4         3048   \n",
       "29        2      5           6          6                  4         2598   \n",
       "\n",
       "    Flight_Number_Reporting_Airline  Origin  OriginState  DestState  Dest  CRSElapsedTime  \\\n",
       "25                              435      19           15          4    39           120.0   \n",
       "26                              451      19           15          4    39           115.0   \n",
       "27                             4720      19           15         18    40           250.0   \n",
       "28                             2435      19           15         42    66           150.0   \n",
       "29                             4757      19           15          5    69            85.0   \n",
       "\n",
       "    Distance  DistanceGroup  precip_sum  ARR_HOUR  DEP_HOUR  DOM_DIRECTION  flight_freq  \\\n",
       "25     574.0              3         0.0        19        18              2            1   \n",
       "26     574.0              3         0.0         9         8              2           22   \n",
       "27    1865.0              8         0.0        15         9              0           23   \n",
       "28     999.0              4         0.0        18        14              0            7   \n",
       "29     391.0              2         0.0        14        13              0           15   \n",
       "\n",
       "    flight_delay_freq  LoadFactor  STATUS  \n",
       "25              24.25    0.340491       0  \n",
       "26              -7.50    0.340491       0  \n",
       "27               1.50    0.805389       0  \n",
       "28              -7.25    0.833898       0  \n",
       "29              -4.50    0.795838       0  "
      ]
     },
     "execution_count": 311,
     "metadata": {},
     "output_type": "execute_result"
    }
   ],
   "source": [
    "log_reg.head()"
   ]
  },
  {
   "cell_type": "code",
   "execution_count": 312,
   "metadata": {
    "ExecuteTime": {
     "end_time": "2019-05-04T14:24:26.046284Z",
     "start_time": "2019-05-04T14:24:26.043155Z"
    }
   },
   "outputs": [],
   "source": [
    "from sklearn.model_selection import train_test_split\n",
    "from sklearn.linear_model import LogisticRegression\n",
    "from sklearn.metrics import accuracy_score"
   ]
  },
  {
   "cell_type": "code",
   "execution_count": 313,
   "metadata": {
    "ExecuteTime": {
     "end_time": "2019-05-04T14:24:26.701887Z",
     "start_time": "2019-05-04T14:24:26.632775Z"
    }
   },
   "outputs": [
    {
     "data": {
      "text/plain": [
       "STATUS\n",
       "0    1997377\n",
       "1     453435\n",
       "dtype: int64"
      ]
     },
     "execution_count": 313,
     "metadata": {},
     "output_type": "execute_result"
    }
   ],
   "source": [
    "log_reg.groupby('STATUS').size()"
   ]
  },
  {
   "cell_type": "code",
   "execution_count": 314,
   "metadata": {
    "ExecuteTime": {
     "end_time": "2019-05-04T14:24:27.742655Z",
     "start_time": "2019-05-04T14:24:27.738635Z"
    }
   },
   "outputs": [],
   "source": [
    "y_log_reg=name.STATUS.values"
   ]
  },
  {
   "cell_type": "code",
   "execution_count": 315,
   "metadata": {
    "ExecuteTime": {
     "end_time": "2019-05-04T14:24:29.149298Z",
     "start_time": "2019-05-04T14:24:28.810286Z"
    }
   },
   "outputs": [],
   "source": [
    "X_log_reg=log_reg.drop(columns='STATUS')"
   ]
  },
  {
   "cell_type": "code",
   "execution_count": 316,
   "metadata": {
    "ExecuteTime": {
     "end_time": "2019-05-04T14:24:30.564594Z",
     "start_time": "2019-05-04T14:24:29.691168Z"
    }
   },
   "outputs": [],
   "source": [
    "Xlr, Xtestlr, ylr, ytestlr = train_test_split(X_log_reg, y_log_reg, test_size=0.2, random_state=42)"
   ]
  },
  {
   "cell_type": "code",
   "execution_count": 317,
   "metadata": {
    "ExecuteTime": {
     "end_time": "2019-05-04T14:24:30.996945Z",
     "start_time": "2019-05-04T14:24:30.993992Z"
    }
   },
   "outputs": [],
   "source": [
    "clf_lr = LogisticRegression(solver='liblinear')"
   ]
  },
  {
   "cell_type": "code",
   "execution_count": 318,
   "metadata": {
    "ExecuteTime": {
     "end_time": "2019-05-04T14:25:23.660376Z",
     "start_time": "2019-05-04T14:24:31.429962Z"
    }
   },
   "outputs": [
    {
     "data": {
      "text/plain": [
       "LogisticRegression(C=1.0, class_weight=None, dual=False, fit_intercept=True,\n",
       "          intercept_scaling=1, max_iter=100, multi_class='warn',\n",
       "          n_jobs=None, penalty='l2', random_state=None, solver='liblinear',\n",
       "          tol=0.0001, verbose=0, warm_start=False)"
      ]
     },
     "execution_count": 318,
     "metadata": {},
     "output_type": "execute_result"
    }
   ],
   "source": [
    "clf_lr.fit(Xlr, ylr)"
   ]
  },
  {
   "cell_type": "code",
   "execution_count": 319,
   "metadata": {
    "ExecuteTime": {
     "end_time": "2019-05-04T14:25:24.387659Z",
     "start_time": "2019-05-04T14:25:24.196647Z"
    }
   },
   "outputs": [],
   "source": [
    "y_pred_lr = clf_lr.predict(Xtestlr)"
   ]
  },
  {
   "cell_type": "code",
   "execution_count": 320,
   "metadata": {
    "ExecuteTime": {
     "end_time": "2019-05-04T14:25:24.939635Z",
     "start_time": "2019-05-04T14:25:24.884487Z"
    },
    "scrolled": false
   },
   "outputs": [
    {
     "name": "stdout",
     "output_type": "stream",
     "text": [
      "0.8179768770796654\n"
     ]
    }
   ],
   "source": [
    "print(accuracy_score(y_pred_lr, ytestlr))"
   ]
  },
  {
   "cell_type": "code",
   "execution_count": null,
   "metadata": {},
   "outputs": [],
   "source": []
  },
  {
   "cell_type": "code",
   "execution_count": 819,
   "metadata": {},
   "outputs": [],
   "source": [
    "from sklearn.model_selection import KFold\n",
    "\n",
    "def cv_score(clf, x, y, score_func=accuracy_score):\n",
    "    result = 0\n",
    "    nfold = 5\n",
    "    for train, test in KFold(nfold).split(x): # split data into train/test groups, 5 times\n",
    "        clf.fit(x[train], y[train]) # fit\n",
    "        result += score_func(clf.predict(x[test]), y[test]) # evaluate score function on held-out data\n",
    "    return result / nfold # average"
   ]
  },
  {
   "cell_type": "code",
   "execution_count": 820,
   "metadata": {},
   "outputs": [
    {
     "name": "stdout",
     "output_type": "stream",
     "text": [
      "0.7974916138441207\n"
     ]
    }
   ],
   "source": [
    "clf = LogisticRegression(solver='liblinear')\n",
    "score = cv_score(clf, Xlr, ylr)\n",
    "print(score)"
   ]
  },
  {
   "cell_type": "code",
   "execution_count": null,
   "metadata": {},
   "outputs": [],
   "source": []
  },
  {
   "cell_type": "code",
   "execution_count": 321,
   "metadata": {
    "ExecuteTime": {
     "end_time": "2019-05-04T14:25:25.806886Z",
     "start_time": "2019-05-04T14:25:25.431400Z"
    }
   },
   "outputs": [
    {
     "data": {
      "text/plain": [
       "array([[390428,   9332],\n",
       "       [ 79889,  10514]])"
      ]
     },
     "execution_count": 321,
     "metadata": {},
     "output_type": "execute_result"
    }
   ],
   "source": [
    "from sklearn import metrics\n",
    "cnf_matrix = metrics.confusion_matrix(ytestlr, y_pred_lr)\n",
    "cnf_matrix"
   ]
  },
  {
   "cell_type": "code",
   "execution_count": 322,
   "metadata": {
    "ExecuteTime": {
     "end_time": "2019-05-04T14:25:58.014608Z",
     "start_time": "2019-05-04T14:25:57.805824Z"
    }
   },
   "outputs": [
    {
     "name": "stdout",
     "output_type": "stream",
     "text": [
      "Accuracy: 0.8179768770796654\n",
      "Precision: 0.5297793006147334\n",
      "Recall: 0.11630145017311372\n"
     ]
    }
   ],
   "source": [
    "print(\"Accuracy:\",metrics.accuracy_score(ytestlr, y_pred_lr))\n",
    "print(\"Precision:\",metrics.precision_score(ytestlr, y_pred_lr))\n",
    "print(\"Recall:\",metrics.recall_score(ytestlr, y_pred_lr))"
   ]
  },
  {
   "cell_type": "code",
   "execution_count": 323,
   "metadata": {
    "ExecuteTime": {
     "end_time": "2019-05-04T14:26:04.699512Z",
     "start_time": "2019-05-04T14:26:04.690011Z"
    }
   },
   "outputs": [],
   "source": [
    "import matplotlib.pyplot as plt\n",
    "import matplotlib\n",
    "matplotlib.rcParams['figure.figsize'] = (10, 10)"
   ]
  },
  {
   "cell_type": "code",
   "execution_count": 324,
   "metadata": {
    "ExecuteTime": {
     "end_time": "2019-05-04T14:26:25.952622Z",
     "start_time": "2019-05-04T14:26:25.307296Z"
    },
    "scrolled": false
   },
   "outputs": [
    {
     "data": {
      "image/png": "[encoded data removed]",
      "text/plain": [
       "<Figure size 720x720 with 1 Axes>"
      ]
     },
     "metadata": {
      "needs_background": "light"
     },
     "output_type": "display_data"
    }
   ],
   "source": [
    "y_pred_proba = clf_lr.predict_proba(Xtestlr)[::,1]\n",
    "fpr, tpr, _ = metrics.roc_curve(ytestlr,  y_pred_proba)\n",
    "auc = metrics.roc_auc_score(ytestlr, y_pred_proba)\n",
    "plt.plot(fpr,tpr,label=\"data 1, auc=\"+str(auc))\n",
    "plt.legend(loc=4)\n",
    "plt.show()"
   ]
  },
  {
   "cell_type": "markdown",
   "metadata": {},
   "source": [
    "# Naive Bayes"
   ]
  },
  {
   "cell_type": "code",
   "execution_count": 325,
   "metadata": {
    "ExecuteTime": {
     "end_time": "2019-05-04T14:28:13.991908Z",
     "start_time": "2019-05-04T14:28:13.644014Z"
    }
   },
   "outputs": [],
   "source": [
    "bayes = name.drop(columns='ArrDelay')"
   ]
  },
  {
   "cell_type": "code",
   "execution_count": 326,
   "metadata": {
    "ExecuteTime": {
     "end_time": "2019-05-04T14:28:14.485593Z",
     "start_time": "2019-05-04T14:28:14.452338Z"
    }
   },
   "outputs": [
    {
     "data": {
      "text/html": [
       "<div>\n",
       "<style scoped>\n",
       "    .dataframe tbody tr th:only-of-type {\n",
       "        vertical-align: middle;\n",
       "    }\n",
       "\n",
       "    .dataframe tbody tr th {\n",
       "        vertical-align: top;\n",
       "    }\n",
       "\n",
       "    .dataframe thead th {\n",
       "        text-align: right;\n",
       "    }\n",
       "</style>\n",
       "<table border=\"1\" class=\"dataframe\">\n",
       "  <thead>\n",
       "    <tr style=\"text-align: right;\">\n",
       "      <th></th>\n",
       "      <th>Quarter</th>\n",
       "      <th>Month</th>\n",
       "      <th>DayofMonth</th>\n",
       "      <th>DayOfWeek</th>\n",
       "      <th>Reporting_Airline</th>\n",
       "      <th>Tail_Number</th>\n",
       "      <th>Flight_Number_Reporting_Airline</th>\n",
       "      <th>Origin</th>\n",
       "      <th>OriginState</th>\n",
       "      <th>DestState</th>\n",
       "      <th>Dest</th>\n",
       "      <th>CRSElapsedTime</th>\n",
       "      <th>Distance</th>\n",
       "      <th>DistanceGroup</th>\n",
       "      <th>precip_sum</th>\n",
       "      <th>ARR_HOUR</th>\n",
       "      <th>DEP_HOUR</th>\n",
       "      <th>DOM_DIRECTION</th>\n",
       "      <th>flight_freq</th>\n",
       "      <th>flight_delay_freq</th>\n",
       "      <th>LoadFactor</th>\n",
       "      <th>STATUS</th>\n",
       "    </tr>\n",
       "  </thead>\n",
       "  <tbody>\n",
       "    <tr>\n",
       "      <th>25</th>\n",
       "      <td>2</td>\n",
       "      <td>5</td>\n",
       "      <td>6</td>\n",
       "      <td>6</td>\n",
       "      <td>4</td>\n",
       "      <td>1691</td>\n",
       "      <td>435</td>\n",
       "      <td>19</td>\n",
       "      <td>15</td>\n",
       "      <td>4</td>\n",
       "      <td>39</td>\n",
       "      <td>120.0</td>\n",
       "      <td>574.0</td>\n",
       "      <td>3</td>\n",
       "      <td>0.0</td>\n",
       "      <td>19</td>\n",
       "      <td>18</td>\n",
       "      <td>2</td>\n",
       "      <td>1</td>\n",
       "      <td>24.25</td>\n",
       "      <td>0.340491</td>\n",
       "      <td>0</td>\n",
       "    </tr>\n",
       "    <tr>\n",
       "      <th>26</th>\n",
       "      <td>2</td>\n",
       "      <td>5</td>\n",
       "      <td>6</td>\n",
       "      <td>6</td>\n",
       "      <td>4</td>\n",
       "      <td>1691</td>\n",
       "      <td>451</td>\n",
       "      <td>19</td>\n",
       "      <td>15</td>\n",
       "      <td>4</td>\n",
       "      <td>39</td>\n",
       "      <td>115.0</td>\n",
       "      <td>574.0</td>\n",
       "      <td>3</td>\n",
       "      <td>0.0</td>\n",
       "      <td>9</td>\n",
       "      <td>8</td>\n",
       "      <td>2</td>\n",
       "      <td>22</td>\n",
       "      <td>-7.50</td>\n",
       "      <td>0.340491</td>\n",
       "      <td>0</td>\n",
       "    </tr>\n",
       "    <tr>\n",
       "      <th>27</th>\n",
       "      <td>2</td>\n",
       "      <td>5</td>\n",
       "      <td>6</td>\n",
       "      <td>6</td>\n",
       "      <td>4</td>\n",
       "      <td>3116</td>\n",
       "      <td>4720</td>\n",
       "      <td>19</td>\n",
       "      <td>15</td>\n",
       "      <td>18</td>\n",
       "      <td>40</td>\n",
       "      <td>250.0</td>\n",
       "      <td>1865.0</td>\n",
       "      <td>8</td>\n",
       "      <td>0.0</td>\n",
       "      <td>15</td>\n",
       "      <td>9</td>\n",
       "      <td>0</td>\n",
       "      <td>23</td>\n",
       "      <td>1.50</td>\n",
       "      <td>0.805389</td>\n",
       "      <td>0</td>\n",
       "    </tr>\n",
       "    <tr>\n",
       "      <th>28</th>\n",
       "      <td>2</td>\n",
       "      <td>5</td>\n",
       "      <td>6</td>\n",
       "      <td>6</td>\n",
       "      <td>4</td>\n",
       "      <td>3048</td>\n",
       "      <td>2435</td>\n",
       "      <td>19</td>\n",
       "      <td>15</td>\n",
       "      <td>42</td>\n",
       "      <td>66</td>\n",
       "      <td>150.0</td>\n",
       "      <td>999.0</td>\n",
       "      <td>4</td>\n",
       "      <td>0.0</td>\n",
       "      <td>18</td>\n",
       "      <td>14</td>\n",
       "      <td>0</td>\n",
       "      <td>7</td>\n",
       "      <td>-7.25</td>\n",
       "      <td>0.833898</td>\n",
       "      <td>0</td>\n",
       "    </tr>\n",
       "    <tr>\n",
       "      <th>29</th>\n",
       "      <td>2</td>\n",
       "      <td>5</td>\n",
       "      <td>6</td>\n",
       "      <td>6</td>\n",
       "      <td>4</td>\n",
       "      <td>2598</td>\n",
       "      <td>4757</td>\n",
       "      <td>19</td>\n",
       "      <td>15</td>\n",
       "      <td>5</td>\n",
       "      <td>69</td>\n",
       "      <td>85.0</td>\n",
       "      <td>391.0</td>\n",
       "      <td>2</td>\n",
       "      <td>0.0</td>\n",
       "      <td>14</td>\n",
       "      <td>13</td>\n",
       "      <td>0</td>\n",
       "      <td>15</td>\n",
       "      <td>-4.50</td>\n",
       "      <td>0.795838</td>\n",
       "      <td>0</td>\n",
       "    </tr>\n",
       "  </tbody>\n",
       "</table>\n",
       "</div>"
      ],
      "text/plain": [
       "    Quarter  Month  DayofMonth  DayOfWeek  Reporting_Airline  Tail_Number  \\\n",
       "25        2      5           6          6                  4         1691   \n",
       "26        2      5           6          6                  4         1691   \n",
       "27        2      5           6          6                  4         3116   \n",
       "28        2      5           6          6                  4         3048   \n",
       "29        2      5           6          6                  4         2598   \n",
       "\n",
       "    Flight_Number_Reporting_Airline  Origin  OriginState  DestState  Dest  CRSElapsedTime  \\\n",
       "25                              435      19           15          4    39           120.0   \n",
       "26                              451      19           15          4    39           115.0   \n",
       "27                             4720      19           15         18    40           250.0   \n",
       "28                             2435      19           15         42    66           150.0   \n",
       "29                             4757      19           15          5    69            85.0   \n",
       "\n",
       "    Distance  DistanceGroup  precip_sum  ARR_HOUR  DEP_HOUR  DOM_DIRECTION  flight_freq  \\\n",
       "25     574.0              3         0.0        19        18              2            1   \n",
       "26     574.0              3         0.0         9         8              2           22   \n",
       "27    1865.0              8         0.0        15         9              0           23   \n",
       "28     999.0              4         0.0        18        14              0            7   \n",
       "29     391.0              2         0.0        14        13              0           15   \n",
       "\n",
       "    flight_delay_freq  LoadFactor  STATUS  \n",
       "25              24.25    0.340491       0  \n",
       "26              -7.50    0.340491       0  \n",
       "27               1.50    0.805389       0  \n",
       "28              -7.25    0.833898       0  \n",
       "29              -4.50    0.795838       0  "
      ]
     },
     "execution_count": 326,
     "metadata": {},
     "output_type": "execute_result"
    }
   ],
   "source": [
    "bayes.head()"
   ]
  },
  {
   "cell_type": "code",
   "execution_count": 327,
   "metadata": {
    "ExecuteTime": {
     "end_time": "2019-05-04T14:28:30.834958Z",
     "start_time": "2019-05-04T14:28:29.883731Z"
    }
   },
   "outputs": [],
   "source": [
    "y_bay = bayes.STATUS.values\n",
    "X_bay = bayes.drop(columns='STATUS').values"
   ]
  },
  {
   "cell_type": "code",
   "execution_count": 328,
   "metadata": {
    "ExecuteTime": {
     "end_time": "2019-05-04T14:29:24.596903Z",
     "start_time": "2019-05-04T14:29:22.768533Z"
    }
   },
   "outputs": [],
   "source": [
    "from sklearn.model_selection import train_test_split\n",
    "X_train_bay, X_test_bay, y_train_bay, y_test_bay = train_test_split(X_bay, y_bay, test_size = 0.2, random_state=42)"
   ]
  },
  {
   "cell_type": "code",
   "execution_count": 329,
   "metadata": {
    "ExecuteTime": {
     "end_time": "2019-05-04T14:29:28.221309Z",
     "start_time": "2019-05-04T14:29:27.022812Z"
    }
   },
   "outputs": [
    {
     "data": {
      "text/plain": [
       "GaussianNB(priors=None, var_smoothing=1e-09)"
      ]
     },
     "execution_count": 329,
     "metadata": {},
     "output_type": "execute_result"
    }
   ],
   "source": [
    "from sklearn.naive_bayes import GaussianNB\n",
    "\n",
    "#Create a Gaussian Classifier\n",
    "gnb = GaussianNB()\n",
    "\n",
    "#Train the model using the training sets\n",
    "gnb.fit(X_train_bay, y_train_bay)"
   ]
  },
  {
   "cell_type": "code",
   "execution_count": 330,
   "metadata": {
    "ExecuteTime": {
     "end_time": "2019-05-04T14:29:37.714430Z",
     "start_time": "2019-05-04T14:29:37.473678Z"
    }
   },
   "outputs": [],
   "source": [
    "#Predict the response for test dataset\n",
    "y_pred_bay = gnb.predict(X_test_bay)"
   ]
  },
  {
   "cell_type": "code",
   "execution_count": 332,
   "metadata": {
    "ExecuteTime": {
     "end_time": "2019-05-04T14:29:48.809623Z",
     "start_time": "2019-05-04T14:29:48.774278Z"
    }
   },
   "outputs": [
    {
     "name": "stdout",
     "output_type": "stream",
     "text": [
      "Accuracy: 0.8140496120678223\n"
     ]
    }
   ],
   "source": [
    "#Import scikit-learn metrics module for accuracy calculation\n",
    "from sklearn import metrics\n",
    "\n",
    "# Model Accuracy, how often is the classifier correct?\n",
    "print(\"Accuracy:\",metrics.accuracy_score(y_test_bay, y_pred_bay))"
   ]
  },
  {
   "cell_type": "code",
   "execution_count": 333,
   "metadata": {
    "ExecuteTime": {
     "end_time": "2019-05-04T14:29:57.667906Z",
     "start_time": "2019-05-04T14:29:57.308474Z"
    }
   },
   "outputs": [
    {
     "data": {
      "text/plain": [
       "array([[382739,  17021],\n",
       "       [ 74125,  16278]])"
      ]
     },
     "execution_count": 333,
     "metadata": {},
     "output_type": "execute_result"
    }
   ],
   "source": [
    "# Making the Confusion Matrix\n",
    "from sklearn.metrics import confusion_matrix\n",
    "cm = confusion_matrix(y_test_bay, y_pred_bay)\n",
    "cm"
   ]
  },
  {
   "cell_type": "code",
   "execution_count": 334,
   "metadata": {
    "ExecuteTime": {
     "end_time": "2019-05-04T14:31:23.956436Z",
     "start_time": "2019-05-04T14:31:23.688032Z"
    }
   },
   "outputs": [],
   "source": [
    "y_prob_bay = gnb.predict_proba(X_test_bay)[::,1]"
   ]
  },
  {
   "cell_type": "code",
   "execution_count": 335,
   "metadata": {
    "ExecuteTime": {
     "end_time": "2019-05-04T14:31:25.134676Z",
     "start_time": "2019-05-04T14:31:25.131205Z"
    }
   },
   "outputs": [],
   "source": [
    "import matplotlib.pyplot as plt\n",
    "import matplotlib\n",
    "matplotlib.rcParams['figure.figsize'] = (10, 10)"
   ]
  },
  {
   "cell_type": "code",
   "execution_count": 336,
   "metadata": {
    "ExecuteTime": {
     "end_time": "2019-05-04T14:32:04.248231Z",
     "start_time": "2019-05-04T14:32:03.819105Z"
    }
   },
   "outputs": [
    {
     "data": {
      "image/png": "[encoded data removed]",
      "text/plain": [
       "<Figure size 720x720 with 1 Axes>"
      ]
     },
     "metadata": {
      "needs_background": "light"
     },
     "output_type": "display_data"
    }
   ],
   "source": [
    "y_pred_proba = y_prob_bay\n",
    "fpr, tpr, _ = metrics.roc_curve(y_test_bay,  y_pred_proba)\n",
    "auc = metrics.roc_auc_score(y_test_bay, y_pred_proba)\n",
    "plt.plot(fpr,tpr,label=\"data 1, auc=\"+str(auc))\n",
    "plt.legend(loc=4)\n",
    "plt.show()"
   ]
  },
  {
   "cell_type": "code",
   "execution_count": null,
   "metadata": {},
   "outputs": [],
   "source": []
  }
 ],
 "metadata": {
  "kernelspec": {
   "display_name": "Python 3",
   "language": "python",
   "name": "python3"
  },
  "language_info": {
   "codemirror_mode": {
    "name": "ipython",
    "version": 3
   },
   "file_extension": ".py",
   "mimetype": "text/x-python",
   "name": "python",
   "nbconvert_exporter": "python",
   "pygments_lexer": "ipython3",
   "version": "3.7.1"
  },
  "toc": {
   "base_numbering": 1,
   "nav_menu": {},
   "number_sections": true,
   "sideBar": true,
   "skip_h1_title": false,
   "title_cell": "Table of Contents",
   "title_sidebar": "Contents",
   "toc_cell": true,
   "toc_position": {
    "height": "calc(100% - 180px)",
    "left": "10px",
    "top": "150px",
    "width": "239px"
   },
   "toc_section_display": true,
   "toc_window_display": true
  },
  "varInspector": {
   "cols": {
    "lenName": 16,
    "lenType": 16,
    "lenVar": 40
   },
   "kernels_config": {
    "python": {
     "delete_cmd_postfix": "",
     "delete_cmd_prefix": "del ",
     "library": "var_list.py",
     "varRefreshCmd": "print(var_dic_list())"
    },
    "r": {
     "delete_cmd_postfix": ") ",
     "delete_cmd_prefix": "rm(",
     "library": "var_list.r",
     "varRefreshCmd": "cat(var_dic_list()) "
    }
   },
   "types_to_exclude": [
    "module",
    "function",
    "builtin_function_or_method",
    "instance",
    "_Feature"
   ],
   "window_display": false
  }
 },
 "nbformat": 4,
 "nbformat_minor": 2
}
