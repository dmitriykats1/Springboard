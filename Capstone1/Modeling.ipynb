{
 "cells": [
  {
   "cell_type": "code",
   "execution_count": 86,
   "metadata": {
    "ExecuteTime": {
     "end_time": "2019-04-23T21:13:19.763536Z",
     "start_time": "2019-04-23T21:13:19.500024Z"
    }
   },
   "outputs": [],
   "source": [
    "import pandas as pd\n",
    "import numpy as np\n",
    "import glob\n",
    "import os\n",
    "from datetime import datetime\n",
    "import datetime\n",
    "import time\n",
    "import timestring\n",
    "import math\n",
    "import scipy\n",
    "import scipy.sparse\n",
    "import seaborn as sns"
   ]
  },
  {
   "cell_type": "code",
   "execution_count": 2,
   "metadata": {
    "ExecuteTime": {
     "end_time": "2019-04-23T20:27:36.535996Z",
     "start_time": "2019-04-23T20:26:38.552950Z"
    },
    "code_folding": []
   },
   "outputs": [],
   "source": [
    "#import the 2017 Data and clean it\n",
    "df = pd.read_csv('./Data/2017NEW.csv')\n",
    "\n",
    "#remove rows will null values which is approximately 1.5%\n",
    "null_columns = df.columns[df.isnull().any()]\n",
    "df[null_columns].isnull().sum()\n",
    "\n",
    "df = df.dropna(subset=['DEP_TIME',\n",
    "       'DEP_DELAY', 'DEP_DELAY_NEW', 'TAXI_OUT', 'WHEELS_OFF', 'WHEELS_ON',\n",
    "       'TAXI_IN', 'CRS_ARR_TIME', 'ARR_TIME', 'ARR_DELAY', 'ARR_DELAY_NEW',\n",
    "       'ACTUAL_ELAPSED_TIME', 'AIR_TIME'])\n",
    "\n",
    "df = df.fillna(0)"
   ]
  },
  {
   "cell_type": "code",
   "execution_count": 3,
   "metadata": {
    "ExecuteTime": {
     "end_time": "2019-04-23T20:27:51.192968Z",
     "start_time": "2019-04-23T20:27:51.178446Z"
    },
    "scrolled": true
   },
   "outputs": [
    {
     "data": {
      "text/plain": [
       "Index(['YEAR', 'MONTH', 'DAY_OF_MONTH', 'DAY_OF_WEEK', 'FL_DATE', 'OP_CARRIER',\n",
       "       'ORIGIN', 'ORIGIN_CITY_NAME', 'ORIGIN_STATE_ABR', 'DEST',\n",
       "       'DEST_CITY_NAME', 'DEST_STATE_ABR', 'CRS_DEP_TIME', 'DEP_TIME',\n",
       "       'DEP_DELAY', 'DEP_DELAY_NEW', 'TAXI_OUT', 'WHEELS_OFF', 'WHEELS_ON',\n",
       "       'TAXI_IN', 'CRS_ARR_TIME', 'ARR_TIME', 'ARR_DELAY', 'ARR_DELAY_NEW',\n",
       "       'ACTUAL_ELAPSED_TIME', 'AIR_TIME', 'DISTANCE', 'CARRIER_DELAY',\n",
       "       'WEATHER_DELAY', 'NAS_DELAY', 'SECURITY_DELAY', 'LATE_AIRCRAFT_DELAY',\n",
       "       'FL_TIME', 'FL_TIME_NEW', 'combined', 'precip'],\n",
       "      dtype='object')"
      ]
     },
     "execution_count": 3,
     "metadata": {},
     "output_type": "execute_result"
    }
   ],
   "source": [
    "df.columns"
   ]
  },
  {
   "cell_type": "code",
   "execution_count": 4,
   "metadata": {
    "ExecuteTime": {
     "end_time": "2019-04-23T20:27:57.329720Z",
     "start_time": "2019-04-23T20:27:55.631420Z"
    }
   },
   "outputs": [],
   "source": [
    "#Let's remove the features that will not be available for predicting flights\n",
    "df = df[['YEAR','MONTH','DAY_OF_MONTH', 'DAY_OF_WEEK', 'FL_DATE', 'OP_CARRIER', 'ORIGIN', \n",
    "         'ORIGIN_STATE_ABR', 'DEST', 'DEST_STATE_ABR', \n",
    "         'DISTANCE', 'CRS_DEP_TIME', 'CRS_ARR_TIME', 'ARR_DELAY', 'precip']]\n",
    "df = df.reindex()"
   ]
  },
  {
   "cell_type": "code",
   "execution_count": 5,
   "metadata": {
    "ExecuteTime": {
     "end_time": "2019-04-23T20:27:58.155097Z",
     "start_time": "2019-04-23T20:27:58.135666Z"
    }
   },
   "outputs": [
    {
     "data": {
      "text/html": [
       "<div>\n",
       "<style scoped>\n",
       "    .dataframe tbody tr th:only-of-type {\n",
       "        vertical-align: middle;\n",
       "    }\n",
       "\n",
       "    .dataframe tbody tr th {\n",
       "        vertical-align: top;\n",
       "    }\n",
       "\n",
       "    .dataframe thead th {\n",
       "        text-align: right;\n",
       "    }\n",
       "</style>\n",
       "<table border=\"1\" class=\"dataframe\">\n",
       "  <thead>\n",
       "    <tr style=\"text-align: right;\">\n",
       "      <th></th>\n",
       "      <th>YEAR</th>\n",
       "      <th>MONTH</th>\n",
       "      <th>DAY_OF_MONTH</th>\n",
       "      <th>DAY_OF_WEEK</th>\n",
       "      <th>FL_DATE</th>\n",
       "      <th>OP_CARRIER</th>\n",
       "      <th>ORIGIN</th>\n",
       "      <th>ORIGIN_STATE_ABR</th>\n",
       "      <th>DEST</th>\n",
       "      <th>DEST_STATE_ABR</th>\n",
       "      <th>DISTANCE</th>\n",
       "      <th>CRS_DEP_TIME</th>\n",
       "      <th>CRS_ARR_TIME</th>\n",
       "      <th>ARR_DELAY</th>\n",
       "      <th>precip</th>\n",
       "    </tr>\n",
       "  </thead>\n",
       "  <tbody>\n",
       "    <tr>\n",
       "      <th>0</th>\n",
       "      <td>2017</td>\n",
       "      <td>3</td>\n",
       "      <td>21</td>\n",
       "      <td>2</td>\n",
       "      <td>2017-03-21 00:00:00</td>\n",
       "      <td>B6</td>\n",
       "      <td>BOS</td>\n",
       "      <td>MA</td>\n",
       "      <td>DCA</td>\n",
       "      <td>VA</td>\n",
       "      <td>399.0</td>\n",
       "      <td>1015</td>\n",
       "      <td>1151</td>\n",
       "      <td>3.0</td>\n",
       "      <td>0.0</td>\n",
       "    </tr>\n",
       "    <tr>\n",
       "      <th>1</th>\n",
       "      <td>2017</td>\n",
       "      <td>3</td>\n",
       "      <td>21</td>\n",
       "      <td>2</td>\n",
       "      <td>2017-03-21 00:00:00</td>\n",
       "      <td>B6</td>\n",
       "      <td>BOS</td>\n",
       "      <td>MA</td>\n",
       "      <td>DCA</td>\n",
       "      <td>VA</td>\n",
       "      <td>399.0</td>\n",
       "      <td>1015</td>\n",
       "      <td>1151</td>\n",
       "      <td>3.0</td>\n",
       "      <td>0.0</td>\n",
       "    </tr>\n",
       "    <tr>\n",
       "      <th>2</th>\n",
       "      <td>2017</td>\n",
       "      <td>3</td>\n",
       "      <td>21</td>\n",
       "      <td>2</td>\n",
       "      <td>2017-03-21 00:00:00</td>\n",
       "      <td>B6</td>\n",
       "      <td>BOS</td>\n",
       "      <td>MA</td>\n",
       "      <td>FLL</td>\n",
       "      <td>FL</td>\n",
       "      <td>1237.0</td>\n",
       "      <td>1020</td>\n",
       "      <td>1346</td>\n",
       "      <td>-22.0</td>\n",
       "      <td>0.0</td>\n",
       "    </tr>\n",
       "    <tr>\n",
       "      <th>3</th>\n",
       "      <td>2017</td>\n",
       "      <td>3</td>\n",
       "      <td>21</td>\n",
       "      <td>2</td>\n",
       "      <td>2017-03-21 00:00:00</td>\n",
       "      <td>B6</td>\n",
       "      <td>BOS</td>\n",
       "      <td>MA</td>\n",
       "      <td>FLL</td>\n",
       "      <td>FL</td>\n",
       "      <td>1237.0</td>\n",
       "      <td>1020</td>\n",
       "      <td>1346</td>\n",
       "      <td>-22.0</td>\n",
       "      <td>0.0</td>\n",
       "    </tr>\n",
       "    <tr>\n",
       "      <th>4</th>\n",
       "      <td>2017</td>\n",
       "      <td>3</td>\n",
       "      <td>21</td>\n",
       "      <td>2</td>\n",
       "      <td>2017-03-21 00:00:00</td>\n",
       "      <td>B6</td>\n",
       "      <td>BOS</td>\n",
       "      <td>MA</td>\n",
       "      <td>SEA</td>\n",
       "      <td>WA</td>\n",
       "      <td>2496.0</td>\n",
       "      <td>1035</td>\n",
       "      <td>1353</td>\n",
       "      <td>10.0</td>\n",
       "      <td>0.0</td>\n",
       "    </tr>\n",
       "  </tbody>\n",
       "</table>\n",
       "</div>"
      ],
      "text/plain": [
       "   YEAR  MONTH  DAY_OF_MONTH  DAY_OF_WEEK              FL_DATE OP_CARRIER  \\\n",
       "0  2017      3            21            2  2017-03-21 00:00:00         B6   \n",
       "1  2017      3            21            2  2017-03-21 00:00:00         B6   \n",
       "2  2017      3            21            2  2017-03-21 00:00:00         B6   \n",
       "3  2017      3            21            2  2017-03-21 00:00:00         B6   \n",
       "4  2017      3            21            2  2017-03-21 00:00:00         B6   \n",
       "\n",
       "  ORIGIN ORIGIN_STATE_ABR DEST DEST_STATE_ABR  DISTANCE  CRS_DEP_TIME  \\\n",
       "0    BOS               MA  DCA             VA     399.0          1015   \n",
       "1    BOS               MA  DCA             VA     399.0          1015   \n",
       "2    BOS               MA  FLL             FL    1237.0          1020   \n",
       "3    BOS               MA  FLL             FL    1237.0          1020   \n",
       "4    BOS               MA  SEA             WA    2496.0          1035   \n",
       "\n",
       "   CRS_ARR_TIME  ARR_DELAY  precip  \n",
       "0          1151        3.0     0.0  \n",
       "1          1151        3.0     0.0  \n",
       "2          1346      -22.0     0.0  \n",
       "3          1346      -22.0     0.0  \n",
       "4          1353       10.0     0.0  "
      ]
     },
     "execution_count": 5,
     "metadata": {},
     "output_type": "execute_result"
    }
   ],
   "source": [
    "df.head()"
   ]
  },
  {
   "cell_type": "code",
   "execution_count": 6,
   "metadata": {
    "ExecuteTime": {
     "end_time": "2019-04-23T20:28:06.308478Z",
     "start_time": "2019-04-23T20:28:06.039178Z"
    }
   },
   "outputs": [],
   "source": [
    "#create a list with top 20 airport origins\n",
    "top_20 = list(df.groupby('ORIGIN').size().sort_values(ascending=False)[0:20].index)"
   ]
  },
  {
   "cell_type": "code",
   "execution_count": 7,
   "metadata": {
    "ExecuteTime": {
     "end_time": "2019-04-23T20:28:06.637219Z",
     "start_time": "2019-04-23T20:28:06.409047Z"
    }
   },
   "outputs": [],
   "source": [
    "top_5 = list(df.groupby('OP_CARRIER').size().sort_values(ascending=False)[0:5].index)"
   ]
  },
  {
   "cell_type": "markdown",
   "metadata": {},
   "source": [
    "## Feature Engineering"
   ]
  },
  {
   "cell_type": "markdown",
   "metadata": {},
   "source": [
    "#### Distance"
   ]
  },
  {
   "cell_type": "code",
   "execution_count": 8,
   "metadata": {
    "ExecuteTime": {
     "end_time": "2019-04-23T20:29:05.776447Z",
     "start_time": "2019-04-23T20:29:05.748816Z"
    }
   },
   "outputs": [],
   "source": [
    "#let's do a log transformation on the Distance feature\n",
    "df['LOG_DIST'] = np.log(df.DISTANCE)"
   ]
  },
  {
   "cell_type": "code",
   "execution_count": 9,
   "metadata": {
    "ExecuteTime": {
     "end_time": "2019-04-23T20:29:07.511035Z",
     "start_time": "2019-04-23T20:29:06.572628Z"
    }
   },
   "outputs": [
    {
     "data": {
      "text/plain": [
       "<matplotlib.axes._subplots.AxesSubplot at 0x11e034518>"
      ]
     },
     "execution_count": 9,
     "metadata": {},
     "output_type": "execute_result"
    }
   ],
   "source": [
    "df.LOG_DIST.hist(bins=20)"
   ]
  },
  {
   "cell_type": "code",
   "execution_count": 10,
   "metadata": {
    "ExecuteTime": {
     "end_time": "2019-04-23T20:29:10.956324Z",
     "start_time": "2019-04-23T20:29:10.714977Z"
    }
   },
   "outputs": [],
   "source": [
    "#now we can bin the log distance feature into 3 catagories = short = 1, medium = 2, long = 3\n",
    "df['DIST_BINS'] = pd.cut(df.LOG_DIST, bins=3, labels= [1,2,3])"
   ]
  },
  {
   "cell_type": "code",
   "execution_count": 11,
   "metadata": {
    "ExecuteTime": {
     "end_time": "2019-04-23T20:29:12.030272Z",
     "start_time": "2019-04-23T20:29:11.052834Z"
    }
   },
   "outputs": [],
   "source": [
    "df['DIST_BINS'] = pd.factorize(df.DIST_BINS)[0]\n",
    "#clean up by dropping the original columns\n",
    "df = df.drop(columns=['LOG_DIST', 'DISTANCE'])"
   ]
  },
  {
   "cell_type": "markdown",
   "metadata": {},
   "source": [
    "#### Hourly bins"
   ]
  },
  {
   "cell_type": "code",
   "execution_count": 12,
   "metadata": {
    "ExecuteTime": {
     "end_time": "2019-04-23T20:29:39.626288Z",
     "start_time": "2019-04-23T20:29:28.468876Z"
    }
   },
   "outputs": [],
   "source": [
    "#Let's convert the DEP_TIME and ARR_TIME into hours only. \n",
    "df['ARR_HOUR'] = df['CRS_ARR_TIME'].apply(lambda x: int(str(x)[:2]) if x>999 else int(str(x)[:1] if x>99 else 0))\n",
    "df['ARR_HOUR'] = df['ARR_HOUR'].apply(lambda x:0 if x==24 else x)\n",
    "df['DEP_HOUR'] = df['CRS_DEP_TIME'].apply(lambda x: int(str(x)[:2]) if x>999 else int(str(x)[:1] if x>99 else 0))\n",
    "df = df.drop(columns=['CRS_DEP_TIME', 'CRS_ARR_TIME'])"
   ]
  },
  {
   "cell_type": "markdown",
   "metadata": {},
   "source": [
    "#### Direction of flight (E to W / N to S and vice versa)"
   ]
  },
  {
   "cell_type": "code",
   "execution_count": 13,
   "metadata": {
    "ExecuteTime": {
     "end_time": "2019-04-23T20:30:50.190141Z",
     "start_time": "2019-04-23T20:29:43.392481Z"
    }
   },
   "outputs": [],
   "source": [
    "#let's add a direction of flight features\n",
    "#import airport location information csv\n",
    "airport_location = pd.read_csv('airport_loc.csv')\n",
    "#combine Latitude and Longitude into a tuple and form a new column and drop the Latitude & Longitude columns\n",
    "airport_location['location'] = list(zip(airport_location.Latitude, airport_location.Longitude))\n",
    "airports_locs = airport_location.copy()\n",
    "airports_locs.head()\n",
    "airports_locs.drop(['Latitude', 'Longitude'], axis=1, inplace=True)\n",
    "airport_loc = airports_locs.set_index('locationID').to_dict()['location']\n",
    "\n",
    "#create two new columns with location coordinates of origin and destination airports\n",
    "df['ORIGIN_LOC'] = df.ORIGIN.apply(lambda x: airport_loc.get(x))\n",
    "df['DEST_LOC'] = df.DEST.apply(lambda x: airport_loc.get(x))\n",
    "\n",
    "#turn into an array so we can subtract and determine which direction the plane is traveling\n",
    "df.ORIGIN_LOC = df.ORIGIN_LOC.apply(lambda x: np.asarray(x))\n",
    "df.DEST_LOC = df.DEST_LOC.apply(lambda x: np.asarray(x))\n",
    "df['DIRECTION'] = df.ORIGIN_LOC - df.DEST_LOC\n",
    "\n",
    "df = df.dropna(subset=['DIRECTION'])\n",
    "#(n/s - increasing to the north : e/w - increasing to the west)\n",
    "# if first number is negative = south - north = plane is going north\n",
    "# if second number is negative = east - west = plane is going west\n",
    "df['NORTH'] = df.DIRECTION.apply(lambda x: 'North' if x[0] < 0 else 'South')\n",
    "df['WEST'] = df.DIRECTION.apply(lambda x: 'West' if x[1] < 0 else 'East')\n",
    "\n",
    "#clean up and delete the columns created for this tranformation\n",
    "df = df.drop(columns=['ORIGIN_LOC', 'DEST_LOC', 'DIRECTION'])"
   ]
  },
  {
   "cell_type": "markdown",
   "metadata": {},
   "source": [
    "#### Is it a weekend flight or not"
   ]
  },
  {
   "cell_type": "code",
   "execution_count": 14,
   "metadata": {
    "ExecuteTime": {
     "end_time": "2019-04-23T20:30:57.362557Z",
     "start_time": "2019-04-23T20:30:55.582091Z"
    }
   },
   "outputs": [],
   "source": [
    "#create a weekend column\n",
    "df['WEEKEND'] = df.DAY_OF_WEEK.apply(lambda x: 1 if x > 5 else 0)"
   ]
  },
  {
   "cell_type": "markdown",
   "metadata": {},
   "source": [
    "#### Pick top 20 airports and top 5 airlines"
   ]
  },
  {
   "cell_type": "code",
   "execution_count": 15,
   "metadata": {
    "ExecuteTime": {
     "end_time": "2019-04-23T20:31:03.222136Z",
     "start_time": "2019-04-23T20:31:02.073386Z"
    }
   },
   "outputs": [],
   "source": [
    "#only use top 20 origin airports\n",
    "top_df = df[df.ORIGIN.isin(top_20)]"
   ]
  },
  {
   "cell_type": "code",
   "execution_count": 16,
   "metadata": {
    "ExecuteTime": {
     "end_time": "2019-04-23T20:31:04.172130Z",
     "start_time": "2019-04-23T20:31:03.376651Z"
    }
   },
   "outputs": [],
   "source": [
    "#only use top 5 airlines\n",
    "top_df = top_df[top_df.OP_CARRIER.isin(top_5)]"
   ]
  },
  {
   "cell_type": "markdown",
   "metadata": {},
   "source": [
    "#### Weather"
   ]
  },
  {
   "cell_type": "markdown",
   "metadata": {},
   "source": [
    "https://mesonet.agron.iastate.edu/ASOS/"
   ]
  },
  {
   "cell_type": "markdown",
   "metadata": {},
   "source": [
    "Weather data has been pre-processed in a seperate notebook and imported in the flight dataset"
   ]
  },
  {
   "cell_type": "code",
   "execution_count": null,
   "metadata": {},
   "outputs": [],
   "source": []
  },
  {
   "cell_type": "code",
   "execution_count": null,
   "metadata": {},
   "outputs": [],
   "source": []
  },
  {
   "cell_type": "code",
   "execution_count": null,
   "metadata": {},
   "outputs": [],
   "source": []
  },
  {
   "cell_type": "code",
   "execution_count": null,
   "metadata": {},
   "outputs": [],
   "source": []
  },
  {
   "cell_type": "code",
   "execution_count": 267,
   "metadata": {
    "ExecuteTime": {
     "end_time": "2019-04-21T20:01:09.362416Z",
     "start_time": "2019-04-21T20:01:01.773704Z"
    }
   },
   "outputs": [],
   "source": [
    "'''#we can split the dataframes into months to remove seasonal variability\n",
    "jan_df = df[df.MONTH == 1]\n",
    "feb_df = df[df.MONTH == 2]\n",
    "mar_df = df[df.MONTH == 3]\n",
    "apr_df = df[df.MONTH == 4]\n",
    "may_df = df[df.MONTH == 5]\n",
    "jun_df = df[df.MONTH == 6]\n",
    "jul_df = df[df.MONTH == 7]\n",
    "aug_df = df[df.MONTH == 8]\n",
    "sep_df = df[df.MONTH == 9]\n",
    "oct_df = df[df.MONTH == 10]\n",
    "nov_df = df[df.MONTH == 11]\n",
    "dec_df = df[df.MONTH == 12]'''"
   ]
  },
  {
   "cell_type": "code",
   "execution_count": null,
   "metadata": {},
   "outputs": [],
   "source": []
  },
  {
   "cell_type": "code",
   "execution_count": null,
   "metadata": {},
   "outputs": [],
   "source": []
  },
  {
   "cell_type": "markdown",
   "metadata": {},
   "source": [
    "#### Status (Delayed or Ontime)"
   ]
  },
  {
   "cell_type": "code",
   "execution_count": 17,
   "metadata": {
    "ExecuteTime": {
     "end_time": "2019-04-23T20:31:20.186246Z",
     "start_time": "2019-04-23T20:31:18.637681Z"
    }
   },
   "outputs": [],
   "source": [
    "#Add a column classifying if the flight is delayed or not using 20 minutes as delayed\n",
    "top_df['STATUS'] = top_df.ARR_DELAY.apply(lambda x: 1 if x >= 20 else 0)"
   ]
  },
  {
   "cell_type": "markdown",
   "metadata": {},
   "source": [
    "# Creating X matrix"
   ]
  },
  {
   "cell_type": "code",
   "execution_count": 49,
   "metadata": {
    "ExecuteTime": {
     "end_time": "2019-04-23T21:05:22.091970Z",
     "start_time": "2019-04-23T21:05:22.089174Z"
    },
    "scrolled": true
   },
   "outputs": [],
   "source": [
    "name = top_df"
   ]
  },
  {
   "cell_type": "code",
   "execution_count": 50,
   "metadata": {
    "ExecuteTime": {
     "end_time": "2019-04-23T21:05:26.801445Z",
     "start_time": "2019-04-23T21:05:26.775016Z"
    }
   },
   "outputs": [
    {
     "data": {
      "text/html": [
       "<div>\n",
       "<style scoped>\n",
       "    .dataframe tbody tr th:only-of-type {\n",
       "        vertical-align: middle;\n",
       "    }\n",
       "\n",
       "    .dataframe tbody tr th {\n",
       "        vertical-align: top;\n",
       "    }\n",
       "\n",
       "    .dataframe thead th {\n",
       "        text-align: right;\n",
       "    }\n",
       "</style>\n",
       "<table border=\"1\" class=\"dataframe\">\n",
       "  <thead>\n",
       "    <tr style=\"text-align: right;\">\n",
       "      <th></th>\n",
       "      <th>YEAR</th>\n",
       "      <th>MONTH</th>\n",
       "      <th>DAY_OF_MONTH</th>\n",
       "      <th>DAY_OF_WEEK</th>\n",
       "      <th>FL_DATE</th>\n",
       "      <th>OP_CARRIER</th>\n",
       "      <th>ORIGIN</th>\n",
       "      <th>ORIGIN_STATE_ABR</th>\n",
       "      <th>DEST</th>\n",
       "      <th>DEST_STATE_ABR</th>\n",
       "      <th>...</th>\n",
       "      <th>precip</th>\n",
       "      <th>DIST_BINS</th>\n",
       "      <th>ARR_HOUR</th>\n",
       "      <th>DEP_HOUR</th>\n",
       "      <th>NORTH</th>\n",
       "      <th>WEST</th>\n",
       "      <th>WEEKEND</th>\n",
       "      <th>STATUS</th>\n",
       "      <th>ORIGIN_SATE_ABR</th>\n",
       "      <th>DEST_SATE_ABR</th>\n",
       "    </tr>\n",
       "  </thead>\n",
       "  <tbody>\n",
       "    <tr>\n",
       "      <th>16</th>\n",
       "      <td>2017</td>\n",
       "      <td>3</td>\n",
       "      <td>21</td>\n",
       "      <td>2</td>\n",
       "      <td>2017-03-21 00:00:00</td>\n",
       "      <td>0</td>\n",
       "      <td>1</td>\n",
       "      <td>MA</td>\n",
       "      <td>70</td>\n",
       "      <td>TX</td>\n",
       "      <td>...</td>\n",
       "      <td>0.0</td>\n",
       "      <td>1</td>\n",
       "      <td>13</td>\n",
       "      <td>10</td>\n",
       "      <td>1</td>\n",
       "      <td>1</td>\n",
       "      <td>0</td>\n",
       "      <td>0</td>\n",
       "      <td>6</td>\n",
       "      <td>42</td>\n",
       "    </tr>\n",
       "    <tr>\n",
       "      <th>17</th>\n",
       "      <td>2017</td>\n",
       "      <td>3</td>\n",
       "      <td>21</td>\n",
       "      <td>2</td>\n",
       "      <td>2017-03-21 00:00:00</td>\n",
       "      <td>0</td>\n",
       "      <td>1</td>\n",
       "      <td>MA</td>\n",
       "      <td>70</td>\n",
       "      <td>TX</td>\n",
       "      <td>...</td>\n",
       "      <td>0.0</td>\n",
       "      <td>1</td>\n",
       "      <td>13</td>\n",
       "      <td>10</td>\n",
       "      <td>1</td>\n",
       "      <td>1</td>\n",
       "      <td>0</td>\n",
       "      <td>0</td>\n",
       "      <td>6</td>\n",
       "      <td>42</td>\n",
       "    </tr>\n",
       "    <tr>\n",
       "      <th>18</th>\n",
       "      <td>2017</td>\n",
       "      <td>3</td>\n",
       "      <td>21</td>\n",
       "      <td>2</td>\n",
       "      <td>2017-03-21 00:00:00</td>\n",
       "      <td>0</td>\n",
       "      <td>1</td>\n",
       "      <td>MA</td>\n",
       "      <td>188</td>\n",
       "      <td>IL</td>\n",
       "      <td>...</td>\n",
       "      <td>0.0</td>\n",
       "      <td>0</td>\n",
       "      <td>12</td>\n",
       "      <td>10</td>\n",
       "      <td>1</td>\n",
       "      <td>1</td>\n",
       "      <td>0</td>\n",
       "      <td>0</td>\n",
       "      <td>6</td>\n",
       "      <td>12</td>\n",
       "    </tr>\n",
       "    <tr>\n",
       "      <th>19</th>\n",
       "      <td>2017</td>\n",
       "      <td>3</td>\n",
       "      <td>21</td>\n",
       "      <td>2</td>\n",
       "      <td>2017-03-21 00:00:00</td>\n",
       "      <td>0</td>\n",
       "      <td>1</td>\n",
       "      <td>MA</td>\n",
       "      <td>188</td>\n",
       "      <td>IL</td>\n",
       "      <td>...</td>\n",
       "      <td>0.0</td>\n",
       "      <td>0</td>\n",
       "      <td>12</td>\n",
       "      <td>10</td>\n",
       "      <td>1</td>\n",
       "      <td>1</td>\n",
       "      <td>0</td>\n",
       "      <td>0</td>\n",
       "      <td>6</td>\n",
       "      <td>12</td>\n",
       "    </tr>\n",
       "    <tr>\n",
       "      <th>20</th>\n",
       "      <td>2017</td>\n",
       "      <td>3</td>\n",
       "      <td>21</td>\n",
       "      <td>2</td>\n",
       "      <td>2017-03-21 00:00:00</td>\n",
       "      <td>0</td>\n",
       "      <td>1</td>\n",
       "      <td>MA</td>\n",
       "      <td>53</td>\n",
       "      <td>NC</td>\n",
       "      <td>...</td>\n",
       "      <td>0.0</td>\n",
       "      <td>0</td>\n",
       "      <td>13</td>\n",
       "      <td>10</td>\n",
       "      <td>1</td>\n",
       "      <td>1</td>\n",
       "      <td>0</td>\n",
       "      <td>0</td>\n",
       "      <td>6</td>\n",
       "      <td>25</td>\n",
       "    </tr>\n",
       "  </tbody>\n",
       "</table>\n",
       "<p>5 rows × 21 columns</p>\n",
       "</div>"
      ],
      "text/plain": [
       "    YEAR  MONTH  DAY_OF_MONTH  DAY_OF_WEEK              FL_DATE  OP_CARRIER  \\\n",
       "16  2017      3            21            2  2017-03-21 00:00:00           0   \n",
       "17  2017      3            21            2  2017-03-21 00:00:00           0   \n",
       "18  2017      3            21            2  2017-03-21 00:00:00           0   \n",
       "19  2017      3            21            2  2017-03-21 00:00:00           0   \n",
       "20  2017      3            21            2  2017-03-21 00:00:00           0   \n",
       "\n",
       "    ORIGIN ORIGIN_STATE_ABR  DEST DEST_STATE_ABR      ...        precip  \\\n",
       "16       1               MA    70             TX      ...           0.0   \n",
       "17       1               MA    70             TX      ...           0.0   \n",
       "18       1               MA   188             IL      ...           0.0   \n",
       "19       1               MA   188             IL      ...           0.0   \n",
       "20       1               MA    53             NC      ...           0.0   \n",
       "\n",
       "    DIST_BINS  ARR_HOUR  DEP_HOUR  NORTH  WEST  WEEKEND  STATUS  \\\n",
       "16          1        13        10      1     1        0       0   \n",
       "17          1        13        10      1     1        0       0   \n",
       "18          0        12        10      1     1        0       0   \n",
       "19          0        12        10      1     1        0       0   \n",
       "20          0        13        10      1     1        0       0   \n",
       "\n",
       "    ORIGIN_SATE_ABR  DEST_SATE_ABR  \n",
       "16                6             42  \n",
       "17                6             42  \n",
       "18                6             12  \n",
       "19                6             12  \n",
       "20                6             25  \n",
       "\n",
       "[5 rows x 21 columns]"
      ]
     },
     "execution_count": 50,
     "metadata": {},
     "output_type": "execute_result"
    }
   ],
   "source": [
    "name.head()"
   ]
  },
  {
   "cell_type": "code",
   "execution_count": null,
   "metadata": {},
   "outputs": [],
   "source": []
  },
  {
   "cell_type": "code",
   "execution_count": 51,
   "metadata": {
    "ExecuteTime": {
     "end_time": "2019-04-23T21:05:30.592893Z",
     "start_time": "2019-04-23T21:05:30.527693Z"
    }
   },
   "outputs": [
    {
     "data": {
      "text/plain": [
       "0    3962714\n",
       "1     730788\n",
       "Name: STATUS, dtype: int64"
      ]
     },
     "execution_count": 51,
     "metadata": {},
     "output_type": "execute_result"
    }
   ],
   "source": [
    "name.STATUS.value_counts()"
   ]
  },
  {
   "cell_type": "code",
   "execution_count": 52,
   "metadata": {
    "ExecuteTime": {
     "end_time": "2019-04-23T21:05:34.846400Z",
     "start_time": "2019-04-23T21:05:34.132455Z"
    }
   },
   "outputs": [],
   "source": [
    "down = name[name.STATUS == 1]\n",
    "up = name[name.STATUS == 0]"
   ]
  },
  {
   "cell_type": "code",
   "execution_count": 53,
   "metadata": {
    "ExecuteTime": {
     "end_time": "2019-04-23T21:05:41.582578Z",
     "start_time": "2019-04-23T21:05:41.456130Z"
    }
   },
   "outputs": [],
   "source": [
    "down = down.OP_CARRIER.count()\n",
    "up = up.OP_CARRIER.count()"
   ]
  },
  {
   "cell_type": "code",
   "execution_count": 54,
   "metadata": {
    "ExecuteTime": {
     "end_time": "2019-04-23T21:05:45.354574Z",
     "start_time": "2019-04-23T21:05:45.344311Z"
    }
   },
   "outputs": [
    {
     "name": "stdout",
     "output_type": "stream",
     "text": [
      "Delay percentage: 0.15570207491122834\n"
     ]
    }
   ],
   "source": [
    "print(f'Delay percentage: {down/(up+down)}')"
   ]
  },
  {
   "cell_type": "code",
   "execution_count": 56,
   "metadata": {
    "ExecuteTime": {
     "end_time": "2019-04-23T21:05:57.961562Z",
     "start_time": "2019-04-23T21:05:57.957828Z"
    }
   },
   "outputs": [],
   "source": [
    "from sklearn.utils import resample"
   ]
  },
  {
   "cell_type": "code",
   "execution_count": 117,
   "metadata": {
    "ExecuteTime": {
     "end_time": "2019-04-22T17:35:50.580965Z",
     "start_time": "2019-04-22T17:35:17.175116Z"
    },
    "scrolled": true
   },
   "outputs": [
    {
     "data": {
      "text/plain": [
       "1    551763\n",
       "0    551763\n",
       "Name: STATUS, dtype: int64"
      ]
     },
     "execution_count": 117,
     "metadata": {},
     "output_type": "execute_result"
    }
   ],
   "source": [
    "'''# Separate majority and minority classes\n",
    "df_majority = name[name.STATUS==0]\n",
    "df_minority = name[name.STATUS==1]\n",
    " \n",
    "# Upsample minority class\n",
    "df_minority_upsampled = resample(df_minority, \n",
    "                                 replace=True,     # sample with replacement\n",
    "                                 n_samples=up,    # to match majority class\n",
    "                                 random_state=42) # reproducible results\n",
    " \n",
    "# Combine majority class with upsampled minority class\n",
    "df_upsampled = pd.concat([df_majority, df_minority_upsampled])\n",
    " \n",
    "# Display new class counts\n",
    "df_upsampled.STATUS.value_counts()'''"
   ]
  },
  {
   "cell_type": "code",
   "execution_count": 57,
   "metadata": {
    "ExecuteTime": {
     "end_time": "2019-04-23T21:06:05.460500Z",
     "start_time": "2019-04-23T21:06:04.061047Z"
    },
    "code_folding": []
   },
   "outputs": [
    {
     "data": {
      "text/plain": [
       "1    730788\n",
       "0    730788\n",
       "Name: STATUS, dtype: int64"
      ]
     },
     "execution_count": 57,
     "metadata": {},
     "output_type": "execute_result"
    }
   ],
   "source": [
    "#let's first separate majority class and minority class and resample\n",
    "\n",
    "df_majority = name[name.STATUS == 0]\n",
    "df_minority = name[name.STATUS == 1]\n",
    "\n",
    "\n",
    "# Downsample majority class\n",
    "df_majority_downsampled = resample(df_majority, \n",
    "                                 replace=False,    # sample without replacement\n",
    "                                 n_samples=down,     # to match minority class\n",
    "                                 random_state=42) # reproducible results\n",
    "# combine the new dataframes\n",
    "df_downsampled = pd.concat([df_majority_downsampled, df_minority])\n",
    "\n",
    "df_downsampled.STATUS.value_counts()"
   ]
  },
  {
   "cell_type": "code",
   "execution_count": 58,
   "metadata": {
    "ExecuteTime": {
     "end_time": "2019-04-23T21:06:14.590622Z",
     "start_time": "2019-04-23T21:06:14.585539Z"
    }
   },
   "outputs": [],
   "source": [
    "name = df_downsampled"
   ]
  },
  {
   "cell_type": "code",
   "execution_count": 59,
   "metadata": {
    "ExecuteTime": {
     "end_time": "2019-04-23T21:06:20.678380Z",
     "start_time": "2019-04-23T21:06:20.673248Z"
    }
   },
   "outputs": [],
   "source": [
    "from sklearn.preprocessing import OneHotEncoder, LabelEncoder"
   ]
  },
  {
   "cell_type": "markdown",
   "metadata": {},
   "source": [
    "### LabelEncoder"
   ]
  },
  {
   "cell_type": "code",
   "execution_count": 60,
   "metadata": {
    "ExecuteTime": {
     "end_time": "2019-04-23T21:06:27.701246Z",
     "start_time": "2019-04-23T21:06:26.872946Z"
    }
   },
   "outputs": [],
   "source": [
    "le = LabelEncoder()\n",
    "name['OP_CARRIER'] = le.fit_transform(name.OP_CARRIER.values)\n",
    "name['ORIGIN'] = le.fit_transform(name.ORIGIN.values)\n",
    "name['DEST'] = le.fit_transform(name.DEST.values)\n",
    "name['NORTH'] = le.fit_transform(name.NORTH.values)\n",
    "name['WEST'] = le.fit_transform(name.WEST.values)\n",
    "name['ORIGIN_SATE_ABR'] = le.fit_transform(name.ORIGIN_STATE_ABR.values)\n",
    "name['DEST_SATE_ABR'] = le.fit_transform(name.DEST_STATE_ABR.values)"
   ]
  },
  {
   "cell_type": "code",
   "execution_count": null,
   "metadata": {},
   "outputs": [],
   "source": []
  },
  {
   "cell_type": "code",
   "execution_count": null,
   "metadata": {},
   "outputs": [],
   "source": []
  },
  {
   "cell_type": "markdown",
   "metadata": {},
   "source": [
    "# Random Forrest"
   ]
  },
  {
   "cell_type": "markdown",
   "metadata": {},
   "source": [
    "Original run is on the entire 2017 dataset, with no feature engineering, only encoding departure and arrival hour blocks: Accuracy=82.5% AUC=0.738 with n_estimators=100."
   ]
  },
  {
   "cell_type": "markdown",
   "metadata": {},
   "source": [
    "Features to add: Seperater the data by month, log_distance, direction of flight (S to N & E to W), cluster regions of origin, cluster regions of arrival (West, South, Midwest, East), upsample or downsample to remove imbalance. "
   ]
  },
  {
   "cell_type": "code",
   "execution_count": 61,
   "metadata": {
    "ExecuteTime": {
     "end_time": "2019-04-23T21:06:33.917450Z",
     "start_time": "2019-04-23T21:06:33.908389Z"
    },
    "scrolled": false
   },
   "outputs": [
    {
     "data": {
      "text/plain": [
       "Index(['YEAR', 'MONTH', 'DAY_OF_MONTH', 'DAY_OF_WEEK', 'FL_DATE', 'OP_CARRIER',\n",
       "       'ORIGIN', 'ORIGIN_STATE_ABR', 'DEST', 'DEST_STATE_ABR', 'ARR_DELAY',\n",
       "       'precip', 'DIST_BINS', 'ARR_HOUR', 'DEP_HOUR', 'NORTH', 'WEST',\n",
       "       'WEEKEND', 'STATUS', 'ORIGIN_SATE_ABR', 'DEST_SATE_ABR'],\n",
       "      dtype='object')"
      ]
     },
     "execution_count": 61,
     "metadata": {},
     "output_type": "execute_result"
    }
   ],
   "source": [
    "name.columns"
   ]
  },
  {
   "cell_type": "code",
   "execution_count": 62,
   "metadata": {
    "ExecuteTime": {
     "end_time": "2019-04-23T21:06:39.938239Z",
     "start_time": "2019-04-23T21:06:39.918916Z"
    },
    "scrolled": true
   },
   "outputs": [
    {
     "data": {
      "text/html": [
       "<div>\n",
       "<style scoped>\n",
       "    .dataframe tbody tr th:only-of-type {\n",
       "        vertical-align: middle;\n",
       "    }\n",
       "\n",
       "    .dataframe tbody tr th {\n",
       "        vertical-align: top;\n",
       "    }\n",
       "\n",
       "    .dataframe thead th {\n",
       "        text-align: right;\n",
       "    }\n",
       "</style>\n",
       "<table border=\"1\" class=\"dataframe\">\n",
       "  <thead>\n",
       "    <tr style=\"text-align: right;\">\n",
       "      <th></th>\n",
       "      <th>YEAR</th>\n",
       "      <th>MONTH</th>\n",
       "      <th>DAY_OF_MONTH</th>\n",
       "      <th>DAY_OF_WEEK</th>\n",
       "      <th>FL_DATE</th>\n",
       "      <th>OP_CARRIER</th>\n",
       "      <th>ORIGIN</th>\n",
       "      <th>ORIGIN_STATE_ABR</th>\n",
       "      <th>DEST</th>\n",
       "      <th>DEST_STATE_ABR</th>\n",
       "      <th>...</th>\n",
       "      <th>precip</th>\n",
       "      <th>DIST_BINS</th>\n",
       "      <th>ARR_HOUR</th>\n",
       "      <th>DEP_HOUR</th>\n",
       "      <th>NORTH</th>\n",
       "      <th>WEST</th>\n",
       "      <th>WEEKEND</th>\n",
       "      <th>STATUS</th>\n",
       "      <th>ORIGIN_SATE_ABR</th>\n",
       "      <th>DEST_SATE_ABR</th>\n",
       "    </tr>\n",
       "  </thead>\n",
       "  <tbody>\n",
       "    <tr>\n",
       "      <th>5946087</th>\n",
       "      <td>2017</td>\n",
       "      <td>2</td>\n",
       "      <td>12</td>\n",
       "      <td>7</td>\n",
       "      <td>2017-02-12 00:00:00</td>\n",
       "      <td>0</td>\n",
       "      <td>1</td>\n",
       "      <td>MA</td>\n",
       "      <td>68</td>\n",
       "      <td>VA</td>\n",
       "      <td>...</td>\n",
       "      <td>0.04</td>\n",
       "      <td>0</td>\n",
       "      <td>22</td>\n",
       "      <td>21</td>\n",
       "      <td>1</td>\n",
       "      <td>1</td>\n",
       "      <td>1</td>\n",
       "      <td>0</td>\n",
       "      <td>6</td>\n",
       "      <td>44</td>\n",
       "    </tr>\n",
       "    <tr>\n",
       "      <th>5676726</th>\n",
       "      <td>2017</td>\n",
       "      <td>2</td>\n",
       "      <td>21</td>\n",
       "      <td>2</td>\n",
       "      <td>2017-02-21 00:00:00</td>\n",
       "      <td>3</td>\n",
       "      <td>11</td>\n",
       "      <td>CA</td>\n",
       "      <td>184</td>\n",
       "      <td>HI</td>\n",
       "      <td>...</td>\n",
       "      <td>0.00</td>\n",
       "      <td>1</td>\n",
       "      <td>21</td>\n",
       "      <td>17</td>\n",
       "      <td>1</td>\n",
       "      <td>1</td>\n",
       "      <td>0</td>\n",
       "      <td>0</td>\n",
       "      <td>1</td>\n",
       "      <td>9</td>\n",
       "    </tr>\n",
       "    <tr>\n",
       "      <th>735777</th>\n",
       "      <td>2017</td>\n",
       "      <td>4</td>\n",
       "      <td>19</td>\n",
       "      <td>3</td>\n",
       "      <td>2017-04-19 00:00:00</td>\n",
       "      <td>0</td>\n",
       "      <td>3</td>\n",
       "      <td>NC</td>\n",
       "      <td>195</td>\n",
       "      <td>PA</td>\n",
       "      <td>...</td>\n",
       "      <td>0.02</td>\n",
       "      <td>0</td>\n",
       "      <td>13</td>\n",
       "      <td>11</td>\n",
       "      <td>0</td>\n",
       "      <td>0</td>\n",
       "      <td>0</td>\n",
       "      <td>0</td>\n",
       "      <td>10</td>\n",
       "      <td>36</td>\n",
       "    </tr>\n",
       "    <tr>\n",
       "      <th>4557854</th>\n",
       "      <td>2017</td>\n",
       "      <td>11</td>\n",
       "      <td>23</td>\n",
       "      <td>4</td>\n",
       "      <td>2017-11-23 00:00:00</td>\n",
       "      <td>1</td>\n",
       "      <td>6</td>\n",
       "      <td>MI</td>\n",
       "      <td>188</td>\n",
       "      <td>IL</td>\n",
       "      <td>...</td>\n",
       "      <td>0.00</td>\n",
       "      <td>2</td>\n",
       "      <td>8</td>\n",
       "      <td>8</td>\n",
       "      <td>1</td>\n",
       "      <td>1</td>\n",
       "      <td>0</td>\n",
       "      <td>0</td>\n",
       "      <td>8</td>\n",
       "      <td>12</td>\n",
       "    </tr>\n",
       "    <tr>\n",
       "      <th>1603035</th>\n",
       "      <td>2017</td>\n",
       "      <td>9</td>\n",
       "      <td>10</td>\n",
       "      <td>7</td>\n",
       "      <td>2017-09-10 00:00:00</td>\n",
       "      <td>0</td>\n",
       "      <td>1</td>\n",
       "      <td>MA</td>\n",
       "      <td>188</td>\n",
       "      <td>IL</td>\n",
       "      <td>...</td>\n",
       "      <td>0.00</td>\n",
       "      <td>0</td>\n",
       "      <td>10</td>\n",
       "      <td>9</td>\n",
       "      <td>1</td>\n",
       "      <td>1</td>\n",
       "      <td>1</td>\n",
       "      <td>0</td>\n",
       "      <td>6</td>\n",
       "      <td>12</td>\n",
       "    </tr>\n",
       "  </tbody>\n",
       "</table>\n",
       "<p>5 rows × 21 columns</p>\n",
       "</div>"
      ],
      "text/plain": [
       "         YEAR  MONTH  DAY_OF_MONTH  DAY_OF_WEEK              FL_DATE  \\\n",
       "5946087  2017      2            12            7  2017-02-12 00:00:00   \n",
       "5676726  2017      2            21            2  2017-02-21 00:00:00   \n",
       "735777   2017      4            19            3  2017-04-19 00:00:00   \n",
       "4557854  2017     11            23            4  2017-11-23 00:00:00   \n",
       "1603035  2017      9            10            7  2017-09-10 00:00:00   \n",
       "\n",
       "         OP_CARRIER  ORIGIN ORIGIN_STATE_ABR  DEST DEST_STATE_ABR  \\\n",
       "5946087           0       1               MA    68             VA   \n",
       "5676726           3      11               CA   184             HI   \n",
       "735777            0       3               NC   195             PA   \n",
       "4557854           1       6               MI   188             IL   \n",
       "1603035           0       1               MA   188             IL   \n",
       "\n",
       "             ...        precip  DIST_BINS  ARR_HOUR  DEP_HOUR  NORTH  WEST  \\\n",
       "5946087      ...          0.04          0        22        21      1     1   \n",
       "5676726      ...          0.00          1        21        17      1     1   \n",
       "735777       ...          0.02          0        13        11      0     0   \n",
       "4557854      ...          0.00          2         8         8      1     1   \n",
       "1603035      ...          0.00          0        10         9      1     1   \n",
       "\n",
       "         WEEKEND  STATUS  ORIGIN_SATE_ABR  DEST_SATE_ABR  \n",
       "5946087        1       0                6             44  \n",
       "5676726        0       0                1              9  \n",
       "735777         0       0               10             36  \n",
       "4557854        0       0                8             12  \n",
       "1603035        1       0                6             12  \n",
       "\n",
       "[5 rows x 21 columns]"
      ]
     },
     "execution_count": 62,
     "metadata": {},
     "output_type": "execute_result"
    }
   ],
   "source": [
    "name.head()"
   ]
  },
  {
   "cell_type": "code",
   "execution_count": 63,
   "metadata": {
    "ExecuteTime": {
     "end_time": "2019-04-23T21:06:46.788466Z",
     "start_time": "2019-04-23T21:06:46.332375Z"
    }
   },
   "outputs": [],
   "source": [
    "#initial run\n",
    "rand = name.drop(columns=['YEAR', 'FL_DATE', 'ARR_DELAY',\n",
    "                         'ORIGIN_STATE_ABR', 'DEST_STATE_ABR'])"
   ]
  },
  {
   "cell_type": "code",
   "execution_count": 64,
   "metadata": {
    "ExecuteTime": {
     "end_time": "2019-04-23T21:06:52.251256Z",
     "start_time": "2019-04-23T21:06:52.246833Z"
    }
   },
   "outputs": [],
   "source": [
    "#rand = name.drop(columns=['ARR_DELAY', 'DISTANCE', 'CRS_DEP_TIME', 'CRS_ARR_TIME', 'MONTH', 'LOG_DIST',\n",
    "#                         'ORIGIN_LOC', 'DEST_LOC', 'DIRECTION'])"
   ]
  },
  {
   "cell_type": "code",
   "execution_count": 65,
   "metadata": {
    "ExecuteTime": {
     "end_time": "2019-04-23T21:06:58.473415Z",
     "start_time": "2019-04-23T21:06:58.447393Z"
    }
   },
   "outputs": [
    {
     "data": {
      "text/plain": [
       "1    730788\n",
       "0    730788\n",
       "Name: STATUS, dtype: int64"
      ]
     },
     "execution_count": 65,
     "metadata": {},
     "output_type": "execute_result"
    }
   ],
   "source": [
    "rand.STATUS.value_counts()"
   ]
  },
  {
   "cell_type": "code",
   "execution_count": 66,
   "metadata": {
    "ExecuteTime": {
     "end_time": "2019-04-23T21:07:04.294227Z",
     "start_time": "2019-04-23T21:07:04.279438Z"
    },
    "scrolled": true
   },
   "outputs": [
    {
     "data": {
      "text/html": [
       "<div>\n",
       "<style scoped>\n",
       "    .dataframe tbody tr th:only-of-type {\n",
       "        vertical-align: middle;\n",
       "    }\n",
       "\n",
       "    .dataframe tbody tr th {\n",
       "        vertical-align: top;\n",
       "    }\n",
       "\n",
       "    .dataframe thead th {\n",
       "        text-align: right;\n",
       "    }\n",
       "</style>\n",
       "<table border=\"1\" class=\"dataframe\">\n",
       "  <thead>\n",
       "    <tr style=\"text-align: right;\">\n",
       "      <th></th>\n",
       "      <th>MONTH</th>\n",
       "      <th>DAY_OF_MONTH</th>\n",
       "      <th>DAY_OF_WEEK</th>\n",
       "      <th>OP_CARRIER</th>\n",
       "      <th>ORIGIN</th>\n",
       "      <th>DEST</th>\n",
       "      <th>precip</th>\n",
       "      <th>DIST_BINS</th>\n",
       "      <th>ARR_HOUR</th>\n",
       "      <th>DEP_HOUR</th>\n",
       "      <th>NORTH</th>\n",
       "      <th>WEST</th>\n",
       "      <th>WEEKEND</th>\n",
       "      <th>STATUS</th>\n",
       "      <th>ORIGIN_SATE_ABR</th>\n",
       "      <th>DEST_SATE_ABR</th>\n",
       "    </tr>\n",
       "  </thead>\n",
       "  <tbody>\n",
       "    <tr>\n",
       "      <th>5946087</th>\n",
       "      <td>2</td>\n",
       "      <td>12</td>\n",
       "      <td>7</td>\n",
       "      <td>0</td>\n",
       "      <td>1</td>\n",
       "      <td>68</td>\n",
       "      <td>0.04</td>\n",
       "      <td>0</td>\n",
       "      <td>22</td>\n",
       "      <td>21</td>\n",
       "      <td>1</td>\n",
       "      <td>1</td>\n",
       "      <td>1</td>\n",
       "      <td>0</td>\n",
       "      <td>6</td>\n",
       "      <td>44</td>\n",
       "    </tr>\n",
       "    <tr>\n",
       "      <th>5676726</th>\n",
       "      <td>2</td>\n",
       "      <td>21</td>\n",
       "      <td>2</td>\n",
       "      <td>3</td>\n",
       "      <td>11</td>\n",
       "      <td>184</td>\n",
       "      <td>0.00</td>\n",
       "      <td>1</td>\n",
       "      <td>21</td>\n",
       "      <td>17</td>\n",
       "      <td>1</td>\n",
       "      <td>1</td>\n",
       "      <td>0</td>\n",
       "      <td>0</td>\n",
       "      <td>1</td>\n",
       "      <td>9</td>\n",
       "    </tr>\n",
       "    <tr>\n",
       "      <th>735777</th>\n",
       "      <td>4</td>\n",
       "      <td>19</td>\n",
       "      <td>3</td>\n",
       "      <td>0</td>\n",
       "      <td>3</td>\n",
       "      <td>195</td>\n",
       "      <td>0.02</td>\n",
       "      <td>0</td>\n",
       "      <td>13</td>\n",
       "      <td>11</td>\n",
       "      <td>0</td>\n",
       "      <td>0</td>\n",
       "      <td>0</td>\n",
       "      <td>0</td>\n",
       "      <td>10</td>\n",
       "      <td>36</td>\n",
       "    </tr>\n",
       "    <tr>\n",
       "      <th>4557854</th>\n",
       "      <td>11</td>\n",
       "      <td>23</td>\n",
       "      <td>4</td>\n",
       "      <td>1</td>\n",
       "      <td>6</td>\n",
       "      <td>188</td>\n",
       "      <td>0.00</td>\n",
       "      <td>2</td>\n",
       "      <td>8</td>\n",
       "      <td>8</td>\n",
       "      <td>1</td>\n",
       "      <td>1</td>\n",
       "      <td>0</td>\n",
       "      <td>0</td>\n",
       "      <td>8</td>\n",
       "      <td>12</td>\n",
       "    </tr>\n",
       "    <tr>\n",
       "      <th>1603035</th>\n",
       "      <td>9</td>\n",
       "      <td>10</td>\n",
       "      <td>7</td>\n",
       "      <td>0</td>\n",
       "      <td>1</td>\n",
       "      <td>188</td>\n",
       "      <td>0.00</td>\n",
       "      <td>0</td>\n",
       "      <td>10</td>\n",
       "      <td>9</td>\n",
       "      <td>1</td>\n",
       "      <td>1</td>\n",
       "      <td>1</td>\n",
       "      <td>0</td>\n",
       "      <td>6</td>\n",
       "      <td>12</td>\n",
       "    </tr>\n",
       "  </tbody>\n",
       "</table>\n",
       "</div>"
      ],
      "text/plain": [
       "         MONTH  DAY_OF_MONTH  DAY_OF_WEEK  OP_CARRIER  ORIGIN  DEST  precip  \\\n",
       "5946087      2            12            7           0       1    68    0.04   \n",
       "5676726      2            21            2           3      11   184    0.00   \n",
       "735777       4            19            3           0       3   195    0.02   \n",
       "4557854     11            23            4           1       6   188    0.00   \n",
       "1603035      9            10            7           0       1   188    0.00   \n",
       "\n",
       "         DIST_BINS  ARR_HOUR  DEP_HOUR  NORTH  WEST  WEEKEND  STATUS  \\\n",
       "5946087          0        22        21      1     1        1       0   \n",
       "5676726          1        21        17      1     1        0       0   \n",
       "735777           0        13        11      0     0        0       0   \n",
       "4557854          2         8         8      1     1        0       0   \n",
       "1603035          0        10         9      1     1        1       0   \n",
       "\n",
       "         ORIGIN_SATE_ABR  DEST_SATE_ABR  \n",
       "5946087                6             44  \n",
       "5676726                1              9  \n",
       "735777                10             36  \n",
       "4557854                8             12  \n",
       "1603035                6             12  "
      ]
     },
     "execution_count": 66,
     "metadata": {},
     "output_type": "execute_result"
    }
   ],
   "source": [
    "rand.head()"
   ]
  },
  {
   "cell_type": "code",
   "execution_count": 67,
   "metadata": {
    "ExecuteTime": {
     "end_time": "2019-04-23T21:07:09.838866Z",
     "start_time": "2019-04-23T21:07:09.650484Z"
    }
   },
   "outputs": [],
   "source": [
    "rand = rand.fillna(0)"
   ]
  },
  {
   "cell_type": "code",
   "execution_count": 68,
   "metadata": {
    "ExecuteTime": {
     "end_time": "2019-04-23T21:07:15.459856Z",
     "start_time": "2019-04-23T21:07:15.137115Z"
    }
   },
   "outputs": [],
   "source": [
    "y = rand.STATUS.values\n",
    "X = rand.drop(columns='STATUS').values"
   ]
  },
  {
   "cell_type": "code",
   "execution_count": 70,
   "metadata": {
    "ExecuteTime": {
     "end_time": "2019-04-23T21:07:26.118542Z",
     "start_time": "2019-04-23T21:07:26.001497Z"
    }
   },
   "outputs": [],
   "source": [
    "cols = rand.drop(columns='STATUS').columns"
   ]
  },
  {
   "cell_type": "code",
   "execution_count": 71,
   "metadata": {
    "ExecuteTime": {
     "end_time": "2019-04-23T21:07:32.839710Z",
     "start_time": "2019-04-23T21:07:32.124464Z"
    }
   },
   "outputs": [],
   "source": [
    "from sklearn.model_selection import train_test_split\n",
    "X_train, X_test, y_train, y_test = train_test_split(X, y, test_size = 0.2, random_state=42)"
   ]
  },
  {
   "cell_type": "code",
   "execution_count": 72,
   "metadata": {
    "ExecuteTime": {
     "end_time": "2019-04-23T21:07:39.488219Z",
     "start_time": "2019-04-23T21:07:38.677650Z"
    }
   },
   "outputs": [],
   "source": [
    "# Feature Scaling\n",
    "from sklearn.preprocessing import StandardScaler\n",
    "sc = StandardScaler()\n",
    "X_train = sc.fit_transform(X_train)\n",
    "X_test = sc.transform(X_test)"
   ]
  },
  {
   "cell_type": "code",
   "execution_count": 73,
   "metadata": {
    "ExecuteTime": {
     "end_time": "2019-04-23T21:07:44.633670Z",
     "start_time": "2019-04-23T21:07:44.622529Z"
    }
   },
   "outputs": [],
   "source": [
    "from sklearn.ensemble import RandomForestClassifier\n",
    "\n",
    "#Create a Gaussian Classifier\n",
    "clf_rand=RandomForestClassifier(n_estimators=25)"
   ]
  },
  {
   "cell_type": "code",
   "execution_count": 74,
   "metadata": {
    "ExecuteTime": {
     "end_time": "2019-04-23T21:09:04.085754Z",
     "start_time": "2019-04-23T21:07:49.581905Z"
    },
    "scrolled": true
   },
   "outputs": [
    {
     "data": {
      "text/plain": [
       "RandomForestClassifier(bootstrap=True, class_weight=None, criterion='gini',\n",
       "            max_depth=None, max_features='auto', max_leaf_nodes=None,\n",
       "            min_impurity_decrease=0.0, min_impurity_split=None,\n",
       "            min_samples_leaf=1, min_samples_split=2,\n",
       "            min_weight_fraction_leaf=0.0, n_estimators=25, n_jobs=None,\n",
       "            oob_score=False, random_state=None, verbose=0,\n",
       "            warm_start=False)"
      ]
     },
     "execution_count": 74,
     "metadata": {},
     "output_type": "execute_result"
    }
   ],
   "source": [
    "#Train the model using the training sets y_pred=clf.predict(X_test)\n",
    "clf_rand.fit(X_train,y_train)"
   ]
  },
  {
   "cell_type": "code",
   "execution_count": 75,
   "metadata": {
    "ExecuteTime": {
     "end_time": "2019-04-23T21:09:25.079461Z",
     "start_time": "2019-04-23T21:09:19.680515Z"
    }
   },
   "outputs": [],
   "source": [
    "y_pred = clf_rand.predict(X_test)"
   ]
  },
  {
   "cell_type": "code",
   "execution_count": 76,
   "metadata": {
    "ExecuteTime": {
     "end_time": "2019-04-23T21:09:31.422590Z",
     "start_time": "2019-04-23T21:09:31.354380Z"
    }
   },
   "outputs": [
    {
     "name": "stdout",
     "output_type": "stream",
     "text": [
      "Accuracy: 0.8509455520737832\n"
     ]
    }
   ],
   "source": [
    "# Model Accuracy, how often is the classifier correct?\n",
    "from sklearn import metrics\n",
    "print(\"Accuracy:\",metrics.accuracy_score(y_test, y_pred))"
   ]
  },
  {
   "cell_type": "code",
   "execution_count": 77,
   "metadata": {
    "ExecuteTime": {
     "end_time": "2019-04-23T21:09:37.311224Z",
     "start_time": "2019-04-23T21:09:37.059321Z"
    }
   },
   "outputs": [
    {
     "data": {
      "text/plain": [
       "array([[114503,  31280],\n",
       "       [ 12291, 134242]])"
      ]
     },
     "execution_count": 77,
     "metadata": {},
     "output_type": "execute_result"
    }
   ],
   "source": [
    "# Making the Confusion Matrix\n",
    "from sklearn.metrics import confusion_matrix\n",
    "cm = confusion_matrix(y_test, y_pred)\n",
    "cm"
   ]
  },
  {
   "cell_type": "code",
   "execution_count": 78,
   "metadata": {
    "ExecuteTime": {
     "end_time": "2019-04-23T21:09:46.589976Z",
     "start_time": "2019-04-23T21:09:46.586421Z"
    }
   },
   "outputs": [],
   "source": [
    "from sklearn.metrics import f1_score"
   ]
  },
  {
   "cell_type": "code",
   "execution_count": 79,
   "metadata": {
    "ExecuteTime": {
     "end_time": "2019-04-23T21:09:52.123282Z",
     "start_time": "2019-04-23T21:09:52.037648Z"
    }
   },
   "outputs": [
    {
     "data": {
      "text/plain": [
       "0.8502887238154415"
      ]
     },
     "execution_count": 79,
     "metadata": {},
     "output_type": "execute_result"
    }
   ],
   "source": [
    "f1_score(y_test, y_pred, average='weighted')"
   ]
  },
  {
   "cell_type": "code",
   "execution_count": 80,
   "metadata": {
    "ExecuteTime": {
     "end_time": "2019-04-23T21:09:58.484654Z",
     "start_time": "2019-04-23T21:09:57.346350Z"
    }
   },
   "outputs": [
    {
     "data": {
      "text/plain": [
       "DAY_OF_MONTH       0.233493\n",
       "MONTH              0.129792\n",
       "DEST               0.106708\n",
       "DAY_OF_WEEK        0.095943\n",
       "DEP_HOUR           0.085438\n",
       "ARR_HOUR           0.080954\n",
       "DEST_SATE_ABR      0.068856\n",
       "ORIGIN             0.042167\n",
       "ORIGIN_SATE_ABR    0.039273\n",
       "OP_CARRIER         0.036329\n",
       "precip             0.025721\n",
       "DIST_BINS          0.018357\n",
       "NORTH              0.015171\n",
       "WEST               0.013478\n",
       "WEEKEND            0.008323\n",
       "dtype: float64"
      ]
     },
     "execution_count": 80,
     "metadata": {},
     "output_type": "execute_result"
    }
   ],
   "source": [
    "#find important features\n",
    "feature_imp = pd.Series(clf_rand.feature_importances_,index=cols).sort_values(ascending=False)\n",
    "feature_imp"
   ]
  },
  {
   "cell_type": "code",
   "execution_count": 81,
   "metadata": {
    "ExecuteTime": {
     "end_time": "2019-04-23T21:10:08.524695Z",
     "start_time": "2019-04-23T21:10:04.302479Z"
    }
   },
   "outputs": [],
   "source": [
    "y_prob = clf_rand.predict_proba(X_test)[::,1]"
   ]
  },
  {
   "cell_type": "code",
   "execution_count": 82,
   "metadata": {
    "ExecuteTime": {
     "end_time": "2019-04-23T21:10:15.734531Z",
     "start_time": "2019-04-23T21:10:15.727277Z"
    },
    "scrolled": true
   },
   "outputs": [
    {
     "data": {
      "text/plain": [
       "array([0.12, 0.88, 0.8 , ..., 0.36, 0.92, 1.  ])"
      ]
     },
     "execution_count": 82,
     "metadata": {},
     "output_type": "execute_result"
    }
   ],
   "source": [
    "y_prob"
   ]
  },
  {
   "cell_type": "code",
   "execution_count": 83,
   "metadata": {
    "ExecuteTime": {
     "end_time": "2019-04-23T21:10:21.587443Z",
     "start_time": "2019-04-23T21:10:21.578941Z"
    }
   },
   "outputs": [],
   "source": [
    "import matplotlib.pyplot as plt\n",
    "import matplotlib\n",
    "matplotlib.rcParams['figure.figsize'] = (10, 10)"
   ]
  },
  {
   "cell_type": "code",
   "execution_count": 84,
   "metadata": {
    "ExecuteTime": {
     "end_time": "2019-04-23T21:10:27.165876Z",
     "start_time": "2019-04-23T21:10:26.760363Z"
    }
   },
   "outputs": [
    {
     "data": {
      "image/png": "[encoded data removed]",
      "text/plain": [
       "<Figure size 720x720 with 1 Axes>"
      ]
     },
     "metadata": {
      "needs_background": "light"
     },
     "output_type": "display_data"
    }
   ],
   "source": [
    "y_pred_proba = y_prob\n",
    "fpr, tpr, _ = metrics.roc_curve(y_test,  y_pred_proba)\n",
    "auc = metrics.roc_auc_score(y_test, y_pred_proba)\n",
    "plt.plot(fpr,tpr,label=\"data 1, auc=\"+str(auc))\n",
    "plt.legend(loc=4)\n",
    "plt.title('ROC Curve')\n",
    "plt.show()"
   ]
  },
  {
   "cell_type": "code",
   "execution_count": 85,
   "metadata": {
    "ExecuteTime": {
     "end_time": "2019-04-23T21:11:54.761333Z",
     "start_time": "2019-04-23T21:11:54.748853Z"
    }
   },
   "outputs": [
    {
     "data": {
      "text/html": [
       "<div>\n",
       "<style scoped>\n",
       "    .dataframe tbody tr th:only-of-type {\n",
       "        vertical-align: middle;\n",
       "    }\n",
       "\n",
       "    .dataframe tbody tr th {\n",
       "        vertical-align: top;\n",
       "    }\n",
       "\n",
       "    .dataframe thead th {\n",
       "        text-align: right;\n",
       "    }\n",
       "</style>\n",
       "<table border=\"1\" class=\"dataframe\">\n",
       "  <thead>\n",
       "    <tr style=\"text-align: right;\">\n",
       "      <th></th>\n",
       "      <th>MONTH</th>\n",
       "      <th>DAY_OF_MONTH</th>\n",
       "      <th>DAY_OF_WEEK</th>\n",
       "      <th>OP_CARRIER</th>\n",
       "      <th>ORIGIN</th>\n",
       "      <th>DEST</th>\n",
       "      <th>precip</th>\n",
       "      <th>DIST_BINS</th>\n",
       "      <th>ARR_HOUR</th>\n",
       "      <th>DEP_HOUR</th>\n",
       "      <th>NORTH</th>\n",
       "      <th>WEST</th>\n",
       "      <th>WEEKEND</th>\n",
       "      <th>STATUS</th>\n",
       "      <th>ORIGIN_SATE_ABR</th>\n",
       "      <th>DEST_SATE_ABR</th>\n",
       "    </tr>\n",
       "  </thead>\n",
       "  <tbody>\n",
       "    <tr>\n",
       "      <th>5946087</th>\n",
       "      <td>2</td>\n",
       "      <td>12</td>\n",
       "      <td>7</td>\n",
       "      <td>0</td>\n",
       "      <td>1</td>\n",
       "      <td>68</td>\n",
       "      <td>0.04</td>\n",
       "      <td>0</td>\n",
       "      <td>22</td>\n",
       "      <td>21</td>\n",
       "      <td>1</td>\n",
       "      <td>1</td>\n",
       "      <td>1</td>\n",
       "      <td>0</td>\n",
       "      <td>6</td>\n",
       "      <td>44</td>\n",
       "    </tr>\n",
       "    <tr>\n",
       "      <th>5676726</th>\n",
       "      <td>2</td>\n",
       "      <td>21</td>\n",
       "      <td>2</td>\n",
       "      <td>3</td>\n",
       "      <td>11</td>\n",
       "      <td>184</td>\n",
       "      <td>0.00</td>\n",
       "      <td>1</td>\n",
       "      <td>21</td>\n",
       "      <td>17</td>\n",
       "      <td>1</td>\n",
       "      <td>1</td>\n",
       "      <td>0</td>\n",
       "      <td>0</td>\n",
       "      <td>1</td>\n",
       "      <td>9</td>\n",
       "    </tr>\n",
       "    <tr>\n",
       "      <th>735777</th>\n",
       "      <td>4</td>\n",
       "      <td>19</td>\n",
       "      <td>3</td>\n",
       "      <td>0</td>\n",
       "      <td>3</td>\n",
       "      <td>195</td>\n",
       "      <td>0.02</td>\n",
       "      <td>0</td>\n",
       "      <td>13</td>\n",
       "      <td>11</td>\n",
       "      <td>0</td>\n",
       "      <td>0</td>\n",
       "      <td>0</td>\n",
       "      <td>0</td>\n",
       "      <td>10</td>\n",
       "      <td>36</td>\n",
       "    </tr>\n",
       "    <tr>\n",
       "      <th>4557854</th>\n",
       "      <td>11</td>\n",
       "      <td>23</td>\n",
       "      <td>4</td>\n",
       "      <td>1</td>\n",
       "      <td>6</td>\n",
       "      <td>188</td>\n",
       "      <td>0.00</td>\n",
       "      <td>2</td>\n",
       "      <td>8</td>\n",
       "      <td>8</td>\n",
       "      <td>1</td>\n",
       "      <td>1</td>\n",
       "      <td>0</td>\n",
       "      <td>0</td>\n",
       "      <td>8</td>\n",
       "      <td>12</td>\n",
       "    </tr>\n",
       "    <tr>\n",
       "      <th>1603035</th>\n",
       "      <td>9</td>\n",
       "      <td>10</td>\n",
       "      <td>7</td>\n",
       "      <td>0</td>\n",
       "      <td>1</td>\n",
       "      <td>188</td>\n",
       "      <td>0.00</td>\n",
       "      <td>0</td>\n",
       "      <td>10</td>\n",
       "      <td>9</td>\n",
       "      <td>1</td>\n",
       "      <td>1</td>\n",
       "      <td>1</td>\n",
       "      <td>0</td>\n",
       "      <td>6</td>\n",
       "      <td>12</td>\n",
       "    </tr>\n",
       "  </tbody>\n",
       "</table>\n",
       "</div>"
      ],
      "text/plain": [
       "         MONTH  DAY_OF_MONTH  DAY_OF_WEEK  OP_CARRIER  ORIGIN  DEST  precip  \\\n",
       "5946087      2            12            7           0       1    68    0.04   \n",
       "5676726      2            21            2           3      11   184    0.00   \n",
       "735777       4            19            3           0       3   195    0.02   \n",
       "4557854     11            23            4           1       6   188    0.00   \n",
       "1603035      9            10            7           0       1   188    0.00   \n",
       "\n",
       "         DIST_BINS  ARR_HOUR  DEP_HOUR  NORTH  WEST  WEEKEND  STATUS  \\\n",
       "5946087          0        22        21      1     1        1       0   \n",
       "5676726          1        21        17      1     1        0       0   \n",
       "735777           0        13        11      0     0        0       0   \n",
       "4557854          2         8         8      1     1        0       0   \n",
       "1603035          0        10         9      1     1        1       0   \n",
       "\n",
       "         ORIGIN_SATE_ABR  DEST_SATE_ABR  \n",
       "5946087                6             44  \n",
       "5676726                1              9  \n",
       "735777                10             36  \n",
       "4557854                8             12  \n",
       "1603035                6             12  "
      ]
     },
     "execution_count": 85,
     "metadata": {},
     "output_type": "execute_result"
    }
   ],
   "source": [
    "rand.head()"
   ]
  },
  {
   "cell_type": "code",
   "execution_count": 88,
   "metadata": {
    "ExecuteTime": {
     "end_time": "2019-04-23T21:15:12.585763Z",
     "start_time": "2019-04-23T21:15:11.628406Z"
    }
   },
   "outputs": [
    {
     "data": {
      "image/png": "[encoded data removed]",
      "text/plain": [
       "<Figure size 720x720 with 2 Axes>"
      ]
     },
     "metadata": {
      "needs_background": "light"
     },
     "output_type": "display_data"
    }
   ],
   "source": [
    "corr_matrix = rand.corr()\n",
    "sns.heatmap(corr_matrix)\n",
    "plt.show()"
   ]
  },
  {
   "cell_type": "code",
   "execution_count": null,
   "metadata": {},
   "outputs": [],
   "source": []
  },
  {
   "cell_type": "code",
   "execution_count": null,
   "metadata": {},
   "outputs": [],
   "source": []
  },
  {
   "cell_type": "markdown",
   "metadata": {},
   "source": [
    "### OneHotEncoder"
   ]
  },
  {
   "cell_type": "code",
   "execution_count": 117,
   "metadata": {
    "ExecuteTime": {
     "end_time": "2019-04-22T21:46:25.688972Z",
     "start_time": "2019-04-22T21:46:25.683100Z"
    }
   },
   "outputs": [],
   "source": [
    "objects = ['OP_CARRIER', 'ORIGIN', 'DEST']\n",
    "dates = ['DAY_OF_MONTH', 'DAY_OF_WEEK']\n",
    "hours = ['ARR_HOUR', 'DEP_HOUR']\n",
    "dist = ['DIST_BINS', 'NORTH', 'WEST']"
   ]
  },
  {
   "cell_type": "code",
   "execution_count": 118,
   "metadata": {
    "ExecuteTime": {
     "end_time": "2019-04-22T21:46:31.234037Z",
     "start_time": "2019-04-22T21:46:26.641468Z"
    },
    "scrolled": true
   },
   "outputs": [],
   "source": [
    "enc = OneHotEncoder(handle_unknown='ignore')\n",
    "dates_matrix = enc.fit_transform(name[dates].values)\n",
    "objects_matrix = enc.fit_transform(name[objects].values)\n",
    "hour_matrix = enc.fit_transform(name[hours].values)\n",
    "dist_matrix = enc.fit_transform(name[dist].values)"
   ]
  },
  {
   "cell_type": "code",
   "execution_count": 119,
   "metadata": {
    "ExecuteTime": {
     "end_time": "2019-04-22T21:46:33.989728Z",
     "start_time": "2019-04-22T21:46:33.978400Z"
    },
    "scrolled": false
   },
   "outputs": [
    {
     "name": "stdout",
     "output_type": "stream",
     "text": [
      "Size is: 49.377696 MB\n",
      "Size is: 74.066544 MB\n",
      "Size is: 49.377696 MB\n",
      "Size is: 74.066544 MB\n"
     ]
    }
   ],
   "source": [
    "print(f'Size is: {dates_matrix.data.nbytes / 1000000} MB')\n",
    "print(f'Size is: {objects_matrix.data.nbytes / 1000000} MB')\n",
    "print(f'Size is: {hour_matrix.data.nbytes / 1000000} MB')\n",
    "print(f'Size is: {dist_matrix.data.nbytes / 1000000} MB')"
   ]
  },
  {
   "cell_type": "code",
   "execution_count": 120,
   "metadata": {
    "ExecuteTime": {
     "end_time": "2019-04-22T21:46:37.086890Z",
     "start_time": "2019-04-22T21:46:35.630576Z"
    }
   },
   "outputs": [],
   "source": [
    "from scipy.sparse import hstack\n",
    "X_final = hstack((dates_matrix, objects_matrix, hour_matrix, dist_matrix))\n",
    "X_final_lr = hstack((dates_matrix, objects_matrix, hour_matrix))"
   ]
  },
  {
   "cell_type": "code",
   "execution_count": 121,
   "metadata": {
    "ExecuteTime": {
     "end_time": "2019-04-22T21:46:38.503632Z",
     "start_time": "2019-04-22T21:46:38.495910Z"
    }
   },
   "outputs": [
    {
     "name": "stdout",
     "output_type": "stream",
     "text": [
      "Size is: 246.88848 MB\n"
     ]
    }
   ],
   "source": [
    "print(f'Size is: {X_final.data.nbytes / 1000000} MB')"
   ]
  },
  {
   "cell_type": "markdown",
   "metadata": {},
   "source": [
    "## Linear Regression"
   ]
  },
  {
   "cell_type": "code",
   "execution_count": 839,
   "metadata": {},
   "outputs": [],
   "source": [
    "y = name.ARR_DELAY\n",
    "y_r = y.values\n",
    "y_r = y_r.reshape(-1,1)"
   ]
  },
  {
   "cell_type": "code",
   "execution_count": 840,
   "metadata": {},
   "outputs": [],
   "source": [
    "X_r = X_final_lr"
   ]
  },
  {
   "cell_type": "code",
   "execution_count": 841,
   "metadata": {},
   "outputs": [],
   "source": [
    "from sklearn.linear_model import LinearRegression\n",
    "from sklearn.metrics import mean_squared_error\n",
    "from sklearn.model_selection import train_test_split"
   ]
  },
  {
   "cell_type": "code",
   "execution_count": 842,
   "metadata": {},
   "outputs": [],
   "source": [
    "X_train, X_test, y_train, y_test = train_test_split(X_r, y_r, test_size = 0.2, random_state=42)"
   ]
  },
  {
   "cell_type": "code",
   "execution_count": 843,
   "metadata": {},
   "outputs": [
    {
     "data": {
      "text/plain": [
       "LinearRegression(copy_X=True, fit_intercept=True, n_jobs=None,\n",
       "         normalize=False)"
      ]
     },
     "execution_count": 843,
     "metadata": {},
     "output_type": "execute_result"
    }
   ],
   "source": [
    "reg_all = LinearRegression()\n",
    "reg_all.fit(X_train, y_train)"
   ]
  },
  {
   "cell_type": "code",
   "execution_count": 844,
   "metadata": {},
   "outputs": [],
   "source": [
    "y_pred = reg_all.predict(X_test)"
   ]
  },
  {
   "cell_type": "code",
   "execution_count": 845,
   "metadata": {},
   "outputs": [
    {
     "name": "stdout",
     "output_type": "stream",
     "text": [
      "R^2: 0.06370262450381714\n",
      "Root Mean Squared Error: 44.138071867203784\n"
     ]
    }
   ],
   "source": [
    "print(\"R^2: {}\".format(reg_all.score(X_test, y_test)))\n",
    "rmse = np.sqrt(mean_squared_error(y_test, y_pred))\n",
    "print(\"Root Mean Squared Error: {}\".format(rmse))"
   ]
  },
  {
   "cell_type": "markdown",
   "metadata": {},
   "source": [
    "This looks like a pretty bad model. Let's see why..."
   ]
  },
  {
   "cell_type": "code",
   "execution_count": 846,
   "metadata": {},
   "outputs": [],
   "source": [
    "import matplotlib.pyplot as plt\n",
    "import matplotlib\n",
    "matplotlib.rcParams['figure.figsize'] = (14, 8)"
   ]
  },
  {
   "cell_type": "code",
   "execution_count": 847,
   "metadata": {},
   "outputs": [
    {
     "data": {
      "text/plain": [
       "(4, 7)"
      ]
     },
     "execution_count": 847,
     "metadata": {},
     "output_type": "execute_result"
    },
    {
     "data": {
      "image/png": "[encoded data removed]",
      "text/plain": [
       "<Figure size 1008x576 with 1 Axes>"
      ]
     },
     "metadata": {
      "needs_background": "light"
     },
     "output_type": "display_data"
    }
   ],
   "source": [
    "plt.scatter(y_pred, y_test, alpha=0.03)\n",
    "plt.xlabel('Predicted')\n",
    "plt.ylabel('Acutal')\n",
    "plt.ylim(4,7)"
   ]
  },
  {
   "cell_type": "markdown",
   "metadata": {},
   "source": [
    "   # Using Cross Validation"
   ]
  },
  {
   "cell_type": "code",
   "execution_count": 188,
   "metadata": {},
   "outputs": [],
   "source": [
    "from sklearn.model_selection import cross_val_score"
   ]
  },
  {
   "cell_type": "code",
   "execution_count": 189,
   "metadata": {
    "scrolled": true
   },
   "outputs": [
    {
     "name": "stdout",
     "output_type": "stream",
     "text": [
      "[0.09811053 0.11849466 0.08445649 0.06708186 0.10895339]\n"
     ]
    }
   ],
   "source": [
    "cv_scores = cross_val_score(reg_all, X_final, y_final, cv=5)\n",
    "print(cv_scores)"
   ]
  },
  {
   "cell_type": "code",
   "execution_count": null,
   "metadata": {},
   "outputs": [],
   "source": []
  },
  {
   "cell_type": "code",
   "execution_count": null,
   "metadata": {},
   "outputs": [],
   "source": []
  },
  {
   "cell_type": "markdown",
   "metadata": {},
   "source": [
    "Other possible models:"
   ]
  },
  {
   "cell_type": "markdown",
   "metadata": {},
   "source": [
    "# SGD Regressor"
   ]
  },
  {
   "cell_type": "code",
   "execution_count": null,
   "metadata": {},
   "outputs": [],
   "source": []
  },
  {
   "cell_type": "code",
   "execution_count": null,
   "metadata": {},
   "outputs": [],
   "source": []
  },
  {
   "cell_type": "markdown",
   "metadata": {},
   "source": [
    "# SGD Classifier - Will the flight be delayed or not, and probability"
   ]
  },
  {
   "cell_type": "code",
   "execution_count": null,
   "metadata": {},
   "outputs": [],
   "source": []
  },
  {
   "cell_type": "code",
   "execution_count": null,
   "metadata": {},
   "outputs": [],
   "source": []
  },
  {
   "cell_type": "markdown",
   "metadata": {},
   "source": [
    "# Logistic Regression - Will the flight be delayed or not, and probability"
   ]
  },
  {
   "cell_type": "code",
   "execution_count": 113,
   "metadata": {
    "ExecuteTime": {
     "end_time": "2019-04-22T21:45:54.189219Z",
     "start_time": "2019-04-22T21:45:54.043500Z"
    },
    "scrolled": true
   },
   "outputs": [
    {
     "data": {
      "text/html": [
       "<div>\n",
       "<style scoped>\n",
       "    .dataframe tbody tr th:only-of-type {\n",
       "        vertical-align: middle;\n",
       "    }\n",
       "\n",
       "    .dataframe tbody tr th {\n",
       "        vertical-align: top;\n",
       "    }\n",
       "\n",
       "    .dataframe thead th {\n",
       "        text-align: right;\n",
       "    }\n",
       "</style>\n",
       "<table border=\"1\" class=\"dataframe\">\n",
       "  <thead>\n",
       "    <tr style=\"text-align: right;\">\n",
       "      <th></th>\n",
       "      <th>MONTH</th>\n",
       "      <th>DAY_OF_MONTH</th>\n",
       "      <th>DAY_OF_WEEK</th>\n",
       "      <th>OP_CARRIER</th>\n",
       "      <th>ORIGIN</th>\n",
       "      <th>DEST</th>\n",
       "      <th>DISTANCE</th>\n",
       "      <th>CRS_DEP_TIME</th>\n",
       "      <th>CRS_ARR_TIME</th>\n",
       "      <th>ARR_DELAY</th>\n",
       "      <th>LOG_DIST</th>\n",
       "      <th>DIST_BINS</th>\n",
       "      <th>ARR_HOUR</th>\n",
       "      <th>DEP_HOUR</th>\n",
       "      <th>ORIGIN_LOC</th>\n",
       "      <th>DEST_LOC</th>\n",
       "      <th>DIRECTION</th>\n",
       "      <th>NORTH</th>\n",
       "      <th>WEST</th>\n",
       "      <th>STATUS</th>\n",
       "    </tr>\n",
       "  </thead>\n",
       "  <tbody>\n",
       "    <tr>\n",
       "      <th>0</th>\n",
       "      <td>3</td>\n",
       "      <td>21</td>\n",
       "      <td>2</td>\n",
       "      <td>2</td>\n",
       "      <td>1</td>\n",
       "      <td>75</td>\n",
       "      <td>399.0</td>\n",
       "      <td>1015</td>\n",
       "      <td>1151</td>\n",
       "      <td>3.0</td>\n",
       "      <td>5.988961</td>\n",
       "      <td>0</td>\n",
       "      <td>11</td>\n",
       "      <td>10</td>\n",
       "      <td>[42.3631, 71.0064]</td>\n",
       "      <td>[38.8522, 77.0378]</td>\n",
       "      <td>[3.5108999999999995, -6.031400000000005]</td>\n",
       "      <td>1</td>\n",
       "      <td>1</td>\n",
       "      <td>0</td>\n",
       "    </tr>\n",
       "    <tr>\n",
       "      <th>2</th>\n",
       "      <td>3</td>\n",
       "      <td>21</td>\n",
       "      <td>2</td>\n",
       "      <td>2</td>\n",
       "      <td>1</td>\n",
       "      <td>133</td>\n",
       "      <td>413.0</td>\n",
       "      <td>1215</td>\n",
       "      <td>1352</td>\n",
       "      <td>-14.0</td>\n",
       "      <td>6.023448</td>\n",
       "      <td>0</td>\n",
       "      <td>13</td>\n",
       "      <td>12</td>\n",
       "      <td>[42.3631, 71.0064]</td>\n",
       "      <td>[38.9475, 77.46]</td>\n",
       "      <td>[3.415600000000005, -6.4535999999999945]</td>\n",
       "      <td>1</td>\n",
       "      <td>1</td>\n",
       "      <td>0</td>\n",
       "    </tr>\n",
       "    <tr>\n",
       "      <th>3</th>\n",
       "      <td>3</td>\n",
       "      <td>21</td>\n",
       "      <td>2</td>\n",
       "      <td>2</td>\n",
       "      <td>1</td>\n",
       "      <td>220</td>\n",
       "      <td>280.0</td>\n",
       "      <td>804</td>\n",
       "      <td>936</td>\n",
       "      <td>-11.0</td>\n",
       "      <td>5.634790</td>\n",
       "      <td>0</td>\n",
       "      <td>9</td>\n",
       "      <td>8</td>\n",
       "      <td>[42.3631, 71.0064]</td>\n",
       "      <td>[39.8722, 75.2408]</td>\n",
       "      <td>[2.4909000000000034, -4.234399999999994]</td>\n",
       "      <td>1</td>\n",
       "      <td>1</td>\n",
       "      <td>0</td>\n",
       "    </tr>\n",
       "    <tr>\n",
       "      <th>5</th>\n",
       "      <td>3</td>\n",
       "      <td>21</td>\n",
       "      <td>2</td>\n",
       "      <td>2</td>\n",
       "      <td>12</td>\n",
       "      <td>216</td>\n",
       "      <td>1035.0</td>\n",
       "      <td>730</td>\n",
       "      <td>1032</td>\n",
       "      <td>-32.0</td>\n",
       "      <td>6.942157</td>\n",
       "      <td>1</td>\n",
       "      <td>10</td>\n",
       "      <td>7</td>\n",
       "      <td>[40.7772, 73.8725]</td>\n",
       "      <td>[26.6832, 80.0956]</td>\n",
       "      <td>[14.094000000000001, -6.223100000000002]</td>\n",
       "      <td>1</td>\n",
       "      <td>1</td>\n",
       "      <td>0</td>\n",
       "    </tr>\n",
       "    <tr>\n",
       "      <th>7</th>\n",
       "      <td>3</td>\n",
       "      <td>21</td>\n",
       "      <td>2</td>\n",
       "      <td>2</td>\n",
       "      <td>1</td>\n",
       "      <td>246</td>\n",
       "      <td>1249.0</td>\n",
       "      <td>600</td>\n",
       "      <td>933</td>\n",
       "      <td>-16.0</td>\n",
       "      <td>7.130099</td>\n",
       "      <td>1</td>\n",
       "      <td>9</td>\n",
       "      <td>6</td>\n",
       "      <td>[42.3631, 71.0064]</td>\n",
       "      <td>[26.5362, 81.7553]</td>\n",
       "      <td>[15.826900000000002, -10.748900000000006]</td>\n",
       "      <td>1</td>\n",
       "      <td>1</td>\n",
       "      <td>0</td>\n",
       "    </tr>\n",
       "  </tbody>\n",
       "</table>\n",
       "</div>"
      ],
      "text/plain": [
       "   MONTH  DAY_OF_MONTH  DAY_OF_WEEK  OP_CARRIER  ORIGIN  DEST  DISTANCE  \\\n",
       "0      3            21            2           2       1    75     399.0   \n",
       "2      3            21            2           2       1   133     413.0   \n",
       "3      3            21            2           2       1   220     280.0   \n",
       "5      3            21            2           2      12   216    1035.0   \n",
       "7      3            21            2           2       1   246    1249.0   \n",
       "\n",
       "   CRS_DEP_TIME  CRS_ARR_TIME  ARR_DELAY  LOG_DIST  DIST_BINS  ARR_HOUR  \\\n",
       "0          1015          1151        3.0  5.988961          0        11   \n",
       "2          1215          1352      -14.0  6.023448          0        13   \n",
       "3           804           936      -11.0  5.634790          0         9   \n",
       "5           730          1032      -32.0  6.942157          1        10   \n",
       "7           600           933      -16.0  7.130099          1         9   \n",
       "\n",
       "   DEP_HOUR          ORIGIN_LOC            DEST_LOC  \\\n",
       "0        10  [42.3631, 71.0064]  [38.8522, 77.0378]   \n",
       "2        12  [42.3631, 71.0064]    [38.9475, 77.46]   \n",
       "3         8  [42.3631, 71.0064]  [39.8722, 75.2408]   \n",
       "5         7  [40.7772, 73.8725]  [26.6832, 80.0956]   \n",
       "7         6  [42.3631, 71.0064]  [26.5362, 81.7553]   \n",
       "\n",
       "                                   DIRECTION  NORTH  WEST  STATUS  \n",
       "0   [3.5108999999999995, -6.031400000000005]      1     1       0  \n",
       "2   [3.415600000000005, -6.4535999999999945]      1     1       0  \n",
       "3   [2.4909000000000034, -4.234399999999994]      1     1       0  \n",
       "5   [14.094000000000001, -6.223100000000002]      1     1       0  \n",
       "7  [15.826900000000002, -10.748900000000006]      1     1       0  "
      ]
     },
     "execution_count": 113,
     "metadata": {},
     "output_type": "execute_result"
    }
   ],
   "source": [
    "name.head()"
   ]
  },
  {
   "cell_type": "code",
   "execution_count": 114,
   "metadata": {
    "ExecuteTime": {
     "end_time": "2019-04-22T21:45:59.121782Z",
     "start_time": "2019-04-22T21:45:58.560699Z"
    }
   },
   "outputs": [],
   "source": [
    "from sklearn.model_selection import train_test_split\n",
    "from sklearn.linear_model import LogisticRegression\n",
    "from sklearn.metrics import accuracy_score"
   ]
  },
  {
   "cell_type": "code",
   "execution_count": 115,
   "metadata": {
    "ExecuteTime": {
     "end_time": "2019-04-22T21:46:04.561896Z",
     "start_time": "2019-04-22T21:46:04.394237Z"
    }
   },
   "outputs": [
    {
     "data": {
      "text/plain": [
       "STATUS\n",
       "0    2581012\n",
       "1     505094\n",
       "dtype: int64"
      ]
     },
     "execution_count": 115,
     "metadata": {},
     "output_type": "execute_result"
    }
   ],
   "source": [
    "name.groupby('STATUS').size()"
   ]
  },
  {
   "cell_type": "code",
   "execution_count": 116,
   "metadata": {
    "ExecuteTime": {
     "end_time": "2019-04-22T21:46:07.216773Z",
     "start_time": "2019-04-22T21:46:07.211853Z"
    }
   },
   "outputs": [],
   "source": [
    "y=name.STATUS.values"
   ]
  },
  {
   "cell_type": "code",
   "execution_count": 122,
   "metadata": {
    "ExecuteTime": {
     "end_time": "2019-04-22T21:46:44.971233Z",
     "start_time": "2019-04-22T21:46:44.961282Z"
    }
   },
   "outputs": [],
   "source": [
    "X=X_final"
   ]
  },
  {
   "cell_type": "code",
   "execution_count": 123,
   "metadata": {
    "ExecuteTime": {
     "end_time": "2019-04-22T21:46:48.976284Z",
     "start_time": "2019-04-22T21:46:46.268479Z"
    }
   },
   "outputs": [],
   "source": [
    "Xlr, Xtestlr, ylr, ytestlr = train_test_split(X, y, test_size=0.3, random_state=5)"
   ]
  },
  {
   "cell_type": "code",
   "execution_count": 124,
   "metadata": {
    "ExecuteTime": {
     "end_time": "2019-04-22T21:46:50.917840Z",
     "start_time": "2019-04-22T21:46:50.912052Z"
    }
   },
   "outputs": [],
   "source": [
    "clf = LogisticRegression(solver='liblinear')"
   ]
  },
  {
   "cell_type": "code",
   "execution_count": 125,
   "metadata": {
    "ExecuteTime": {
     "end_time": "2019-04-22T21:48:13.446242Z",
     "start_time": "2019-04-22T21:46:52.658736Z"
    }
   },
   "outputs": [
    {
     "data": {
      "text/plain": [
       "LogisticRegression(C=1.0, class_weight=None, dual=False, fit_intercept=True,\n",
       "          intercept_scaling=1, max_iter=100, multi_class='warn',\n",
       "          n_jobs=None, penalty='l2', random_state=None, solver='liblinear',\n",
       "          tol=0.0001, verbose=0, warm_start=False)"
      ]
     },
     "execution_count": 125,
     "metadata": {},
     "output_type": "execute_result"
    }
   ],
   "source": [
    "clf.fit(Xlr, ylr)"
   ]
  },
  {
   "cell_type": "code",
   "execution_count": 126,
   "metadata": {
    "ExecuteTime": {
     "end_time": "2019-04-22T21:48:47.657892Z",
     "start_time": "2019-04-22T21:48:47.596004Z"
    }
   },
   "outputs": [],
   "source": [
    "y_pred = clf.predict(Xtestlr)"
   ]
  },
  {
   "cell_type": "code",
   "execution_count": 127,
   "metadata": {
    "ExecuteTime": {
     "end_time": "2019-04-22T21:48:49.631718Z",
     "start_time": "2019-04-22T21:48:49.533164Z"
    },
    "scrolled": false
   },
   "outputs": [
    {
     "name": "stdout",
     "output_type": "stream",
     "text": [
      "0.8362564698563022\n"
     ]
    }
   ],
   "source": [
    "print(accuracy_score(y_pred, ytestlr))"
   ]
  },
  {
   "cell_type": "code",
   "execution_count": 819,
   "metadata": {},
   "outputs": [],
   "source": [
    "from sklearn.model_selection import KFold\n",
    "\n",
    "def cv_score(clf, x, y, score_func=accuracy_score):\n",
    "    result = 0\n",
    "    nfold = 5\n",
    "    for train, test in KFold(nfold).split(x): # split data into train/test groups, 5 times\n",
    "        clf.fit(x[train], y[train]) # fit\n",
    "        result += score_func(clf.predict(x[test]), y[test]) # evaluate score function on held-out data\n",
    "    return result / nfold # average"
   ]
  },
  {
   "cell_type": "code",
   "execution_count": 820,
   "metadata": {},
   "outputs": [
    {
     "name": "stdout",
     "output_type": "stream",
     "text": [
      "0.7974916138441207\n"
     ]
    }
   ],
   "source": [
    "clf = LogisticRegression(solver='liblinear')\n",
    "score = cv_score(clf, Xlr, ylr)\n",
    "print(score)"
   ]
  },
  {
   "cell_type": "code",
   "execution_count": 128,
   "metadata": {
    "ExecuteTime": {
     "end_time": "2019-04-22T21:48:55.056924Z",
     "start_time": "2019-04-22T21:48:54.391607Z"
    }
   },
   "outputs": [
    {
     "data": {
      "text/plain": [
       "array([[773893,    309],\n",
       "       [151290,    340]])"
      ]
     },
     "execution_count": 128,
     "metadata": {},
     "output_type": "execute_result"
    }
   ],
   "source": [
    "from sklearn import metrics\n",
    "cnf_matrix = metrics.confusion_matrix(ytestlr, y_pred)\n",
    "cnf_matrix"
   ]
  },
  {
   "cell_type": "code",
   "execution_count": 129,
   "metadata": {
    "ExecuteTime": {
     "end_time": "2019-04-22T21:48:59.858392Z",
     "start_time": "2019-04-22T21:48:59.366821Z"
    }
   },
   "outputs": [
    {
     "name": "stdout",
     "output_type": "stream",
     "text": [
      "Accuracy: 0.8362564698563022\n",
      "Precision: 0.5238828967642527\n",
      "Recall: 0.0022423003363450504\n"
     ]
    }
   ],
   "source": [
    "print(\"Accuracy:\",metrics.accuracy_score(ytestlr, clf.predict(Xtestlr)))\n",
    "print(\"Precision:\",metrics.precision_score(ytestlr, clf.predict(Xtestlr)))\n",
    "print(\"Recall:\",metrics.recall_score(ytestlr, clf.predict(Xtestlr)))"
   ]
  },
  {
   "cell_type": "code",
   "execution_count": 130,
   "metadata": {
    "ExecuteTime": {
     "end_time": "2019-04-22T21:49:01.608183Z",
     "start_time": "2019-04-22T21:49:01.598579Z"
    }
   },
   "outputs": [],
   "source": [
    "import matplotlib.pyplot as plt\n",
    "import matplotlib\n",
    "matplotlib.rcParams['figure.figsize'] = (10, 10)"
   ]
  },
  {
   "cell_type": "code",
   "execution_count": 131,
   "metadata": {
    "ExecuteTime": {
     "end_time": "2019-04-22T21:49:04.561076Z",
     "start_time": "2019-04-22T21:49:03.265947Z"
    },
    "scrolled": false
   },
   "outputs": [
    {
     "data": {
      "image/png": "[encoded data removed]",
      "text/plain": [
       "<Figure size 720x720 with 1 Axes>"
      ]
     },
     "metadata": {
      "needs_background": "light"
     },
     "output_type": "display_data"
    }
   ],
   "source": [
    "y_pred_proba = clf.predict_proba(Xtestlr)[::,1]\n",
    "fpr, tpr, _ = metrics.roc_curve(ytestlr,  y_pred_proba)\n",
    "auc = metrics.roc_auc_score(ytestlr, y_pred_proba)\n",
    "plt.plot(fpr,tpr,label=\"data 1, auc=\"+str(auc))\n",
    "plt.legend(loc=4)\n",
    "plt.show()"
   ]
  },
  {
   "cell_type": "markdown",
   "metadata": {},
   "source": [
    "# Naive Bayes"
   ]
  },
  {
   "cell_type": "code",
   "execution_count": 292,
   "metadata": {
    "ExecuteTime": {
     "end_time": "2019-04-23T20:12:28.125242Z",
     "start_time": "2019-04-23T20:12:28.120176Z"
    },
    "scrolled": false
   },
   "outputs": [
    {
     "data": {
      "text/plain": [
       "Index(['YEAR', 'MONTH', 'DAY_OF_MONTH', 'DAY_OF_WEEK', 'FL_DATE', 'OP_CARRIER',\n",
       "       'ORIGIN', 'ORIGIN_STATE_ABR', 'DEST', 'DEST_STATE_ABR', 'ARR_DELAY',\n",
       "       'precip', 'DIST_BINS', 'ARR_HOUR', 'DEP_HOUR', 'NORTH', 'WEST',\n",
       "       'WEEKEND', 'STATUS', 'ORIGIN_SATE_ABR', 'DEST_SATE_ABR'],\n",
       "      dtype='object')"
      ]
     },
     "execution_count": 292,
     "metadata": {},
     "output_type": "execute_result"
    }
   ],
   "source": [
    "name.columns"
   ]
  },
  {
   "cell_type": "code",
   "execution_count": 291,
   "metadata": {
    "ExecuteTime": {
     "end_time": "2019-04-23T20:12:21.155981Z",
     "start_time": "2019-04-23T20:12:21.130063Z"
    },
    "scrolled": false
   },
   "outputs": [
    {
     "data": {
      "text/html": [
       "<div>\n",
       "<style scoped>\n",
       "    .dataframe tbody tr th:only-of-type {\n",
       "        vertical-align: middle;\n",
       "    }\n",
       "\n",
       "    .dataframe tbody tr th {\n",
       "        vertical-align: top;\n",
       "    }\n",
       "\n",
       "    .dataframe thead th {\n",
       "        text-align: right;\n",
       "    }\n",
       "</style>\n",
       "<table border=\"1\" class=\"dataframe\">\n",
       "  <thead>\n",
       "    <tr style=\"text-align: right;\">\n",
       "      <th></th>\n",
       "      <th>YEAR</th>\n",
       "      <th>MONTH</th>\n",
       "      <th>DAY_OF_MONTH</th>\n",
       "      <th>DAY_OF_WEEK</th>\n",
       "      <th>FL_DATE</th>\n",
       "      <th>OP_CARRIER</th>\n",
       "      <th>ORIGIN</th>\n",
       "      <th>ORIGIN_STATE_ABR</th>\n",
       "      <th>DEST</th>\n",
       "      <th>DEST_STATE_ABR</th>\n",
       "      <th>...</th>\n",
       "      <th>precip</th>\n",
       "      <th>DIST_BINS</th>\n",
       "      <th>ARR_HOUR</th>\n",
       "      <th>DEP_HOUR</th>\n",
       "      <th>NORTH</th>\n",
       "      <th>WEST</th>\n",
       "      <th>WEEKEND</th>\n",
       "      <th>STATUS</th>\n",
       "      <th>ORIGIN_SATE_ABR</th>\n",
       "      <th>DEST_SATE_ABR</th>\n",
       "    </tr>\n",
       "  </thead>\n",
       "  <tbody>\n",
       "    <tr>\n",
       "      <th>16</th>\n",
       "      <td>2017</td>\n",
       "      <td>3</td>\n",
       "      <td>21</td>\n",
       "      <td>2</td>\n",
       "      <td>2017-03-21 00:00:00</td>\n",
       "      <td>0</td>\n",
       "      <td>1</td>\n",
       "      <td>MA</td>\n",
       "      <td>70</td>\n",
       "      <td>TX</td>\n",
       "      <td>...</td>\n",
       "      <td>0.0</td>\n",
       "      <td>1</td>\n",
       "      <td>13</td>\n",
       "      <td>10</td>\n",
       "      <td>1</td>\n",
       "      <td>1</td>\n",
       "      <td>0</td>\n",
       "      <td>0</td>\n",
       "      <td>6</td>\n",
       "      <td>42</td>\n",
       "    </tr>\n",
       "    <tr>\n",
       "      <th>17</th>\n",
       "      <td>2017</td>\n",
       "      <td>3</td>\n",
       "      <td>21</td>\n",
       "      <td>2</td>\n",
       "      <td>2017-03-21 00:00:00</td>\n",
       "      <td>0</td>\n",
       "      <td>1</td>\n",
       "      <td>MA</td>\n",
       "      <td>70</td>\n",
       "      <td>TX</td>\n",
       "      <td>...</td>\n",
       "      <td>0.0</td>\n",
       "      <td>1</td>\n",
       "      <td>13</td>\n",
       "      <td>10</td>\n",
       "      <td>1</td>\n",
       "      <td>1</td>\n",
       "      <td>0</td>\n",
       "      <td>0</td>\n",
       "      <td>6</td>\n",
       "      <td>42</td>\n",
       "    </tr>\n",
       "    <tr>\n",
       "      <th>18</th>\n",
       "      <td>2017</td>\n",
       "      <td>3</td>\n",
       "      <td>21</td>\n",
       "      <td>2</td>\n",
       "      <td>2017-03-21 00:00:00</td>\n",
       "      <td>0</td>\n",
       "      <td>1</td>\n",
       "      <td>MA</td>\n",
       "      <td>188</td>\n",
       "      <td>IL</td>\n",
       "      <td>...</td>\n",
       "      <td>0.0</td>\n",
       "      <td>0</td>\n",
       "      <td>12</td>\n",
       "      <td>10</td>\n",
       "      <td>1</td>\n",
       "      <td>1</td>\n",
       "      <td>0</td>\n",
       "      <td>0</td>\n",
       "      <td>6</td>\n",
       "      <td>12</td>\n",
       "    </tr>\n",
       "    <tr>\n",
       "      <th>19</th>\n",
       "      <td>2017</td>\n",
       "      <td>3</td>\n",
       "      <td>21</td>\n",
       "      <td>2</td>\n",
       "      <td>2017-03-21 00:00:00</td>\n",
       "      <td>0</td>\n",
       "      <td>1</td>\n",
       "      <td>MA</td>\n",
       "      <td>188</td>\n",
       "      <td>IL</td>\n",
       "      <td>...</td>\n",
       "      <td>0.0</td>\n",
       "      <td>0</td>\n",
       "      <td>12</td>\n",
       "      <td>10</td>\n",
       "      <td>1</td>\n",
       "      <td>1</td>\n",
       "      <td>0</td>\n",
       "      <td>0</td>\n",
       "      <td>6</td>\n",
       "      <td>12</td>\n",
       "    </tr>\n",
       "    <tr>\n",
       "      <th>20</th>\n",
       "      <td>2017</td>\n",
       "      <td>3</td>\n",
       "      <td>21</td>\n",
       "      <td>2</td>\n",
       "      <td>2017-03-21 00:00:00</td>\n",
       "      <td>0</td>\n",
       "      <td>1</td>\n",
       "      <td>MA</td>\n",
       "      <td>53</td>\n",
       "      <td>NC</td>\n",
       "      <td>...</td>\n",
       "      <td>0.0</td>\n",
       "      <td>0</td>\n",
       "      <td>13</td>\n",
       "      <td>10</td>\n",
       "      <td>1</td>\n",
       "      <td>1</td>\n",
       "      <td>0</td>\n",
       "      <td>0</td>\n",
       "      <td>6</td>\n",
       "      <td>25</td>\n",
       "    </tr>\n",
       "  </tbody>\n",
       "</table>\n",
       "<p>5 rows × 21 columns</p>\n",
       "</div>"
      ],
      "text/plain": [
       "    YEAR  MONTH  DAY_OF_MONTH  DAY_OF_WEEK              FL_DATE  OP_CARRIER  \\\n",
       "16  2017      3            21            2  2017-03-21 00:00:00           0   \n",
       "17  2017      3            21            2  2017-03-21 00:00:00           0   \n",
       "18  2017      3            21            2  2017-03-21 00:00:00           0   \n",
       "19  2017      3            21            2  2017-03-21 00:00:00           0   \n",
       "20  2017      3            21            2  2017-03-21 00:00:00           0   \n",
       "\n",
       "    ORIGIN ORIGIN_STATE_ABR  DEST DEST_STATE_ABR      ...        precip  \\\n",
       "16       1               MA    70             TX      ...           0.0   \n",
       "17       1               MA    70             TX      ...           0.0   \n",
       "18       1               MA   188             IL      ...           0.0   \n",
       "19       1               MA   188             IL      ...           0.0   \n",
       "20       1               MA    53             NC      ...           0.0   \n",
       "\n",
       "    DIST_BINS  ARR_HOUR  DEP_HOUR  NORTH  WEST  WEEKEND  STATUS  \\\n",
       "16          1        13        10      1     1        0       0   \n",
       "17          1        13        10      1     1        0       0   \n",
       "18          0        12        10      1     1        0       0   \n",
       "19          0        12        10      1     1        0       0   \n",
       "20          0        13        10      1     1        0       0   \n",
       "\n",
       "    ORIGIN_SATE_ABR  DEST_SATE_ABR  \n",
       "16                6             42  \n",
       "17                6             42  \n",
       "18                6             12  \n",
       "19                6             12  \n",
       "20                6             25  \n",
       "\n",
       "[5 rows x 21 columns]"
      ]
     },
     "execution_count": 291,
     "metadata": {},
     "output_type": "execute_result"
    }
   ],
   "source": [
    "name.head()"
   ]
  },
  {
   "cell_type": "code",
   "execution_count": null,
   "metadata": {},
   "outputs": [],
   "source": []
  },
  {
   "cell_type": "code",
   "execution_count": 293,
   "metadata": {
    "ExecuteTime": {
     "end_time": "2019-04-23T20:13:54.607601Z",
     "start_time": "2019-04-23T20:13:54.276984Z"
    }
   },
   "outputs": [],
   "source": [
    "bayes = name.drop(columns=['YEAR', 'FL_DATE', 'ARR_DELAY',\n",
    "                         'ORIGIN_STATE_ABR', 'DEST_STATE_ABR'])"
   ]
  },
  {
   "cell_type": "code",
   "execution_count": 294,
   "metadata": {
    "ExecuteTime": {
     "end_time": "2019-04-23T20:14:01.064176Z",
     "start_time": "2019-04-23T20:14:01.052007Z"
    }
   },
   "outputs": [
    {
     "data": {
      "text/html": [
       "<div>\n",
       "<style scoped>\n",
       "    .dataframe tbody tr th:only-of-type {\n",
       "        vertical-align: middle;\n",
       "    }\n",
       "\n",
       "    .dataframe tbody tr th {\n",
       "        vertical-align: top;\n",
       "    }\n",
       "\n",
       "    .dataframe thead th {\n",
       "        text-align: right;\n",
       "    }\n",
       "</style>\n",
       "<table border=\"1\" class=\"dataframe\">\n",
       "  <thead>\n",
       "    <tr style=\"text-align: right;\">\n",
       "      <th></th>\n",
       "      <th>MONTH</th>\n",
       "      <th>DAY_OF_MONTH</th>\n",
       "      <th>DAY_OF_WEEK</th>\n",
       "      <th>OP_CARRIER</th>\n",
       "      <th>ORIGIN</th>\n",
       "      <th>DEST</th>\n",
       "      <th>precip</th>\n",
       "      <th>DIST_BINS</th>\n",
       "      <th>ARR_HOUR</th>\n",
       "      <th>DEP_HOUR</th>\n",
       "      <th>NORTH</th>\n",
       "      <th>WEST</th>\n",
       "      <th>WEEKEND</th>\n",
       "      <th>STATUS</th>\n",
       "      <th>ORIGIN_SATE_ABR</th>\n",
       "      <th>DEST_SATE_ABR</th>\n",
       "    </tr>\n",
       "  </thead>\n",
       "  <tbody>\n",
       "    <tr>\n",
       "      <th>16</th>\n",
       "      <td>3</td>\n",
       "      <td>21</td>\n",
       "      <td>2</td>\n",
       "      <td>0</td>\n",
       "      <td>1</td>\n",
       "      <td>70</td>\n",
       "      <td>0.0</td>\n",
       "      <td>1</td>\n",
       "      <td>13</td>\n",
       "      <td>10</td>\n",
       "      <td>1</td>\n",
       "      <td>1</td>\n",
       "      <td>0</td>\n",
       "      <td>0</td>\n",
       "      <td>6</td>\n",
       "      <td>42</td>\n",
       "    </tr>\n",
       "    <tr>\n",
       "      <th>17</th>\n",
       "      <td>3</td>\n",
       "      <td>21</td>\n",
       "      <td>2</td>\n",
       "      <td>0</td>\n",
       "      <td>1</td>\n",
       "      <td>70</td>\n",
       "      <td>0.0</td>\n",
       "      <td>1</td>\n",
       "      <td>13</td>\n",
       "      <td>10</td>\n",
       "      <td>1</td>\n",
       "      <td>1</td>\n",
       "      <td>0</td>\n",
       "      <td>0</td>\n",
       "      <td>6</td>\n",
       "      <td>42</td>\n",
       "    </tr>\n",
       "    <tr>\n",
       "      <th>18</th>\n",
       "      <td>3</td>\n",
       "      <td>21</td>\n",
       "      <td>2</td>\n",
       "      <td>0</td>\n",
       "      <td>1</td>\n",
       "      <td>188</td>\n",
       "      <td>0.0</td>\n",
       "      <td>0</td>\n",
       "      <td>12</td>\n",
       "      <td>10</td>\n",
       "      <td>1</td>\n",
       "      <td>1</td>\n",
       "      <td>0</td>\n",
       "      <td>0</td>\n",
       "      <td>6</td>\n",
       "      <td>12</td>\n",
       "    </tr>\n",
       "    <tr>\n",
       "      <th>19</th>\n",
       "      <td>3</td>\n",
       "      <td>21</td>\n",
       "      <td>2</td>\n",
       "      <td>0</td>\n",
       "      <td>1</td>\n",
       "      <td>188</td>\n",
       "      <td>0.0</td>\n",
       "      <td>0</td>\n",
       "      <td>12</td>\n",
       "      <td>10</td>\n",
       "      <td>1</td>\n",
       "      <td>1</td>\n",
       "      <td>0</td>\n",
       "      <td>0</td>\n",
       "      <td>6</td>\n",
       "      <td>12</td>\n",
       "    </tr>\n",
       "    <tr>\n",
       "      <th>20</th>\n",
       "      <td>3</td>\n",
       "      <td>21</td>\n",
       "      <td>2</td>\n",
       "      <td>0</td>\n",
       "      <td>1</td>\n",
       "      <td>53</td>\n",
       "      <td>0.0</td>\n",
       "      <td>0</td>\n",
       "      <td>13</td>\n",
       "      <td>10</td>\n",
       "      <td>1</td>\n",
       "      <td>1</td>\n",
       "      <td>0</td>\n",
       "      <td>0</td>\n",
       "      <td>6</td>\n",
       "      <td>25</td>\n",
       "    </tr>\n",
       "  </tbody>\n",
       "</table>\n",
       "</div>"
      ],
      "text/plain": [
       "    MONTH  DAY_OF_MONTH  DAY_OF_WEEK  OP_CARRIER  ORIGIN  DEST  precip  \\\n",
       "16      3            21            2           0       1    70     0.0   \n",
       "17      3            21            2           0       1    70     0.0   \n",
       "18      3            21            2           0       1   188     0.0   \n",
       "19      3            21            2           0       1   188     0.0   \n",
       "20      3            21            2           0       1    53     0.0   \n",
       "\n",
       "    DIST_BINS  ARR_HOUR  DEP_HOUR  NORTH  WEST  WEEKEND  STATUS  \\\n",
       "16          1        13        10      1     1        0       0   \n",
       "17          1        13        10      1     1        0       0   \n",
       "18          0        12        10      1     1        0       0   \n",
       "19          0        12        10      1     1        0       0   \n",
       "20          0        13        10      1     1        0       0   \n",
       "\n",
       "    ORIGIN_SATE_ABR  DEST_SATE_ABR  \n",
       "16                6             42  \n",
       "17                6             42  \n",
       "18                6             12  \n",
       "19                6             12  \n",
       "20                6             25  "
      ]
     },
     "execution_count": 294,
     "metadata": {},
     "output_type": "execute_result"
    }
   ],
   "source": [
    "bayes.head()"
   ]
  },
  {
   "cell_type": "code",
   "execution_count": 295,
   "metadata": {
    "ExecuteTime": {
     "end_time": "2019-04-23T20:14:19.614741Z",
     "start_time": "2019-04-23T20:14:18.934275Z"
    }
   },
   "outputs": [],
   "source": [
    "y = bayes.STATUS.values\n",
    "#X = X_final\n",
    "#X = X.toarray()\n",
    "X = bayes.drop(columns='STATUS').values"
   ]
  },
  {
   "cell_type": "code",
   "execution_count": 296,
   "metadata": {
    "ExecuteTime": {
     "end_time": "2019-04-23T20:14:28.815313Z",
     "start_time": "2019-04-23T20:14:27.037330Z"
    }
   },
   "outputs": [],
   "source": [
    "from sklearn.model_selection import train_test_split\n",
    "X_train, X_test, y_train, y_test = train_test_split(X, y, test_size = 0.2, random_state=42)"
   ]
  },
  {
   "cell_type": "code",
   "execution_count": 297,
   "metadata": {
    "ExecuteTime": {
     "end_time": "2019-04-23T20:14:36.099317Z",
     "start_time": "2019-04-23T20:14:34.348921Z"
    }
   },
   "outputs": [
    {
     "data": {
      "text/plain": [
       "GaussianNB(priors=None, var_smoothing=1e-09)"
      ]
     },
     "execution_count": 297,
     "metadata": {},
     "output_type": "execute_result"
    }
   ],
   "source": [
    "from sklearn.naive_bayes import GaussianNB\n",
    "\n",
    "#Create a Gaussian Classifier\n",
    "gnb = GaussianNB()\n",
    "\n",
    "#Train the model using the training sets\n",
    "gnb.fit(X_train, y_train)"
   ]
  },
  {
   "cell_type": "code",
   "execution_count": 298,
   "metadata": {
    "ExecuteTime": {
     "end_time": "2019-04-23T20:14:42.812825Z",
     "start_time": "2019-04-23T20:14:42.210275Z"
    }
   },
   "outputs": [],
   "source": [
    "#Predict the response for test dataset\n",
    "y_pred = gnb.predict(X_test)"
   ]
  },
  {
   "cell_type": "code",
   "execution_count": 299,
   "metadata": {
    "ExecuteTime": {
     "end_time": "2019-04-23T20:14:48.239557Z",
     "start_time": "2019-04-23T20:14:48.152869Z"
    }
   },
   "outputs": [
    {
     "name": "stdout",
     "output_type": "stream",
     "text": [
      "Accuracy: 0.8412891858003774\n"
     ]
    }
   ],
   "source": [
    "#Import scikit-learn metrics module for accuracy calculation\n",
    "from sklearn import metrics\n",
    "\n",
    "# Model Accuracy, how often is the classifier correct?\n",
    "print(\"Accuracy:\",metrics.accuracy_score(y_test, y_pred))"
   ]
  },
  {
   "cell_type": "code",
   "execution_count": 300,
   "metadata": {
    "ExecuteTime": {
     "end_time": "2019-04-23T20:14:54.518195Z",
     "start_time": "2019-04-23T20:14:53.826361Z"
    }
   },
   "outputs": [
    {
     "data": {
      "text/plain": [
       "array([[783466,   9061],\n",
       "       [139921,   6253]])"
      ]
     },
     "execution_count": 300,
     "metadata": {},
     "output_type": "execute_result"
    }
   ],
   "source": [
    "# Making the Confusion Matrix\n",
    "from sklearn.metrics import confusion_matrix\n",
    "cm = confusion_matrix(y_test, y_pred)\n",
    "cm"
   ]
  },
  {
   "cell_type": "code",
   "execution_count": 301,
   "metadata": {
    "ExecuteTime": {
     "end_time": "2019-04-23T20:15:01.243456Z",
     "start_time": "2019-04-23T20:15:00.850518Z"
    }
   },
   "outputs": [],
   "source": [
    "y_prob = gnb.predict_proba(X_test)[::,1]"
   ]
  },
  {
   "cell_type": "code",
   "execution_count": 302,
   "metadata": {
    "ExecuteTime": {
     "end_time": "2019-04-23T20:15:07.156864Z",
     "start_time": "2019-04-23T20:15:07.151251Z"
    },
    "scrolled": true
   },
   "outputs": [
    {
     "data": {
      "text/plain": [
       "array([0.06247596, 0.04536547, 0.03828639, ..., 0.10773575, 0.01074158,\n",
       "       0.09107639])"
      ]
     },
     "execution_count": 302,
     "metadata": {},
     "output_type": "execute_result"
    }
   ],
   "source": [
    "y_prob"
   ]
  },
  {
   "cell_type": "code",
   "execution_count": 303,
   "metadata": {
    "ExecuteTime": {
     "end_time": "2019-04-23T20:15:13.528215Z",
     "start_time": "2019-04-23T20:15:13.524584Z"
    }
   },
   "outputs": [],
   "source": [
    "import matplotlib.pyplot as plt\n",
    "import matplotlib\n",
    "matplotlib.rcParams['figure.figsize'] = (10, 10)"
   ]
  },
  {
   "cell_type": "code",
   "execution_count": 304,
   "metadata": {
    "ExecuteTime": {
     "end_time": "2019-04-23T20:15:20.055558Z",
     "start_time": "2019-04-23T20:15:19.125583Z"
    }
   },
   "outputs": [
    {
     "data": {
      "image/png": "[encoded data removed]",
      "text/plain": [
       "<Figure size 720x720 with 1 Axes>"
      ]
     },
     "metadata": {
      "needs_background": "light"
     },
     "output_type": "display_data"
    }
   ],
   "source": [
    "y_pred_proba = y_prob\n",
    "fpr, tpr, _ = metrics.roc_curve(y_test,  y_pred_proba)\n",
    "auc = metrics.roc_auc_score(y_test, y_pred_proba)\n",
    "plt.plot(fpr,tpr,label=\"data 1, auc=\"+str(auc))\n",
    "plt.legend(loc=4)\n",
    "plt.show()"
   ]
  },
  {
   "cell_type": "code",
   "execution_count": null,
   "metadata": {},
   "outputs": [],
   "source": []
  }
 ],
 "metadata": {
  "kernelspec": {
   "display_name": "Python 3",
   "language": "python",
   "name": "python3"
  },
  "language_info": {
   "codemirror_mode": {
    "name": "ipython",
    "version": 3
   },
   "file_extension": ".py",
   "mimetype": "text/x-python",
   "name": "python",
   "nbconvert_exporter": "python",
   "pygments_lexer": "ipython3",
   "version": "3.7.1"
  },
  "toc": {
   "base_numbering": 1,
   "nav_menu": {},
   "number_sections": true,
   "sideBar": true,
   "skip_h1_title": false,
   "title_cell": "Table of Contents",
   "title_sidebar": "Contents",
   "toc_cell": false,
   "toc_position": {},
   "toc_section_display": true,
   "toc_window_display": false
  },
  "varInspector": {
   "cols": {
    "lenName": 16,
    "lenType": 16,
    "lenVar": 40
   },
   "kernels_config": {
    "python": {
     "delete_cmd_postfix": "",
     "delete_cmd_prefix": "del ",
     "library": "var_list.py",
     "varRefreshCmd": "print(var_dic_list())"
    },
    "r": {
     "delete_cmd_postfix": ") ",
     "delete_cmd_prefix": "rm(",
     "library": "var_list.r",
     "varRefreshCmd": "cat(var_dic_list()) "
    }
   },
   "types_to_exclude": [
    "module",
    "function",
    "builtin_function_or_method",
    "instance",
    "_Feature"
   ],
   "window_display": false
  }
 },
 "nbformat": 4,
 "nbformat_minor": 2
}
