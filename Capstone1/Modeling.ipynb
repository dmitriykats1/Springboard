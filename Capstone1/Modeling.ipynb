{
 "cells": [
  {
   "cell_type": "markdown",
   "metadata": {
    "toc": true
   },
   "source": [
    "<h1>Table of Contents<span class=\"tocSkip\"></span></h1>\n",
    "<div class=\"toc\"><ul class=\"toc-item\"><li><span><a href=\"#Read-in-csv-file-with-all-features-pre-engineered-(saves-run-time-for-modeling)-then-go-to-section-2.2\" data-toc-modified-id=\"Read-in-csv-file-with-all-features-pre-engineered-(saves-run-time-for-modeling)-then-go-to-section-2.2-1\"><span class=\"toc-item-num\">1&nbsp;&nbsp;</span>Read in csv file with all features pre-engineered (saves run-time for modeling) then go to section 2.2</a></span></li><li><span><a href=\"#Start-with-a-clean-data-set-and-engineer-features-again\" data-toc-modified-id=\"Start-with-a-clean-data-set-and-engineer-features-again-2\"><span class=\"toc-item-num\">2&nbsp;&nbsp;</span>Start with a clean data-set and engineer features again</a></span><ul class=\"toc-item\"><li><span><a href=\"#Feature-Engineering\" data-toc-modified-id=\"Feature-Engineering-2.1\"><span class=\"toc-item-num\">2.1&nbsp;&nbsp;</span>Feature Engineering</a></span><ul class=\"toc-item\"><li><ul class=\"toc-item\"><li><span><a href=\"#Hourly-bins\" data-toc-modified-id=\"Hourly-bins-2.1.0.1\"><span class=\"toc-item-num\">2.1.0.1&nbsp;&nbsp;</span>Hourly bins</a></span></li><li><span><a href=\"#Direction-of-flight-(Choose-the-dominant-direction-of-flight)\" data-toc-modified-id=\"Direction-of-flight-(Choose-the-dominant-direction-of-flight)-2.1.0.2\"><span class=\"toc-item-num\">2.1.0.2&nbsp;&nbsp;</span>Direction of flight (Choose the dominant direction of flight)</a></span></li><li><span><a href=\"#Weather\" data-toc-modified-id=\"Weather-2.1.0.3\"><span class=\"toc-item-num\">2.1.0.3&nbsp;&nbsp;</span>Weather</a></span></li><li><span><a href=\"#Create-a-feature-with-Hourly-Flight-Frequency-at-Origin-(number-of-flights-at-a-givin-airport-during-a-given-hour-block)\" data-toc-modified-id=\"Create-a-feature-with-Hourly-Flight-Frequency-at-Origin-(number-of-flights-at-a-givin-airport-during-a-given-hour-block)-2.1.0.4\"><span class=\"toc-item-num\">2.1.0.4&nbsp;&nbsp;</span>Create a feature with Hourly Flight Frequency at Origin (number of flights at a givin airport during a given hour block)</a></span></li><li><span><a href=\"#Monthly-flight-route-delay-averages-aggregated-by-flight-number-(including-Origin-and-Destination-airports-to-account-for-flight-number-changes)\" data-toc-modified-id=\"Monthly-flight-route-delay-averages-aggregated-by-flight-number-(including-Origin-and-Destination-airports-to-account-for-flight-number-changes)-2.1.0.5\"><span class=\"toc-item-num\">2.1.0.5&nbsp;&nbsp;</span>Monthly flight route delay averages aggregated by flight number (including Origin and Destination airports to account for flight number changes)</a></span></li><li><span><a href=\"#Passenger-Loading-Data\" data-toc-modified-id=\"Passenger-Loading-Data-2.1.0.6\"><span class=\"toc-item-num\">2.1.0.6&nbsp;&nbsp;</span>Passenger Loading Data</a></span></li><li><span><a href=\"#Export-as-a-csv-file-for-easier-modeling-later\" data-toc-modified-id=\"Export-as-a-csv-file-for-easier-modeling-later-2.1.0.7\"><span class=\"toc-item-num\">2.1.0.7&nbsp;&nbsp;</span>Export as a csv file for easier modeling later</a></span></li></ul></li></ul></li><li><span><a href=\"#Adding-final-filters-and-Target-column\" data-toc-modified-id=\"Adding-final-filters-and-Target-column-2.2\"><span class=\"toc-item-num\">2.2&nbsp;&nbsp;</span>Adding final filters and Target column</a></span><ul class=\"toc-item\"><li><ul class=\"toc-item\"><li><span><a href=\"#Pick-top-20-airports-and-top-5-airlines\" data-toc-modified-id=\"Pick-top-20-airports-and-top-5-airlines-2.2.0.1\"><span class=\"toc-item-num\">2.2.0.1&nbsp;&nbsp;</span>Pick top 20 airports and top 5 airlines</a></span></li><li><span><a href=\"#Pick-one-airport\" data-toc-modified-id=\"Pick-one-airport-2.2.0.2\"><span class=\"toc-item-num\">2.2.0.2&nbsp;&nbsp;</span>Pick one airport</a></span></li><li><span><a href=\"#Status-(Delayed-or-Ontime)\" data-toc-modified-id=\"Status-(Delayed-or-Ontime)-2.2.0.3\"><span class=\"toc-item-num\">2.2.0.3&nbsp;&nbsp;</span>Status (Delayed or Ontime)</a></span></li></ul></li></ul></li><li><span><a href=\"#Creating-X-matrix\" data-toc-modified-id=\"Creating-X-matrix-2.3\"><span class=\"toc-item-num\">2.3&nbsp;&nbsp;</span>Creating X matrix</a></span><ul class=\"toc-item\"><li><span><a href=\"#Resampling-(if-required)\" data-toc-modified-id=\"Resampling-(if-required)-2.3.1\"><span class=\"toc-item-num\">2.3.1&nbsp;&nbsp;</span>Resampling (if required)</a></span></li><li><span><a href=\"#LabelEncoder\" data-toc-modified-id=\"LabelEncoder-2.3.2\"><span class=\"toc-item-num\">2.3.2&nbsp;&nbsp;</span>LabelEncoder</a></span></li></ul></li></ul></li><li><span><a href=\"#Random-Forrest-Model\" data-toc-modified-id=\"Random-Forrest-Model-3\"><span class=\"toc-item-num\">3&nbsp;&nbsp;</span>Random Forrest Model</a></span><ul class=\"toc-item\"><li><ul class=\"toc-item\"><li><ul class=\"toc-item\"><li><span><a href=\"#OneHotEncoder\" data-toc-modified-id=\"OneHotEncoder-3.0.0.1\"><span class=\"toc-item-num\">3.0.0.1&nbsp;&nbsp;</span>OneHotEncoder</a></span></li><li><span><a href=\"#Creating-the-feature-matrix\" data-toc-modified-id=\"Creating-the-feature-matrix-3.0.0.2\"><span class=\"toc-item-num\">3.0.0.2&nbsp;&nbsp;</span>Creating the feature matrix</a></span></li></ul></li><li><span><a href=\"#Saving-the-model\" data-toc-modified-id=\"Saving-the-model-3.0.1\"><span class=\"toc-item-num\">3.0.1&nbsp;&nbsp;</span>Saving the model</a></span></li><li><span><a href=\"#Loading-the-model\" data-toc-modified-id=\"Loading-the-model-3.0.2\"><span class=\"toc-item-num\">3.0.2&nbsp;&nbsp;</span>Loading the model</a></span><ul class=\"toc-item\"><li><span><a href=\"#Predict\" data-toc-modified-id=\"Predict-3.0.2.1\"><span class=\"toc-item-num\">3.0.2.1&nbsp;&nbsp;</span>Predict</a></span></li></ul></li><li><span><a href=\"#Extracting-a-single-tree\" data-toc-modified-id=\"Extracting-a-single-tree-3.0.3\"><span class=\"toc-item-num\">3.0.3&nbsp;&nbsp;</span>Extracting a single tree</a></span></li></ul></li></ul></li><li><span><a href=\"#Linear-Regression\" data-toc-modified-id=\"Linear-Regression-4\"><span class=\"toc-item-num\">4&nbsp;&nbsp;</span>Linear Regression</a></span><ul class=\"toc-item\"><li><ul class=\"toc-item\"><li><span><a href=\"#OneHotEncoder-Linear-Regression\" data-toc-modified-id=\"OneHotEncoder-Linear-Regression-4.0.1\"><span class=\"toc-item-num\">4.0.1&nbsp;&nbsp;</span>OneHotEncoder Linear Regression</a></span></li></ul></li><li><span><a href=\"#Using-Cross-Validation\" data-toc-modified-id=\"Using-Cross-Validation-4.1\"><span class=\"toc-item-num\">4.1&nbsp;&nbsp;</span>Using Cross Validation</a></span></li></ul></li><li><span><a href=\"#SGD-Regressor\" data-toc-modified-id=\"SGD-Regressor-5\"><span class=\"toc-item-num\">5&nbsp;&nbsp;</span>SGD Regressor</a></span></li><li><span><a href=\"#SGD-Classifier\" data-toc-modified-id=\"SGD-Classifier-6\"><span class=\"toc-item-num\">6&nbsp;&nbsp;</span>SGD Classifier</a></span></li><li><span><a href=\"#Logistic-Regression\" data-toc-modified-id=\"Logistic-Regression-7\"><span class=\"toc-item-num\">7&nbsp;&nbsp;</span>Logistic Regression</a></span></li><li><span><a href=\"#Naive-Bayes\" data-toc-modified-id=\"Naive-Bayes-8\"><span class=\"toc-item-num\">8&nbsp;&nbsp;</span>Naive Bayes</a></span></li></ul></div>"
   ]
  },
  {
   "cell_type": "code",
   "execution_count": 1,
   "metadata": {
    "ExecuteTime": {
     "end_time": "2019-05-01T18:10:18.290101Z",
     "start_time": "2019-05-01T18:10:16.086353Z"
    }
   },
   "outputs": [],
   "source": [
    "import pandas as pd\n",
    "import numpy as np\n",
    "import glob\n",
    "import os\n",
    "from datetime import datetime\n",
    "import datetime\n",
    "import time\n",
    "import timestring\n",
    "import math\n",
    "import scipy\n",
    "import scipy.sparse\n",
    "import seaborn as sns\n",
    "import matplotlib\n",
    "matplotlib.rcParams['figure.figsize'] = (14, 8)"
   ]
  },
  {
   "cell_type": "code",
   "execution_count": 2,
   "metadata": {
    "ExecuteTime": {
     "end_time": "2019-05-01T18:10:18.307276Z",
     "start_time": "2019-05-01T18:10:18.303573Z"
    }
   },
   "outputs": [],
   "source": [
    "pd.set_option('display.max_rows', 50)\n",
    "pd.set_option('display.max_columns', 200)\n",
    "pd.set_option('display.width', 100)\n",
    "pd.set_option('display.max_info_columns', 200)"
   ]
  },
  {
   "cell_type": "markdown",
   "metadata": {},
   "source": [
    "# Read in csv file with all features pre-engineered (saves run-time for modeling) then go to section 2.2"
   ]
  },
  {
   "cell_type": "code",
   "execution_count": 3,
   "metadata": {
    "ExecuteTime": {
     "end_time": "2019-05-01T18:10:47.991582Z",
     "start_time": "2019-05-01T18:10:29.286459Z"
    }
   },
   "outputs": [],
   "source": [
    "df = pd.read_csv('./Data/2017FeatEng.csv')"
   ]
  },
  {
   "cell_type": "markdown",
   "metadata": {},
   "source": [
    "# Start with a clean data-set and engineer features again"
   ]
  },
  {
   "cell_type": "code",
   "execution_count": 185,
   "metadata": {
    "ExecuteTime": {
     "end_time": "2019-04-24T19:17:14.461801Z",
     "start_time": "2019-04-24T19:16:24.028315Z"
    },
    "code_folding": []
   },
   "outputs": [
    {
     "data": {
      "text/plain": [
       "precip_sum    2605706\n",
       "dtype: int64"
      ]
     },
     "execution_count": 185,
     "metadata": {},
     "output_type": "execute_result"
    }
   ],
   "source": [
    "#import the 2017 Data with weather column included\n",
    "df = pd.read_csv('./Data/2017NEW.csv')\n",
    "\n",
    "#remove rows will null values which is approximately 1.5%\n",
    "null_columns = df.columns[df.isnull().any()]\n",
    "df[null_columns].isnull().sum()"
   ]
  },
  {
   "cell_type": "code",
   "execution_count": 186,
   "metadata": {},
   "outputs": [
    {
     "data": {
      "text/html": [
       "<div>\n",
       "<style scoped>\n",
       "    .dataframe tbody tr th:only-of-type {\n",
       "        vertical-align: middle;\n",
       "    }\n",
       "\n",
       "    .dataframe tbody tr th {\n",
       "        vertical-align: top;\n",
       "    }\n",
       "\n",
       "    .dataframe thead th {\n",
       "        text-align: right;\n",
       "    }\n",
       "</style>\n",
       "<table border=\"1\" class=\"dataframe\">\n",
       "  <thead>\n",
       "    <tr style=\"text-align: right;\">\n",
       "      <th></th>\n",
       "      <th>Quarter</th>\n",
       "      <th>Month</th>\n",
       "      <th>DayofMonth</th>\n",
       "      <th>DayOfWeek</th>\n",
       "      <th>FlightDate</th>\n",
       "      <th>Reporting_Airline</th>\n",
       "      <th>Tail_Number</th>\n",
       "      <th>Flight_Number_Reporting_Airline</th>\n",
       "      <th>Origin</th>\n",
       "      <th>OriginState</th>\n",
       "      <th>DestState</th>\n",
       "      <th>Dest</th>\n",
       "      <th>CRSDepTime</th>\n",
       "      <th>CRSArrTime</th>\n",
       "      <th>CRSElapsedTime</th>\n",
       "      <th>ArrDelay</th>\n",
       "      <th>Distance</th>\n",
       "      <th>DistanceGroup</th>\n",
       "      <th>FL_TIME</th>\n",
       "      <th>FL_TIME_NEW</th>\n",
       "      <th>combined</th>\n",
       "      <th>precip_sum</th>\n",
       "    </tr>\n",
       "  </thead>\n",
       "  <tbody>\n",
       "    <tr>\n",
       "      <th>0</th>\n",
       "      <td>2</td>\n",
       "      <td>5</td>\n",
       "      <td>6</td>\n",
       "      <td>6</td>\n",
       "      <td>2017-05-06 00:00:00</td>\n",
       "      <td>WN</td>\n",
       "      <td>N7824A</td>\n",
       "      <td>4652</td>\n",
       "      <td>SJC</td>\n",
       "      <td>CA</td>\n",
       "      <td>CA</td>\n",
       "      <td>SAN</td>\n",
       "      <td>650</td>\n",
       "      <td>810</td>\n",
       "      <td>80.0</td>\n",
       "      <td>2.0</td>\n",
       "      <td>417.0</td>\n",
       "      <td>2</td>\n",
       "      <td>2017-05-06 06:50:00</td>\n",
       "      <td>2017-05-06 06:00:00</td>\n",
       "      <td>SJC2017-05-06 06:00:00</td>\n",
       "      <td>NaN</td>\n",
       "    </tr>\n",
       "    <tr>\n",
       "      <th>1</th>\n",
       "      <td>2</td>\n",
       "      <td>5</td>\n",
       "      <td>6</td>\n",
       "      <td>6</td>\n",
       "      <td>2017-05-06 00:00:00</td>\n",
       "      <td>WN</td>\n",
       "      <td>N8522P</td>\n",
       "      <td>4971</td>\n",
       "      <td>SJC</td>\n",
       "      <td>CA</td>\n",
       "      <td>CA</td>\n",
       "      <td>SAN</td>\n",
       "      <td>1710</td>\n",
       "      <td>1830</td>\n",
       "      <td>80.0</td>\n",
       "      <td>-7.0</td>\n",
       "      <td>417.0</td>\n",
       "      <td>2</td>\n",
       "      <td>2017-05-06 17:10:00</td>\n",
       "      <td>2017-05-06 17:00:00</td>\n",
       "      <td>SJC2017-05-06 17:00:00</td>\n",
       "      <td>NaN</td>\n",
       "    </tr>\n",
       "    <tr>\n",
       "      <th>2</th>\n",
       "      <td>2</td>\n",
       "      <td>5</td>\n",
       "      <td>6</td>\n",
       "      <td>6</td>\n",
       "      <td>2017-05-06 00:00:00</td>\n",
       "      <td>WN</td>\n",
       "      <td>N8617E</td>\n",
       "      <td>5113</td>\n",
       "      <td>SJC</td>\n",
       "      <td>CA</td>\n",
       "      <td>CA</td>\n",
       "      <td>SAN</td>\n",
       "      <td>1100</td>\n",
       "      <td>1220</td>\n",
       "      <td>80.0</td>\n",
       "      <td>0.0</td>\n",
       "      <td>417.0</td>\n",
       "      <td>2</td>\n",
       "      <td>2017-05-06 11:00:00</td>\n",
       "      <td>2017-05-06 11:00:00</td>\n",
       "      <td>SJC2017-05-06 11:00:00</td>\n",
       "      <td>NaN</td>\n",
       "    </tr>\n",
       "    <tr>\n",
       "      <th>3</th>\n",
       "      <td>2</td>\n",
       "      <td>5</td>\n",
       "      <td>6</td>\n",
       "      <td>6</td>\n",
       "      <td>2017-05-06 00:00:00</td>\n",
       "      <td>WN</td>\n",
       "      <td>N450WN</td>\n",
       "      <td>5150</td>\n",
       "      <td>SJC</td>\n",
       "      <td>CA</td>\n",
       "      <td>CA</td>\n",
       "      <td>SAN</td>\n",
       "      <td>2030</td>\n",
       "      <td>2150</td>\n",
       "      <td>80.0</td>\n",
       "      <td>1.0</td>\n",
       "      <td>417.0</td>\n",
       "      <td>2</td>\n",
       "      <td>2017-05-06 20:30:00</td>\n",
       "      <td>2017-05-06 20:00:00</td>\n",
       "      <td>SJC2017-05-06 20:00:00</td>\n",
       "      <td>NaN</td>\n",
       "    </tr>\n",
       "    <tr>\n",
       "      <th>4</th>\n",
       "      <td>2</td>\n",
       "      <td>5</td>\n",
       "      <td>6</td>\n",
       "      <td>6</td>\n",
       "      <td>2017-05-06 00:00:00</td>\n",
       "      <td>WN</td>\n",
       "      <td>N498WN</td>\n",
       "      <td>5711</td>\n",
       "      <td>SJC</td>\n",
       "      <td>CA</td>\n",
       "      <td>CA</td>\n",
       "      <td>SAN</td>\n",
       "      <td>1325</td>\n",
       "      <td>1445</td>\n",
       "      <td>80.0</td>\n",
       "      <td>-2.0</td>\n",
       "      <td>417.0</td>\n",
       "      <td>2</td>\n",
       "      <td>2017-05-06 13:25:00</td>\n",
       "      <td>2017-05-06 13:00:00</td>\n",
       "      <td>SJC2017-05-06 13:00:00</td>\n",
       "      <td>NaN</td>\n",
       "    </tr>\n",
       "  </tbody>\n",
       "</table>\n",
       "</div>"
      ],
      "text/plain": [
       "   Quarter  Month  DayofMonth  DayOfWeek           FlightDate Reporting_Airline Tail_Number  \\\n",
       "0        2      5           6          6  2017-05-06 00:00:00                WN      N7824A   \n",
       "1        2      5           6          6  2017-05-06 00:00:00                WN      N8522P   \n",
       "2        2      5           6          6  2017-05-06 00:00:00                WN      N8617E   \n",
       "3        2      5           6          6  2017-05-06 00:00:00                WN      N450WN   \n",
       "4        2      5           6          6  2017-05-06 00:00:00                WN      N498WN   \n",
       "\n",
       "   Flight_Number_Reporting_Airline Origin OriginState DestState Dest  CRSDepTime  CRSArrTime  \\\n",
       "0                             4652    SJC          CA        CA  SAN         650         810   \n",
       "1                             4971    SJC          CA        CA  SAN        1710        1830   \n",
       "2                             5113    SJC          CA        CA  SAN        1100        1220   \n",
       "3                             5150    SJC          CA        CA  SAN        2030        2150   \n",
       "4                             5711    SJC          CA        CA  SAN        1325        1445   \n",
       "\n",
       "   CRSElapsedTime  ArrDelay  Distance  DistanceGroup              FL_TIME          FL_TIME_NEW  \\\n",
       "0            80.0       2.0     417.0              2  2017-05-06 06:50:00  2017-05-06 06:00:00   \n",
       "1            80.0      -7.0     417.0              2  2017-05-06 17:10:00  2017-05-06 17:00:00   \n",
       "2            80.0       0.0     417.0              2  2017-05-06 11:00:00  2017-05-06 11:00:00   \n",
       "3            80.0       1.0     417.0              2  2017-05-06 20:30:00  2017-05-06 20:00:00   \n",
       "4            80.0      -2.0     417.0              2  2017-05-06 13:25:00  2017-05-06 13:00:00   \n",
       "\n",
       "                 combined  precip_sum  \n",
       "0  SJC2017-05-06 06:00:00         NaN  \n",
       "1  SJC2017-05-06 17:00:00         NaN  \n",
       "2  SJC2017-05-06 11:00:00         NaN  \n",
       "3  SJC2017-05-06 20:00:00         NaN  \n",
       "4  SJC2017-05-06 13:00:00         NaN  "
      ]
     },
     "execution_count": 186,
     "metadata": {},
     "output_type": "execute_result"
    }
   ],
   "source": [
    "df.head()"
   ]
  },
  {
   "cell_type": "code",
   "execution_count": 187,
   "metadata": {},
   "outputs": [],
   "source": [
    "df = df.fillna(0)"
   ]
  },
  {
   "cell_type": "code",
   "execution_count": 9,
   "metadata": {
    "ExecuteTime": {
     "end_time": "2019-04-27T13:29:39.466164Z",
     "start_time": "2019-04-27T13:29:39.434188Z"
    }
   },
   "outputs": [
    {
     "data": {
      "text/html": [
       "<div>\n",
       "<style scoped>\n",
       "    .dataframe tbody tr th:only-of-type {\n",
       "        vertical-align: middle;\n",
       "    }\n",
       "\n",
       "    .dataframe tbody tr th {\n",
       "        vertical-align: top;\n",
       "    }\n",
       "\n",
       "    .dataframe thead th {\n",
       "        text-align: right;\n",
       "    }\n",
       "</style>\n",
       "<table border=\"1\" class=\"dataframe\">\n",
       "  <thead>\n",
       "    <tr style=\"text-align: right;\">\n",
       "      <th></th>\n",
       "      <th>Quarter</th>\n",
       "      <th>Month</th>\n",
       "      <th>DayofMonth</th>\n",
       "      <th>DayOfWeek</th>\n",
       "      <th>FlightDate</th>\n",
       "      <th>Reporting_Airline</th>\n",
       "      <th>Tail_Number</th>\n",
       "      <th>Flight_Number_Reporting_Airline</th>\n",
       "      <th>Origin</th>\n",
       "      <th>OriginState</th>\n",
       "      <th>...</th>\n",
       "      <th>CRSElapsedTime</th>\n",
       "      <th>ArrDelay</th>\n",
       "      <th>Distance</th>\n",
       "      <th>DistanceGroup</th>\n",
       "      <th>precip_sum</th>\n",
       "      <th>ARR_HOUR</th>\n",
       "      <th>DEP_HOUR</th>\n",
       "      <th>DOM_DIRECTION</th>\n",
       "      <th>flight_freq</th>\n",
       "      <th>flight_delay_freq</th>\n",
       "    </tr>\n",
       "  </thead>\n",
       "  <tbody>\n",
       "    <tr>\n",
       "      <th>0</th>\n",
       "      <td>2</td>\n",
       "      <td>5</td>\n",
       "      <td>6</td>\n",
       "      <td>6</td>\n",
       "      <td>2017-05-06 00:00:00</td>\n",
       "      <td>WN</td>\n",
       "      <td>N7824A</td>\n",
       "      <td>4652</td>\n",
       "      <td>SJC</td>\n",
       "      <td>CA</td>\n",
       "      <td>...</td>\n",
       "      <td>80.0</td>\n",
       "      <td>2.0</td>\n",
       "      <td>417.0</td>\n",
       "      <td>2</td>\n",
       "      <td>0.0</td>\n",
       "      <td>8</td>\n",
       "      <td>6</td>\n",
       "      <td>East</td>\n",
       "      <td>17</td>\n",
       "      <td>23.250</td>\n",
       "    </tr>\n",
       "    <tr>\n",
       "      <th>1</th>\n",
       "      <td>2</td>\n",
       "      <td>5</td>\n",
       "      <td>6</td>\n",
       "      <td>6</td>\n",
       "      <td>2017-05-06 00:00:00</td>\n",
       "      <td>WN</td>\n",
       "      <td>N8522P</td>\n",
       "      <td>4971</td>\n",
       "      <td>SJC</td>\n",
       "      <td>CA</td>\n",
       "      <td>...</td>\n",
       "      <td>80.0</td>\n",
       "      <td>-7.0</td>\n",
       "      <td>417.0</td>\n",
       "      <td>2</td>\n",
       "      <td>0.0</td>\n",
       "      <td>18</td>\n",
       "      <td>17</td>\n",
       "      <td>East</td>\n",
       "      <td>7</td>\n",
       "      <td>0.250</td>\n",
       "    </tr>\n",
       "    <tr>\n",
       "      <th>2</th>\n",
       "      <td>2</td>\n",
       "      <td>5</td>\n",
       "      <td>6</td>\n",
       "      <td>6</td>\n",
       "      <td>2017-05-06 00:00:00</td>\n",
       "      <td>WN</td>\n",
       "      <td>N8617E</td>\n",
       "      <td>5113</td>\n",
       "      <td>SJC</td>\n",
       "      <td>CA</td>\n",
       "      <td>...</td>\n",
       "      <td>80.0</td>\n",
       "      <td>0.0</td>\n",
       "      <td>417.0</td>\n",
       "      <td>2</td>\n",
       "      <td>0.0</td>\n",
       "      <td>12</td>\n",
       "      <td>11</td>\n",
       "      <td>East</td>\n",
       "      <td>8</td>\n",
       "      <td>-1.000</td>\n",
       "    </tr>\n",
       "    <tr>\n",
       "      <th>3</th>\n",
       "      <td>2</td>\n",
       "      <td>5</td>\n",
       "      <td>6</td>\n",
       "      <td>6</td>\n",
       "      <td>2017-05-06 00:00:00</td>\n",
       "      <td>WN</td>\n",
       "      <td>N450WN</td>\n",
       "      <td>5150</td>\n",
       "      <td>SJC</td>\n",
       "      <td>CA</td>\n",
       "      <td>...</td>\n",
       "      <td>80.0</td>\n",
       "      <td>1.0</td>\n",
       "      <td>417.0</td>\n",
       "      <td>2</td>\n",
       "      <td>0.0</td>\n",
       "      <td>21</td>\n",
       "      <td>20</td>\n",
       "      <td>East</td>\n",
       "      <td>3</td>\n",
       "      <td>-7.750</td>\n",
       "    </tr>\n",
       "    <tr>\n",
       "      <th>4</th>\n",
       "      <td>2</td>\n",
       "      <td>5</td>\n",
       "      <td>6</td>\n",
       "      <td>6</td>\n",
       "      <td>2017-05-06 00:00:00</td>\n",
       "      <td>WN</td>\n",
       "      <td>N498WN</td>\n",
       "      <td>5711</td>\n",
       "      <td>SJC</td>\n",
       "      <td>CA</td>\n",
       "      <td>...</td>\n",
       "      <td>80.0</td>\n",
       "      <td>-2.0</td>\n",
       "      <td>417.0</td>\n",
       "      <td>2</td>\n",
       "      <td>0.0</td>\n",
       "      <td>14</td>\n",
       "      <td>13</td>\n",
       "      <td>East</td>\n",
       "      <td>10</td>\n",
       "      <td>1.625</td>\n",
       "    </tr>\n",
       "  </tbody>\n",
       "</table>\n",
       "<p>5 rows × 22 columns</p>\n",
       "</div>"
      ],
      "text/plain": [
       "   Quarter  Month  DayofMonth  DayOfWeek           FlightDate  \\\n",
       "0        2      5           6          6  2017-05-06 00:00:00   \n",
       "1        2      5           6          6  2017-05-06 00:00:00   \n",
       "2        2      5           6          6  2017-05-06 00:00:00   \n",
       "3        2      5           6          6  2017-05-06 00:00:00   \n",
       "4        2      5           6          6  2017-05-06 00:00:00   \n",
       "\n",
       "  Reporting_Airline Tail_Number  Flight_Number_Reporting_Airline Origin  \\\n",
       "0                WN      N7824A                             4652    SJC   \n",
       "1                WN      N8522P                             4971    SJC   \n",
       "2                WN      N8617E                             5113    SJC   \n",
       "3                WN      N450WN                             5150    SJC   \n",
       "4                WN      N498WN                             5711    SJC   \n",
       "\n",
       "  OriginState        ...        CRSElapsedTime ArrDelay  Distance  \\\n",
       "0          CA        ...                  80.0      2.0     417.0   \n",
       "1          CA        ...                  80.0     -7.0     417.0   \n",
       "2          CA        ...                  80.0      0.0     417.0   \n",
       "3          CA        ...                  80.0      1.0     417.0   \n",
       "4          CA        ...                  80.0     -2.0     417.0   \n",
       "\n",
       "   DistanceGroup  precip_sum  ARR_HOUR  DEP_HOUR  DOM_DIRECTION  flight_freq  \\\n",
       "0              2         0.0         8         6           East           17   \n",
       "1              2         0.0        18        17           East            7   \n",
       "2              2         0.0        12        11           East            8   \n",
       "3              2         0.0        21        20           East            3   \n",
       "4              2         0.0        14        13           East           10   \n",
       "\n",
       "  flight_delay_freq  \n",
       "0            23.250  \n",
       "1             0.250  \n",
       "2            -1.000  \n",
       "3            -7.750  \n",
       "4             1.625  \n",
       "\n",
       "[5 rows x 22 columns]"
      ]
     },
     "execution_count": 9,
     "metadata": {},
     "output_type": "execute_result"
    }
   ],
   "source": [
    "df.head()"
   ]
  },
  {
   "cell_type": "code",
   "execution_count": 190,
   "metadata": {
    "ExecuteTime": {
     "end_time": "2019-04-24T14:12:36.395586Z",
     "start_time": "2019-04-24T14:12:36.384957Z"
    },
    "scrolled": true
   },
   "outputs": [
    {
     "data": {
      "text/plain": [
       "Index(['Quarter', 'Month', 'DayofMonth', 'DayOfWeek', 'FlightDate', 'Reporting_Airline',\n",
       "       'Tail_Number', 'Flight_Number_Reporting_Airline', 'Origin', 'OriginState', 'DestState',\n",
       "       'Dest', 'CRSDepTime', 'CRSArrTime', 'CRSElapsedTime', 'ArrDelay', 'Distance',\n",
       "       'DistanceGroup', 'FL_TIME', 'FL_TIME_NEW', 'combined', 'precip_sum'],\n",
       "      dtype='object')"
      ]
     },
     "execution_count": 190,
     "metadata": {},
     "output_type": "execute_result"
    }
   ],
   "source": [
    "df.columns"
   ]
  },
  {
   "cell_type": "code",
   "execution_count": 191,
   "metadata": {
    "ExecuteTime": {
     "end_time": "2019-04-24T14:12:43.599844Z",
     "start_time": "2019-04-24T14:12:42.052257Z"
    }
   },
   "outputs": [],
   "source": [
    "#Let's remove the features that will not be available for predicting flights\n",
    "df = df[['Quarter', 'Month', 'DayofMonth', 'DayOfWeek', 'FlightDate',\n",
    "       'Reporting_Airline', 'Tail_Number', 'Flight_Number_Reporting_Airline',\n",
    "       'Origin', 'OriginState', 'DestState', 'Dest', 'CRSDepTime', 'CRSArrTime', 'CRSElapsedTime',\n",
    "       'ArrDelay', 'Distance', 'DistanceGroup','precip_sum']]\n",
    "df = df.reindex()"
   ]
  },
  {
   "cell_type": "code",
   "execution_count": 60,
   "metadata": {
    "ExecuteTime": {
     "end_time": "2019-05-01T22:55:52.916426Z",
     "start_time": "2019-05-01T22:55:52.686987Z"
    }
   },
   "outputs": [],
   "source": [
    "airlines = list(df.Reporting_Airline.unique())"
   ]
  },
  {
   "cell_type": "markdown",
   "metadata": {},
   "source": [
    "## Feature Engineering"
   ]
  },
  {
   "cell_type": "markdown",
   "metadata": {},
   "source": [
    "#### Hourly bins"
   ]
  },
  {
   "cell_type": "code",
   "execution_count": 194,
   "metadata": {
    "ExecuteTime": {
     "end_time": "2019-04-24T14:12:56.200065Z",
     "start_time": "2019-04-24T14:12:46.078783Z"
    }
   },
   "outputs": [],
   "source": [
    "#Let's convert the DEP_TIME and ARR_TIME into hours only. \n",
    "df['ARR_HOUR'] = df['CRSArrTime'].apply(lambda x: int(str(x)[:2]) if x>999 else int(str(x)[:1] if x>99 else 0))\n",
    "df['ARR_HOUR'] = df['ARR_HOUR'].apply(lambda x:0 if x==24 else x)\n",
    "df['DEP_HOUR'] = df['CRSDepTime'].apply(lambda x: int(str(x)[:2]) if x>999 else int(str(x)[:1] if x>99 else 0))\n",
    "df = df.drop(columns=['CRSDepTime', 'CRSArrTime'])"
   ]
  },
  {
   "cell_type": "code",
   "execution_count": 195,
   "metadata": {},
   "outputs": [
    {
     "data": {
      "text/html": [
       "<div>\n",
       "<style scoped>\n",
       "    .dataframe tbody tr th:only-of-type {\n",
       "        vertical-align: middle;\n",
       "    }\n",
       "\n",
       "    .dataframe tbody tr th {\n",
       "        vertical-align: top;\n",
       "    }\n",
       "\n",
       "    .dataframe thead th {\n",
       "        text-align: right;\n",
       "    }\n",
       "</style>\n",
       "<table border=\"1\" class=\"dataframe\">\n",
       "  <thead>\n",
       "    <tr style=\"text-align: right;\">\n",
       "      <th></th>\n",
       "      <th>Quarter</th>\n",
       "      <th>Month</th>\n",
       "      <th>DayofMonth</th>\n",
       "      <th>DayOfWeek</th>\n",
       "      <th>FlightDate</th>\n",
       "      <th>Reporting_Airline</th>\n",
       "      <th>Tail_Number</th>\n",
       "      <th>Flight_Number_Reporting_Airline</th>\n",
       "      <th>Origin</th>\n",
       "      <th>OriginState</th>\n",
       "      <th>DestState</th>\n",
       "      <th>Dest</th>\n",
       "      <th>CRSElapsedTime</th>\n",
       "      <th>ArrDelay</th>\n",
       "      <th>Distance</th>\n",
       "      <th>DistanceGroup</th>\n",
       "      <th>precip_sum</th>\n",
       "      <th>ARR_HOUR</th>\n",
       "      <th>DEP_HOUR</th>\n",
       "    </tr>\n",
       "  </thead>\n",
       "  <tbody>\n",
       "    <tr>\n",
       "      <th>0</th>\n",
       "      <td>2</td>\n",
       "      <td>5</td>\n",
       "      <td>6</td>\n",
       "      <td>6</td>\n",
       "      <td>2017-05-06 00:00:00</td>\n",
       "      <td>WN</td>\n",
       "      <td>N7824A</td>\n",
       "      <td>4652</td>\n",
       "      <td>SJC</td>\n",
       "      <td>CA</td>\n",
       "      <td>CA</td>\n",
       "      <td>SAN</td>\n",
       "      <td>80.0</td>\n",
       "      <td>2.0</td>\n",
       "      <td>417.0</td>\n",
       "      <td>2</td>\n",
       "      <td>0.0</td>\n",
       "      <td>8</td>\n",
       "      <td>6</td>\n",
       "    </tr>\n",
       "    <tr>\n",
       "      <th>1</th>\n",
       "      <td>2</td>\n",
       "      <td>5</td>\n",
       "      <td>6</td>\n",
       "      <td>6</td>\n",
       "      <td>2017-05-06 00:00:00</td>\n",
       "      <td>WN</td>\n",
       "      <td>N8522P</td>\n",
       "      <td>4971</td>\n",
       "      <td>SJC</td>\n",
       "      <td>CA</td>\n",
       "      <td>CA</td>\n",
       "      <td>SAN</td>\n",
       "      <td>80.0</td>\n",
       "      <td>-7.0</td>\n",
       "      <td>417.0</td>\n",
       "      <td>2</td>\n",
       "      <td>0.0</td>\n",
       "      <td>18</td>\n",
       "      <td>17</td>\n",
       "    </tr>\n",
       "    <tr>\n",
       "      <th>2</th>\n",
       "      <td>2</td>\n",
       "      <td>5</td>\n",
       "      <td>6</td>\n",
       "      <td>6</td>\n",
       "      <td>2017-05-06 00:00:00</td>\n",
       "      <td>WN</td>\n",
       "      <td>N8617E</td>\n",
       "      <td>5113</td>\n",
       "      <td>SJC</td>\n",
       "      <td>CA</td>\n",
       "      <td>CA</td>\n",
       "      <td>SAN</td>\n",
       "      <td>80.0</td>\n",
       "      <td>0.0</td>\n",
       "      <td>417.0</td>\n",
       "      <td>2</td>\n",
       "      <td>0.0</td>\n",
       "      <td>12</td>\n",
       "      <td>11</td>\n",
       "    </tr>\n",
       "    <tr>\n",
       "      <th>3</th>\n",
       "      <td>2</td>\n",
       "      <td>5</td>\n",
       "      <td>6</td>\n",
       "      <td>6</td>\n",
       "      <td>2017-05-06 00:00:00</td>\n",
       "      <td>WN</td>\n",
       "      <td>N450WN</td>\n",
       "      <td>5150</td>\n",
       "      <td>SJC</td>\n",
       "      <td>CA</td>\n",
       "      <td>CA</td>\n",
       "      <td>SAN</td>\n",
       "      <td>80.0</td>\n",
       "      <td>1.0</td>\n",
       "      <td>417.0</td>\n",
       "      <td>2</td>\n",
       "      <td>0.0</td>\n",
       "      <td>21</td>\n",
       "      <td>20</td>\n",
       "    </tr>\n",
       "    <tr>\n",
       "      <th>4</th>\n",
       "      <td>2</td>\n",
       "      <td>5</td>\n",
       "      <td>6</td>\n",
       "      <td>6</td>\n",
       "      <td>2017-05-06 00:00:00</td>\n",
       "      <td>WN</td>\n",
       "      <td>N498WN</td>\n",
       "      <td>5711</td>\n",
       "      <td>SJC</td>\n",
       "      <td>CA</td>\n",
       "      <td>CA</td>\n",
       "      <td>SAN</td>\n",
       "      <td>80.0</td>\n",
       "      <td>-2.0</td>\n",
       "      <td>417.0</td>\n",
       "      <td>2</td>\n",
       "      <td>0.0</td>\n",
       "      <td>14</td>\n",
       "      <td>13</td>\n",
       "    </tr>\n",
       "  </tbody>\n",
       "</table>\n",
       "</div>"
      ],
      "text/plain": [
       "   Quarter  Month  DayofMonth  DayOfWeek           FlightDate Reporting_Airline Tail_Number  \\\n",
       "0        2      5           6          6  2017-05-06 00:00:00                WN      N7824A   \n",
       "1        2      5           6          6  2017-05-06 00:00:00                WN      N8522P   \n",
       "2        2      5           6          6  2017-05-06 00:00:00                WN      N8617E   \n",
       "3        2      5           6          6  2017-05-06 00:00:00                WN      N450WN   \n",
       "4        2      5           6          6  2017-05-06 00:00:00                WN      N498WN   \n",
       "\n",
       "   Flight_Number_Reporting_Airline Origin OriginState DestState Dest  CRSElapsedTime  ArrDelay  \\\n",
       "0                             4652    SJC          CA        CA  SAN            80.0       2.0   \n",
       "1                             4971    SJC          CA        CA  SAN            80.0      -7.0   \n",
       "2                             5113    SJC          CA        CA  SAN            80.0       0.0   \n",
       "3                             5150    SJC          CA        CA  SAN            80.0       1.0   \n",
       "4                             5711    SJC          CA        CA  SAN            80.0      -2.0   \n",
       "\n",
       "   Distance  DistanceGroup  precip_sum  ARR_HOUR  DEP_HOUR  \n",
       "0     417.0              2         0.0         8         6  \n",
       "1     417.0              2         0.0        18        17  \n",
       "2     417.0              2         0.0        12        11  \n",
       "3     417.0              2         0.0        21        20  \n",
       "4     417.0              2         0.0        14        13  "
      ]
     },
     "execution_count": 195,
     "metadata": {},
     "output_type": "execute_result"
    }
   ],
   "source": [
    "df.head()"
   ]
  },
  {
   "cell_type": "markdown",
   "metadata": {},
   "source": [
    "#### Direction of flight (Choose the dominant direction of flight)"
   ]
  },
  {
   "cell_type": "code",
   "execution_count": 196,
   "metadata": {
    "ExecuteTime": {
     "end_time": "2019-04-24T14:14:01.122803Z",
     "start_time": "2019-04-24T14:12:56.266222Z"
    }
   },
   "outputs": [],
   "source": [
    "#let's add a direction of flight features\n",
    "#import airport location information csv\n",
    "airport_location = pd.read_csv('airport_loc.csv')\n",
    "#combine Latitude and Longitude into a tuple and form a new column and drop the Latitude & Longitude columns\n",
    "airport_location['location'] = list(zip(airport_location.Latitude, airport_location.Longitude))\n",
    "airports_locs = airport_location.copy()\n",
    "airports_locs.head()\n",
    "airports_locs.drop(['Latitude', 'Longitude'], axis=1, inplace=True)\n",
    "airport_loc = airports_locs.set_index('locationID').to_dict()['location']\n",
    "\n",
    "#create two new columns with location coordinates of origin and destination airports\n",
    "df['ORIGIN_LOC'] = df.Origin.apply(lambda x: airport_loc.get(x))\n",
    "df['DEST_LOC'] = df.Dest.apply(lambda x: airport_loc.get(x))\n",
    "\n",
    "#turn into an array so we can subtract and determine which direction the plane is traveling\n",
    "df.ORIGIN_LOC = df.ORIGIN_LOC.apply(lambda x: np.asarray(x))\n",
    "df.DEST_LOC = df.DEST_LOC.apply(lambda x: np.asarray(x))\n",
    "df['DIRECTION'] = df.ORIGIN_LOC - df.DEST_LOC\n",
    "\n",
    "df = df.dropna(subset=['DIRECTION'])\n",
    "#(n/s - increasing to the north : e/w - increasing to the west)\n",
    "# if first number is negative = south - north = plane is going north\n",
    "# if second number is negative = east - west = plane is going west\n",
    "\n",
    "def direction(latlong):\n",
    "    if latlong[0] < 0:\n",
    "        direction1 = 'North'\n",
    "    else:\n",
    "        direction1 = 'South'\n",
    "    if latlong[1] < 0:\n",
    "        direction2 = 'West'\n",
    "    else:\n",
    "        direction2 = 'East'\n",
    "    if abs(latlong[0]) > abs(latlong[1]):\n",
    "        dom_dir = direction1\n",
    "    else:\n",
    "        dom_dir = direction2\n",
    "    return dom_dir      \n",
    "df['DOM_DIRECTION'] = df.DIRECTION.apply(direction)\n",
    "\n",
    "#clean up and delete the columns created for this tranformation\n",
    "df = df.drop(columns=['ORIGIN_LOC', 'DEST_LOC', 'DIRECTION'])"
   ]
  },
  {
   "cell_type": "markdown",
   "metadata": {},
   "source": [
    "#### Weather"
   ]
  },
  {
   "cell_type": "markdown",
   "metadata": {},
   "source": [
    "https://mesonet.agron.iastate.edu/ASOS/"
   ]
  },
  {
   "cell_type": "markdown",
   "metadata": {},
   "source": [
    "Weather data has been pre-processed in a seperate notebook and imported in the flight dataset. We're using Origin airport with 4 hours prior to departure precipitation data."
   ]
  },
  {
   "cell_type": "markdown",
   "metadata": {},
   "source": [
    "#### Create a feature with Hourly Flight Frequency at Origin (number of flights at a givin airport during a given hour block)"
   ]
  },
  {
   "cell_type": "code",
   "execution_count": 413,
   "metadata": {
    "ExecuteTime": {
     "end_time": "2019-05-02T16:11:22.985096Z",
     "start_time": "2019-05-02T16:11:18.432489Z"
    }
   },
   "outputs": [],
   "source": [
    "#create a dataframe with multiIndex for easy lookup\n",
    "fltfrq_df = pd.DataFrame(df.groupby(['Origin', 'Month', 'DayofMonth', 'DayOfWeek', 'DEP_HOUR'])['Month'].count())\n",
    "\n",
    "fltfrq_df_dict = fltfrq_df.to_dict()['Month']"
   ]
  },
  {
   "cell_type": "code",
   "execution_count": null,
   "metadata": {},
   "outputs": [],
   "source": [
    "#create a tuple column with all the required information to look up the flight frequency \n",
    "#in the newly created dictionary (fltfrq_df_dict)\n",
    "df['temp'] = list(zip(df.Origin, df.Month, df.DayofMonth, df.DayOfWeek, df.DEP_HOUR))\n",
    "df['flight_freq'] = df.temp.apply(lambda x: fltfrq_df_dict.get(x))\n",
    "df = df.drop(columns=['temp'])"
   ]
  },
  {
   "cell_type": "markdown",
   "metadata": {},
   "source": [
    "#### Monthly flight route delay averages aggregated by flight number (including Origin and Destination airports to account for flight number changes)"
   ]
  },
  {
   "cell_type": "code",
   "execution_count": 411,
   "metadata": {
    "ExecuteTime": {
     "end_time": "2019-05-02T16:09:41.037273Z",
     "start_time": "2019-05-02T16:09:37.058416Z"
    }
   },
   "outputs": [],
   "source": [
    "#create a dataframe with multiIndex for easy lookup\n",
    "look_up_df = pd.DataFrame(df.groupby(['Month','Flight_Number_Reporting_Airline',\n",
    "                                      'Reporting_Airline','Origin','Dest'])['ArrDelay'].mean())\n",
    "#create a dictionary from the DataFrame for faster look-up\n",
    "look_up_df_dict = look_up_df.to_dict()['ArrDelay']"
   ]
  },
  {
   "cell_type": "code",
   "execution_count": null,
   "metadata": {},
   "outputs": [],
   "source": [
    "#create a tuple column with all the required information to look up the flight frequency in \n",
    "#the newly created dictionary (delayfrq_df_dict)\n",
    "df['temp'] = list(zip(df.Month, df.Flight_Number_Reporting_Airline, df.Reporting_Airline, df.Origin, df.Dest))\n",
    "df['flight_delay_freq'] = df.temp.apply(lambda x: look_up_df_dict.get(x))\n",
    "df = df.drop(columns=['temp'])"
   ]
  },
  {
   "cell_type": "markdown",
   "metadata": {},
   "source": [
    "#### Passenger Loading Data"
   ]
  },
  {
   "cell_type": "code",
   "execution_count": 62,
   "metadata": {
    "ExecuteTime": {
     "end_time": "2019-05-01T22:56:16.190962Z",
     "start_time": "2019-05-01T22:56:08.926042Z"
    }
   },
   "outputs": [],
   "source": [
    "#import the passenger load data\n",
    "load_factor_df = pd.read_csv('./Data/Loading.csv')\n",
    "load_factor_df = load_factor_df[load_factor_df.CARRIER.isin(airlines)]\n",
    "load_factor_df['LOAD_FACTOR'] = (load_factor_df.PASSENGERS * load_factor_df.DISTANCE) /\\\n",
    "(load_factor_df.SEATS * load_factor_df.DISTANCE)\n",
    "look_up_factor = pd.DataFrame(load_factor_df.groupby(['MONTH', 'CARRIER', 'ORIGIN','DEST'])['LOAD_FACTOR'].mean())"
   ]
  },
  {
   "cell_type": "code",
   "execution_count": 103,
   "metadata": {
    "ExecuteTime": {
     "end_time": "2019-05-02T01:40:24.876567Z",
     "start_time": "2019-05-02T01:40:24.854698Z"
    }
   },
   "outputs": [],
   "source": [
    "load_factor_dict = look_up_factor.to_dict()['LOAD_FACTOR']"
   ]
  },
  {
   "cell_type": "code",
   "execution_count": 108,
   "metadata": {
    "ExecuteTime": {
     "end_time": "2019-05-02T01:42:38.349556Z",
     "start_time": "2019-05-02T01:42:29.900394Z"
    },
    "scrolled": true
   },
   "outputs": [],
   "source": [
    "df['temp'] = list(zip(df.Month, df.Reporting_Airline, df.Origin, df.Dest))\n",
    "df['LoadFactor'] = df.temp.apply(lambda x: load_factor_dict.get((x)))\n",
    "df = df.drop(columns=['temp'])"
   ]
  },
  {
   "cell_type": "markdown",
   "metadata": {},
   "source": [
    "#### Export as a csv file for easier modeling later"
   ]
  },
  {
   "cell_type": "code",
   "execution_count": 110,
   "metadata": {
    "ExecuteTime": {
     "end_time": "2019-05-02T01:53:48.117842Z",
     "start_time": "2019-05-02T01:52:17.239885Z"
    }
   },
   "outputs": [],
   "source": [
    "df.to_csv('./Data/2017FeatEng.csv', index = False, encoding = 'utf-8')"
   ]
  },
  {
   "cell_type": "markdown",
   "metadata": {},
   "source": [
    "## Adding final filters and Target column"
   ]
  },
  {
   "cell_type": "markdown",
   "metadata": {},
   "source": [
    "#### Pick top 20 airports and top 5 airlines"
   ]
  },
  {
   "cell_type": "code",
   "execution_count": 111,
   "metadata": {
    "ExecuteTime": {
     "end_time": "2019-05-02T01:53:51.835144Z",
     "start_time": "2019-05-02T01:53:51.489535Z"
    }
   },
   "outputs": [],
   "source": [
    "#create a list with top 20 airport origins by flight volume\n",
    "top_20 = list(df.groupby('Origin').size().sort_values(ascending=False)[0:20].index)"
   ]
  },
  {
   "cell_type": "code",
   "execution_count": 112,
   "metadata": {
    "ExecuteTime": {
     "end_time": "2019-05-02T01:53:54.133056Z",
     "start_time": "2019-05-02T01:53:53.887920Z"
    }
   },
   "outputs": [],
   "source": [
    "#create a list with top 5 airlines by flight volume\n",
    "top_5 = list(df.groupby('Reporting_Airline').size().sort_values(ascending=False)[0:5].index)"
   ]
  },
  {
   "cell_type": "code",
   "execution_count": 113,
   "metadata": {
    "ExecuteTime": {
     "end_time": "2019-05-02T01:53:57.403365Z",
     "start_time": "2019-05-02T01:53:56.162075Z"
    }
   },
   "outputs": [],
   "source": [
    "#only use top 20 origin airports\n",
    "top_df = df[df.Origin.isin(top_20)]"
   ]
  },
  {
   "cell_type": "code",
   "execution_count": 114,
   "metadata": {
    "ExecuteTime": {
     "end_time": "2019-05-02T01:54:01.040378Z",
     "start_time": "2019-05-02T01:54:00.074433Z"
    }
   },
   "outputs": [],
   "source": [
    "#only use top 5 airlines\n",
    "top_df = top_df[top_df.Reporting_Airline.isin(top_5)]"
   ]
  },
  {
   "cell_type": "markdown",
   "metadata": {},
   "source": [
    "#### Status (Delayed or Ontime)"
   ]
  },
  {
   "cell_type": "code",
   "execution_count": 369,
   "metadata": {
    "ExecuteTime": {
     "end_time": "2019-05-02T15:48:32.209774Z",
     "start_time": "2019-05-02T15:48:29.223344Z"
    }
   },
   "outputs": [
    {
     "name": "stderr",
     "output_type": "stream",
     "text": [
      "/Users/dmitriykats/anaconda3/lib/python3.7/site-packages/ipykernel_launcher.py:2: SettingWithCopyWarning: \n",
      "A value is trying to be set on a copy of a slice from a DataFrame.\n",
      "Try using .loc[row_indexer,col_indexer] = value instead\n",
      "\n",
      "See the caveats in the documentation: http://pandas.pydata.org/pandas-docs/stable/indexing.html#indexing-view-versus-copy\n",
      "  \n"
     ]
    }
   ],
   "source": [
    "#Add a column classifying if the flight is delayed or not using 20 minutes as delayed\n",
    "top_df['STATUS'] = top_df.ArrDelay.apply(lambda x: 1 if x >= 20 else 0)"
   ]
  },
  {
   "cell_type": "markdown",
   "metadata": {},
   "source": [
    "## Creating X matrix"
   ]
  },
  {
   "cell_type": "code",
   "execution_count": 370,
   "metadata": {
    "ExecuteTime": {
     "end_time": "2019-05-02T15:48:33.568347Z",
     "start_time": "2019-05-02T15:48:33.551550Z"
    },
    "scrolled": true
   },
   "outputs": [],
   "source": [
    "name = top_df"
   ]
  },
  {
   "cell_type": "code",
   "execution_count": 371,
   "metadata": {
    "ExecuteTime": {
     "end_time": "2019-05-02T15:48:34.563211Z",
     "start_time": "2019-05-02T15:48:34.535131Z"
    },
    "scrolled": true
   },
   "outputs": [
    {
     "data": {
      "text/html": [
       "<div>\n",
       "<style scoped>\n",
       "    .dataframe tbody tr th:only-of-type {\n",
       "        vertical-align: middle;\n",
       "    }\n",
       "\n",
       "    .dataframe tbody tr th {\n",
       "        vertical-align: top;\n",
       "    }\n",
       "\n",
       "    .dataframe thead th {\n",
       "        text-align: right;\n",
       "    }\n",
       "</style>\n",
       "<table border=\"1\" class=\"dataframe\">\n",
       "  <thead>\n",
       "    <tr style=\"text-align: right;\">\n",
       "      <th></th>\n",
       "      <th>Quarter</th>\n",
       "      <th>Month</th>\n",
       "      <th>DayofMonth</th>\n",
       "      <th>DayOfWeek</th>\n",
       "      <th>FlightDate</th>\n",
       "      <th>Reporting_Airline</th>\n",
       "      <th>Tail_Number</th>\n",
       "      <th>Flight_Number_Reporting_Airline</th>\n",
       "      <th>Origin</th>\n",
       "      <th>OriginState</th>\n",
       "      <th>DestState</th>\n",
       "      <th>Dest</th>\n",
       "      <th>CRSElapsedTime</th>\n",
       "      <th>ArrDelay</th>\n",
       "      <th>Distance</th>\n",
       "      <th>DistanceGroup</th>\n",
       "      <th>precip_sum</th>\n",
       "      <th>ARR_HOUR</th>\n",
       "      <th>DEP_HOUR</th>\n",
       "      <th>DOM_DIRECTION</th>\n",
       "      <th>flight_freq</th>\n",
       "      <th>flight_delay_freq</th>\n",
       "      <th>LoadFactor</th>\n",
       "      <th>STATUS</th>\n",
       "    </tr>\n",
       "  </thead>\n",
       "  <tbody>\n",
       "    <tr>\n",
       "      <th>1607</th>\n",
       "      <td>2</td>\n",
       "      <td>5</td>\n",
       "      <td>13</td>\n",
       "      <td>6</td>\n",
       "      <td>2017-05-13 00:00:00</td>\n",
       "      <td>WN</td>\n",
       "      <td>N238WN</td>\n",
       "      <td>5030</td>\n",
       "      <td>LAX</td>\n",
       "      <td>CA</td>\n",
       "      <td>NM</td>\n",
       "      <td>ABQ</td>\n",
       "      <td>110.0</td>\n",
       "      <td>14.0</td>\n",
       "      <td>677.0</td>\n",
       "      <td>3</td>\n",
       "      <td>0.0</td>\n",
       "      <td>14</td>\n",
       "      <td>11</td>\n",
       "      <td>East</td>\n",
       "      <td>32</td>\n",
       "      <td>80.50</td>\n",
       "      <td>0.870382</td>\n",
       "      <td>0</td>\n",
       "    </tr>\n",
       "    <tr>\n",
       "      <th>1608</th>\n",
       "      <td>2</td>\n",
       "      <td>5</td>\n",
       "      <td>13</td>\n",
       "      <td>6</td>\n",
       "      <td>2017-05-13 00:00:00</td>\n",
       "      <td>WN</td>\n",
       "      <td>N7833A</td>\n",
       "      <td>5775</td>\n",
       "      <td>LAX</td>\n",
       "      <td>CA</td>\n",
       "      <td>NM</td>\n",
       "      <td>ABQ</td>\n",
       "      <td>105.0</td>\n",
       "      <td>37.0</td>\n",
       "      <td>677.0</td>\n",
       "      <td>3</td>\n",
       "      <td>0.0</td>\n",
       "      <td>20</td>\n",
       "      <td>17</td>\n",
       "      <td>East</td>\n",
       "      <td>32</td>\n",
       "      <td>27.25</td>\n",
       "      <td>0.870382</td>\n",
       "      <td>1</td>\n",
       "    </tr>\n",
       "    <tr>\n",
       "      <th>1609</th>\n",
       "      <td>2</td>\n",
       "      <td>5</td>\n",
       "      <td>13</td>\n",
       "      <td>6</td>\n",
       "      <td>2017-05-13 00:00:00</td>\n",
       "      <td>WN</td>\n",
       "      <td>N724SW</td>\n",
       "      <td>2251</td>\n",
       "      <td>LAX</td>\n",
       "      <td>CA</td>\n",
       "      <td>GA</td>\n",
       "      <td>ATL</td>\n",
       "      <td>260.0</td>\n",
       "      <td>-12.0</td>\n",
       "      <td>1947.0</td>\n",
       "      <td>8</td>\n",
       "      <td>0.0</td>\n",
       "      <td>14</td>\n",
       "      <td>7</td>\n",
       "      <td>East</td>\n",
       "      <td>19</td>\n",
       "      <td>-13.00</td>\n",
       "      <td>0.956296</td>\n",
       "      <td>0</td>\n",
       "    </tr>\n",
       "    <tr>\n",
       "      <th>1610</th>\n",
       "      <td>2</td>\n",
       "      <td>5</td>\n",
       "      <td>13</td>\n",
       "      <td>6</td>\n",
       "      <td>2017-05-13 00:00:00</td>\n",
       "      <td>WN</td>\n",
       "      <td>N8652B</td>\n",
       "      <td>6144</td>\n",
       "      <td>LAX</td>\n",
       "      <td>CA</td>\n",
       "      <td>GA</td>\n",
       "      <td>ATL</td>\n",
       "      <td>260.0</td>\n",
       "      <td>4.0</td>\n",
       "      <td>1947.0</td>\n",
       "      <td>8</td>\n",
       "      <td>0.0</td>\n",
       "      <td>18</td>\n",
       "      <td>11</td>\n",
       "      <td>East</td>\n",
       "      <td>32</td>\n",
       "      <td>21.00</td>\n",
       "      <td>0.956296</td>\n",
       "      <td>0</td>\n",
       "    </tr>\n",
       "    <tr>\n",
       "      <th>1611</th>\n",
       "      <td>2</td>\n",
       "      <td>5</td>\n",
       "      <td>13</td>\n",
       "      <td>6</td>\n",
       "      <td>2017-05-13 00:00:00</td>\n",
       "      <td>WN</td>\n",
       "      <td>N905WN</td>\n",
       "      <td>2379</td>\n",
       "      <td>LAX</td>\n",
       "      <td>CA</td>\n",
       "      <td>TX</td>\n",
       "      <td>AUS</td>\n",
       "      <td>175.0</td>\n",
       "      <td>-7.0</td>\n",
       "      <td>1242.0</td>\n",
       "      <td>5</td>\n",
       "      <td>0.0</td>\n",
       "      <td>11</td>\n",
       "      <td>6</td>\n",
       "      <td>East</td>\n",
       "      <td>27</td>\n",
       "      <td>-0.50</td>\n",
       "      <td>0.808608</td>\n",
       "      <td>0</td>\n",
       "    </tr>\n",
       "  </tbody>\n",
       "</table>\n",
       "</div>"
      ],
      "text/plain": [
       "      Quarter  Month  DayofMonth  DayOfWeek           FlightDate Reporting_Airline Tail_Number  \\\n",
       "1607        2      5          13          6  2017-05-13 00:00:00                WN      N238WN   \n",
       "1608        2      5          13          6  2017-05-13 00:00:00                WN      N7833A   \n",
       "1609        2      5          13          6  2017-05-13 00:00:00                WN      N724SW   \n",
       "1610        2      5          13          6  2017-05-13 00:00:00                WN      N8652B   \n",
       "1611        2      5          13          6  2017-05-13 00:00:00                WN      N905WN   \n",
       "\n",
       "      Flight_Number_Reporting_Airline Origin OriginState DestState Dest  CRSElapsedTime  ArrDelay  \\\n",
       "1607                             5030    LAX          CA        NM  ABQ           110.0      14.0   \n",
       "1608                             5775    LAX          CA        NM  ABQ           105.0      37.0   \n",
       "1609                             2251    LAX          CA        GA  ATL           260.0     -12.0   \n",
       "1610                             6144    LAX          CA        GA  ATL           260.0       4.0   \n",
       "1611                             2379    LAX          CA        TX  AUS           175.0      -7.0   \n",
       "\n",
       "      Distance  DistanceGroup  precip_sum  ARR_HOUR  DEP_HOUR DOM_DIRECTION  flight_freq  \\\n",
       "1607     677.0              3         0.0        14        11          East           32   \n",
       "1608     677.0              3         0.0        20        17          East           32   \n",
       "1609    1947.0              8         0.0        14         7          East           19   \n",
       "1610    1947.0              8         0.0        18        11          East           32   \n",
       "1611    1242.0              5         0.0        11         6          East           27   \n",
       "\n",
       "      flight_delay_freq  LoadFactor  STATUS  \n",
       "1607              80.50    0.870382       0  \n",
       "1608              27.25    0.870382       1  \n",
       "1609             -13.00    0.956296       0  \n",
       "1610              21.00    0.956296       0  \n",
       "1611              -0.50    0.808608       0  "
      ]
     },
     "execution_count": 371,
     "metadata": {},
     "output_type": "execute_result"
    }
   ],
   "source": [
    "name.head()"
   ]
  },
  {
   "cell_type": "code",
   "execution_count": 372,
   "metadata": {
    "ExecuteTime": {
     "end_time": "2019-05-02T15:48:35.649187Z",
     "start_time": "2019-05-02T15:48:35.630671Z"
    }
   },
   "outputs": [
    {
     "data": {
      "text/plain": [
       "0    171587\n",
       "1     40120\n",
       "Name: STATUS, dtype: int64"
      ]
     },
     "execution_count": 372,
     "metadata": {},
     "output_type": "execute_result"
    }
   ],
   "source": [
    "name.STATUS.value_counts()"
   ]
  },
  {
   "cell_type": "code",
   "execution_count": 373,
   "metadata": {
    "ExecuteTime": {
     "end_time": "2019-05-02T15:48:37.015985Z",
     "start_time": "2019-05-02T15:48:36.725102Z"
    }
   },
   "outputs": [
    {
     "name": "stdout",
     "output_type": "stream",
     "text": [
      "Delay percentage: 0.1895071962665382\n"
     ]
    }
   ],
   "source": [
    "down = name[name.STATUS == 1]\n",
    "up = name[name.STATUS == 0]\n",
    "down = down.Reporting_Airline.count()\n",
    "up = up.Reporting_Airline.count()\n",
    "print(f'Delay percentage: {down/(up+down)}')"
   ]
  },
  {
   "cell_type": "markdown",
   "metadata": {},
   "source": [
    "### Resampling (if required)"
   ]
  },
  {
   "cell_type": "code",
   "execution_count": 28,
   "metadata": {
    "ExecuteTime": {
     "end_time": "2019-04-24T14:14:08.345991Z",
     "start_time": "2019-04-24T14:14:08.067597Z"
    }
   },
   "outputs": [
    {
     "data": {
      "text/plain": [
       "'from sklearn.utils import resample'"
      ]
     },
     "execution_count": 28,
     "metadata": {},
     "output_type": "execute_result"
    }
   ],
   "source": [
    "'''from sklearn.utils import resample'''"
   ]
  },
  {
   "cell_type": "code",
   "execution_count": 29,
   "metadata": {
    "ExecuteTime": {
     "end_time": "2019-04-24T14:14:08.624692Z",
     "start_time": "2019-04-24T14:14:08.618079Z"
    },
    "scrolled": true
   },
   "outputs": [
    {
     "data": {
      "text/plain": [
       "'# Separate majority and minority classes\\ndf_majority = name[name.STATUS==0]\\ndf_minority = name[name.STATUS==1]\\n \\n# Upsample minority class\\ndf_minority_upsampled = resample(df_minority, \\n                                 replace=True,     # sample with replacement\\n                                 n_samples=up,    # to match majority class\\n                                 random_state=42) # reproducible results\\n \\n# Combine majority class with upsampled minority class\\ndf_upsampled = pd.concat([df_majority, df_minority_upsampled])\\n \\n# Display new class counts\\ndf_upsampled.STATUS.value_counts()'"
      ]
     },
     "execution_count": 29,
     "metadata": {},
     "output_type": "execute_result"
    }
   ],
   "source": [
    "'''# Separate majority and minority classes\n",
    "df_majority = name[name.STATUS==0]\n",
    "df_minority = name[name.STATUS==1]\n",
    " \n",
    "# Upsample minority class\n",
    "df_minority_upsampled = resample(df_minority, \n",
    "                                 replace=True,     # sample with replacement\n",
    "                                 n_samples=up,    # to match majority class\n",
    "                                 random_state=42) # reproducible results\n",
    " \n",
    "# Combine majority class with upsampled minority class\n",
    "df_upsampled = pd.concat([df_majority, df_minority_upsampled])\n",
    " \n",
    "# Display new class counts\n",
    "df_upsampled.STATUS.value_counts()'''"
   ]
  },
  {
   "cell_type": "code",
   "execution_count": 30,
   "metadata": {
    "ExecuteTime": {
     "end_time": "2019-04-23T22:00:06.563148Z",
     "start_time": "2019-04-23T22:00:04.692153Z"
    },
    "code_folding": []
   },
   "outputs": [
    {
     "data": {
      "text/plain": [
       "\"#let's first separate majority class and minority class and resample\\n\\ndf_majority = name[name.STATUS == 0]\\ndf_minority = name[name.STATUS == 1]\\n\\n\\n# Downsample majority class\\ndf_majority_downsampled = resample(df_majority, \\n                                 replace=False,    # sample without replacement\\n                                 n_samples=down,     # to match minority class\\n                                 random_state=42) # reproducible results\\n# combine the new dataframes\\ndf_downsampled = pd.concat([df_majority_downsampled, df_minority])\\n\\ndf_downsampled.STATUS.value_counts()\""
      ]
     },
     "execution_count": 30,
     "metadata": {},
     "output_type": "execute_result"
    }
   ],
   "source": [
    "'''#let's first separate majority class and minority class and resample\n",
    "\n",
    "df_majority = name[name.STATUS == 0]\n",
    "df_minority = name[name.STATUS == 1]\n",
    "\n",
    "\n",
    "# Downsample majority class\n",
    "df_majority_downsampled = resample(df_majority, \n",
    "                                 replace=False,    # sample without replacement\n",
    "                                 n_samples=down,     # to match minority class\n",
    "                                 random_state=42) # reproducible results\n",
    "# combine the new dataframes\n",
    "df_downsampled = pd.concat([df_majority_downsampled, df_minority])\n",
    "\n",
    "df_downsample'd.STATUS.value_counts()'''"
   ]
  },
  {
   "cell_type": "code",
   "execution_count": 31,
   "metadata": {
    "ExecuteTime": {
     "end_time": "2019-04-23T22:00:06.903159Z",
     "start_time": "2019-04-23T22:00:06.899977Z"
    }
   },
   "outputs": [
    {
     "data": {
      "text/plain": [
       "'name = df_downsampled'"
      ]
     },
     "execution_count": 31,
     "metadata": {},
     "output_type": "execute_result"
    }
   ],
   "source": [
    "'''name = df_downsampled'''"
   ]
  },
  {
   "cell_type": "markdown",
   "metadata": {},
   "source": [
    "### LabelEncoder"
   ]
  },
  {
   "cell_type": "code",
   "execution_count": 374,
   "metadata": {
    "ExecuteTime": {
     "end_time": "2019-05-02T15:48:43.129551Z",
     "start_time": "2019-05-02T15:48:43.125917Z"
    }
   },
   "outputs": [],
   "source": [
    "from sklearn.preprocessing import OneHotEncoder, LabelEncoder"
   ]
  },
  {
   "cell_type": "code",
   "execution_count": 375,
   "metadata": {
    "ExecuteTime": {
     "end_time": "2019-05-02T15:48:51.335341Z",
     "start_time": "2019-05-02T15:48:44.112800Z"
    }
   },
   "outputs": [
    {
     "name": "stderr",
     "output_type": "stream",
     "text": [
      "/Users/dmitriykats/anaconda3/lib/python3.7/site-packages/ipykernel_launcher.py:2: SettingWithCopyWarning: \n",
      "A value is trying to be set on a copy of a slice from a DataFrame.\n",
      "Try using .loc[row_indexer,col_indexer] = value instead\n",
      "\n",
      "See the caveats in the documentation: http://pandas.pydata.org/pandas-docs/stable/indexing.html#indexing-view-versus-copy\n",
      "  \n",
      "/Users/dmitriykats/anaconda3/lib/python3.7/site-packages/ipykernel_launcher.py:3: SettingWithCopyWarning: \n",
      "A value is trying to be set on a copy of a slice from a DataFrame.\n",
      "Try using .loc[row_indexer,col_indexer] = value instead\n",
      "\n",
      "See the caveats in the documentation: http://pandas.pydata.org/pandas-docs/stable/indexing.html#indexing-view-versus-copy\n",
      "  This is separate from the ipykernel package so we can avoid doing imports until\n",
      "/Users/dmitriykats/anaconda3/lib/python3.7/site-packages/ipykernel_launcher.py:4: SettingWithCopyWarning: \n",
      "A value is trying to be set on a copy of a slice from a DataFrame.\n",
      "Try using .loc[row_indexer,col_indexer] = value instead\n",
      "\n",
      "See the caveats in the documentation: http://pandas.pydata.org/pandas-docs/stable/indexing.html#indexing-view-versus-copy\n",
      "  after removing the cwd from sys.path.\n",
      "/Users/dmitriykats/anaconda3/lib/python3.7/site-packages/ipykernel_launcher.py:5: SettingWithCopyWarning: \n",
      "A value is trying to be set on a copy of a slice from a DataFrame.\n",
      "Try using .loc[row_indexer,col_indexer] = value instead\n",
      "\n",
      "See the caveats in the documentation: http://pandas.pydata.org/pandas-docs/stable/indexing.html#indexing-view-versus-copy\n",
      "  \"\"\"\n",
      "/Users/dmitriykats/anaconda3/lib/python3.7/site-packages/ipykernel_launcher.py:6: SettingWithCopyWarning: \n",
      "A value is trying to be set on a copy of a slice from a DataFrame.\n",
      "Try using .loc[row_indexer,col_indexer] = value instead\n",
      "\n",
      "See the caveats in the documentation: http://pandas.pydata.org/pandas-docs/stable/indexing.html#indexing-view-versus-copy\n",
      "  \n",
      "/Users/dmitriykats/anaconda3/lib/python3.7/site-packages/ipykernel_launcher.py:7: SettingWithCopyWarning: \n",
      "A value is trying to be set on a copy of a slice from a DataFrame.\n",
      "Try using .loc[row_indexer,col_indexer] = value instead\n",
      "\n",
      "See the caveats in the documentation: http://pandas.pydata.org/pandas-docs/stable/indexing.html#indexing-view-versus-copy\n",
      "  import sys\n",
      "/Users/dmitriykats/anaconda3/lib/python3.7/site-packages/ipykernel_launcher.py:8: SettingWithCopyWarning: \n",
      "A value is trying to be set on a copy of a slice from a DataFrame.\n",
      "Try using .loc[row_indexer,col_indexer] = value instead\n",
      "\n",
      "See the caveats in the documentation: http://pandas.pydata.org/pandas-docs/stable/indexing.html#indexing-view-versus-copy\n",
      "  \n"
     ]
    }
   ],
   "source": [
    "le = LabelEncoder()\n",
    "name['Reporting_Airline'] = le.fit_transform(name.Reporting_Airline.values)\n",
    "name['Tail_Number'] = le.fit_transform(name.Tail_Number.values)\n",
    "name['Origin'] = le.fit_transform(name.Origin.values)\n",
    "name['Dest'] = le.fit_transform(name.Dest.values)\n",
    "name['DOM_DIRECTION'] = le.fit_transform(name.DOM_DIRECTION.values)\n",
    "name['OriginState'] = le.fit_transform(name.OriginState.values)\n",
    "name['DestState'] = le.fit_transform(name.DestState.values)"
   ]
  },
  {
   "cell_type": "code",
   "execution_count": 376,
   "metadata": {
    "ExecuteTime": {
     "end_time": "2019-05-02T15:48:52.471271Z",
     "start_time": "2019-05-02T15:48:52.444428Z"
    },
    "scrolled": true
   },
   "outputs": [
    {
     "data": {
      "text/html": [
       "<div>\n",
       "<style scoped>\n",
       "    .dataframe tbody tr th:only-of-type {\n",
       "        vertical-align: middle;\n",
       "    }\n",
       "\n",
       "    .dataframe tbody tr th {\n",
       "        vertical-align: top;\n",
       "    }\n",
       "\n",
       "    .dataframe thead th {\n",
       "        text-align: right;\n",
       "    }\n",
       "</style>\n",
       "<table border=\"1\" class=\"dataframe\">\n",
       "  <thead>\n",
       "    <tr style=\"text-align: right;\">\n",
       "      <th></th>\n",
       "      <th>Quarter</th>\n",
       "      <th>Month</th>\n",
       "      <th>DayofMonth</th>\n",
       "      <th>DayOfWeek</th>\n",
       "      <th>FlightDate</th>\n",
       "      <th>Reporting_Airline</th>\n",
       "      <th>Tail_Number</th>\n",
       "      <th>Flight_Number_Reporting_Airline</th>\n",
       "      <th>Origin</th>\n",
       "      <th>OriginState</th>\n",
       "      <th>DestState</th>\n",
       "      <th>Dest</th>\n",
       "      <th>CRSElapsedTime</th>\n",
       "      <th>ArrDelay</th>\n",
       "      <th>Distance</th>\n",
       "      <th>DistanceGroup</th>\n",
       "      <th>precip_sum</th>\n",
       "      <th>ARR_HOUR</th>\n",
       "      <th>DEP_HOUR</th>\n",
       "      <th>DOM_DIRECTION</th>\n",
       "      <th>flight_freq</th>\n",
       "      <th>flight_delay_freq</th>\n",
       "      <th>LoadFactor</th>\n",
       "      <th>STATUS</th>\n",
       "    </tr>\n",
       "  </thead>\n",
       "  <tbody>\n",
       "    <tr>\n",
       "      <th>1607</th>\n",
       "      <td>2</td>\n",
       "      <td>5</td>\n",
       "      <td>13</td>\n",
       "      <td>6</td>\n",
       "      <td>2017-05-13 00:00:00</td>\n",
       "      <td>10</td>\n",
       "      <td>392</td>\n",
       "      <td>5030</td>\n",
       "      <td>0</td>\n",
       "      <td>0</td>\n",
       "      <td>22</td>\n",
       "      <td>0</td>\n",
       "      <td>110.0</td>\n",
       "      <td>14.0</td>\n",
       "      <td>677.0</td>\n",
       "      <td>3</td>\n",
       "      <td>0.0</td>\n",
       "      <td>14</td>\n",
       "      <td>11</td>\n",
       "      <td>0</td>\n",
       "      <td>32</td>\n",
       "      <td>80.50</td>\n",
       "      <td>0.870382</td>\n",
       "      <td>0</td>\n",
       "    </tr>\n",
       "    <tr>\n",
       "      <th>1608</th>\n",
       "      <td>2</td>\n",
       "      <td>5</td>\n",
       "      <td>13</td>\n",
       "      <td>6</td>\n",
       "      <td>2017-05-13 00:00:00</td>\n",
       "      <td>10</td>\n",
       "      <td>2583</td>\n",
       "      <td>5775</td>\n",
       "      <td>0</td>\n",
       "      <td>0</td>\n",
       "      <td>22</td>\n",
       "      <td>0</td>\n",
       "      <td>105.0</td>\n",
       "      <td>37.0</td>\n",
       "      <td>677.0</td>\n",
       "      <td>3</td>\n",
       "      <td>0.0</td>\n",
       "      <td>20</td>\n",
       "      <td>17</td>\n",
       "      <td>0</td>\n",
       "      <td>32</td>\n",
       "      <td>27.25</td>\n",
       "      <td>0.870382</td>\n",
       "      <td>1</td>\n",
       "    </tr>\n",
       "    <tr>\n",
       "      <th>1609</th>\n",
       "      <td>2</td>\n",
       "      <td>5</td>\n",
       "      <td>13</td>\n",
       "      <td>6</td>\n",
       "      <td>2017-05-13 00:00:00</td>\n",
       "      <td>10</td>\n",
       "      <td>2285</td>\n",
       "      <td>2251</td>\n",
       "      <td>0</td>\n",
       "      <td>0</td>\n",
       "      <td>6</td>\n",
       "      <td>3</td>\n",
       "      <td>260.0</td>\n",
       "      <td>-12.0</td>\n",
       "      <td>1947.0</td>\n",
       "      <td>8</td>\n",
       "      <td>0.0</td>\n",
       "      <td>14</td>\n",
       "      <td>7</td>\n",
       "      <td>0</td>\n",
       "      <td>19</td>\n",
       "      <td>-13.00</td>\n",
       "      <td>0.956296</td>\n",
       "      <td>0</td>\n",
       "    </tr>\n",
       "    <tr>\n",
       "      <th>1610</th>\n",
       "      <td>2</td>\n",
       "      <td>5</td>\n",
       "      <td>13</td>\n",
       "      <td>6</td>\n",
       "      <td>2017-05-13 00:00:00</td>\n",
       "      <td>10</td>\n",
       "      <td>3149</td>\n",
       "      <td>6144</td>\n",
       "      <td>0</td>\n",
       "      <td>0</td>\n",
       "      <td>6</td>\n",
       "      <td>3</td>\n",
       "      <td>260.0</td>\n",
       "      <td>4.0</td>\n",
       "      <td>1947.0</td>\n",
       "      <td>8</td>\n",
       "      <td>0.0</td>\n",
       "      <td>18</td>\n",
       "      <td>11</td>\n",
       "      <td>0</td>\n",
       "      <td>32</td>\n",
       "      <td>21.00</td>\n",
       "      <td>0.956296</td>\n",
       "      <td>0</td>\n",
       "    </tr>\n",
       "    <tr>\n",
       "      <th>1611</th>\n",
       "      <td>2</td>\n",
       "      <td>5</td>\n",
       "      <td>13</td>\n",
       "      <td>6</td>\n",
       "      <td>2017-05-13 00:00:00</td>\n",
       "      <td>10</td>\n",
       "      <td>3354</td>\n",
       "      <td>2379</td>\n",
       "      <td>0</td>\n",
       "      <td>0</td>\n",
       "      <td>30</td>\n",
       "      <td>4</td>\n",
       "      <td>175.0</td>\n",
       "      <td>-7.0</td>\n",
       "      <td>1242.0</td>\n",
       "      <td>5</td>\n",
       "      <td>0.0</td>\n",
       "      <td>11</td>\n",
       "      <td>6</td>\n",
       "      <td>0</td>\n",
       "      <td>27</td>\n",
       "      <td>-0.50</td>\n",
       "      <td>0.808608</td>\n",
       "      <td>0</td>\n",
       "    </tr>\n",
       "  </tbody>\n",
       "</table>\n",
       "</div>"
      ],
      "text/plain": [
       "      Quarter  Month  DayofMonth  DayOfWeek           FlightDate  Reporting_Airline  Tail_Number  \\\n",
       "1607        2      5          13          6  2017-05-13 00:00:00                 10          392   \n",
       "1608        2      5          13          6  2017-05-13 00:00:00                 10         2583   \n",
       "1609        2      5          13          6  2017-05-13 00:00:00                 10         2285   \n",
       "1610        2      5          13          6  2017-05-13 00:00:00                 10         3149   \n",
       "1611        2      5          13          6  2017-05-13 00:00:00                 10         3354   \n",
       "\n",
       "      Flight_Number_Reporting_Airline  Origin  OriginState  DestState  Dest  CRSElapsedTime  \\\n",
       "1607                             5030       0            0         22     0           110.0   \n",
       "1608                             5775       0            0         22     0           105.0   \n",
       "1609                             2251       0            0          6     3           260.0   \n",
       "1610                             6144       0            0          6     3           260.0   \n",
       "1611                             2379       0            0         30     4           175.0   \n",
       "\n",
       "      ArrDelay  Distance  DistanceGroup  precip_sum  ARR_HOUR  DEP_HOUR  DOM_DIRECTION  \\\n",
       "1607      14.0     677.0              3         0.0        14        11              0   \n",
       "1608      37.0     677.0              3         0.0        20        17              0   \n",
       "1609     -12.0    1947.0              8         0.0        14         7              0   \n",
       "1610       4.0    1947.0              8         0.0        18        11              0   \n",
       "1611      -7.0    1242.0              5         0.0        11         6              0   \n",
       "\n",
       "      flight_freq  flight_delay_freq  LoadFactor  STATUS  \n",
       "1607           32              80.50    0.870382       0  \n",
       "1608           32              27.25    0.870382       1  \n",
       "1609           19             -13.00    0.956296       0  \n",
       "1610           32              21.00    0.956296       0  \n",
       "1611           27              -0.50    0.808608       0  "
      ]
     },
     "execution_count": 376,
     "metadata": {},
     "output_type": "execute_result"
    }
   ],
   "source": [
    "name.head()"
   ]
  },
  {
   "cell_type": "markdown",
   "metadata": {},
   "source": [
    "# Random Forrest Model"
   ]
  },
  {
   "cell_type": "markdown",
   "metadata": {},
   "source": [
    "Original run is on the entire 2017 dataset, with no feature engineering, only encoding departure and arrival hour blocks: Accuracy=82.5% AUC=0.738 with n_estimators=100."
   ]
  },
  {
   "cell_type": "markdown",
   "metadata": {},
   "source": [
    "Features to add: Seperater the data by month, log_distance, direction of flight (S to N & E to W), cluster regions of origin, cluster regions of arrival (West, South, Midwest, East), upsample or downsample to remove imbalance. "
   ]
  },
  {
   "cell_type": "code",
   "execution_count": 377,
   "metadata": {
    "ExecuteTime": {
     "end_time": "2019-05-02T15:48:53.844964Z",
     "start_time": "2019-05-02T15:48:53.836741Z"
    },
    "scrolled": true
   },
   "outputs": [
    {
     "data": {
      "text/plain": [
       "Index(['Quarter', 'Month', 'DayofMonth', 'DayOfWeek', 'FlightDate', 'Reporting_Airline',\n",
       "       'Tail_Number', 'Flight_Number_Reporting_Airline', 'Origin', 'OriginState', 'DestState',\n",
       "       'Dest', 'CRSElapsedTime', 'ArrDelay', 'Distance', 'DistanceGroup', 'precip_sum', 'ARR_HOUR',\n",
       "       'DEP_HOUR', 'DOM_DIRECTION', 'flight_freq', 'flight_delay_freq', 'LoadFactor', 'STATUS'],\n",
       "      dtype='object')"
      ]
     },
     "execution_count": 377,
     "metadata": {},
     "output_type": "execute_result"
    }
   ],
   "source": [
    "name.columns"
   ]
  },
  {
   "cell_type": "code",
   "execution_count": 378,
   "metadata": {
    "ExecuteTime": {
     "end_time": "2019-05-02T15:48:55.844765Z",
     "start_time": "2019-05-02T15:48:55.809960Z"
    },
    "scrolled": true
   },
   "outputs": [
    {
     "data": {
      "text/html": [
       "<div>\n",
       "<style scoped>\n",
       "    .dataframe tbody tr th:only-of-type {\n",
       "        vertical-align: middle;\n",
       "    }\n",
       "\n",
       "    .dataframe tbody tr th {\n",
       "        vertical-align: top;\n",
       "    }\n",
       "\n",
       "    .dataframe thead th {\n",
       "        text-align: right;\n",
       "    }\n",
       "</style>\n",
       "<table border=\"1\" class=\"dataframe\">\n",
       "  <thead>\n",
       "    <tr style=\"text-align: right;\">\n",
       "      <th></th>\n",
       "      <th>Quarter</th>\n",
       "      <th>Month</th>\n",
       "      <th>DayofMonth</th>\n",
       "      <th>DayOfWeek</th>\n",
       "      <th>FlightDate</th>\n",
       "      <th>Reporting_Airline</th>\n",
       "      <th>Tail_Number</th>\n",
       "      <th>Flight_Number_Reporting_Airline</th>\n",
       "      <th>Origin</th>\n",
       "      <th>OriginState</th>\n",
       "      <th>DestState</th>\n",
       "      <th>Dest</th>\n",
       "      <th>CRSElapsedTime</th>\n",
       "      <th>ArrDelay</th>\n",
       "      <th>Distance</th>\n",
       "      <th>DistanceGroup</th>\n",
       "      <th>precip_sum</th>\n",
       "      <th>ARR_HOUR</th>\n",
       "      <th>DEP_HOUR</th>\n",
       "      <th>DOM_DIRECTION</th>\n",
       "      <th>flight_freq</th>\n",
       "      <th>flight_delay_freq</th>\n",
       "      <th>LoadFactor</th>\n",
       "      <th>STATUS</th>\n",
       "    </tr>\n",
       "  </thead>\n",
       "  <tbody>\n",
       "    <tr>\n",
       "      <th>1607</th>\n",
       "      <td>2</td>\n",
       "      <td>5</td>\n",
       "      <td>13</td>\n",
       "      <td>6</td>\n",
       "      <td>2017-05-13 00:00:00</td>\n",
       "      <td>10</td>\n",
       "      <td>392</td>\n",
       "      <td>5030</td>\n",
       "      <td>0</td>\n",
       "      <td>0</td>\n",
       "      <td>22</td>\n",
       "      <td>0</td>\n",
       "      <td>110.0</td>\n",
       "      <td>14.0</td>\n",
       "      <td>677.0</td>\n",
       "      <td>3</td>\n",
       "      <td>0.0</td>\n",
       "      <td>14</td>\n",
       "      <td>11</td>\n",
       "      <td>0</td>\n",
       "      <td>32</td>\n",
       "      <td>80.50</td>\n",
       "      <td>0.870382</td>\n",
       "      <td>0</td>\n",
       "    </tr>\n",
       "    <tr>\n",
       "      <th>1608</th>\n",
       "      <td>2</td>\n",
       "      <td>5</td>\n",
       "      <td>13</td>\n",
       "      <td>6</td>\n",
       "      <td>2017-05-13 00:00:00</td>\n",
       "      <td>10</td>\n",
       "      <td>2583</td>\n",
       "      <td>5775</td>\n",
       "      <td>0</td>\n",
       "      <td>0</td>\n",
       "      <td>22</td>\n",
       "      <td>0</td>\n",
       "      <td>105.0</td>\n",
       "      <td>37.0</td>\n",
       "      <td>677.0</td>\n",
       "      <td>3</td>\n",
       "      <td>0.0</td>\n",
       "      <td>20</td>\n",
       "      <td>17</td>\n",
       "      <td>0</td>\n",
       "      <td>32</td>\n",
       "      <td>27.25</td>\n",
       "      <td>0.870382</td>\n",
       "      <td>1</td>\n",
       "    </tr>\n",
       "    <tr>\n",
       "      <th>1609</th>\n",
       "      <td>2</td>\n",
       "      <td>5</td>\n",
       "      <td>13</td>\n",
       "      <td>6</td>\n",
       "      <td>2017-05-13 00:00:00</td>\n",
       "      <td>10</td>\n",
       "      <td>2285</td>\n",
       "      <td>2251</td>\n",
       "      <td>0</td>\n",
       "      <td>0</td>\n",
       "      <td>6</td>\n",
       "      <td>3</td>\n",
       "      <td>260.0</td>\n",
       "      <td>-12.0</td>\n",
       "      <td>1947.0</td>\n",
       "      <td>8</td>\n",
       "      <td>0.0</td>\n",
       "      <td>14</td>\n",
       "      <td>7</td>\n",
       "      <td>0</td>\n",
       "      <td>19</td>\n",
       "      <td>-13.00</td>\n",
       "      <td>0.956296</td>\n",
       "      <td>0</td>\n",
       "    </tr>\n",
       "    <tr>\n",
       "      <th>1610</th>\n",
       "      <td>2</td>\n",
       "      <td>5</td>\n",
       "      <td>13</td>\n",
       "      <td>6</td>\n",
       "      <td>2017-05-13 00:00:00</td>\n",
       "      <td>10</td>\n",
       "      <td>3149</td>\n",
       "      <td>6144</td>\n",
       "      <td>0</td>\n",
       "      <td>0</td>\n",
       "      <td>6</td>\n",
       "      <td>3</td>\n",
       "      <td>260.0</td>\n",
       "      <td>4.0</td>\n",
       "      <td>1947.0</td>\n",
       "      <td>8</td>\n",
       "      <td>0.0</td>\n",
       "      <td>18</td>\n",
       "      <td>11</td>\n",
       "      <td>0</td>\n",
       "      <td>32</td>\n",
       "      <td>21.00</td>\n",
       "      <td>0.956296</td>\n",
       "      <td>0</td>\n",
       "    </tr>\n",
       "    <tr>\n",
       "      <th>1611</th>\n",
       "      <td>2</td>\n",
       "      <td>5</td>\n",
       "      <td>13</td>\n",
       "      <td>6</td>\n",
       "      <td>2017-05-13 00:00:00</td>\n",
       "      <td>10</td>\n",
       "      <td>3354</td>\n",
       "      <td>2379</td>\n",
       "      <td>0</td>\n",
       "      <td>0</td>\n",
       "      <td>30</td>\n",
       "      <td>4</td>\n",
       "      <td>175.0</td>\n",
       "      <td>-7.0</td>\n",
       "      <td>1242.0</td>\n",
       "      <td>5</td>\n",
       "      <td>0.0</td>\n",
       "      <td>11</td>\n",
       "      <td>6</td>\n",
       "      <td>0</td>\n",
       "      <td>27</td>\n",
       "      <td>-0.50</td>\n",
       "      <td>0.808608</td>\n",
       "      <td>0</td>\n",
       "    </tr>\n",
       "  </tbody>\n",
       "</table>\n",
       "</div>"
      ],
      "text/plain": [
       "      Quarter  Month  DayofMonth  DayOfWeek           FlightDate  Reporting_Airline  Tail_Number  \\\n",
       "1607        2      5          13          6  2017-05-13 00:00:00                 10          392   \n",
       "1608        2      5          13          6  2017-05-13 00:00:00                 10         2583   \n",
       "1609        2      5          13          6  2017-05-13 00:00:00                 10         2285   \n",
       "1610        2      5          13          6  2017-05-13 00:00:00                 10         3149   \n",
       "1611        2      5          13          6  2017-05-13 00:00:00                 10         3354   \n",
       "\n",
       "      Flight_Number_Reporting_Airline  Origin  OriginState  DestState  Dest  CRSElapsedTime  \\\n",
       "1607                             5030       0            0         22     0           110.0   \n",
       "1608                             5775       0            0         22     0           105.0   \n",
       "1609                             2251       0            0          6     3           260.0   \n",
       "1610                             6144       0            0          6     3           260.0   \n",
       "1611                             2379       0            0         30     4           175.0   \n",
       "\n",
       "      ArrDelay  Distance  DistanceGroup  precip_sum  ARR_HOUR  DEP_HOUR  DOM_DIRECTION  \\\n",
       "1607      14.0     677.0              3         0.0        14        11              0   \n",
       "1608      37.0     677.0              3         0.0        20        17              0   \n",
       "1609     -12.0    1947.0              8         0.0        14         7              0   \n",
       "1610       4.0    1947.0              8         0.0        18        11              0   \n",
       "1611      -7.0    1242.0              5         0.0        11         6              0   \n",
       "\n",
       "      flight_freq  flight_delay_freq  LoadFactor  STATUS  \n",
       "1607           32              80.50    0.870382       0  \n",
       "1608           32              27.25    0.870382       1  \n",
       "1609           19             -13.00    0.956296       0  \n",
       "1610           32              21.00    0.956296       0  \n",
       "1611           27              -0.50    0.808608       0  "
      ]
     },
     "execution_count": 378,
     "metadata": {},
     "output_type": "execute_result"
    }
   ],
   "source": [
    "name.head()"
   ]
  },
  {
   "cell_type": "code",
   "execution_count": 379,
   "metadata": {
    "ExecuteTime": {
     "end_time": "2019-05-02T15:48:57.703143Z",
     "start_time": "2019-05-02T15:48:57.652716Z"
    }
   },
   "outputs": [],
   "source": [
    "rand = name.drop(columns=['FlightDate', 'ArrDelay'])"
   ]
  },
  {
   "cell_type": "code",
   "execution_count": 380,
   "metadata": {
    "ExecuteTime": {
     "end_time": "2019-05-02T15:48:58.985673Z",
     "start_time": "2019-05-02T15:48:58.973479Z"
    }
   },
   "outputs": [
    {
     "data": {
      "text/plain": [
       "0    171587\n",
       "1     40120\n",
       "Name: STATUS, dtype: int64"
      ]
     },
     "execution_count": 380,
     "metadata": {},
     "output_type": "execute_result"
    }
   ],
   "source": [
    "rand.STATUS.value_counts()"
   ]
  },
  {
   "cell_type": "code",
   "execution_count": 381,
   "metadata": {
    "ExecuteTime": {
     "end_time": "2019-05-02T15:49:00.112894Z",
     "start_time": "2019-05-02T15:49:00.087266Z"
    },
    "scrolled": true
   },
   "outputs": [
    {
     "data": {
      "text/html": [
       "<div>\n",
       "<style scoped>\n",
       "    .dataframe tbody tr th:only-of-type {\n",
       "        vertical-align: middle;\n",
       "    }\n",
       "\n",
       "    .dataframe tbody tr th {\n",
       "        vertical-align: top;\n",
       "    }\n",
       "\n",
       "    .dataframe thead th {\n",
       "        text-align: right;\n",
       "    }\n",
       "</style>\n",
       "<table border=\"1\" class=\"dataframe\">\n",
       "  <thead>\n",
       "    <tr style=\"text-align: right;\">\n",
       "      <th></th>\n",
       "      <th>Quarter</th>\n",
       "      <th>Month</th>\n",
       "      <th>DayofMonth</th>\n",
       "      <th>DayOfWeek</th>\n",
       "      <th>Reporting_Airline</th>\n",
       "      <th>Tail_Number</th>\n",
       "      <th>Flight_Number_Reporting_Airline</th>\n",
       "      <th>Origin</th>\n",
       "      <th>OriginState</th>\n",
       "      <th>DestState</th>\n",
       "      <th>Dest</th>\n",
       "      <th>CRSElapsedTime</th>\n",
       "      <th>Distance</th>\n",
       "      <th>DistanceGroup</th>\n",
       "      <th>precip_sum</th>\n",
       "      <th>ARR_HOUR</th>\n",
       "      <th>DEP_HOUR</th>\n",
       "      <th>DOM_DIRECTION</th>\n",
       "      <th>flight_freq</th>\n",
       "      <th>flight_delay_freq</th>\n",
       "      <th>LoadFactor</th>\n",
       "      <th>STATUS</th>\n",
       "    </tr>\n",
       "  </thead>\n",
       "  <tbody>\n",
       "    <tr>\n",
       "      <th>1607</th>\n",
       "      <td>2</td>\n",
       "      <td>5</td>\n",
       "      <td>13</td>\n",
       "      <td>6</td>\n",
       "      <td>10</td>\n",
       "      <td>392</td>\n",
       "      <td>5030</td>\n",
       "      <td>0</td>\n",
       "      <td>0</td>\n",
       "      <td>22</td>\n",
       "      <td>0</td>\n",
       "      <td>110.0</td>\n",
       "      <td>677.0</td>\n",
       "      <td>3</td>\n",
       "      <td>0.0</td>\n",
       "      <td>14</td>\n",
       "      <td>11</td>\n",
       "      <td>0</td>\n",
       "      <td>32</td>\n",
       "      <td>80.50</td>\n",
       "      <td>0.870382</td>\n",
       "      <td>0</td>\n",
       "    </tr>\n",
       "    <tr>\n",
       "      <th>1608</th>\n",
       "      <td>2</td>\n",
       "      <td>5</td>\n",
       "      <td>13</td>\n",
       "      <td>6</td>\n",
       "      <td>10</td>\n",
       "      <td>2583</td>\n",
       "      <td>5775</td>\n",
       "      <td>0</td>\n",
       "      <td>0</td>\n",
       "      <td>22</td>\n",
       "      <td>0</td>\n",
       "      <td>105.0</td>\n",
       "      <td>677.0</td>\n",
       "      <td>3</td>\n",
       "      <td>0.0</td>\n",
       "      <td>20</td>\n",
       "      <td>17</td>\n",
       "      <td>0</td>\n",
       "      <td>32</td>\n",
       "      <td>27.25</td>\n",
       "      <td>0.870382</td>\n",
       "      <td>1</td>\n",
       "    </tr>\n",
       "    <tr>\n",
       "      <th>1609</th>\n",
       "      <td>2</td>\n",
       "      <td>5</td>\n",
       "      <td>13</td>\n",
       "      <td>6</td>\n",
       "      <td>10</td>\n",
       "      <td>2285</td>\n",
       "      <td>2251</td>\n",
       "      <td>0</td>\n",
       "      <td>0</td>\n",
       "      <td>6</td>\n",
       "      <td>3</td>\n",
       "      <td>260.0</td>\n",
       "      <td>1947.0</td>\n",
       "      <td>8</td>\n",
       "      <td>0.0</td>\n",
       "      <td>14</td>\n",
       "      <td>7</td>\n",
       "      <td>0</td>\n",
       "      <td>19</td>\n",
       "      <td>-13.00</td>\n",
       "      <td>0.956296</td>\n",
       "      <td>0</td>\n",
       "    </tr>\n",
       "    <tr>\n",
       "      <th>1610</th>\n",
       "      <td>2</td>\n",
       "      <td>5</td>\n",
       "      <td>13</td>\n",
       "      <td>6</td>\n",
       "      <td>10</td>\n",
       "      <td>3149</td>\n",
       "      <td>6144</td>\n",
       "      <td>0</td>\n",
       "      <td>0</td>\n",
       "      <td>6</td>\n",
       "      <td>3</td>\n",
       "      <td>260.0</td>\n",
       "      <td>1947.0</td>\n",
       "      <td>8</td>\n",
       "      <td>0.0</td>\n",
       "      <td>18</td>\n",
       "      <td>11</td>\n",
       "      <td>0</td>\n",
       "      <td>32</td>\n",
       "      <td>21.00</td>\n",
       "      <td>0.956296</td>\n",
       "      <td>0</td>\n",
       "    </tr>\n",
       "    <tr>\n",
       "      <th>1611</th>\n",
       "      <td>2</td>\n",
       "      <td>5</td>\n",
       "      <td>13</td>\n",
       "      <td>6</td>\n",
       "      <td>10</td>\n",
       "      <td>3354</td>\n",
       "      <td>2379</td>\n",
       "      <td>0</td>\n",
       "      <td>0</td>\n",
       "      <td>30</td>\n",
       "      <td>4</td>\n",
       "      <td>175.0</td>\n",
       "      <td>1242.0</td>\n",
       "      <td>5</td>\n",
       "      <td>0.0</td>\n",
       "      <td>11</td>\n",
       "      <td>6</td>\n",
       "      <td>0</td>\n",
       "      <td>27</td>\n",
       "      <td>-0.50</td>\n",
       "      <td>0.808608</td>\n",
       "      <td>0</td>\n",
       "    </tr>\n",
       "  </tbody>\n",
       "</table>\n",
       "</div>"
      ],
      "text/plain": [
       "      Quarter  Month  DayofMonth  DayOfWeek  Reporting_Airline  Tail_Number  \\\n",
       "1607        2      5          13          6                 10          392   \n",
       "1608        2      5          13          6                 10         2583   \n",
       "1609        2      5          13          6                 10         2285   \n",
       "1610        2      5          13          6                 10         3149   \n",
       "1611        2      5          13          6                 10         3354   \n",
       "\n",
       "      Flight_Number_Reporting_Airline  Origin  OriginState  DestState  Dest  CRSElapsedTime  \\\n",
       "1607                             5030       0            0         22     0           110.0   \n",
       "1608                             5775       0            0         22     0           105.0   \n",
       "1609                             2251       0            0          6     3           260.0   \n",
       "1610                             6144       0            0          6     3           260.0   \n",
       "1611                             2379       0            0         30     4           175.0   \n",
       "\n",
       "      Distance  DistanceGroup  precip_sum  ARR_HOUR  DEP_HOUR  DOM_DIRECTION  flight_freq  \\\n",
       "1607     677.0              3         0.0        14        11              0           32   \n",
       "1608     677.0              3         0.0        20        17              0           32   \n",
       "1609    1947.0              8         0.0        14         7              0           19   \n",
       "1610    1947.0              8         0.0        18        11              0           32   \n",
       "1611    1242.0              5         0.0        11         6              0           27   \n",
       "\n",
       "      flight_delay_freq  LoadFactor  STATUS  \n",
       "1607              80.50    0.870382       0  \n",
       "1608              27.25    0.870382       1  \n",
       "1609             -13.00    0.956296       0  \n",
       "1610              21.00    0.956296       0  \n",
       "1611              -0.50    0.808608       0  "
      ]
     },
     "execution_count": 381,
     "metadata": {},
     "output_type": "execute_result"
    }
   ],
   "source": [
    "rand.head()"
   ]
  },
  {
   "cell_type": "code",
   "execution_count": 382,
   "metadata": {
    "ExecuteTime": {
     "end_time": "2019-05-02T15:49:00.134437Z",
     "start_time": "2019-05-02T15:49:00.119741Z"
    }
   },
   "outputs": [],
   "source": [
    "rand = rand.fillna(0)"
   ]
  },
  {
   "cell_type": "code",
   "execution_count": 383,
   "metadata": {
    "ExecuteTime": {
     "end_time": "2019-05-02T15:49:02.728671Z",
     "start_time": "2019-05-02T15:49:02.712921Z"
    }
   },
   "outputs": [],
   "source": [
    "rand_encoded = rand.copy()"
   ]
  },
  {
   "cell_type": "markdown",
   "metadata": {},
   "source": [
    "#### OneHotEncoder"
   ]
  },
  {
   "cell_type": "code",
   "execution_count": 384,
   "metadata": {
    "ExecuteTime": {
     "end_time": "2019-05-02T15:49:06.200817Z",
     "start_time": "2019-05-02T15:49:06.195186Z"
    }
   },
   "outputs": [],
   "source": [
    "#objects = ['Reporting_Airline', 'Origin', 'Dest', 'DistanceGroup']\n",
    "dates = ['Quarter', 'Month','DayofMonth','DayOfWeek']\n",
    "#hours = ['ARR_HOUR', 'DEP_HOUR']\n",
    "#dist =  ['DistBins', 'DOM_DIRECTION']"
   ]
  },
  {
   "cell_type": "code",
   "execution_count": 385,
   "metadata": {
    "ExecuteTime": {
     "end_time": "2019-05-02T15:49:07.644792Z",
     "start_time": "2019-05-02T15:49:07.472020Z"
    },
    "scrolled": true
   },
   "outputs": [],
   "source": [
    "enc = OneHotEncoder(handle_unknown='ignore')\n",
    "dates_matrix = enc.fit_transform(rand_encoded[dates].values)\n",
    "#objects_matrix = enc.fit_transform(rand[objects].values)\n",
    "#hour_matrix = enc.fit_transform(rand[hours].values)\n",
    "#dist_matrix = enc.fit_transform(rand[dist].values)"
   ]
  },
  {
   "cell_type": "code",
   "execution_count": 386,
   "metadata": {
    "ExecuteTime": {
     "end_time": "2019-05-02T15:49:08.850560Z",
     "start_time": "2019-05-02T15:49:08.842615Z"
    },
    "scrolled": false
   },
   "outputs": [
    {
     "name": "stdout",
     "output_type": "stream",
     "text": [
      "Size is: 6.774624 MB\n"
     ]
    }
   ],
   "source": [
    "print(f'Size is: {dates_matrix.data.nbytes / 1000000} MB')\n",
    "#print(f'Size is: {objects_matrix.data.nbytes / 1000000} MB')\n",
    "#print(f'Size is: {hour_matrix.data.nbytes / 1000000} MB')\n",
    "#print(f'Size is: {dist_matrix.data.nbytes / 1000000} MB')"
   ]
  },
  {
   "cell_type": "code",
   "execution_count": 387,
   "metadata": {
    "ExecuteTime": {
     "end_time": "2019-05-02T15:49:12.247372Z",
     "start_time": "2019-05-02T15:49:12.218008Z"
    }
   },
   "outputs": [],
   "source": [
    "rand_encoded = rand_encoded.drop(columns=['Quarter', 'Month','DayofMonth','DayOfWeek'])"
   ]
  },
  {
   "cell_type": "code",
   "execution_count": 388,
   "metadata": {
    "ExecuteTime": {
     "end_time": "2019-05-02T15:49:13.264576Z",
     "start_time": "2019-05-02T15:49:13.246512Z"
    }
   },
   "outputs": [
    {
     "data": {
      "text/html": [
       "<div>\n",
       "<style scoped>\n",
       "    .dataframe tbody tr th:only-of-type {\n",
       "        vertical-align: middle;\n",
       "    }\n",
       "\n",
       "    .dataframe tbody tr th {\n",
       "        vertical-align: top;\n",
       "    }\n",
       "\n",
       "    .dataframe thead th {\n",
       "        text-align: right;\n",
       "    }\n",
       "</style>\n",
       "<table border=\"1\" class=\"dataframe\">\n",
       "  <thead>\n",
       "    <tr style=\"text-align: right;\">\n",
       "      <th></th>\n",
       "      <th>Reporting_Airline</th>\n",
       "      <th>Tail_Number</th>\n",
       "      <th>Flight_Number_Reporting_Airline</th>\n",
       "      <th>Origin</th>\n",
       "      <th>OriginState</th>\n",
       "      <th>DestState</th>\n",
       "      <th>Dest</th>\n",
       "      <th>CRSElapsedTime</th>\n",
       "      <th>Distance</th>\n",
       "      <th>DistanceGroup</th>\n",
       "      <th>precip_sum</th>\n",
       "      <th>ARR_HOUR</th>\n",
       "      <th>DEP_HOUR</th>\n",
       "      <th>DOM_DIRECTION</th>\n",
       "      <th>flight_freq</th>\n",
       "      <th>flight_delay_freq</th>\n",
       "      <th>LoadFactor</th>\n",
       "      <th>STATUS</th>\n",
       "    </tr>\n",
       "  </thead>\n",
       "  <tbody>\n",
       "    <tr>\n",
       "      <th>1607</th>\n",
       "      <td>10</td>\n",
       "      <td>392</td>\n",
       "      <td>5030</td>\n",
       "      <td>0</td>\n",
       "      <td>0</td>\n",
       "      <td>22</td>\n",
       "      <td>0</td>\n",
       "      <td>110.0</td>\n",
       "      <td>677.0</td>\n",
       "      <td>3</td>\n",
       "      <td>0.0</td>\n",
       "      <td>14</td>\n",
       "      <td>11</td>\n",
       "      <td>0</td>\n",
       "      <td>32</td>\n",
       "      <td>80.50</td>\n",
       "      <td>0.870382</td>\n",
       "      <td>0</td>\n",
       "    </tr>\n",
       "    <tr>\n",
       "      <th>1608</th>\n",
       "      <td>10</td>\n",
       "      <td>2583</td>\n",
       "      <td>5775</td>\n",
       "      <td>0</td>\n",
       "      <td>0</td>\n",
       "      <td>22</td>\n",
       "      <td>0</td>\n",
       "      <td>105.0</td>\n",
       "      <td>677.0</td>\n",
       "      <td>3</td>\n",
       "      <td>0.0</td>\n",
       "      <td>20</td>\n",
       "      <td>17</td>\n",
       "      <td>0</td>\n",
       "      <td>32</td>\n",
       "      <td>27.25</td>\n",
       "      <td>0.870382</td>\n",
       "      <td>1</td>\n",
       "    </tr>\n",
       "    <tr>\n",
       "      <th>1609</th>\n",
       "      <td>10</td>\n",
       "      <td>2285</td>\n",
       "      <td>2251</td>\n",
       "      <td>0</td>\n",
       "      <td>0</td>\n",
       "      <td>6</td>\n",
       "      <td>3</td>\n",
       "      <td>260.0</td>\n",
       "      <td>1947.0</td>\n",
       "      <td>8</td>\n",
       "      <td>0.0</td>\n",
       "      <td>14</td>\n",
       "      <td>7</td>\n",
       "      <td>0</td>\n",
       "      <td>19</td>\n",
       "      <td>-13.00</td>\n",
       "      <td>0.956296</td>\n",
       "      <td>0</td>\n",
       "    </tr>\n",
       "    <tr>\n",
       "      <th>1610</th>\n",
       "      <td>10</td>\n",
       "      <td>3149</td>\n",
       "      <td>6144</td>\n",
       "      <td>0</td>\n",
       "      <td>0</td>\n",
       "      <td>6</td>\n",
       "      <td>3</td>\n",
       "      <td>260.0</td>\n",
       "      <td>1947.0</td>\n",
       "      <td>8</td>\n",
       "      <td>0.0</td>\n",
       "      <td>18</td>\n",
       "      <td>11</td>\n",
       "      <td>0</td>\n",
       "      <td>32</td>\n",
       "      <td>21.00</td>\n",
       "      <td>0.956296</td>\n",
       "      <td>0</td>\n",
       "    </tr>\n",
       "    <tr>\n",
       "      <th>1611</th>\n",
       "      <td>10</td>\n",
       "      <td>3354</td>\n",
       "      <td>2379</td>\n",
       "      <td>0</td>\n",
       "      <td>0</td>\n",
       "      <td>30</td>\n",
       "      <td>4</td>\n",
       "      <td>175.0</td>\n",
       "      <td>1242.0</td>\n",
       "      <td>5</td>\n",
       "      <td>0.0</td>\n",
       "      <td>11</td>\n",
       "      <td>6</td>\n",
       "      <td>0</td>\n",
       "      <td>27</td>\n",
       "      <td>-0.50</td>\n",
       "      <td>0.808608</td>\n",
       "      <td>0</td>\n",
       "    </tr>\n",
       "  </tbody>\n",
       "</table>\n",
       "</div>"
      ],
      "text/plain": [
       "      Reporting_Airline  Tail_Number  Flight_Number_Reporting_Airline  Origin  OriginState  \\\n",
       "1607                 10          392                             5030       0            0   \n",
       "1608                 10         2583                             5775       0            0   \n",
       "1609                 10         2285                             2251       0            0   \n",
       "1610                 10         3149                             6144       0            0   \n",
       "1611                 10         3354                             2379       0            0   \n",
       "\n",
       "      DestState  Dest  CRSElapsedTime  Distance  DistanceGroup  precip_sum  ARR_HOUR  DEP_HOUR  \\\n",
       "1607         22     0           110.0     677.0              3         0.0        14        11   \n",
       "1608         22     0           105.0     677.0              3         0.0        20        17   \n",
       "1609          6     3           260.0    1947.0              8         0.0        14         7   \n",
       "1610          6     3           260.0    1947.0              8         0.0        18        11   \n",
       "1611         30     4           175.0    1242.0              5         0.0        11         6   \n",
       "\n",
       "      DOM_DIRECTION  flight_freq  flight_delay_freq  LoadFactor  STATUS  \n",
       "1607              0           32              80.50    0.870382       0  \n",
       "1608              0           32              27.25    0.870382       1  \n",
       "1609              0           19             -13.00    0.956296       0  \n",
       "1610              0           32              21.00    0.956296       0  \n",
       "1611              0           27              -0.50    0.808608       0  "
      ]
     },
     "execution_count": 388,
     "metadata": {},
     "output_type": "execute_result"
    }
   ],
   "source": [
    "rand_encoded.head()"
   ]
  },
  {
   "cell_type": "code",
   "execution_count": 389,
   "metadata": {
    "ExecuteTime": {
     "end_time": "2019-05-02T15:49:14.570272Z",
     "start_time": "2019-05-02T15:49:14.559882Z"
    }
   },
   "outputs": [],
   "source": [
    "rand_encoded = rand_encoded.fillna(0)"
   ]
  },
  {
   "cell_type": "markdown",
   "metadata": {},
   "source": [
    "#### Creating the feature matrix"
   ]
  },
  {
   "cell_type": "code",
   "execution_count": 390,
   "metadata": {
    "ExecuteTime": {
     "end_time": "2019-05-02T15:49:15.809195Z",
     "start_time": "2019-05-02T15:49:15.785058Z"
    }
   },
   "outputs": [],
   "source": [
    "df_array = rand_encoded.drop(columns=['STATUS']).values"
   ]
  },
  {
   "cell_type": "code",
   "execution_count": 391,
   "metadata": {
    "ExecuteTime": {
     "end_time": "2019-05-02T15:49:16.938417Z",
     "start_time": "2019-05-02T15:49:16.924536Z"
    }
   },
   "outputs": [],
   "source": [
    "df_matrix = np.asmatrix(df_array)"
   ]
  },
  {
   "cell_type": "code",
   "execution_count": 392,
   "metadata": {
    "ExecuteTime": {
     "end_time": "2019-05-02T15:49:17.966714Z",
     "start_time": "2019-05-02T15:49:17.886610Z"
    },
    "scrolled": true
   },
   "outputs": [],
   "source": [
    "# Feature Scaling\n",
    "from sklearn.preprocessing import StandardScaler\n",
    "sc = StandardScaler()\n",
    "df_matrix = sc.fit_transform(df_matrix)"
   ]
  },
  {
   "cell_type": "code",
   "execution_count": 393,
   "metadata": {
    "ExecuteTime": {
     "end_time": "2019-05-02T15:49:19.178702Z",
     "start_time": "2019-05-02T15:49:18.976435Z"
    }
   },
   "outputs": [],
   "source": [
    "from scipy.sparse import hstack\n",
    "X_final_rand = hstack((dates_matrix, df_matrix))"
   ]
  },
  {
   "cell_type": "code",
   "execution_count": 394,
   "metadata": {
    "ExecuteTime": {
     "end_time": "2019-05-02T15:49:20.450678Z",
     "start_time": "2019-05-02T15:49:20.446791Z"
    }
   },
   "outputs": [
    {
     "name": "stdout",
     "output_type": "stream",
     "text": [
      "Size is: 32.179464 MB\n"
     ]
    }
   ],
   "source": [
    "print(f'Size is: {X_final_rand.data.nbytes / 1000000} MB')"
   ]
  },
  {
   "cell_type": "code",
   "execution_count": 395,
   "metadata": {
    "ExecuteTime": {
     "end_time": "2019-05-02T15:49:21.352817Z",
     "start_time": "2019-05-02T15:49:21.318802Z"
    }
   },
   "outputs": [],
   "source": [
    "y = rand.STATUS.values\n",
    "X = X_final_rand"
   ]
  },
  {
   "cell_type": "code",
   "execution_count": 396,
   "metadata": {
    "ExecuteTime": {
     "end_time": "2019-05-02T15:49:23.785866Z",
     "start_time": "2019-05-02T15:49:23.782810Z"
    }
   },
   "outputs": [],
   "source": [
    "#cols = rand.drop(columns='STATUS').columns"
   ]
  },
  {
   "cell_type": "code",
   "execution_count": 397,
   "metadata": {
    "ExecuteTime": {
     "end_time": "2019-05-02T15:49:25.662840Z",
     "start_time": "2019-05-02T15:49:25.483821Z"
    }
   },
   "outputs": [],
   "source": [
    "from sklearn.model_selection import train_test_split\n",
    "X_train, X_test, y_train, y_test = train_test_split(X, y, test_size = 0.2, random_state=42)"
   ]
  },
  {
   "cell_type": "code",
   "execution_count": 398,
   "metadata": {
    "ExecuteTime": {
     "end_time": "2019-05-02T15:49:27.161581Z",
     "start_time": "2019-05-02T15:49:27.156390Z"
    }
   },
   "outputs": [],
   "source": [
    "from sklearn.ensemble import RandomForestClassifier\n",
    "\n",
    "clf_rand=RandomForestClassifier(n_estimators=150)"
   ]
  },
  {
   "cell_type": "code",
   "execution_count": 399,
   "metadata": {
    "ExecuteTime": {
     "end_time": "2019-05-02T16:03:53.442084Z",
     "start_time": "2019-05-02T15:49:28.511336Z"
    },
    "scrolled": true
   },
   "outputs": [
    {
     "data": {
      "text/plain": [
       "RandomForestClassifier(bootstrap=True, class_weight=None, criterion='gini',\n",
       "            max_depth=None, max_features='auto', max_leaf_nodes=None,\n",
       "            min_impurity_decrease=0.0, min_impurity_split=None,\n",
       "            min_samples_leaf=1, min_samples_split=2,\n",
       "            min_weight_fraction_leaf=0.0, n_estimators=150, n_jobs=None,\n",
       "            oob_score=False, random_state=None, verbose=0,\n",
       "            warm_start=False)"
      ]
     },
     "execution_count": 399,
     "metadata": {},
     "output_type": "execute_result"
    }
   ],
   "source": [
    "#Train the model using the training sets y_pred=clf.predict(X_test)\n",
    "clf_rand.fit(X_train,y_train)"
   ]
  },
  {
   "cell_type": "markdown",
   "metadata": {},
   "source": [
    "### Saving the model"
   ]
  },
  {
   "cell_type": "code",
   "execution_count": 156,
   "metadata": {
    "ExecuteTime": {
     "end_time": "2019-05-01T13:28:37.279683Z",
     "start_time": "2019-05-01T13:28:37.275251Z"
    }
   },
   "outputs": [],
   "source": [
    "import pickle"
   ]
  },
  {
   "cell_type": "code",
   "execution_count": 73,
   "metadata": {
    "ExecuteTime": {
     "end_time": "2019-04-28T15:35:43.989037Z",
     "start_time": "2019-04-28T15:34:57.291308Z"
    }
   },
   "outputs": [],
   "source": [
    "# save the model to disk\n",
    "filename = 'random_forest_model.sav'\n",
    "pickle.dump(clf_rand, open(filename, 'wb'))"
   ]
  },
  {
   "cell_type": "markdown",
   "metadata": {},
   "source": [
    "### Loading the model"
   ]
  },
  {
   "cell_type": "code",
   "execution_count": 158,
   "metadata": {
    "ExecuteTime": {
     "end_time": "2019-05-01T13:30:34.377346Z",
     "start_time": "2019-05-01T13:29:01.777087Z"
    }
   },
   "outputs": [],
   "source": [
    "# load the model from disk\n",
    "filename = 'random_forest_model.sav'\n",
    "loaded_model = pickle.load(open(filename, 'rb'))\n",
    "y_pred = loaded_model.predict(X_test)"
   ]
  },
  {
   "cell_type": "markdown",
   "metadata": {},
   "source": [
    "#### Predict"
   ]
  },
  {
   "cell_type": "code",
   "execution_count": 400,
   "metadata": {
    "ExecuteTime": {
     "end_time": "2019-05-02T16:03:59.943305Z",
     "start_time": "2019-05-02T16:03:54.497795Z"
    }
   },
   "outputs": [],
   "source": [
    "y_pred = clf_rand.predict(X_test)"
   ]
  },
  {
   "cell_type": "code",
   "execution_count": 401,
   "metadata": {
    "ExecuteTime": {
     "end_time": "2019-05-02T16:04:00.572915Z",
     "start_time": "2019-05-02T16:04:00.552843Z"
    }
   },
   "outputs": [
    {
     "name": "stdout",
     "output_type": "stream",
     "text": [
      "Accuracy: 0.8286807425251523\n"
     ]
    }
   ],
   "source": [
    "# Model Accuracy, how often is the classifier correct?\n",
    "from sklearn import metrics\n",
    "print(\"Accuracy:\",metrics.accuracy_score(y_test, y_pred))"
   ]
  },
  {
   "cell_type": "code",
   "execution_count": 402,
   "metadata": {
    "ExecuteTime": {
     "end_time": "2019-05-02T16:04:01.219118Z",
     "start_time": "2019-05-02T16:04:01.145307Z"
    }
   },
   "outputs": [
    {
     "data": {
      "text/plain": [
       "array([[33183,  1151],\n",
       "       [ 6103,  1905]])"
      ]
     },
     "execution_count": 402,
     "metadata": {},
     "output_type": "execute_result"
    }
   ],
   "source": [
    "# Making the Confusion Matrix\n",
    "from sklearn.metrics import confusion_matrix\n",
    "cm = confusion_matrix(y_test, y_pred)\n",
    "cm"
   ]
  },
  {
   "cell_type": "code",
   "execution_count": 403,
   "metadata": {
    "ExecuteTime": {
     "end_time": "2019-05-02T16:04:01.879880Z",
     "start_time": "2019-05-02T16:04:01.876461Z"
    }
   },
   "outputs": [],
   "source": [
    "from sklearn.metrics import f1_score"
   ]
  },
  {
   "cell_type": "code",
   "execution_count": 404,
   "metadata": {
    "ExecuteTime": {
     "end_time": "2019-05-02T16:04:02.486225Z",
     "start_time": "2019-05-02T16:04:02.464526Z"
    }
   },
   "outputs": [
    {
     "data": {
      "text/plain": [
       "0.796103237943382"
      ]
     },
     "execution_count": 404,
     "metadata": {},
     "output_type": "execute_result"
    }
   ],
   "source": [
    "f1_score(y_test, y_pred, average='weighted')"
   ]
  },
  {
   "cell_type": "code",
   "execution_count": 405,
   "metadata": {
    "ExecuteTime": {
     "end_time": "2019-05-02T16:04:03.163938Z",
     "start_time": "2019-05-02T16:04:03.160089Z"
    }
   },
   "outputs": [],
   "source": [
    "#find important features\n",
    "#feature_imp = pd.Series(clf_rand.feature_importances_,index=cols).sort_values(ascending=False)\n",
    "#feature_imp"
   ]
  },
  {
   "cell_type": "code",
   "execution_count": 406,
   "metadata": {
    "ExecuteTime": {
     "end_time": "2019-05-02T16:04:06.319533Z",
     "start_time": "2019-05-02T16:04:03.858312Z"
    }
   },
   "outputs": [],
   "source": [
    "y_prob = clf_rand.predict_proba(X_test)[::,1]"
   ]
  },
  {
   "cell_type": "code",
   "execution_count": 407,
   "metadata": {
    "ExecuteTime": {
     "end_time": "2019-05-02T16:04:06.947566Z",
     "start_time": "2019-05-02T16:04:06.935200Z"
    }
   },
   "outputs": [],
   "source": [
    "import matplotlib.pyplot as plt\n",
    "import matplotlib\n",
    "matplotlib.rcParams['figure.figsize'] = (10, 10)"
   ]
  },
  {
   "cell_type": "code",
   "execution_count": 408,
   "metadata": {
    "ExecuteTime": {
     "end_time": "2019-05-02T16:04:08.061303Z",
     "start_time": "2019-05-02T16:04:07.634225Z"
    }
   },
   "outputs": [
    {
     "data": {
      "image/png": "[encoded data removed]",
      "text/plain": [
       "<Figure size 720x720 with 1 Axes>"
      ]
     },
     "metadata": {
      "needs_background": "light"
     },
     "output_type": "display_data"
    }
   ],
   "source": [
    "y_pred_proba = y_prob\n",
    "fpr, tpr, _ = metrics.roc_curve(y_test,  y_pred_proba)\n",
    "auc = metrics.roc_auc_score(y_test, y_pred_proba)\n",
    "plt.plot(fpr,tpr,label=\"data 1, auc=\"+str(auc))\n",
    "plt.legend(loc=4)\n",
    "plt.title('ROC Curve')\n",
    "plt.show()"
   ]
  },
  {
   "cell_type": "markdown",
   "metadata": {},
   "source": [
    "### Extracting a single tree"
   ]
  },
  {
   "cell_type": "code",
   "execution_count": 169,
   "metadata": {
    "ExecuteTime": {
     "end_time": "2019-05-01T13:33:58.686374Z",
     "start_time": "2019-05-01T13:33:58.682138Z"
    }
   },
   "outputs": [],
   "source": [
    "estimator = loaded_model.estimators_[5]"
   ]
  },
  {
   "cell_type": "code",
   "execution_count": 171,
   "metadata": {
    "ExecuteTime": {
     "end_time": "2019-05-01T13:45:56.830704Z",
     "start_time": "2019-05-01T13:44:49.914638Z"
    }
   },
   "outputs": [],
   "source": [
    "from sklearn.tree import export_graphviz\n",
    "# Export as dot file\n",
    "export_graphviz(estimator, \n",
    "                out_file='tree.dot', \n",
    "                #feature_names = iris.feature_names,\n",
    "                #class_names = iris.target_names,\n",
    "                rounded = True, proportion = False, \n",
    "                precision = 2, filled = True)"
   ]
  },
  {
   "cell_type": "code",
   "execution_count": null,
   "metadata": {
    "ExecuteTime": {
     "start_time": "2019-05-01T14:06:09.204Z"
    }
   },
   "outputs": [],
   "source": [
    "import pydot\n",
    "\n",
    "(graph,) = pydot.graph_from_dot_file('tree.dot')\n",
    "graph.write_png('tree.png')"
   ]
  },
  {
   "cell_type": "code",
   "execution_count": null,
   "metadata": {},
   "outputs": [],
   "source": [
    "# Display in jupyter notebook\n",
    "from IPython.display import Image\n",
    "Image(filename = 'tree.png')"
   ]
  },
  {
   "cell_type": "code",
   "execution_count": null,
   "metadata": {},
   "outputs": [],
   "source": []
  },
  {
   "cell_type": "markdown",
   "metadata": {},
   "source": [
    "# Linear Regression"
   ]
  },
  {
   "cell_type": "markdown",
   "metadata": {},
   "source": [
    "### OneHotEncoder Linear Regression"
   ]
  },
  {
   "cell_type": "code",
   "execution_count": 213,
   "metadata": {
    "ExecuteTime": {
     "end_time": "2019-04-24T04:04:50.560696Z",
     "start_time": "2019-04-24T04:04:50.546130Z"
    },
    "scrolled": true
   },
   "outputs": [
    {
     "data": {
      "text/html": [
       "<div>\n",
       "<style scoped>\n",
       "    .dataframe tbody tr th:only-of-type {\n",
       "        vertical-align: middle;\n",
       "    }\n",
       "\n",
       "    .dataframe tbody tr th {\n",
       "        vertical-align: top;\n",
       "    }\n",
       "\n",
       "    .dataframe thead th {\n",
       "        text-align: right;\n",
       "    }\n",
       "</style>\n",
       "<table border=\"1\" class=\"dataframe\">\n",
       "  <thead>\n",
       "    <tr style=\"text-align: right;\">\n",
       "      <th></th>\n",
       "      <th>MONTH</th>\n",
       "      <th>DAY_OF_MONTH</th>\n",
       "      <th>DAY_OF_WEEK</th>\n",
       "      <th>FL_DATE</th>\n",
       "      <th>OP_CARRIER</th>\n",
       "      <th>ORIGIN</th>\n",
       "      <th>ORIGIN_STATE_ABR</th>\n",
       "      <th>DEST</th>\n",
       "      <th>DEST_STATE_ABR</th>\n",
       "      <th>ARR_DELAY</th>\n",
       "      <th>precip</th>\n",
       "      <th>DIST_BINS</th>\n",
       "      <th>ARR_HOUR</th>\n",
       "      <th>DEP_HOUR</th>\n",
       "      <th>WEEKEND</th>\n",
       "      <th>DOM_DIRECTION</th>\n",
       "      <th>STATUS</th>\n",
       "      <th>ORIGIN_SATE_ABR</th>\n",
       "      <th>DEST_SATE_ABR</th>\n",
       "    </tr>\n",
       "  </thead>\n",
       "  <tbody>\n",
       "    <tr>\n",
       "      <th>8950</th>\n",
       "      <td>3</td>\n",
       "      <td>1</td>\n",
       "      <td>3</td>\n",
       "      <td>2017-03-01 00:00:00</td>\n",
       "      <td>2</td>\n",
       "      <td>15</td>\n",
       "      <td>IL</td>\n",
       "      <td>176</td>\n",
       "      <td>WI</td>\n",
       "      <td>61.0</td>\n",
       "      <td>0.01</td>\n",
       "      <td>2</td>\n",
       "      <td>17</td>\n",
       "      <td>16</td>\n",
       "      <td>0</td>\n",
       "      <td>3</td>\n",
       "      <td>1</td>\n",
       "      <td>5</td>\n",
       "      <td>48</td>\n",
       "    </tr>\n",
       "    <tr>\n",
       "      <th>8952</th>\n",
       "      <td>3</td>\n",
       "      <td>1</td>\n",
       "      <td>3</td>\n",
       "      <td>2017-03-01 00:00:00</td>\n",
       "      <td>2</td>\n",
       "      <td>15</td>\n",
       "      <td>IL</td>\n",
       "      <td>176</td>\n",
       "      <td>WI</td>\n",
       "      <td>4.0</td>\n",
       "      <td>0.00</td>\n",
       "      <td>2</td>\n",
       "      <td>12</td>\n",
       "      <td>12</td>\n",
       "      <td>0</td>\n",
       "      <td>3</td>\n",
       "      <td>0</td>\n",
       "      <td>5</td>\n",
       "      <td>48</td>\n",
       "    </tr>\n",
       "    <tr>\n",
       "      <th>8953</th>\n",
       "      <td>3</td>\n",
       "      <td>1</td>\n",
       "      <td>3</td>\n",
       "      <td>2017-03-01 00:00:00</td>\n",
       "      <td>2</td>\n",
       "      <td>15</td>\n",
       "      <td>IL</td>\n",
       "      <td>95</td>\n",
       "      <td>IN</td>\n",
       "      <td>11.0</td>\n",
       "      <td>0.00</td>\n",
       "      <td>2</td>\n",
       "      <td>20</td>\n",
       "      <td>18</td>\n",
       "      <td>0</td>\n",
       "      <td>0</td>\n",
       "      <td>0</td>\n",
       "      <td>5</td>\n",
       "      <td>13</td>\n",
       "    </tr>\n",
       "    <tr>\n",
       "      <th>8955</th>\n",
       "      <td>3</td>\n",
       "      <td>1</td>\n",
       "      <td>3</td>\n",
       "      <td>2017-03-01 00:00:00</td>\n",
       "      <td>2</td>\n",
       "      <td>15</td>\n",
       "      <td>IL</td>\n",
       "      <td>103</td>\n",
       "      <td>MI</td>\n",
       "      <td>27.0</td>\n",
       "      <td>0.00</td>\n",
       "      <td>2</td>\n",
       "      <td>10</td>\n",
       "      <td>8</td>\n",
       "      <td>0</td>\n",
       "      <td>0</td>\n",
       "      <td>1</td>\n",
       "      <td>5</td>\n",
       "      <td>20</td>\n",
       "    </tr>\n",
       "    <tr>\n",
       "      <th>8957</th>\n",
       "      <td>3</td>\n",
       "      <td>1</td>\n",
       "      <td>3</td>\n",
       "      <td>2017-03-01 00:00:00</td>\n",
       "      <td>2</td>\n",
       "      <td>15</td>\n",
       "      <td>IL</td>\n",
       "      <td>28</td>\n",
       "      <td>IL</td>\n",
       "      <td>57.0</td>\n",
       "      <td>0.00</td>\n",
       "      <td>2</td>\n",
       "      <td>16</td>\n",
       "      <td>15</td>\n",
       "      <td>0</td>\n",
       "      <td>2</td>\n",
       "      <td>1</td>\n",
       "      <td>5</td>\n",
       "      <td>12</td>\n",
       "    </tr>\n",
       "  </tbody>\n",
       "</table>\n",
       "</div>"
      ],
      "text/plain": [
       "      MONTH  DAY_OF_MONTH  DAY_OF_WEEK              FL_DATE  OP_CARRIER  \\\n",
       "8950      3             1            3  2017-03-01 00:00:00           2   \n",
       "8952      3             1            3  2017-03-01 00:00:00           2   \n",
       "8953      3             1            3  2017-03-01 00:00:00           2   \n",
       "8955      3             1            3  2017-03-01 00:00:00           2   \n",
       "8957      3             1            3  2017-03-01 00:00:00           2   \n",
       "\n",
       "      ORIGIN ORIGIN_STATE_ABR  DEST DEST_STATE_ABR  ARR_DELAY  precip  \\\n",
       "8950      15               IL   176             WI       61.0    0.01   \n",
       "8952      15               IL   176             WI        4.0    0.00   \n",
       "8953      15               IL    95             IN       11.0    0.00   \n",
       "8955      15               IL   103             MI       27.0    0.00   \n",
       "8957      15               IL    28             IL       57.0    0.00   \n",
       "\n",
       "      DIST_BINS  ARR_HOUR  DEP_HOUR  WEEKEND  DOM_DIRECTION  STATUS  \\\n",
       "8950          2        17        16        0              3       1   \n",
       "8952          2        12        12        0              3       0   \n",
       "8953          2        20        18        0              0       0   \n",
       "8955          2        10         8        0              0       1   \n",
       "8957          2        16        15        0              2       1   \n",
       "\n",
       "      ORIGIN_SATE_ABR  DEST_SATE_ABR  \n",
       "8950                5             48  \n",
       "8952                5             48  \n",
       "8953                5             13  \n",
       "8955                5             20  \n",
       "8957                5             12  "
      ]
     },
     "execution_count": 213,
     "metadata": {},
     "output_type": "execute_result"
    }
   ],
   "source": [
    "name.head()"
   ]
  },
  {
   "cell_type": "code",
   "execution_count": 214,
   "metadata": {
    "ExecuteTime": {
     "end_time": "2019-04-24T04:06:00.399366Z",
     "start_time": "2019-04-24T04:05:59.550579Z"
    }
   },
   "outputs": [],
   "source": [
    "lin_reg = name.drop(columns=['FL_DATE', 'ORIGIN_STATE_ABR', 'DEST_STATE_ABR'])"
   ]
  },
  {
   "cell_type": "code",
   "execution_count": 217,
   "metadata": {
    "ExecuteTime": {
     "end_time": "2019-04-24T04:16:00.988150Z",
     "start_time": "2019-04-24T04:16:00.967949Z"
    }
   },
   "outputs": [
    {
     "data": {
      "text/html": [
       "<div>\n",
       "<style scoped>\n",
       "    .dataframe tbody tr th:only-of-type {\n",
       "        vertical-align: middle;\n",
       "    }\n",
       "\n",
       "    .dataframe tbody tr th {\n",
       "        vertical-align: top;\n",
       "    }\n",
       "\n",
       "    .dataframe thead th {\n",
       "        text-align: right;\n",
       "    }\n",
       "</style>\n",
       "<table border=\"1\" class=\"dataframe\">\n",
       "  <thead>\n",
       "    <tr style=\"text-align: right;\">\n",
       "      <th></th>\n",
       "      <th>MONTH</th>\n",
       "      <th>DAY_OF_MONTH</th>\n",
       "      <th>DAY_OF_WEEK</th>\n",
       "      <th>OP_CARRIER</th>\n",
       "      <th>ORIGIN</th>\n",
       "      <th>DEST</th>\n",
       "      <th>ARR_DELAY</th>\n",
       "      <th>precip</th>\n",
       "      <th>DIST_BINS</th>\n",
       "      <th>ARR_HOUR</th>\n",
       "      <th>DEP_HOUR</th>\n",
       "      <th>WEEKEND</th>\n",
       "      <th>DOM_DIRECTION</th>\n",
       "      <th>STATUS</th>\n",
       "      <th>ORIGIN_SATE_ABR</th>\n",
       "      <th>DEST_SATE_ABR</th>\n",
       "    </tr>\n",
       "  </thead>\n",
       "  <tbody>\n",
       "    <tr>\n",
       "      <th>8950</th>\n",
       "      <td>3</td>\n",
       "      <td>1</td>\n",
       "      <td>3</td>\n",
       "      <td>2</td>\n",
       "      <td>15</td>\n",
       "      <td>176</td>\n",
       "      <td>61.0</td>\n",
       "      <td>0.01</td>\n",
       "      <td>2</td>\n",
       "      <td>17</td>\n",
       "      <td>16</td>\n",
       "      <td>0</td>\n",
       "      <td>3</td>\n",
       "      <td>1</td>\n",
       "      <td>5</td>\n",
       "      <td>48</td>\n",
       "    </tr>\n",
       "    <tr>\n",
       "      <th>8952</th>\n",
       "      <td>3</td>\n",
       "      <td>1</td>\n",
       "      <td>3</td>\n",
       "      <td>2</td>\n",
       "      <td>15</td>\n",
       "      <td>176</td>\n",
       "      <td>4.0</td>\n",
       "      <td>0.00</td>\n",
       "      <td>2</td>\n",
       "      <td>12</td>\n",
       "      <td>12</td>\n",
       "      <td>0</td>\n",
       "      <td>3</td>\n",
       "      <td>0</td>\n",
       "      <td>5</td>\n",
       "      <td>48</td>\n",
       "    </tr>\n",
       "    <tr>\n",
       "      <th>8953</th>\n",
       "      <td>3</td>\n",
       "      <td>1</td>\n",
       "      <td>3</td>\n",
       "      <td>2</td>\n",
       "      <td>15</td>\n",
       "      <td>95</td>\n",
       "      <td>11.0</td>\n",
       "      <td>0.00</td>\n",
       "      <td>2</td>\n",
       "      <td>20</td>\n",
       "      <td>18</td>\n",
       "      <td>0</td>\n",
       "      <td>0</td>\n",
       "      <td>0</td>\n",
       "      <td>5</td>\n",
       "      <td>13</td>\n",
       "    </tr>\n",
       "    <tr>\n",
       "      <th>8955</th>\n",
       "      <td>3</td>\n",
       "      <td>1</td>\n",
       "      <td>3</td>\n",
       "      <td>2</td>\n",
       "      <td>15</td>\n",
       "      <td>103</td>\n",
       "      <td>27.0</td>\n",
       "      <td>0.00</td>\n",
       "      <td>2</td>\n",
       "      <td>10</td>\n",
       "      <td>8</td>\n",
       "      <td>0</td>\n",
       "      <td>0</td>\n",
       "      <td>1</td>\n",
       "      <td>5</td>\n",
       "      <td>20</td>\n",
       "    </tr>\n",
       "    <tr>\n",
       "      <th>8957</th>\n",
       "      <td>3</td>\n",
       "      <td>1</td>\n",
       "      <td>3</td>\n",
       "      <td>2</td>\n",
       "      <td>15</td>\n",
       "      <td>28</td>\n",
       "      <td>57.0</td>\n",
       "      <td>0.00</td>\n",
       "      <td>2</td>\n",
       "      <td>16</td>\n",
       "      <td>15</td>\n",
       "      <td>0</td>\n",
       "      <td>2</td>\n",
       "      <td>1</td>\n",
       "      <td>5</td>\n",
       "      <td>12</td>\n",
       "    </tr>\n",
       "  </tbody>\n",
       "</table>\n",
       "</div>"
      ],
      "text/plain": [
       "      MONTH  DAY_OF_MONTH  DAY_OF_WEEK  OP_CARRIER  ORIGIN  DEST  ARR_DELAY  \\\n",
       "8950      3             1            3           2      15   176       61.0   \n",
       "8952      3             1            3           2      15   176        4.0   \n",
       "8953      3             1            3           2      15    95       11.0   \n",
       "8955      3             1            3           2      15   103       27.0   \n",
       "8957      3             1            3           2      15    28       57.0   \n",
       "\n",
       "      precip  DIST_BINS  ARR_HOUR  DEP_HOUR  WEEKEND  DOM_DIRECTION  STATUS  \\\n",
       "8950    0.01          2        17        16        0              3       1   \n",
       "8952    0.00          2        12        12        0              3       0   \n",
       "8953    0.00          2        20        18        0              0       0   \n",
       "8955    0.00          2        10         8        0              0       1   \n",
       "8957    0.00          2        16        15        0              2       1   \n",
       "\n",
       "      ORIGIN_SATE_ABR  DEST_SATE_ABR  \n",
       "8950                5             48  \n",
       "8952                5             48  \n",
       "8953                5             13  \n",
       "8955                5             20  \n",
       "8957                5             12  "
      ]
     },
     "execution_count": 217,
     "metadata": {},
     "output_type": "execute_result"
    }
   ],
   "source": [
    "lin_reg.head()"
   ]
  },
  {
   "cell_type": "code",
   "execution_count": 218,
   "metadata": {
    "ExecuteTime": {
     "end_time": "2019-04-24T04:16:10.786453Z",
     "start_time": "2019-04-24T04:16:10.023402Z"
    }
   },
   "outputs": [],
   "source": [
    "lin_reg = lin_reg.drop(columns=['ORIGIN_SATE_ABR', 'DEST_SATE_ABR'])"
   ]
  },
  {
   "cell_type": "code",
   "execution_count": 220,
   "metadata": {
    "ExecuteTime": {
     "end_time": "2019-04-24T04:16:58.544640Z",
     "start_time": "2019-04-24T04:16:58.384234Z"
    }
   },
   "outputs": [],
   "source": [
    "lin_reg = lin_reg.drop(columns=['STATUS'])"
   ]
  },
  {
   "cell_type": "code",
   "execution_count": 236,
   "metadata": {
    "ExecuteTime": {
     "end_time": "2019-04-24T04:23:37.371268Z",
     "start_time": "2019-04-24T04:23:37.012743Z"
    }
   },
   "outputs": [],
   "source": [
    "lin_reg = lin_reg.drop(columns=['MONTH'])"
   ]
  },
  {
   "cell_type": "code",
   "execution_count": 237,
   "metadata": {
    "ExecuteTime": {
     "end_time": "2019-04-24T04:23:38.721355Z",
     "start_time": "2019-04-24T04:23:38.701598Z"
    }
   },
   "outputs": [
    {
     "data": {
      "text/html": [
       "<div>\n",
       "<style scoped>\n",
       "    .dataframe tbody tr th:only-of-type {\n",
       "        vertical-align: middle;\n",
       "    }\n",
       "\n",
       "    .dataframe tbody tr th {\n",
       "        vertical-align: top;\n",
       "    }\n",
       "\n",
       "    .dataframe thead th {\n",
       "        text-align: right;\n",
       "    }\n",
       "</style>\n",
       "<table border=\"1\" class=\"dataframe\">\n",
       "  <thead>\n",
       "    <tr style=\"text-align: right;\">\n",
       "      <th></th>\n",
       "      <th>DAY_OF_MONTH</th>\n",
       "      <th>DAY_OF_WEEK</th>\n",
       "      <th>OP_CARRIER</th>\n",
       "      <th>ORIGIN</th>\n",
       "      <th>DEST</th>\n",
       "      <th>ARR_DELAY</th>\n",
       "      <th>precip</th>\n",
       "      <th>DIST_BINS</th>\n",
       "      <th>ARR_HOUR</th>\n",
       "      <th>DEP_HOUR</th>\n",
       "      <th>WEEKEND</th>\n",
       "      <th>DOM_DIRECTION</th>\n",
       "    </tr>\n",
       "  </thead>\n",
       "  <tbody>\n",
       "    <tr>\n",
       "      <th>8950</th>\n",
       "      <td>1</td>\n",
       "      <td>3</td>\n",
       "      <td>2</td>\n",
       "      <td>15</td>\n",
       "      <td>176</td>\n",
       "      <td>61.0</td>\n",
       "      <td>0.01</td>\n",
       "      <td>2</td>\n",
       "      <td>17</td>\n",
       "      <td>16</td>\n",
       "      <td>0</td>\n",
       "      <td>3</td>\n",
       "    </tr>\n",
       "    <tr>\n",
       "      <th>8952</th>\n",
       "      <td>1</td>\n",
       "      <td>3</td>\n",
       "      <td>2</td>\n",
       "      <td>15</td>\n",
       "      <td>176</td>\n",
       "      <td>4.0</td>\n",
       "      <td>0.00</td>\n",
       "      <td>2</td>\n",
       "      <td>12</td>\n",
       "      <td>12</td>\n",
       "      <td>0</td>\n",
       "      <td>3</td>\n",
       "    </tr>\n",
       "    <tr>\n",
       "      <th>8953</th>\n",
       "      <td>1</td>\n",
       "      <td>3</td>\n",
       "      <td>2</td>\n",
       "      <td>15</td>\n",
       "      <td>95</td>\n",
       "      <td>11.0</td>\n",
       "      <td>0.00</td>\n",
       "      <td>2</td>\n",
       "      <td>20</td>\n",
       "      <td>18</td>\n",
       "      <td>0</td>\n",
       "      <td>0</td>\n",
       "    </tr>\n",
       "    <tr>\n",
       "      <th>8955</th>\n",
       "      <td>1</td>\n",
       "      <td>3</td>\n",
       "      <td>2</td>\n",
       "      <td>15</td>\n",
       "      <td>103</td>\n",
       "      <td>27.0</td>\n",
       "      <td>0.00</td>\n",
       "      <td>2</td>\n",
       "      <td>10</td>\n",
       "      <td>8</td>\n",
       "      <td>0</td>\n",
       "      <td>0</td>\n",
       "    </tr>\n",
       "    <tr>\n",
       "      <th>8957</th>\n",
       "      <td>1</td>\n",
       "      <td>3</td>\n",
       "      <td>2</td>\n",
       "      <td>15</td>\n",
       "      <td>28</td>\n",
       "      <td>57.0</td>\n",
       "      <td>0.00</td>\n",
       "      <td>2</td>\n",
       "      <td>16</td>\n",
       "      <td>15</td>\n",
       "      <td>0</td>\n",
       "      <td>2</td>\n",
       "    </tr>\n",
       "  </tbody>\n",
       "</table>\n",
       "</div>"
      ],
      "text/plain": [
       "      DAY_OF_MONTH  DAY_OF_WEEK  OP_CARRIER  ORIGIN  DEST  ARR_DELAY  precip  \\\n",
       "8950             1            3           2      15   176       61.0    0.01   \n",
       "8952             1            3           2      15   176        4.0    0.00   \n",
       "8953             1            3           2      15    95       11.0    0.00   \n",
       "8955             1            3           2      15   103       27.0    0.00   \n",
       "8957             1            3           2      15    28       57.0    0.00   \n",
       "\n",
       "      DIST_BINS  ARR_HOUR  DEP_HOUR  WEEKEND  DOM_DIRECTION  \n",
       "8950          2        17        16        0              3  \n",
       "8952          2        12        12        0              3  \n",
       "8953          2        20        18        0              0  \n",
       "8955          2        10         8        0              0  \n",
       "8957          2        16        15        0              2  "
      ]
     },
     "execution_count": 237,
     "metadata": {},
     "output_type": "execute_result"
    }
   ],
   "source": [
    "lin_reg.head()"
   ]
  },
  {
   "cell_type": "code",
   "execution_count": 238,
   "metadata": {
    "ExecuteTime": {
     "end_time": "2019-04-24T04:23:43.326660Z",
     "start_time": "2019-04-24T04:23:43.322074Z"
    }
   },
   "outputs": [],
   "source": [
    "objects = ['OP_CARRIER', 'ORIGIN', 'DEST', 'precip']\n",
    "dates = ['DAY_OF_MONTH', 'DAY_OF_WEEK','WEEKEND']\n",
    "hours = ['ARR_HOUR', 'DEP_HOUR']\n",
    "dist = ['DIST_BINS', 'DOM_DIRECTION']"
   ]
  },
  {
   "cell_type": "code",
   "execution_count": 239,
   "metadata": {
    "ExecuteTime": {
     "end_time": "2019-04-24T04:23:47.675994Z",
     "start_time": "2019-04-24T04:23:44.601039Z"
    },
    "scrolled": true
   },
   "outputs": [],
   "source": [
    "enc = OneHotEncoder(handle_unknown='ignore')\n",
    "dates_matrix = enc.fit_transform(lin_reg[dates].values)\n",
    "objects_matrix = enc.fit_transform(lin_reg[objects].values)\n",
    "hour_matrix = enc.fit_transform(lin_reg[hours].values)\n",
    "dist_matrix = enc.fit_transform(lin_reg[dist].values)"
   ]
  },
  {
   "cell_type": "code",
   "execution_count": 240,
   "metadata": {
    "ExecuteTime": {
     "end_time": "2019-04-24T04:23:48.862473Z",
     "start_time": "2019-04-24T04:23:48.858155Z"
    },
    "scrolled": false
   },
   "outputs": [
    {
     "name": "stdout",
     "output_type": "stream",
     "text": [
      "Size is: 58.819488 MB\n",
      "Size is: 78.425984 MB\n",
      "Size is: 39.212992 MB\n",
      "Size is: 39.212992 MB\n"
     ]
    }
   ],
   "source": [
    "print(f'Size is: {dates_matrix.data.nbytes / 1000000} MB')\n",
    "print(f'Size is: {objects_matrix.data.nbytes / 1000000} MB')\n",
    "print(f'Size is: {hour_matrix.data.nbytes / 1000000} MB')\n",
    "print(f'Size is: {dist_matrix.data.nbytes / 1000000} MB')"
   ]
  },
  {
   "cell_type": "code",
   "execution_count": 245,
   "metadata": {
    "ExecuteTime": {
     "end_time": "2019-04-24T04:24:20.841382Z",
     "start_time": "2019-04-24T04:24:19.781869Z"
    }
   },
   "outputs": [],
   "source": [
    "from scipy.sparse import hstack\n",
    "X_final = hstack((dates_matrix, objects_matrix, hour_matrix, dist_matrix))\n",
    "X_final_lr = hstack((dates_matrix, objects_matrix, hour_matrix, dist_matrix))"
   ]
  },
  {
   "cell_type": "code",
   "execution_count": 247,
   "metadata": {
    "ExecuteTime": {
     "end_time": "2019-04-24T04:24:28.778159Z",
     "start_time": "2019-04-24T04:24:28.774521Z"
    }
   },
   "outputs": [
    {
     "name": "stdout",
     "output_type": "stream",
     "text": [
      "Size is: 215.671456 MB\n"
     ]
    }
   ],
   "source": [
    "print(f'Size is: {X_final_lr.data.nbytes / 1000000} MB')"
   ]
  },
  {
   "cell_type": "code",
   "execution_count": 248,
   "metadata": {
    "ExecuteTime": {
     "end_time": "2019-04-24T04:24:30.456738Z",
     "start_time": "2019-04-24T04:24:30.453069Z"
    }
   },
   "outputs": [],
   "source": [
    "y = lin_reg.ARR_DELAY\n",
    "y_r = y.values\n",
    "y_r = y_r.reshape(-1,1)"
   ]
  },
  {
   "cell_type": "code",
   "execution_count": 249,
   "metadata": {
    "ExecuteTime": {
     "end_time": "2019-04-24T04:24:31.660184Z",
     "start_time": "2019-04-24T04:24:31.618899Z"
    }
   },
   "outputs": [],
   "source": [
    "X_r = X_final_lr"
   ]
  },
  {
   "cell_type": "code",
   "execution_count": 250,
   "metadata": {
    "ExecuteTime": {
     "end_time": "2019-04-24T04:24:32.755519Z",
     "start_time": "2019-04-24T04:24:32.751182Z"
    }
   },
   "outputs": [],
   "source": [
    "from sklearn.linear_model import LinearRegression\n",
    "from sklearn.metrics import mean_squared_error\n",
    "from sklearn.model_selection import train_test_split"
   ]
  },
  {
   "cell_type": "code",
   "execution_count": 251,
   "metadata": {
    "ExecuteTime": {
     "end_time": "2019-04-24T04:24:36.858066Z",
     "start_time": "2019-04-24T04:24:34.962284Z"
    }
   },
   "outputs": [],
   "source": [
    "X_train, X_test, y_train, y_test = train_test_split(X_r, y_r, test_size = 0.2, random_state=42)"
   ]
  },
  {
   "cell_type": "code",
   "execution_count": 252,
   "metadata": {
    "ExecuteTime": {
     "end_time": "2019-04-24T04:25:44.814814Z",
     "start_time": "2019-04-24T04:24:38.252609Z"
    }
   },
   "outputs": [
    {
     "data": {
      "text/plain": [
       "LinearRegression(copy_X=True, fit_intercept=True, n_jobs=None,\n",
       "         normalize=False)"
      ]
     },
     "execution_count": 252,
     "metadata": {},
     "output_type": "execute_result"
    }
   ],
   "source": [
    "reg_all = LinearRegression()\n",
    "reg_all.fit(X_train, y_train)"
   ]
  },
  {
   "cell_type": "code",
   "execution_count": 253,
   "metadata": {
    "ExecuteTime": {
     "end_time": "2019-04-24T04:25:46.516304Z",
     "start_time": "2019-04-24T04:25:46.487374Z"
    }
   },
   "outputs": [],
   "source": [
    "y_pred = reg_all.predict(X_test)"
   ]
  },
  {
   "cell_type": "code",
   "execution_count": 254,
   "metadata": {
    "ExecuteTime": {
     "end_time": "2019-04-24T04:25:47.881987Z",
     "start_time": "2019-04-24T04:25:47.858925Z"
    }
   },
   "outputs": [
    {
     "name": "stdout",
     "output_type": "stream",
     "text": [
      "R^2: 0.043986202679117126\n",
      "Root Mean Squared Error: 42.33494969367536\n"
     ]
    }
   ],
   "source": [
    "print(\"R^2: {}\".format(reg_all.score(X_test, y_test)))\n",
    "rmse = np.sqrt(mean_squared_error(y_test, y_pred))\n",
    "print(\"Root Mean Squared Error: {}\".format(rmse))"
   ]
  },
  {
   "cell_type": "markdown",
   "metadata": {},
   "source": [
    "This looks like a pretty bad model. Let's see why..."
   ]
  },
  {
   "cell_type": "code",
   "execution_count": 255,
   "metadata": {
    "ExecuteTime": {
     "end_time": "2019-04-24T04:26:57.701431Z",
     "start_time": "2019-04-24T04:26:57.697626Z"
    }
   },
   "outputs": [],
   "source": [
    "import matplotlib.pyplot as plt\n",
    "import matplotlib\n",
    "matplotlib.rcParams['figure.figsize'] = (14, 8)"
   ]
  },
  {
   "cell_type": "code",
   "execution_count": 256,
   "metadata": {
    "ExecuteTime": {
     "end_time": "2019-04-24T04:27:04.236598Z",
     "start_time": "2019-04-24T04:26:59.421805Z"
    }
   },
   "outputs": [
    {
     "data": {
      "text/plain": [
       "Text(0, 0.5, 'Acutal')"
      ]
     },
     "execution_count": 256,
     "metadata": {},
     "output_type": "execute_result"
    },
    {
     "data": {
      "image/png": "[encoded data removed]",
      "text/plain": [
       "<Figure size 1008x576 with 1 Axes>"
      ]
     },
     "metadata": {
      "needs_background": "light"
     },
     "output_type": "display_data"
    }
   ],
   "source": [
    "plt.scatter(y_pred, y_test, alpha=0.03)\n",
    "plt.xlabel('Predicted')\n",
    "plt.ylabel('Acutal')"
   ]
  },
  {
   "cell_type": "markdown",
   "metadata": {},
   "source": [
    "   ## Using Cross Validation"
   ]
  },
  {
   "cell_type": "code",
   "execution_count": 188,
   "metadata": {},
   "outputs": [],
   "source": [
    "from sklearn.model_selection import cross_val_score"
   ]
  },
  {
   "cell_type": "code",
   "execution_count": 189,
   "metadata": {
    "scrolled": true
   },
   "outputs": [
    {
     "name": "stdout",
     "output_type": "stream",
     "text": [
      "[0.09811053 0.11849466 0.08445649 0.06708186 0.10895339]\n"
     ]
    }
   ],
   "source": [
    "cv_scores = cross_val_score(reg_all, X_final, y_final, cv=5)\n",
    "print(cv_scores)"
   ]
  },
  {
   "cell_type": "code",
   "execution_count": null,
   "metadata": {},
   "outputs": [],
   "source": []
  },
  {
   "cell_type": "code",
   "execution_count": null,
   "metadata": {},
   "outputs": [],
   "source": []
  },
  {
   "cell_type": "markdown",
   "metadata": {},
   "source": [
    "Other possible models:"
   ]
  },
  {
   "cell_type": "markdown",
   "metadata": {},
   "source": [
    "# SGD Regressor"
   ]
  },
  {
   "cell_type": "code",
   "execution_count": null,
   "metadata": {},
   "outputs": [],
   "source": []
  },
  {
   "cell_type": "code",
   "execution_count": null,
   "metadata": {},
   "outputs": [],
   "source": []
  },
  {
   "cell_type": "markdown",
   "metadata": {},
   "source": [
    "# SGD Classifier"
   ]
  },
  {
   "cell_type": "code",
   "execution_count": null,
   "metadata": {},
   "outputs": [],
   "source": []
  },
  {
   "cell_type": "code",
   "execution_count": null,
   "metadata": {},
   "outputs": [],
   "source": []
  },
  {
   "cell_type": "markdown",
   "metadata": {},
   "source": [
    "# Logistic Regression"
   ]
  },
  {
   "cell_type": "code",
   "execution_count": 113,
   "metadata": {
    "ExecuteTime": {
     "end_time": "2019-04-22T21:45:54.189219Z",
     "start_time": "2019-04-22T21:45:54.043500Z"
    },
    "scrolled": true
   },
   "outputs": [
    {
     "data": {
      "text/html": [
       "<div>\n",
       "<style scoped>\n",
       "    .dataframe tbody tr th:only-of-type {\n",
       "        vertical-align: middle;\n",
       "    }\n",
       "\n",
       "    .dataframe tbody tr th {\n",
       "        vertical-align: top;\n",
       "    }\n",
       "\n",
       "    .dataframe thead th {\n",
       "        text-align: right;\n",
       "    }\n",
       "</style>\n",
       "<table border=\"1\" class=\"dataframe\">\n",
       "  <thead>\n",
       "    <tr style=\"text-align: right;\">\n",
       "      <th></th>\n",
       "      <th>MONTH</th>\n",
       "      <th>DAY_OF_MONTH</th>\n",
       "      <th>DAY_OF_WEEK</th>\n",
       "      <th>OP_CARRIER</th>\n",
       "      <th>ORIGIN</th>\n",
       "      <th>DEST</th>\n",
       "      <th>DISTANCE</th>\n",
       "      <th>CRS_DEP_TIME</th>\n",
       "      <th>CRS_ARR_TIME</th>\n",
       "      <th>ARR_DELAY</th>\n",
       "      <th>LOG_DIST</th>\n",
       "      <th>DIST_BINS</th>\n",
       "      <th>ARR_HOUR</th>\n",
       "      <th>DEP_HOUR</th>\n",
       "      <th>ORIGIN_LOC</th>\n",
       "      <th>DEST_LOC</th>\n",
       "      <th>DIRECTION</th>\n",
       "      <th>NORTH</th>\n",
       "      <th>WEST</th>\n",
       "      <th>STATUS</th>\n",
       "    </tr>\n",
       "  </thead>\n",
       "  <tbody>\n",
       "    <tr>\n",
       "      <th>0</th>\n",
       "      <td>3</td>\n",
       "      <td>21</td>\n",
       "      <td>2</td>\n",
       "      <td>2</td>\n",
       "      <td>1</td>\n",
       "      <td>75</td>\n",
       "      <td>399.0</td>\n",
       "      <td>1015</td>\n",
       "      <td>1151</td>\n",
       "      <td>3.0</td>\n",
       "      <td>5.988961</td>\n",
       "      <td>0</td>\n",
       "      <td>11</td>\n",
       "      <td>10</td>\n",
       "      <td>[42.3631, 71.0064]</td>\n",
       "      <td>[38.8522, 77.0378]</td>\n",
       "      <td>[3.5108999999999995, -6.031400000000005]</td>\n",
       "      <td>1</td>\n",
       "      <td>1</td>\n",
       "      <td>0</td>\n",
       "    </tr>\n",
       "    <tr>\n",
       "      <th>2</th>\n",
       "      <td>3</td>\n",
       "      <td>21</td>\n",
       "      <td>2</td>\n",
       "      <td>2</td>\n",
       "      <td>1</td>\n",
       "      <td>133</td>\n",
       "      <td>413.0</td>\n",
       "      <td>1215</td>\n",
       "      <td>1352</td>\n",
       "      <td>-14.0</td>\n",
       "      <td>6.023448</td>\n",
       "      <td>0</td>\n",
       "      <td>13</td>\n",
       "      <td>12</td>\n",
       "      <td>[42.3631, 71.0064]</td>\n",
       "      <td>[38.9475, 77.46]</td>\n",
       "      <td>[3.415600000000005, -6.4535999999999945]</td>\n",
       "      <td>1</td>\n",
       "      <td>1</td>\n",
       "      <td>0</td>\n",
       "    </tr>\n",
       "    <tr>\n",
       "      <th>3</th>\n",
       "      <td>3</td>\n",
       "      <td>21</td>\n",
       "      <td>2</td>\n",
       "      <td>2</td>\n",
       "      <td>1</td>\n",
       "      <td>220</td>\n",
       "      <td>280.0</td>\n",
       "      <td>804</td>\n",
       "      <td>936</td>\n",
       "      <td>-11.0</td>\n",
       "      <td>5.634790</td>\n",
       "      <td>0</td>\n",
       "      <td>9</td>\n",
       "      <td>8</td>\n",
       "      <td>[42.3631, 71.0064]</td>\n",
       "      <td>[39.8722, 75.2408]</td>\n",
       "      <td>[2.4909000000000034, -4.234399999999994]</td>\n",
       "      <td>1</td>\n",
       "      <td>1</td>\n",
       "      <td>0</td>\n",
       "    </tr>\n",
       "    <tr>\n",
       "      <th>5</th>\n",
       "      <td>3</td>\n",
       "      <td>21</td>\n",
       "      <td>2</td>\n",
       "      <td>2</td>\n",
       "      <td>12</td>\n",
       "      <td>216</td>\n",
       "      <td>1035.0</td>\n",
       "      <td>730</td>\n",
       "      <td>1032</td>\n",
       "      <td>-32.0</td>\n",
       "      <td>6.942157</td>\n",
       "      <td>1</td>\n",
       "      <td>10</td>\n",
       "      <td>7</td>\n",
       "      <td>[40.7772, 73.8725]</td>\n",
       "      <td>[26.6832, 80.0956]</td>\n",
       "      <td>[14.094000000000001, -6.223100000000002]</td>\n",
       "      <td>1</td>\n",
       "      <td>1</td>\n",
       "      <td>0</td>\n",
       "    </tr>\n",
       "    <tr>\n",
       "      <th>7</th>\n",
       "      <td>3</td>\n",
       "      <td>21</td>\n",
       "      <td>2</td>\n",
       "      <td>2</td>\n",
       "      <td>1</td>\n",
       "      <td>246</td>\n",
       "      <td>1249.0</td>\n",
       "      <td>600</td>\n",
       "      <td>933</td>\n",
       "      <td>-16.0</td>\n",
       "      <td>7.130099</td>\n",
       "      <td>1</td>\n",
       "      <td>9</td>\n",
       "      <td>6</td>\n",
       "      <td>[42.3631, 71.0064]</td>\n",
       "      <td>[26.5362, 81.7553]</td>\n",
       "      <td>[15.826900000000002, -10.748900000000006]</td>\n",
       "      <td>1</td>\n",
       "      <td>1</td>\n",
       "      <td>0</td>\n",
       "    </tr>\n",
       "  </tbody>\n",
       "</table>\n",
       "</div>"
      ],
      "text/plain": [
       "   MONTH  DAY_OF_MONTH  DAY_OF_WEEK  OP_CARRIER  ORIGIN  DEST  DISTANCE  \\\n",
       "0      3            21            2           2       1    75     399.0   \n",
       "2      3            21            2           2       1   133     413.0   \n",
       "3      3            21            2           2       1   220     280.0   \n",
       "5      3            21            2           2      12   216    1035.0   \n",
       "7      3            21            2           2       1   246    1249.0   \n",
       "\n",
       "   CRS_DEP_TIME  CRS_ARR_TIME  ARR_DELAY  LOG_DIST  DIST_BINS  ARR_HOUR  \\\n",
       "0          1015          1151        3.0  5.988961          0        11   \n",
       "2          1215          1352      -14.0  6.023448          0        13   \n",
       "3           804           936      -11.0  5.634790          0         9   \n",
       "5           730          1032      -32.0  6.942157          1        10   \n",
       "7           600           933      -16.0  7.130099          1         9   \n",
       "\n",
       "   DEP_HOUR          ORIGIN_LOC            DEST_LOC  \\\n",
       "0        10  [42.3631, 71.0064]  [38.8522, 77.0378]   \n",
       "2        12  [42.3631, 71.0064]    [38.9475, 77.46]   \n",
       "3         8  [42.3631, 71.0064]  [39.8722, 75.2408]   \n",
       "5         7  [40.7772, 73.8725]  [26.6832, 80.0956]   \n",
       "7         6  [42.3631, 71.0064]  [26.5362, 81.7553]   \n",
       "\n",
       "                                   DIRECTION  NORTH  WEST  STATUS  \n",
       "0   [3.5108999999999995, -6.031400000000005]      1     1       0  \n",
       "2   [3.415600000000005, -6.4535999999999945]      1     1       0  \n",
       "3   [2.4909000000000034, -4.234399999999994]      1     1       0  \n",
       "5   [14.094000000000001, -6.223100000000002]      1     1       0  \n",
       "7  [15.826900000000002, -10.748900000000006]      1     1       0  "
      ]
     },
     "execution_count": 113,
     "metadata": {},
     "output_type": "execute_result"
    }
   ],
   "source": [
    "name.head()"
   ]
  },
  {
   "cell_type": "code",
   "execution_count": 114,
   "metadata": {
    "ExecuteTime": {
     "end_time": "2019-04-22T21:45:59.121782Z",
     "start_time": "2019-04-22T21:45:58.560699Z"
    }
   },
   "outputs": [],
   "source": [
    "from sklearn.model_selection import train_test_split\n",
    "from sklearn.linear_model import LogisticRegression\n",
    "from sklearn.metrics import accuracy_score"
   ]
  },
  {
   "cell_type": "code",
   "execution_count": 115,
   "metadata": {
    "ExecuteTime": {
     "end_time": "2019-04-22T21:46:04.561896Z",
     "start_time": "2019-04-22T21:46:04.394237Z"
    }
   },
   "outputs": [
    {
     "data": {
      "text/plain": [
       "STATUS\n",
       "0    2581012\n",
       "1     505094\n",
       "dtype: int64"
      ]
     },
     "execution_count": 115,
     "metadata": {},
     "output_type": "execute_result"
    }
   ],
   "source": [
    "name.groupby('STATUS').size()"
   ]
  },
  {
   "cell_type": "code",
   "execution_count": 116,
   "metadata": {
    "ExecuteTime": {
     "end_time": "2019-04-22T21:46:07.216773Z",
     "start_time": "2019-04-22T21:46:07.211853Z"
    }
   },
   "outputs": [],
   "source": [
    "y=name.STATUS.values"
   ]
  },
  {
   "cell_type": "code",
   "execution_count": 122,
   "metadata": {
    "ExecuteTime": {
     "end_time": "2019-04-22T21:46:44.971233Z",
     "start_time": "2019-04-22T21:46:44.961282Z"
    }
   },
   "outputs": [],
   "source": [
    "X=X_final"
   ]
  },
  {
   "cell_type": "code",
   "execution_count": 123,
   "metadata": {
    "ExecuteTime": {
     "end_time": "2019-04-22T21:46:48.976284Z",
     "start_time": "2019-04-22T21:46:46.268479Z"
    }
   },
   "outputs": [],
   "source": [
    "Xlr, Xtestlr, ylr, ytestlr = train_test_split(X, y, test_size=0.3, random_state=5)"
   ]
  },
  {
   "cell_type": "code",
   "execution_count": 124,
   "metadata": {
    "ExecuteTime": {
     "end_time": "2019-04-22T21:46:50.917840Z",
     "start_time": "2019-04-22T21:46:50.912052Z"
    }
   },
   "outputs": [],
   "source": [
    "clf = LogisticRegression(solver='liblinear')"
   ]
  },
  {
   "cell_type": "code",
   "execution_count": 125,
   "metadata": {
    "ExecuteTime": {
     "end_time": "2019-04-22T21:48:13.446242Z",
     "start_time": "2019-04-22T21:46:52.658736Z"
    }
   },
   "outputs": [
    {
     "data": {
      "text/plain": [
       "LogisticRegression(C=1.0, class_weight=None, dual=False, fit_intercept=True,\n",
       "          intercept_scaling=1, max_iter=100, multi_class='warn',\n",
       "          n_jobs=None, penalty='l2', random_state=None, solver='liblinear',\n",
       "          tol=0.0001, verbose=0, warm_start=False)"
      ]
     },
     "execution_count": 125,
     "metadata": {},
     "output_type": "execute_result"
    }
   ],
   "source": [
    "clf.fit(Xlr, ylr)"
   ]
  },
  {
   "cell_type": "code",
   "execution_count": 126,
   "metadata": {
    "ExecuteTime": {
     "end_time": "2019-04-22T21:48:47.657892Z",
     "start_time": "2019-04-22T21:48:47.596004Z"
    }
   },
   "outputs": [],
   "source": [
    "y_pred = clf.predict(Xtestlr)"
   ]
  },
  {
   "cell_type": "code",
   "execution_count": 127,
   "metadata": {
    "ExecuteTime": {
     "end_time": "2019-04-22T21:48:49.631718Z",
     "start_time": "2019-04-22T21:48:49.533164Z"
    },
    "scrolled": false
   },
   "outputs": [
    {
     "name": "stdout",
     "output_type": "stream",
     "text": [
      "0.8362564698563022\n"
     ]
    }
   ],
   "source": [
    "print(accuracy_score(y_pred, ytestlr))"
   ]
  },
  {
   "cell_type": "code",
   "execution_count": 819,
   "metadata": {},
   "outputs": [],
   "source": [
    "from sklearn.model_selection import KFold\n",
    "\n",
    "def cv_score(clf, x, y, score_func=accuracy_score):\n",
    "    result = 0\n",
    "    nfold = 5\n",
    "    for train, test in KFold(nfold).split(x): # split data into train/test groups, 5 times\n",
    "        clf.fit(x[train], y[train]) # fit\n",
    "        result += score_func(clf.predict(x[test]), y[test]) # evaluate score function on held-out data\n",
    "    return result / nfold # average"
   ]
  },
  {
   "cell_type": "code",
   "execution_count": 820,
   "metadata": {},
   "outputs": [
    {
     "name": "stdout",
     "output_type": "stream",
     "text": [
      "0.7974916138441207\n"
     ]
    }
   ],
   "source": [
    "clf = LogisticRegression(solver='liblinear')\n",
    "score = cv_score(clf, Xlr, ylr)\n",
    "print(score)"
   ]
  },
  {
   "cell_type": "code",
   "execution_count": 128,
   "metadata": {
    "ExecuteTime": {
     "end_time": "2019-04-22T21:48:55.056924Z",
     "start_time": "2019-04-22T21:48:54.391607Z"
    }
   },
   "outputs": [
    {
     "data": {
      "text/plain": [
       "array([[773893,    309],\n",
       "       [151290,    340]])"
      ]
     },
     "execution_count": 128,
     "metadata": {},
     "output_type": "execute_result"
    }
   ],
   "source": [
    "from sklearn import metrics\n",
    "cnf_matrix = metrics.confusion_matrix(ytestlr, y_pred)\n",
    "cnf_matrix"
   ]
  },
  {
   "cell_type": "code",
   "execution_count": 129,
   "metadata": {
    "ExecuteTime": {
     "end_time": "2019-04-22T21:48:59.858392Z",
     "start_time": "2019-04-22T21:48:59.366821Z"
    }
   },
   "outputs": [
    {
     "name": "stdout",
     "output_type": "stream",
     "text": [
      "Accuracy: 0.8362564698563022\n",
      "Precision: 0.5238828967642527\n",
      "Recall: 0.0022423003363450504\n"
     ]
    }
   ],
   "source": [
    "print(\"Accuracy:\",metrics.accuracy_score(ytestlr, clf.predict(Xtestlr)))\n",
    "print(\"Precision:\",metrics.precision_score(ytestlr, clf.predict(Xtestlr)))\n",
    "print(\"Recall:\",metrics.recall_score(ytestlr, clf.predict(Xtestlr)))"
   ]
  },
  {
   "cell_type": "code",
   "execution_count": 130,
   "metadata": {
    "ExecuteTime": {
     "end_time": "2019-04-22T21:49:01.608183Z",
     "start_time": "2019-04-22T21:49:01.598579Z"
    }
   },
   "outputs": [],
   "source": [
    "import matplotlib.pyplot as plt\n",
    "import matplotlib\n",
    "matplotlib.rcParams['figure.figsize'] = (10, 10)"
   ]
  },
  {
   "cell_type": "code",
   "execution_count": 131,
   "metadata": {
    "ExecuteTime": {
     "end_time": "2019-04-22T21:49:04.561076Z",
     "start_time": "2019-04-22T21:49:03.265947Z"
    },
    "scrolled": false
   },
   "outputs": [
    {
     "data": {
      "image/png": "[encoded data removed]",
      "text/plain": [
       "<Figure size 720x720 with 1 Axes>"
      ]
     },
     "metadata": {
      "needs_background": "light"
     },
     "output_type": "display_data"
    }
   ],
   "source": [
    "y_pred_proba = clf.predict_proba(Xtestlr)[::,1]\n",
    "fpr, tpr, _ = metrics.roc_curve(ytestlr,  y_pred_proba)\n",
    "auc = metrics.roc_auc_score(ytestlr, y_pred_proba)\n",
    "plt.plot(fpr,tpr,label=\"data 1, auc=\"+str(auc))\n",
    "plt.legend(loc=4)\n",
    "plt.show()"
   ]
  },
  {
   "cell_type": "markdown",
   "metadata": {},
   "source": [
    "# Naive Bayes"
   ]
  },
  {
   "cell_type": "code",
   "execution_count": 257,
   "metadata": {
    "ExecuteTime": {
     "end_time": "2019-04-24T04:27:52.035908Z",
     "start_time": "2019-04-24T04:27:52.030033Z"
    },
    "scrolled": false
   },
   "outputs": [
    {
     "data": {
      "text/plain": [
       "Index(['MONTH', 'DAY_OF_MONTH', 'DAY_OF_WEEK', 'FL_DATE', 'OP_CARRIER',\n",
       "       'ORIGIN', 'ORIGIN_STATE_ABR', 'DEST', 'DEST_STATE_ABR', 'ARR_DELAY',\n",
       "       'precip', 'DIST_BINS', 'ARR_HOUR', 'DEP_HOUR', 'WEEKEND',\n",
       "       'DOM_DIRECTION', 'STATUS', 'ORIGIN_SATE_ABR', 'DEST_SATE_ABR'],\n",
       "      dtype='object')"
      ]
     },
     "execution_count": 257,
     "metadata": {},
     "output_type": "execute_result"
    }
   ],
   "source": [
    "name.columns"
   ]
  },
  {
   "cell_type": "code",
   "execution_count": 258,
   "metadata": {
    "ExecuteTime": {
     "end_time": "2019-04-24T04:27:53.543993Z",
     "start_time": "2019-04-24T04:27:53.528179Z"
    },
    "scrolled": false
   },
   "outputs": [
    {
     "data": {
      "text/html": [
       "<div>\n",
       "<style scoped>\n",
       "    .dataframe tbody tr th:only-of-type {\n",
       "        vertical-align: middle;\n",
       "    }\n",
       "\n",
       "    .dataframe tbody tr th {\n",
       "        vertical-align: top;\n",
       "    }\n",
       "\n",
       "    .dataframe thead th {\n",
       "        text-align: right;\n",
       "    }\n",
       "</style>\n",
       "<table border=\"1\" class=\"dataframe\">\n",
       "  <thead>\n",
       "    <tr style=\"text-align: right;\">\n",
       "      <th></th>\n",
       "      <th>MONTH</th>\n",
       "      <th>DAY_OF_MONTH</th>\n",
       "      <th>DAY_OF_WEEK</th>\n",
       "      <th>FL_DATE</th>\n",
       "      <th>OP_CARRIER</th>\n",
       "      <th>ORIGIN</th>\n",
       "      <th>ORIGIN_STATE_ABR</th>\n",
       "      <th>DEST</th>\n",
       "      <th>DEST_STATE_ABR</th>\n",
       "      <th>ARR_DELAY</th>\n",
       "      <th>precip</th>\n",
       "      <th>DIST_BINS</th>\n",
       "      <th>ARR_HOUR</th>\n",
       "      <th>DEP_HOUR</th>\n",
       "      <th>WEEKEND</th>\n",
       "      <th>DOM_DIRECTION</th>\n",
       "      <th>STATUS</th>\n",
       "      <th>ORIGIN_SATE_ABR</th>\n",
       "      <th>DEST_SATE_ABR</th>\n",
       "    </tr>\n",
       "  </thead>\n",
       "  <tbody>\n",
       "    <tr>\n",
       "      <th>8950</th>\n",
       "      <td>3</td>\n",
       "      <td>1</td>\n",
       "      <td>3</td>\n",
       "      <td>2017-03-01 00:00:00</td>\n",
       "      <td>2</td>\n",
       "      <td>15</td>\n",
       "      <td>IL</td>\n",
       "      <td>176</td>\n",
       "      <td>WI</td>\n",
       "      <td>61.0</td>\n",
       "      <td>0.01</td>\n",
       "      <td>2</td>\n",
       "      <td>17</td>\n",
       "      <td>16</td>\n",
       "      <td>0</td>\n",
       "      <td>3</td>\n",
       "      <td>1</td>\n",
       "      <td>5</td>\n",
       "      <td>48</td>\n",
       "    </tr>\n",
       "    <tr>\n",
       "      <th>8952</th>\n",
       "      <td>3</td>\n",
       "      <td>1</td>\n",
       "      <td>3</td>\n",
       "      <td>2017-03-01 00:00:00</td>\n",
       "      <td>2</td>\n",
       "      <td>15</td>\n",
       "      <td>IL</td>\n",
       "      <td>176</td>\n",
       "      <td>WI</td>\n",
       "      <td>4.0</td>\n",
       "      <td>0.00</td>\n",
       "      <td>2</td>\n",
       "      <td>12</td>\n",
       "      <td>12</td>\n",
       "      <td>0</td>\n",
       "      <td>3</td>\n",
       "      <td>0</td>\n",
       "      <td>5</td>\n",
       "      <td>48</td>\n",
       "    </tr>\n",
       "    <tr>\n",
       "      <th>8953</th>\n",
       "      <td>3</td>\n",
       "      <td>1</td>\n",
       "      <td>3</td>\n",
       "      <td>2017-03-01 00:00:00</td>\n",
       "      <td>2</td>\n",
       "      <td>15</td>\n",
       "      <td>IL</td>\n",
       "      <td>95</td>\n",
       "      <td>IN</td>\n",
       "      <td>11.0</td>\n",
       "      <td>0.00</td>\n",
       "      <td>2</td>\n",
       "      <td>20</td>\n",
       "      <td>18</td>\n",
       "      <td>0</td>\n",
       "      <td>0</td>\n",
       "      <td>0</td>\n",
       "      <td>5</td>\n",
       "      <td>13</td>\n",
       "    </tr>\n",
       "    <tr>\n",
       "      <th>8955</th>\n",
       "      <td>3</td>\n",
       "      <td>1</td>\n",
       "      <td>3</td>\n",
       "      <td>2017-03-01 00:00:00</td>\n",
       "      <td>2</td>\n",
       "      <td>15</td>\n",
       "      <td>IL</td>\n",
       "      <td>103</td>\n",
       "      <td>MI</td>\n",
       "      <td>27.0</td>\n",
       "      <td>0.00</td>\n",
       "      <td>2</td>\n",
       "      <td>10</td>\n",
       "      <td>8</td>\n",
       "      <td>0</td>\n",
       "      <td>0</td>\n",
       "      <td>1</td>\n",
       "      <td>5</td>\n",
       "      <td>20</td>\n",
       "    </tr>\n",
       "    <tr>\n",
       "      <th>8957</th>\n",
       "      <td>3</td>\n",
       "      <td>1</td>\n",
       "      <td>3</td>\n",
       "      <td>2017-03-01 00:00:00</td>\n",
       "      <td>2</td>\n",
       "      <td>15</td>\n",
       "      <td>IL</td>\n",
       "      <td>28</td>\n",
       "      <td>IL</td>\n",
       "      <td>57.0</td>\n",
       "      <td>0.00</td>\n",
       "      <td>2</td>\n",
       "      <td>16</td>\n",
       "      <td>15</td>\n",
       "      <td>0</td>\n",
       "      <td>2</td>\n",
       "      <td>1</td>\n",
       "      <td>5</td>\n",
       "      <td>12</td>\n",
       "    </tr>\n",
       "  </tbody>\n",
       "</table>\n",
       "</div>"
      ],
      "text/plain": [
       "      MONTH  DAY_OF_MONTH  DAY_OF_WEEK              FL_DATE  OP_CARRIER  \\\n",
       "8950      3             1            3  2017-03-01 00:00:00           2   \n",
       "8952      3             1            3  2017-03-01 00:00:00           2   \n",
       "8953      3             1            3  2017-03-01 00:00:00           2   \n",
       "8955      3             1            3  2017-03-01 00:00:00           2   \n",
       "8957      3             1            3  2017-03-01 00:00:00           2   \n",
       "\n",
       "      ORIGIN ORIGIN_STATE_ABR  DEST DEST_STATE_ABR  ARR_DELAY  precip  \\\n",
       "8950      15               IL   176             WI       61.0    0.01   \n",
       "8952      15               IL   176             WI        4.0    0.00   \n",
       "8953      15               IL    95             IN       11.0    0.00   \n",
       "8955      15               IL   103             MI       27.0    0.00   \n",
       "8957      15               IL    28             IL       57.0    0.00   \n",
       "\n",
       "      DIST_BINS  ARR_HOUR  DEP_HOUR  WEEKEND  DOM_DIRECTION  STATUS  \\\n",
       "8950          2        17        16        0              3       1   \n",
       "8952          2        12        12        0              3       0   \n",
       "8953          2        20        18        0              0       0   \n",
       "8955          2        10         8        0              0       1   \n",
       "8957          2        16        15        0              2       1   \n",
       "\n",
       "      ORIGIN_SATE_ABR  DEST_SATE_ABR  \n",
       "8950                5             48  \n",
       "8952                5             48  \n",
       "8953                5             13  \n",
       "8955                5             20  \n",
       "8957                5             12  "
      ]
     },
     "execution_count": 258,
     "metadata": {},
     "output_type": "execute_result"
    }
   ],
   "source": [
    "name.head()"
   ]
  },
  {
   "cell_type": "code",
   "execution_count": null,
   "metadata": {},
   "outputs": [],
   "source": []
  },
  {
   "cell_type": "code",
   "execution_count": 259,
   "metadata": {
    "ExecuteTime": {
     "end_time": "2019-04-24T04:28:17.819849Z",
     "start_time": "2019-04-24T04:28:17.027466Z"
    }
   },
   "outputs": [],
   "source": [
    "bayes = name.drop(columns=['FL_DATE', 'ARR_DELAY',\n",
    "                         'ORIGIN_STATE_ABR', 'DEST_STATE_ABR'])"
   ]
  },
  {
   "cell_type": "code",
   "execution_count": 260,
   "metadata": {
    "ExecuteTime": {
     "end_time": "2019-04-24T04:28:19.514514Z",
     "start_time": "2019-04-24T04:28:19.502598Z"
    }
   },
   "outputs": [
    {
     "data": {
      "text/html": [
       "<div>\n",
       "<style scoped>\n",
       "    .dataframe tbody tr th:only-of-type {\n",
       "        vertical-align: middle;\n",
       "    }\n",
       "\n",
       "    .dataframe tbody tr th {\n",
       "        vertical-align: top;\n",
       "    }\n",
       "\n",
       "    .dataframe thead th {\n",
       "        text-align: right;\n",
       "    }\n",
       "</style>\n",
       "<table border=\"1\" class=\"dataframe\">\n",
       "  <thead>\n",
       "    <tr style=\"text-align: right;\">\n",
       "      <th></th>\n",
       "      <th>MONTH</th>\n",
       "      <th>DAY_OF_MONTH</th>\n",
       "      <th>DAY_OF_WEEK</th>\n",
       "      <th>OP_CARRIER</th>\n",
       "      <th>ORIGIN</th>\n",
       "      <th>DEST</th>\n",
       "      <th>precip</th>\n",
       "      <th>DIST_BINS</th>\n",
       "      <th>ARR_HOUR</th>\n",
       "      <th>DEP_HOUR</th>\n",
       "      <th>WEEKEND</th>\n",
       "      <th>DOM_DIRECTION</th>\n",
       "      <th>STATUS</th>\n",
       "      <th>ORIGIN_SATE_ABR</th>\n",
       "      <th>DEST_SATE_ABR</th>\n",
       "    </tr>\n",
       "  </thead>\n",
       "  <tbody>\n",
       "    <tr>\n",
       "      <th>8950</th>\n",
       "      <td>3</td>\n",
       "      <td>1</td>\n",
       "      <td>3</td>\n",
       "      <td>2</td>\n",
       "      <td>15</td>\n",
       "      <td>176</td>\n",
       "      <td>0.01</td>\n",
       "      <td>2</td>\n",
       "      <td>17</td>\n",
       "      <td>16</td>\n",
       "      <td>0</td>\n",
       "      <td>3</td>\n",
       "      <td>1</td>\n",
       "      <td>5</td>\n",
       "      <td>48</td>\n",
       "    </tr>\n",
       "    <tr>\n",
       "      <th>8952</th>\n",
       "      <td>3</td>\n",
       "      <td>1</td>\n",
       "      <td>3</td>\n",
       "      <td>2</td>\n",
       "      <td>15</td>\n",
       "      <td>176</td>\n",
       "      <td>0.00</td>\n",
       "      <td>2</td>\n",
       "      <td>12</td>\n",
       "      <td>12</td>\n",
       "      <td>0</td>\n",
       "      <td>3</td>\n",
       "      <td>0</td>\n",
       "      <td>5</td>\n",
       "      <td>48</td>\n",
       "    </tr>\n",
       "    <tr>\n",
       "      <th>8953</th>\n",
       "      <td>3</td>\n",
       "      <td>1</td>\n",
       "      <td>3</td>\n",
       "      <td>2</td>\n",
       "      <td>15</td>\n",
       "      <td>95</td>\n",
       "      <td>0.00</td>\n",
       "      <td>2</td>\n",
       "      <td>20</td>\n",
       "      <td>18</td>\n",
       "      <td>0</td>\n",
       "      <td>0</td>\n",
       "      <td>0</td>\n",
       "      <td>5</td>\n",
       "      <td>13</td>\n",
       "    </tr>\n",
       "    <tr>\n",
       "      <th>8955</th>\n",
       "      <td>3</td>\n",
       "      <td>1</td>\n",
       "      <td>3</td>\n",
       "      <td>2</td>\n",
       "      <td>15</td>\n",
       "      <td>103</td>\n",
       "      <td>0.00</td>\n",
       "      <td>2</td>\n",
       "      <td>10</td>\n",
       "      <td>8</td>\n",
       "      <td>0</td>\n",
       "      <td>0</td>\n",
       "      <td>1</td>\n",
       "      <td>5</td>\n",
       "      <td>20</td>\n",
       "    </tr>\n",
       "    <tr>\n",
       "      <th>8957</th>\n",
       "      <td>3</td>\n",
       "      <td>1</td>\n",
       "      <td>3</td>\n",
       "      <td>2</td>\n",
       "      <td>15</td>\n",
       "      <td>28</td>\n",
       "      <td>0.00</td>\n",
       "      <td>2</td>\n",
       "      <td>16</td>\n",
       "      <td>15</td>\n",
       "      <td>0</td>\n",
       "      <td>2</td>\n",
       "      <td>1</td>\n",
       "      <td>5</td>\n",
       "      <td>12</td>\n",
       "    </tr>\n",
       "  </tbody>\n",
       "</table>\n",
       "</div>"
      ],
      "text/plain": [
       "      MONTH  DAY_OF_MONTH  DAY_OF_WEEK  OP_CARRIER  ORIGIN  DEST  precip  \\\n",
       "8950      3             1            3           2      15   176    0.01   \n",
       "8952      3             1            3           2      15   176    0.00   \n",
       "8953      3             1            3           2      15    95    0.00   \n",
       "8955      3             1            3           2      15   103    0.00   \n",
       "8957      3             1            3           2      15    28    0.00   \n",
       "\n",
       "      DIST_BINS  ARR_HOUR  DEP_HOUR  WEEKEND  DOM_DIRECTION  STATUS  \\\n",
       "8950          2        17        16        0              3       1   \n",
       "8952          2        12        12        0              3       0   \n",
       "8953          2        20        18        0              0       0   \n",
       "8955          2        10         8        0              0       1   \n",
       "8957          2        16        15        0              2       1   \n",
       "\n",
       "      ORIGIN_SATE_ABR  DEST_SATE_ABR  \n",
       "8950                5             48  \n",
       "8952                5             48  \n",
       "8953                5             13  \n",
       "8955                5             20  \n",
       "8957                5             12  "
      ]
     },
     "execution_count": 260,
     "metadata": {},
     "output_type": "execute_result"
    }
   ],
   "source": [
    "bayes.head()"
   ]
  },
  {
   "cell_type": "code",
   "execution_count": 261,
   "metadata": {
    "ExecuteTime": {
     "end_time": "2019-04-24T04:28:27.617586Z",
     "start_time": "2019-04-24T04:28:27.265158Z"
    }
   },
   "outputs": [],
   "source": [
    "y = bayes.STATUS.values\n",
    "X = bayes.drop(columns='STATUS').values"
   ]
  },
  {
   "cell_type": "code",
   "execution_count": 262,
   "metadata": {
    "ExecuteTime": {
     "end_time": "2019-04-24T04:28:29.559863Z",
     "start_time": "2019-04-24T04:28:28.763452Z"
    }
   },
   "outputs": [],
   "source": [
    "from sklearn.model_selection import train_test_split\n",
    "X_train, X_test, y_train, y_test = train_test_split(X, y, test_size = 0.2, random_state=42)"
   ]
  },
  {
   "cell_type": "code",
   "execution_count": 263,
   "metadata": {
    "ExecuteTime": {
     "end_time": "2019-04-24T04:28:31.275840Z",
     "start_time": "2019-04-24T04:28:30.340501Z"
    }
   },
   "outputs": [
    {
     "data": {
      "text/plain": [
       "GaussianNB(priors=None, var_smoothing=1e-09)"
      ]
     },
     "execution_count": 263,
     "metadata": {},
     "output_type": "execute_result"
    }
   ],
   "source": [
    "from sklearn.naive_bayes import GaussianNB\n",
    "\n",
    "#Create a Gaussian Classifier\n",
    "gnb = GaussianNB()\n",
    "\n",
    "#Train the model using the training sets\n",
    "gnb.fit(X_train, y_train)"
   ]
  },
  {
   "cell_type": "code",
   "execution_count": 264,
   "metadata": {
    "ExecuteTime": {
     "end_time": "2019-04-24T04:28:32.578384Z",
     "start_time": "2019-04-24T04:28:32.426966Z"
    }
   },
   "outputs": [],
   "source": [
    "#Predict the response for test dataset\n",
    "y_pred = gnb.predict(X_test)"
   ]
  },
  {
   "cell_type": "code",
   "execution_count": 265,
   "metadata": {
    "ExecuteTime": {
     "end_time": "2019-04-24T04:28:35.277582Z",
     "start_time": "2019-04-24T04:28:35.230860Z"
    }
   },
   "outputs": [
    {
     "name": "stdout",
     "output_type": "stream",
     "text": [
      "Accuracy: 0.8413670554489017\n"
     ]
    }
   ],
   "source": [
    "#Import scikit-learn metrics module for accuracy calculation\n",
    "from sklearn import metrics\n",
    "\n",
    "# Model Accuracy, how often is the classifier correct?\n",
    "print(\"Accuracy:\",metrics.accuracy_score(y_test, y_pred))"
   ]
  },
  {
   "cell_type": "code",
   "execution_count": 266,
   "metadata": {
    "ExecuteTime": {
     "end_time": "2019-04-24T04:28:37.311167Z",
     "start_time": "2019-04-24T04:28:36.921220Z"
    }
   },
   "outputs": [
    {
     "data": {
      "text/plain": [
       "array([[409262,   4631],\n",
       "       [ 73125,   3145]])"
      ]
     },
     "execution_count": 266,
     "metadata": {},
     "output_type": "execute_result"
    }
   ],
   "source": [
    "# Making the Confusion Matrix\n",
    "from sklearn.metrics import confusion_matrix\n",
    "cm = confusion_matrix(y_test, y_pred)\n",
    "cm"
   ]
  },
  {
   "cell_type": "code",
   "execution_count": 267,
   "metadata": {
    "ExecuteTime": {
     "end_time": "2019-04-24T04:28:39.494424Z",
     "start_time": "2019-04-24T04:28:39.338945Z"
    }
   },
   "outputs": [],
   "source": [
    "y_prob = gnb.predict_proba(X_test)[::,1]"
   ]
  },
  {
   "cell_type": "code",
   "execution_count": 268,
   "metadata": {
    "ExecuteTime": {
     "end_time": "2019-04-24T04:28:41.914954Z",
     "start_time": "2019-04-24T04:28:41.910239Z"
    },
    "scrolled": true
   },
   "outputs": [
    {
     "data": {
      "text/plain": [
       "array([0.03568785, 0.03521896, 0.04470151, ..., 0.03774684, 0.02462139,\n",
       "       0.07540031])"
      ]
     },
     "execution_count": 268,
     "metadata": {},
     "output_type": "execute_result"
    }
   ],
   "source": [
    "y_prob"
   ]
  },
  {
   "cell_type": "code",
   "execution_count": 269,
   "metadata": {
    "ExecuteTime": {
     "end_time": "2019-04-24T04:28:42.754534Z",
     "start_time": "2019-04-24T04:28:42.750861Z"
    }
   },
   "outputs": [],
   "source": [
    "import matplotlib.pyplot as plt\n",
    "import matplotlib\n",
    "matplotlib.rcParams['figure.figsize'] = (10, 10)"
   ]
  },
  {
   "cell_type": "code",
   "execution_count": 270,
   "metadata": {
    "ExecuteTime": {
     "end_time": "2019-04-24T04:28:43.990474Z",
     "start_time": "2019-04-24T04:28:43.487002Z"
    }
   },
   "outputs": [
    {
     "data": {
      "image/png": "[encoded data removed]",
      "text/plain": [
       "<Figure size 720x720 with 1 Axes>"
      ]
     },
     "metadata": {
      "needs_background": "light"
     },
     "output_type": "display_data"
    }
   ],
   "source": [
    "y_pred_proba = y_prob\n",
    "fpr, tpr, _ = metrics.roc_curve(y_test,  y_pred_proba)\n",
    "auc = metrics.roc_auc_score(y_test, y_pred_proba)\n",
    "plt.plot(fpr,tpr,label=\"data 1, auc=\"+str(auc))\n",
    "plt.legend(loc=4)\n",
    "plt.show()"
   ]
  },
  {
   "cell_type": "code",
   "execution_count": null,
   "metadata": {},
   "outputs": [],
   "source": []
  }
 ],
 "metadata": {
  "kernelspec": {
   "display_name": "Python 3",
   "language": "python",
   "name": "python3"
  },
  "language_info": {
   "codemirror_mode": {
    "name": "ipython",
    "version": 3
   },
   "file_extension": ".py",
   "mimetype": "text/x-python",
   "name": "python",
   "nbconvert_exporter": "python",
   "pygments_lexer": "ipython3",
   "version": "3.7.1"
  },
  "toc": {
   "base_numbering": 1,
   "nav_menu": {},
   "number_sections": true,
   "sideBar": true,
   "skip_h1_title": false,
   "title_cell": "Table of Contents",
   "title_sidebar": "Contents",
   "toc_cell": true,
   "toc_position": {
    "height": "calc(100% - 180px)",
    "left": "10px",
    "top": "150px",
    "width": "241px"
   },
   "toc_section_display": true,
   "toc_window_display": true
  },
  "varInspector": {
   "cols": {
    "lenName": 16,
    "lenType": 16,
    "lenVar": 40
   },
   "kernels_config": {
    "python": {
     "delete_cmd_postfix": "",
     "delete_cmd_prefix": "del ",
     "library": "var_list.py",
     "varRefreshCmd": "print(var_dic_list())"
    },
    "r": {
     "delete_cmd_postfix": ") ",
     "delete_cmd_prefix": "rm(",
     "library": "var_list.r",
     "varRefreshCmd": "cat(var_dic_list()) "
    }
   },
   "types_to_exclude": [
    "module",
    "function",
    "builtin_function_or_method",
    "instance",
    "_Feature"
   ],
   "window_display": false
  }
 },
 "nbformat": 4,
 "nbformat_minor": 2
}
